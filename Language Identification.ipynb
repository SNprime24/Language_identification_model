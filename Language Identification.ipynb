{
 "cells": [
  {
   "cell_type": "markdown",
   "id": "e4c0f23f",
   "metadata": {},
   "source": [
    "# Importing Important Libraries"
   ]
  },
  {
   "cell_type": "code",
   "execution_count": 1,
   "id": "237551dd",
   "metadata": {},
   "outputs": [],
   "source": [
    "import numpy as np\n",
    "import pandas as pd\n",
    "import seaborn as sns\n",
    "import matplotlib.pyplot as plt\n",
    "\n",
    "import nltk\n",
    "from nltk.corpus import stopwords\n",
    "from nltk.stem import PorterStemmer\n",
    "import re\n",
    "\n",
    "from sklearn.feature_extraction.text import CountVectorizer\n",
    "from sklearn.preprocessing import LabelEncoder\n",
    "\n",
    "from sklearn.model_selection import train_test_split\n",
    "from sklearn import feature_extraction\n",
    "from sklearn import pipeline\n",
    "from sklearn.linear_model import LogisticRegression\n",
    "from sklearn.naive_bayes import MultinomialNB\n",
    "from sklearn import metrics"
   ]
  },
  {
   "cell_type": "markdown",
   "id": "0d89e013",
   "metadata": {},
   "source": [
    "# Load Data"
   ]
  },
  {
   "cell_type": "code",
   "execution_count": 2,
   "id": "86506a76",
   "metadata": {},
   "outputs": [
    {
     "data": {
      "text/html": [
       "<div>\n",
       "<style scoped>\n",
       "    .dataframe tbody tr th:only-of-type {\n",
       "        vertical-align: middle;\n",
       "    }\n",
       "\n",
       "    .dataframe tbody tr th {\n",
       "        vertical-align: top;\n",
       "    }\n",
       "\n",
       "    .dataframe thead th {\n",
       "        text-align: right;\n",
       "    }\n",
       "</style>\n",
       "<table border=\"1\" class=\"dataframe\">\n",
       "  <thead>\n",
       "    <tr style=\"text-align: right;\">\n",
       "      <th></th>\n",
       "      <th>Text</th>\n",
       "      <th>language</th>\n",
       "    </tr>\n",
       "  </thead>\n",
       "  <tbody>\n",
       "    <tr>\n",
       "      <th>0</th>\n",
       "      <td>klement gottwaldi surnukeha palsameeriti ning ...</td>\n",
       "      <td>Estonian</td>\n",
       "    </tr>\n",
       "    <tr>\n",
       "      <th>1</th>\n",
       "      <td>sebes joseph pereira thomas  på eng the jesuit...</td>\n",
       "      <td>Swedish</td>\n",
       "    </tr>\n",
       "    <tr>\n",
       "      <th>2</th>\n",
       "      <td>ถนนเจริญกรุง อักษรโรมัน thanon charoen krung เ...</td>\n",
       "      <td>Thai</td>\n",
       "    </tr>\n",
       "    <tr>\n",
       "      <th>3</th>\n",
       "      <td>விசாகப்பட்டினம் தமிழ்ச்சங்கத்தை இந்துப் பத்திர...</td>\n",
       "      <td>Tamil</td>\n",
       "    </tr>\n",
       "    <tr>\n",
       "      <th>4</th>\n",
       "      <td>de spons behoort tot het geslacht haliclona en...</td>\n",
       "      <td>Dutch</td>\n",
       "    </tr>\n",
       "  </tbody>\n",
       "</table>\n",
       "</div>"
      ],
      "text/plain": [
       "                                                Text  language\n",
       "0  klement gottwaldi surnukeha palsameeriti ning ...  Estonian\n",
       "1  sebes joseph pereira thomas  på eng the jesuit...   Swedish\n",
       "2  ถนนเจริญกรุง อักษรโรมัน thanon charoen krung เ...      Thai\n",
       "3  விசாகப்பட்டினம் தமிழ்ச்சங்கத்தை இந்துப் பத்திர...     Tamil\n",
       "4  de spons behoort tot het geslacht haliclona en...     Dutch"
      ]
     },
     "execution_count": 2,
     "metadata": {},
     "output_type": "execute_result"
    }
   ],
   "source": [
    "data = pd.read_csv('dataset.csv')\n",
    "data.head()"
   ]
  },
  {
   "cell_type": "code",
   "execution_count": 3,
   "id": "a5fe84a5",
   "metadata": {},
   "outputs": [
    {
     "data": {
      "text/plain": [
       "Estonian      1000\n",
       "Swedish       1000\n",
       "English       1000\n",
       "Russian       1000\n",
       "Romanian      1000\n",
       "Persian       1000\n",
       "Pushto        1000\n",
       "Spanish       1000\n",
       "Hindi         1000\n",
       "Korean        1000\n",
       "Chinese       1000\n",
       "French        1000\n",
       "Portugese     1000\n",
       "Indonesian    1000\n",
       "Urdu          1000\n",
       "Latin         1000\n",
       "Turkish       1000\n",
       "Japanese      1000\n",
       "Dutch         1000\n",
       "Tamil         1000\n",
       "Thai          1000\n",
       "Arabic        1000\n",
       "Name: language, dtype: int64"
      ]
     },
     "execution_count": 3,
     "metadata": {},
     "output_type": "execute_result"
    }
   ],
   "source": [
    "data['language'].value_counts()"
   ]
  },
  {
   "cell_type": "code",
   "execution_count": 4,
   "id": "a36ae6f5",
   "metadata": {},
   "outputs": [
    {
     "data": {
      "text/html": [
       "<div>\n",
       "<style scoped>\n",
       "    .dataframe tbody tr th:only-of-type {\n",
       "        vertical-align: middle;\n",
       "    }\n",
       "\n",
       "    .dataframe tbody tr th {\n",
       "        vertical-align: top;\n",
       "    }\n",
       "\n",
       "    .dataframe thead th {\n",
       "        text-align: right;\n",
       "    }\n",
       "</style>\n",
       "<table border=\"1\" class=\"dataframe\">\n",
       "  <thead>\n",
       "    <tr style=\"text-align: right;\">\n",
       "      <th></th>\n",
       "      <th>Text</th>\n",
       "      <th>language</th>\n",
       "    </tr>\n",
       "  </thead>\n",
       "  <tbody>\n",
       "    <tr>\n",
       "      <th>37</th>\n",
       "      <td>in  johnson was awarded an american institute ...</td>\n",
       "      <td>English</td>\n",
       "    </tr>\n",
       "    <tr>\n",
       "      <th>40</th>\n",
       "      <td>bussy-saint-georges has built its identity on ...</td>\n",
       "      <td>English</td>\n",
       "    </tr>\n",
       "    <tr>\n",
       "      <th>76</th>\n",
       "      <td>minnesotas state parks are spread across the s...</td>\n",
       "      <td>English</td>\n",
       "    </tr>\n",
       "    <tr>\n",
       "      <th>90</th>\n",
       "      <td>nordahl road is a station served by north coun...</td>\n",
       "      <td>English</td>\n",
       "    </tr>\n",
       "    <tr>\n",
       "      <th>97</th>\n",
       "      <td>a talk by takis fotopoulos about the internati...</td>\n",
       "      <td>English</td>\n",
       "    </tr>\n",
       "    <tr>\n",
       "      <th>...</th>\n",
       "      <td>...</td>\n",
       "      <td>...</td>\n",
       "    </tr>\n",
       "    <tr>\n",
       "      <th>21829</th>\n",
       "      <td>on march   empty mirrors press published epste...</td>\n",
       "      <td>English</td>\n",
       "    </tr>\n",
       "    <tr>\n",
       "      <th>21879</th>\n",
       "      <td>he [musk] wants to go to mars to back up human...</td>\n",
       "      <td>English</td>\n",
       "    </tr>\n",
       "    <tr>\n",
       "      <th>21896</th>\n",
       "      <td>overall the male is black above and white belo...</td>\n",
       "      <td>English</td>\n",
       "    </tr>\n",
       "    <tr>\n",
       "      <th>21897</th>\n",
       "      <td>tim reynolds born  december  in wiesbaden germ...</td>\n",
       "      <td>English</td>\n",
       "    </tr>\n",
       "    <tr>\n",
       "      <th>21951</th>\n",
       "      <td>the total high school population was now appro...</td>\n",
       "      <td>English</td>\n",
       "    </tr>\n",
       "  </tbody>\n",
       "</table>\n",
       "<p>1000 rows × 2 columns</p>\n",
       "</div>"
      ],
      "text/plain": [
       "                                                    Text language\n",
       "37     in  johnson was awarded an american institute ...  English\n",
       "40     bussy-saint-georges has built its identity on ...  English\n",
       "76     minnesotas state parks are spread across the s...  English\n",
       "90     nordahl road is a station served by north coun...  English\n",
       "97     a talk by takis fotopoulos about the internati...  English\n",
       "...                                                  ...      ...\n",
       "21829  on march   empty mirrors press published epste...  English\n",
       "21879  he [musk] wants to go to mars to back up human...  English\n",
       "21896  overall the male is black above and white belo...  English\n",
       "21897  tim reynolds born  december  in wiesbaden germ...  English\n",
       "21951  the total high school population was now appro...  English\n",
       "\n",
       "[1000 rows x 2 columns]"
      ]
     },
     "execution_count": 4,
     "metadata": {},
     "output_type": "execute_result"
    }
   ],
   "source": [
    "data[data['language']=='English']"
   ]
  },
  {
   "cell_type": "code",
   "execution_count": 5,
   "id": "14b39e17",
   "metadata": {},
   "outputs": [
    {
     "data": {
      "text/plain": [
       "'klement gottwaldi surnukeha palsameeriti ning paigutati mausoleumi surnukeha oli aga liiga hilja ja oskamatult palsameeritud ning hakkas ilmutama lagunemise tundemärke  aastal viidi ta surnukeha mausoleumist ära ja kremeeriti zlíni linn kandis aastatel – nime gottwaldov ukrainas harkivi oblastis kandis zmiivi linn aastatel – nime gotvald'"
      ]
     },
     "execution_count": 5,
     "metadata": {},
     "output_type": "execute_result"
    }
   ],
   "source": [
    "data['Text'][0]"
   ]
  },
  {
   "cell_type": "markdown",
   "id": "f5e5dd26",
   "metadata": {},
   "source": [
    "# Data Preprocessing"
   ]
  },
  {
   "cell_type": "code",
   "execution_count": 6,
   "id": "6bb7808b",
   "metadata": {},
   "outputs": [
    {
     "data": {
      "text/html": [
       "<div>\n",
       "<style scoped>\n",
       "    .dataframe tbody tr th:only-of-type {\n",
       "        vertical-align: middle;\n",
       "    }\n",
       "\n",
       "    .dataframe tbody tr th {\n",
       "        vertical-align: top;\n",
       "    }\n",
       "\n",
       "    .dataframe thead th {\n",
       "        text-align: right;\n",
       "    }\n",
       "</style>\n",
       "<table border=\"1\" class=\"dataframe\">\n",
       "  <thead>\n",
       "    <tr style=\"text-align: right;\">\n",
       "      <th></th>\n",
       "      <th>Text</th>\n",
       "      <th>language</th>\n",
       "    </tr>\n",
       "  </thead>\n",
       "  <tbody>\n",
       "    <tr>\n",
       "      <th>0</th>\n",
       "      <td>lement gottwaldi surnukeha palsameer ning paig...</td>\n",
       "      <td>Estonian</td>\n",
       "    </tr>\n",
       "    <tr>\n",
       "      <th>1</th>\n",
       "      <td>ebe joseph pereira thoma eng jesuit sino-russi...</td>\n",
       "      <td>Swedish</td>\n",
       "    </tr>\n",
       "    <tr>\n",
       "      <th>2</th>\n",
       "      <td>ถนนเจริญกรุง อักษรโรมัน thanon charoen krung เ...</td>\n",
       "      <td>Thai</td>\n",
       "    </tr>\n",
       "    <tr>\n",
       "      <th>3</th>\n",
       "      <td>விசாகப்பட்டினம் தமிழ்ச்சங்கத்தை இந்துப் பத்திர...</td>\n",
       "      <td>Tamil</td>\n",
       "    </tr>\n",
       "    <tr>\n",
       "      <th>4</th>\n",
       "      <td>spon behoort geslacht haliclona behoort famili...</td>\n",
       "      <td>Dutch</td>\n",
       "    </tr>\n",
       "  </tbody>\n",
       "</table>\n",
       "</div>"
      ],
      "text/plain": [
       "                                                Text  language\n",
       "0  lement gottwaldi surnukeha palsameer ning paig...  Estonian\n",
       "1  ebe joseph pereira thoma eng jesuit sino-russi...   Swedish\n",
       "2  ถนนเจริญกรุง อักษรโรมัน thanon charoen krung เ...      Thai\n",
       "3  விசாகப்பட்டினம் தமிழ்ச்சங்கத்தை இந்துப் பத்திர...     Tamil\n",
       "4  spon behoort geslacht haliclona behoort famili...     Dutch"
      ]
     },
     "execution_count": 6,
     "metadata": {},
     "output_type": "execute_result"
    }
   ],
   "source": [
    "stem = PorterStemmer()\n",
    "stopword = stopwords.words()\n",
    "\n",
    "for i in range(len(data)):\n",
    "    line = re.sub(\"^[a-zA-Z]\",' ',data['Text'][i]);\n",
    "    line = line.lower()\n",
    "    line = line.split()\n",
    "    line = [stem.stem(i) for i in line if(i not in stopword)]\n",
    "    line = ' '.join(line)\n",
    "    data['Text'][i]=line\n",
    "    \n",
    "data.head()"
   ]
  },
  {
   "cell_type": "code",
   "execution_count": 7,
   "id": "e6be8b47",
   "metadata": {},
   "outputs": [
    {
     "data": {
      "text/plain": [
       "146"
      ]
     },
     "execution_count": 7,
     "metadata": {},
     "output_type": "execute_result"
    }
   ],
   "source": [
    "data.duplicated().sum()"
   ]
  },
  {
   "cell_type": "code",
   "execution_count": 8,
   "id": "c59f5314",
   "metadata": {},
   "outputs": [
    {
     "data": {
      "text/plain": [
       "0"
      ]
     },
     "execution_count": 8,
     "metadata": {},
     "output_type": "execute_result"
    }
   ],
   "source": [
    "data.drop_duplicates(inplace=True)\n",
    "data.duplicated().sum()"
   ]
  },
  {
   "cell_type": "code",
   "execution_count": 9,
   "id": "44b41abb",
   "metadata": {},
   "outputs": [
    {
     "data": {
      "text/plain": [
       "Chinese       1000\n",
       "Thai          1000\n",
       "English       1000\n",
       "Japanese      1000\n",
       "Romanian      1000\n",
       "Urdu          1000\n",
       "Persian       1000\n",
       "Korean        1000\n",
       "Estonian       999\n",
       "Russian        999\n",
       "Turkish        999\n",
       "Arabic         998\n",
       "Portugese      997\n",
       "Spanish        996\n",
       "Dutch          996\n",
       "Pushto         993\n",
       "Swedish        991\n",
       "Hindi          990\n",
       "French         990\n",
       "Tamil          981\n",
       "Indonesian     972\n",
       "Latin          953\n",
       "Name: language, dtype: int64"
      ]
     },
     "execution_count": 9,
     "metadata": {},
     "output_type": "execute_result"
    }
   ],
   "source": [
    "data['language'].value_counts()"
   ]
  },
  {
   "cell_type": "code",
   "execution_count": 10,
   "id": "a8349039",
   "metadata": {},
   "outputs": [
    {
     "data": {
      "image/png": "[encoded data removed]",
      "text/plain": [
       "<Figure size 2500x1000 with 1 Axes>"
      ]
     },
     "metadata": {},
     "output_type": "display_data"
    }
   ],
   "source": [
    "plt.figure(figsize=(25,10))\n",
    "sns.countplot(x = data['language'],data = data)\n",
    "plt.show()"
   ]
  },
  {
   "cell_type": "code",
   "execution_count": 11,
   "id": "1d65e7f5",
   "metadata": {
    "scrolled": true
   },
   "outputs": [
    {
     "data": {
      "text/plain": [
       "['lement gottwaldi surnukeha palsameer ning paigutati mausoleumi surnukeha aga liiga hilja oskamatult palsameeritud ning hakka ilmutama lagunemis tundemärk aastal viidi surnukeha mausoleumist ära kremeer zlíni linn kandi aastatel – nime gottwaldov ukraina harkivi oblasti kandi zmiivi linn aastatel – nime gotvald',\n",
       " 'ebe joseph pereira thoma eng jesuit sino-russian treati nerchinsk diari thoma pereira bibliotheca instituti historici -- rome libri',\n",
       " 'ถนนเจริญกรุง อักษรโรมัน thanon charoen krung เริ่มตั้งแต่ถนนสนามไชยถึงแม่น้ำเจ้าพระยาที่ถนนตก กรุงเทพมหานคร เป็นถนนรุ่นแรกที่ใช้เทคนิคการสร้างแบบตะวันตก ปัจจุบันผ่านพื้นที่เขตพระนคร เขตป้อมปราบศัตรูพ่าย เขตสัมพันธวงศ์ เขตบางรัก เขตสาทร และเขตบางคอแหลม',\n",
       " 'விசாகப்பட்டினம் தமிழ்ச்சங்கத்தை இந்துப் பத்திரிகை-விசாகப்பட்டின ஆசிரியர் சம்பத்துடன் இணைந்து விரிவுபடுத்தினார் ஆண்டுகள் தொடர்ந்து செயலராக இருந்து தமிழ்மன்றத்தை நடத்திச் சென்றார் கோவை செம்மொழி மாநாட்டில் \"தமிழ்ச்சங்கங்களும் தமிழும்\" எனும் தலைப்பில் பிற மாநிலங்களில் தமிழ்வளர்ச்சி பற்றி கட்டுரை வாசித்தார்',\n",
       " 'spon behoort geslacht haliclona behoort famili chalinida wetenschappelijk naam soort eerst geldig gepubliceerd kudelin',\n",
       " 'エノが行きがかりでバスに乗ってしまい、気分が悪くなった際に助けるが、今すぐバスを降りたいと運転手に頼む際、本当のことを言ってしまうと彼女が恥ずかしい思いをすると察して「僕ウンコしたいんです」と言ってバスを降りた。エノは内心「私もしたいみたいじゃないの」と思うも、別れ際にエノの髪を「ふわふわのお菓子みたい」と言い、この台詞に憧れていたエノに強い衝撃を与えた。この話を聞いたリコは、以後彼のことを『ウンコ王子』または『ウンコ』というあだ名で呼ぶようになったが、エノは普通に「戸田くん」と呼んでいる。',\n",
       " 'sutinalar i̇ngilizc tsuutina kanadada alberta bölgesind calgaryd yaşarlar tek başına grup oluştururlar pasifik güney atabaskları antik yakınlıklar göstermiştir',\n",
       " 'üller mox figura centrali circulorum doctorum vindobonesium fiebat quibu interer petru altenberg albertu ehrenstein egon friedel anschariu kokoschka adolphu loo egon schiel alii',\n",
       " 'برقی بار electr charg تمام زیرجوہری ذرات کی یک بنیادی محفوظہ conserv خصوصیت ہے جو انکے برقناطیسی تفاعلات کا تعین کرتی ہے۔ اس یوں بھی کہ سکتے ہیں کہ برقی بار کا حامل ذرہ یا مادہ ایک برقناطیسی میدان کی وجہ سے متاثر ہوتا ہے یا اسکے زیر اثر ہوتا ہے جبکہ خود اسی کی وجہ سے برقناطیسی میدان پیدا بھی ہوتا ہے۔ برقناطیسی میدان اور اس میں حرکت کرتے ہوئے ایک بار دار ذرے کے آپس میں تفاعل interact سے ایک قسم کی قوت یا توانائی نمودار ہوتی ہے جس کو برقناطیسی قوت کہا جاتا ہے۔ اور یہ برقناطیسی قوت دراصل اس کائنات میں پائی جانے والی چار بنیادی قوتوں میں سے ایک ہے۔',\n",
       " 'シャーリー・フィールドは、サン・ベルナルド・アベニュー沿い市民センターとrtマーティン高校に隣接してある。年にマーティン高校と共に建設された。ラレド独立学区のアウトドア・アスレチックがあり、毎年ボーダー・オリンピックが開催される。通常席だが、エンドゾーンに追加席を加えることで席まで拡大できる。メキシコのプロ・サッカークラブがここで様々な練習試合を行い、天然芝が「良い」サッカー試合を作るとしている。フットボール、サッカーおよび陸上競技が行われる。この歴史ある競技場に大きな改修工事が計画されている。',\n",
       " 'emunculan pertamanya mencium kakak kelasnya kyoko yuuki sakura merahasiakan akrab yuuki menyukai sakura sayangnya disadari sakura aiko yang takut dibenc sakura yuuki menganggap sakura \"sahabat spesial\"',\n",
       " 'arocco pt escândalo ª página film francê dirigido andré téchiné estreado protagonizado gérard depardieu isabel adjani',\n",
       " 'ssociat recherch sauvegard lhistoir roissy-en-fr arshrf roissy-en-fr mémoir dun siècl voir bibliographi',\n",
       " '胡赛尼本人和小说的主人公阿米尔一样，都是出生在阿富汗首都喀布尔，少年时代便离开了这个国家。胡赛尼直到年小说出版之后才首次回到已经离开年的祖国。他在苏联入侵时离开了阿富汗，而他的很多童年好友在阿富汗生活艰难，还有一些表亲离开人世，其中一位在童年时代和他一起放风筝的表兄弟就是在逃离阿富汗时死在了油罐车中（这一情节在《追风筝的人》中也有描写），而这位表兄弟的父亲也被人枪杀；因此胡赛尼总是怀有幸存者所特有的一种内疚心态，这种情感在小说中也有体现。很多人因此认为这部小说有些自传色彩。胡赛尼则表示小说中确实有一部分内容是根据自己的经历创作的，他和故事主人公也有很多相似点，但是一些内容被他刻意地模糊处理了。尽管和主人公的经历有诸多的相似点，胡赛尼仍然坚称小说情节确实是虚构的。之后胡赛尼在创作他的第二部小说《灿烂千阳》时把主人公设定为女性，称“这样应该就能一劳永逸地解决人们关于‘自传’的问题了”。',\n",
       " '한국에서 성씨가 사용되기 시작한 정확한 시기는 알 수 없으나 한자漢字 등 중국 문물이 수입되었던 시기에 그와 함께 도입되었을 것으로 추정된다 씨족 사회와 그 집단을 통치하는 지배자 계급이 발생함으로써 성씨는 다른 씨족이나 피지배 계급과 구별하기 위한 목적 즉 정치적 신분을 나타내는 표지로 쓰이게 되었다',\n",
       " 'การฟาดฟันของบรรดาสาวงามในกองประกวด miss beauti talent thailand ว่าร้อนแรงแล้ว การแข่งขัน ระหว่างเวทีก็ดุเดือดไม่แพ้กัน เมื่อ คุณไก่ อรนภา กฤษฎี เจ้าของเวที miss eleg thailand เวทีประกวดสาวงามคู่แข่ง คิดจะทำลายเวที miss beauti talent thailand เพื่อที่ว่าเวทีประกวดของตนเองจะขึ้นเป็นอันดับหนึ่งแทนที่ จึงได้ใช้ให้ อลิส ราศี วัชราพลเมฆ ผู้ช่วยของนัสรินคอยเป็นคนสร้างข่าวฉาวทำลายเวทีจากภายใน โลกของผู้หญิงสวยและการฟาดฟันเชือดเฉือน โลกของเวทีขาอ่อนที่ซ่อนเขี้ยวเล็บไว้ ใครจะอยู่ใครจะไป',\n",
       " 'orota rabczewska artistinimega doda sündinud veebruaril kuulu poola rokk- poplaulja kõige rohkem auhindu võitnud laulja poola doda tuntuk laulnud sellis hitid nagu \"szansa\" \"katharsis\" \"nie daj się\"',\n",
       " 'iant dest gerenciamento podendo feito própria empresa comum média grand empresa empresa terceira especializada monitoramento rede noc notável ganho agilidad eficiência prol objetivo empresa',\n",
       " 'esem geest murray bijleveld farrington p relationship parent imprison offspr offend england netherland british journal criminolog -',\n",
       " 'महाराष्ट्र मई भारत राज्य बनाया गया था। इस दिन हम महाराष्ट्र दिन भी नाम से जानते है। शुरू में महाराष्ट्र में जिले थे। उसके बाद नये जिले बनाएँ गये है। वर्तमान महाराष्ट्र में जिले है। इन जिलों छह प्रशासनिक विभागों में विभाजित किया गया है।',\n",
       " 'ஆங்கில எழுத்துக்களை மட்டும் அல்லாமல் பன்மொழி எழுத்துக்களையும் பயன்படுத்தக்கூடியவாறு சீரான வள அடையாளங்காட்டி முறைமை அனைத்துலக வள அடையாளங்காட்டி முறை ஊடாக நீட்டப்பட்டுள்ளது',\n",
       " 'navidad despué interpretó canción francé película papillon regard mer cantará espléndida versión gloria aleluya misa medianoch celebrada rtl',\n",
       " 'chirurgi compren principal lablat tumeur néphrectomi élargi compren souvent surrénal ganglion situé proximité',\n",
       " 'ès anné commun voisin darnouvil goussainvil moindr mesur louvr desservi lign ferroviair paris-lil connur expans démographiqu spectaculair création nombreux lotiss banlieu roissi demeuré lécart chemin lindustrialis restait villag agricol sappauvrit progressiv nombr commerc passa quatre-vingt-quatr seulement dix-huit phénomèn produisit nombreux autr villag pay franc desservi voie ferré',\n",
       " 'erilai maria-kristiina lotman toim methi studia humaniora estonica poeetika erinumb tartu tartu ülikooli kirjastu',\n",
       " '효모는 세포 수준의 생물학에서 모델 생물의 첫 번째 본보기로 간주해도 좋을 것이다 호흡 및 효소에 대한 생화학 분야는 여기에서 시작된다 이어 아카빤카비가 유전학 연구에서 이용되면서 유명해졌다 그 이후에도 기초 생물학의 여러 분야는 미생물을 모델로 사용하여 왔으나 오히려 균류보다 더 작고 단순한 미생물이다 박테리아류나 바이러스가 분자 생물학이나 유전학의 모델로 사용되는 것이 많아졌다 그러나 이러한 생물은 원핵 세포이며 우리와 같은 진핵 세포가 아니므로 가장 다루기 쉬운 진핵 생물로 균류가 사용되는 예는 많다 자주 사용되는 것은 신진 효모 saccharomyc cerevisiae와 분열 효모 schizosaccharomyc pombe이다',\n",
       " 'avril servic asama actuel effectué shinkansen série w également effectué shinkansen série',\n",
       " 'لویي په کالونیو کې ظلم کولو خلاف وو او خلکو سره ېې خاص همدردي لرله هر ډول غلامي انعطاف ناپذیره دشمن وو خلکو رفاه لپاره ېې ډېرې هلې ځلې کولې ډېره هڅه ېې دا وه چې په افریقا کې ځایي خلکو ټولنه جوړه کړي کله ېې چې تولنه جوړه کړه دوي مشرانو باندې ېې فرانسې گټو ساتنه زدکړه او حتی داسې یو بنسټ ېې کېښود چې دوي بچي چې وروسته قدرت رسېږي فرانسې گټو وفاداره پاتې کېږي لویي کوښښ وکړ چې سېنېگال داسې یوه بنسټیزه زاویه کړي کوم ځای چې ټولې فرانسوی کالونی یا مستعمرې کنټرول کېدای شي',\n",
       " 'prins erfgenam polen goed partij boheems kone wenceslau bohemen gebracht opgevo tant wenceslau huwd -jarig richezza -jarig wenceslau naast kone bohemen kone polen geworden vervolgen richezza hendrik würben bisschop breslau koningin-gemalin bohemen gekroond voortaan naam elisabeth baard richezza dochter agn verwacht zoon pools kroon erven kwam wenceslau juni stierf hierdoor richezza slecht -jarig leeftijd weduw',\n",
       " 'آهن ترکیباتی را ایجاد می\\u200cکند که عمدتاً در حالت\\u200cهای اکسیداسیون هستند به\\u200cطور سنتی ترکیبات آهن فروس نامیده می\\u200cشوند ترکیبات آهن iii فریک نامیده می\\u200cشود ترکیبات زیادی در هر یک از حالات اکسیداسیون وجود دارد که مثال\\u200cهایی از آن شامل سولفات آهن feso کلرید آهن iii fecl می\\u200cباشد',\n",
       " 'aliment industriel convient parfait croissanc chiot ladult laliment ménagèr nécessit supplément vitamin calcium',\n",
       " 'e-a lungul vieții watson interesat relațiil internațional atât perspectivă diplomatică și perspectivă economică cunoscut emisar neofici franklin roosevelt york și primea frecvent vizita demnitari străini ale președint camerei internațional comerț icc și congresul bienal desfășurat berlin afirmat mottoul conferinței pace mondială comerț mondial cuvint devenit sloganul icc și ibm',\n",
       " 'занимает пятое место диптихе автокефальных поместных церквей мира крупнейшая религиозная организация россии украине год числу приходов духовенства культовых сооружений некоторым опросам начало года количеству верующих белоруссии молдавии включая приднестровье',\n",
       " '藤女の女性教師。歳。数学担当。風紀指導を担当しており、リコにとっては天敵。藤女とその伝統に強い誇りを抱いており、サヨの彼氏バレの際には厳しい態度を取る。その一方で体育祭の時に天ヶ崎が仕込んだ悪ふざけを承知の上で見逃したり、生徒会執行部が何事か画策しているのを悟りながらある一線を越えない限り黙認するなど、単なる堅物ではない一面ものぞかせる。体育祭の応援合戦でマキマキオから白いバラを受け取った際には、顔を真っ赤にしていた。',\n",
       " 'alter kaudern bukunya wawo lage dianggap desa desa terletak wilayah khusu sungai sinaolea wilayah sungai yang menikung tajam selatan barat desa lage yang berperang suku tetangga berkembang suku yang relatif kuat berkuasa abad ke- posisi belanda sulawesi berpengaruh lage tinggal desa yang kuat',\n",
       " 'mprimat psalterium quzhaya librum primum imprimatu libano psalterium liber psalmorum lingua arabica littera aramica garshuni',\n",
       " 'edia [sc via] sive mese graec μέση [sc ὁδός] erat urbi constantinopoli principali quae palatium imperial portam auream inter conectit quo loco incepit egnatia',\n",
       " 'johnson award american institut architect gold medal recipi pritzker architectur prize prestigi intern architectur award',\n",
       " 'ttirant club meilleur joueur deux hémisphèr monnay droit diffus tv avantageux populair auprè public garnit stade top aujourdhui considéré comm championnat nation rugbi rich mond',\n",
       " 'oço jacó localizado metro balata part orient cidad nablu dentro recinto mosteiro yaqub poço localizado entrada igreja terreno mosteiro descendo escada cripta ond poço conservado junto \"um pequeno guincho bald ícone ex-voto muita vela acesas\" tumba josé localizado nort poço jacó prédio otomana marcado cúpula branca',\n",
       " 'ussy-saint-georg built ident green model environ park garden repres hectar integr green space kilometr mile soft connect link squar park citi centr pool tree today',\n",
       " 'زلاتان ابراھیموویچ zlatan ibrahimović سویڈش تلفظ [ˈslaːtan ɪbraˈhiːmovɪtʂ] بوسنیائی تلفظ [ˈzlatan ibraˈxiːmɔʋitɕ] ایک سویڈش پیشہ ورانہ فوٹبالر ہے جو بطور اسٹرائیکر لیگ کلب پیرس سینٹ جرمین ligu club pari saint-germain اور سویڈش قومی ٹیم میں بھی بطور کپتان کھیلتا ہے۔',\n",
       " 'ock helen \"a man stori gris-gris\" ishmael neo-hoodoo aesthet african-american tradit south central review – jstor',\n",
       " 'intang memiliki tradision sulafat sulaphat beras bahasa arab السلحفاة al-sulḥafāt yang \"kura-kura\" alternatif jugum beras bahasa latin iugum \"penyeimbang\" bintang',\n",
       " 'alam bahasa inggri istilah easter paskah bede beras bahasa saxon ēastr ēostr pengucapan inggri [ˈæːɑstre ˈeːostre] yang berhubungan estr dewi bangsa teutonik dewi cahaya fajar musim semi yang perayaannya berdekatan perayaan paskah yang diken zaman bede \"edda\" bahasa anglo-saxon inggri eâster eâstron jerman kuno ôstra ôstrara ôstrarûn jerman ostern april easter-monadh bentuk plural eâstron perayaannya tujuh bentuk plural bahasa peranc pâque istilah diterjemahkan bahasa latin festa paschalia oktaf paskah',\n",
       " '教会旋法はまず終止音（finalis）によってつに分類される。そしてそれぞれが音域（ambitus）によって終止音から高くまで上がる正格（authenticus）とあまり上がらない変格（plagalis）のつに分けられる。 例えば、ドリア旋法はニ音を終止音とする正格旋法であり、ヒポドリア旋法はその変格旋法である。',\n",
       " 'عام بالضبط وبتاريخ أعلن البغدادي خطة هدم الأسوار وبتاريخ هاجمت داعش سجنين بغداد سجن التاجي وسجن بغداد المركزي ونجحت تهريب معتقل',\n",
       " 'ـــ په رجب هـ كال دوانت وايگل ولسوالي دجمچگل په سيمه كې داشغالگرو عسكرو خورا ستر بيس چې دوئ يې خورا ستراتيژيك اهميت درلود دمجاهدينو دمسلسلو بريدونو امله تخليه كړ او گڼ شمیر غنيمتونه دمجاهدينو لاس ورغلل',\n",
       " 'menikahi giacomina wafat februari putri ugolino gherardesca anjuran ayahnya memiliki keturunan hasil hubungannya vera cappai villasalto digantikan putranya andrew marianu meninggalkan putri yang sah joanna yang wafat',\n",
       " 'heokrito herdediktn tjänat förebild romerska exempelvi vergiliu liksom senrenässansen rokokon herdeidyl',\n",
       " 'elièg gemeenteraadslid burgemeest - binch provincieraadslid initiatieven heroplev carnav binch stichtt internationa museum carnav masker',\n",
       " 'сделал понимания деятельности м ломоносова должной оценки её президент академии наук украины вернадский чьё имя ряду русских естествоиспытателей праву соседствует именем первого русского учёного «ломоносов xx века» вернадский возглавлял комиссию изучению наследия канун -летнего юбилея первой лаборатории',\n",
       " 'ussen kruis westen bischofswerda waar b aansluit b kruis b oosten stad bautzen vervangen b b',\n",
       " 'وعندما وصل جنود الحملة الفرنسية غرب مدينة الإسكندرية عام زحفوا المدينة واحتلوها مقاومة جانب أهلها وحاكمها محمد كريم دامت ساعات وبعد نابليون يزحف القاهرة بطريق دمنهور استطاع الفرنسيون احتلال مدينة رشيد ووصلوا الرحمانية وهي قرية النيل وفي الأثناء المماليك يعدون جيشاً لمقاومة الجيوش الفرنسية بقيادة مراد التقى الجيشان بالقرب شبراخيت الجيوش المملوكية هُزِمَت واضطرت التقهقر فرجع مراد القاهرة',\n",
       " 'بصوته الشجي المميز خطيباً مميزاً وصاحب مدرسة وطور قلّ تجد مثيلا وقد عرف الشيخ حسن زين الدين خطابته بالإخلاص القراءة والالتزام الطرح الخاص فن الخطابة الحسينية إلهاب العواطف ومخاطبة العقل الوقت فكان يعطي مصائب أهل البيت وقت القراءة الكثير وكذلك الالتزام بالسيرة العامة لأهل البيت والاهتمام بالجانب العقائدي والفقهي العام مميزات خطابته التحقيق التاريخي والإلمام بسير أهل البيت وتفاصيل الأحداث رافقت حياتهم المقدسة وكان بحراً زاخراً المعرفة بالتاريخ الإسلامي وأحوال العرب الإسلام الشيخ حسن حاز الشهرة المجال لأنه استطاع يستخدم المنبر الحسيني الإرشاد والتوعية الإسلامية وربط المجتمع بفكر أهل البيت عليهم السلام ولذلك كله فإنه قلّ تجد قرية قرى البحرين يعتل منابرها فعلى سبيل المثال الحصر فقد اعتلى منابر دار كليب يقرب عقود متصلة ومنابر جدحفص لخمسة ومنابر سترة لثلاثة متصلة تزيد',\n",
       " 'rianespac şirketi vegayı kutups güneş eşzamanlı yörüngeler gidecek görevler uyarlanmış fırlatma sistemi olarak pazarlamaktadır yeterlilik kanıtlama uçuşunda vega ana görev-yükü kg ağırlığındaki lare uydusunu km yükseklikteki dairesel yörüngey çıkararak derecelik eğiml yerleştirmiştir',\n",
       " 'تدبیر فلاح نجات اصلاح چند سوالات کا جواب ہے جو ھ میں حاجی منشی خان نے امام احمد رضا خان سے پوچھے تھے۔ یہ فتاویٰ رضویہ کی بارہویں جلد میں بھی شامل ہے اور الگ سے بھی شائع ہوا ہے۔',\n",
       " 'applic schéma département coopérat intercommunal fusionn janvier communauté commun bourbre-tisserand communauté commun vallé lhien communauté commun vallon guier créer communauté commun val dauphiné',\n",
       " 'ati nasceu cresceu cidad middleburi condado connecticut pai clara mark steven kati ainda irmão chamado ryan steven formou pomperaug high school cidad southburi connecticut junho',\n",
       " 'egundo censo jiribam população habitant indivíduo sexo masculino constituem população sexo feminino jiribam taxa literacia superior média nacion literacia sexo masculino sexo feminino jiribam população abaixo ano idad',\n",
       " 'ivendi univers entertain diciptakan desemb merger perusahaan media vivendi jaringan televisi canal akuisisi univers studio perusahaan kanada seagram',\n",
       " 'ong masuk parlemen kursi padawan dilantik sekretari parlement memasuki politik ahli farmasi lulusan universita queensland lahir betong sarawak',\n",
       " 'இரண்டு மீட்டர்களும் ஒரு அரை மீட்டரும் இணைந்த நீளம் வழக்கமாக மிமீ அல்லது மீ என பதிவு செய்யப்படுகிறது செமீ என பதிவு செய்வது தரமற்றதாக கருதப்படுகிறது',\n",
       " 'atunätet lund stadskärna många ställen många hundra år gammalt -talet gjord dock förändringar står andra upplagan nordisk familjebok utgiven år',\n",
       " 'مدت\\u200cها پیش از ظهور مسیحیت گیاهان درختان سبز معنای ویژه\\u200cای برای مردم در فصل زمستان داشته\\u200cاند همین\\u200cطور که امروزه مردم خانه\\u200cهای خود را با درختان کاج صنوبر تزیین می\\u200cکنند مردم باستان نیز شاخه\\u200cهای درختان را بر روی درب\\u200cها پنجره\\u200cهای خانه\\u200cهای خود آویزان می\\u200cکردند در بسیاری از کشورها مردم باور داشتند که این درختان سبز آن\\u200cها را از جادوگری ارواح ارواح شیطانی بیماری\\u200cها دور نگه می\\u200cدارددرخت صنوبر طور سنتی در جشن\\u200cهای مسیحیان کافران برای هزاران سال استفاده می\\u200cشده\\u200cاست کافران هنگام انقلاب زمستانی از این درختان برای تزیین خانه\\u200cهای خود استفاده می\\u200cکردند مسیحیان این درختان را نماد زندگی همیشگی با خدا می\\u200cدانستند هیچ\\u200cگاه مشخص نشده\\u200cاست که این درختان برای نخستین بار برای کریسمس استفاده می\\u200cشده\\u200cاند احتمال می\\u200cرود که درختان کریسمس برای نخستین بار حدود سال پیش در اروپا مورد استفاده قرار گرفته\\u200cباشند برخی بر این باورند که سنت بونیفاس درخت کریسمس را در سدهٔ هفتم میلادی ایجاد کرد برخی نیز بر این باورند که قدمت درختان سال میلادی در آلمان یا لتونی باز می\\u200cگردد',\n",
       " 'расписывал храмы костромской нижегородской вологодской губерниях писал иконы собора петра павла сестрорецке расписывал храм имя рождества христова построенный городе арзамасе мещанином александром михайловичем заяшниковым зятем дворянином николаем яковлевичем стобеосом написание портрета которого игорев получил звание художника году мастер расписывает новопостроенный покровский храм саратове храма изготовлены иконы двух боковых приделов вместе учениками выполнена роспись стен это время здании новой духовной семинарии пишет иконы домовой церкви иоанна богослова',\n",
       " 'itsingh illustr japan consist privat memoir anecdot reign dynasti djogoun sovereign japan london ackerman',\n",
       " '세월호 참사 초기 구조 당시에 현장지휘관 osc·on scene-commander인 일차 청문회 당시 영상을 찍어보낸적이 없다고 부인한 김경일 정 정장의 휴대폰이 참사 당일 시 분 세월호 등항해사 김영호 씨 명의의 제주 소재 유선전화로 발신이 되어 초 간 통화한 사실이 밝혀졌다',\n",
       " 'سانچہقرآن-سورہ آیت ۔۔۔* الَّذِينَ يَسْتَحِبُّونَ الْحَيَاةَ الدُّنْيَا عَلَى الآخِرَةِ وَيَصُدُّونَ عَن سَبِيلِ اللّهِ وَيَبْغُونَهَا عِوَجًا أُوْلَـئِكَ فِي ضَلاَلٍ بَعِيدٍ',\n",
       " 'ประเทศญี่ปุ่นออกอากาศทางช่อง สถานีโทรทัศน์นิปปอน ทุกวันเสาร์ เวลา - น ตามเวลาประเทศญี่ปุ่น ตั้งแต่วันที่ เมษายน - มีนาคม ซีซั่น -',\n",
       " 'troço linha sine quilómetro santiago cacém inaugurado junho convidado partiram hora estação ferroviária suest lisboa atravessando rio tejo barco évora convidado ministro obra pública duart pacheco chefe gabinet carlo alv director geral ministério raul costa couvreur chefe divisão construção rodrigo severiano monteiro representant direcção companhia caminho ferro portugues luí costa manuel gonçalv constantino schrdëter carvalho joaquim barro júlio santo henriqu bravo henriqu peyssoneau joaquim bravo mend barata jorg nune director geral caminho ferro álvaro sousa rego president conselho administração cp vasconcelo correia chefe serviço movimento barbosa pita representant junta autónoma estrada jorg moreira professor antónio jacinto vilhena principai impulsionador construção linha sine recebido estação barreiro governador civil setúbal mário cai estev acompanh comitiva santiago cacém outra alta individualidad comboio inaugur partiu barreiro',\n",
       " 'ليلة دخل مسلحون داعش مدينة الرمادي عاصمة محافظة الأنبار وذلك باستخدام سيارات ملغومة متزامنةكما أصدر داعش رسالة صوتية مسجلة لأبو بكر البغدادي يدعو المسلمين للقتال ضد الحكومة العراقية صلاح الدين والأنبار مدعيا واجبهم كمسلمين ودعا البغدادي التسجيل المسلمين للهجرة إلي \"أرض الخلافة\" وهي الأراضي يسيطر عليها التنظيم سوريا والعراق وقال أيضاً الحرب حرب تنظيم الدولة الإسلامية حرب المسلمين يتولي قيادتها التنظيم مشيرا إلي أنها \"حرب المسلمين ضد الكفار \" بهذه الرسالة أنتهت الشائعات حول وفاته',\n",
       " 'இந்த இரண்டு வகையிலும் வரையறுக்கப்பட்ட பொறுப்பு நிறுமம் மற்றும் அளவற்ற பொறுப்பு நிறுமம் ஆகிய இரண்டு வகைகளும் உருவாக்கப்படலாம் வரையறுக்கப்பட்ட பொறுப்பு நிறுமங்களின் பொறுப்பைப் பொறுத்து கீழ் காணும் நிரும வகைகள் உருவாகின்றன',\n",
       " 'ننۍ نړۍ واقعيتونه دا دي چې نړيوال کيدنې پروسه کې ورسته پاتې او لږ پر مختللو هيوادونو رول او ونډه شتمنو او پرمختللو هيوادونو په پرتله په هيڅ حساب ده زما په نظر نړيوال کيدنې په ځای نړيوال کولو اصطلاح حقيقت نژدې وي همدرانگه شتمنو هيوادونو په منځ کې په نړيوالو سياسي او پوځي سازمانو ملگري ملتونه امنيت شورا ناټو او نړيوالو اقتصادي جوړښتونو نړيوال بانک پيسو نړيوال صندوق سوداگرۍ نړيوال سازمان پورته ذکر شوې کميټې کې امريکا متحده ايالاتو رول او ونډې همدارنگه نړۍ په هیوادونو نوو ليبرالانو امپراطورۍ او اصولو منل او امريکايی لوړپوړو چارواکو خوا په ښکاره او ډاگه نړۍ مشرتوب او لارښوونې ادعا په کتو سره زما په فکر نړيوال کولو اصطلاح په ځای نړې امريکايی کولو اصطلاح کارول اوسنيو واقعيتونو سره سمون ولري گلوباليزم پانگه وال نظام په امپرياليستي پړاو کې نوي ښکيلاک په شکل کې نسبتاٌ نوی پړاو دی نړۍ په هيوادونو کې چې ديکتې لارې نوو ليبرالانو اقتصادي کړنلارې او ايدیالوژۍ منلو کومه پروسه روانه ده دا نړيوال کيدنه نه خو نړيوال کول دي بلکې امریکايي کول دي په امريکايي موډل سره يعنې نړۍ امریکايي کوونه په نورو هيوادونو او ولسونو باندې خپلې ارادې او موډل منلو او تپلو پلوه امریکايي کوونه سويتيزم سره پرتله کيدای شي ځکه شورويانو شوروي موډل پرته نور شکلونه زغم وړ نه وو چين پخوانۍ يوگوسلاويا سره اختلافونو په هنگري او پخوانۍ چکوسلواکيا',\n",
       " 'موٹروے ایم تھری کے راستے میں ساہیانوالہ اور ڈپٹی والا کے مقام پر انٹرچینج آتے ہیں۔ پہلا انٹرچینج ساہیانوالہ نامی قصبے کے لئے ہے جبکہ ڈپٹی والا کا انٹرچینج اسے ملت روڈ کے ذریعے ملت چوک کے مقام پر فیصل آباد سے نکلنے والے شیخوپورہ روڈ سے جا ملاتا ہے۔',\n",
       " 'که يو ليکوال په خپل کتاب کې خپل پردي نوي جوړ کړي لغتونه راوړي دا يې خپل کار دى که خلکو نه خوښېږي نو دۀ کتاب يې نه خوښېږي چا يې څۀ؟',\n",
       " 'innesota state park spread state state park mile km minnesotan recent park creat lake vermilion state park creat current park rang size franz jevn state park acr saint croix state park acr park includ resourc list nation natur landmark big bog state recreat area itasca state park park encompass nation histor landmark charl lindbergh fort snell lac kathio st croix soudan underground split rock lighthous state park site district minnesota state park nation regist histor place nrhp includ park develop construct deal-era job creation program',\n",
       " 'производство мл- велось заводе № перми годы кроме выпуска буксируемых орудий выпущено около стволов мл-с монтажа самоходно-артиллерийских установках сау су- ису- построено сау ису- около сау су- точное число варьирует различных источниках преемником мл- стала -мм пушка-гаубица д- находившаяся серийном производстве года данное орудие имело идентичную мл- баллистику',\n",
       " 'استاد «سید متولی عبدالعال» از جمله قاریان بنام مشهور کشور مصر می باشد که در دهه اخیر اوج شهرت خویش دست یافت این امر بواسطه تلاوتهای بسیار زیبای این استاد است که توام با نغمات حزین صدای گرم نوای هیجان برانگیز ملکوتی وی می باشد',\n",
       " '「mgr」という愛称で知られるm・g・ラーマチャンディランが、アンナードゥライの死後、ドラーヴィダ進歩党内で次第に勢力を増し、年にmgrはドラーヴィダ進歩党を去って全インド・アンナー・ドラーヴィダ進歩党を結成した。年にはmgrは州首相となり、年に歿するまで州首相職を務め続けた。mgrの死後、aiadmk党内ではmgrの妻であるr・ジャーナキとj・ジャヤラリターとの対立が激化し、両陣営の派閥に分裂した状態であったが、年に州議会選挙で党が敗北を喫したことを機に両派は歩み寄り、ジャヤラリターが代表として党を束ねることとなった。',\n",
       " 'essoa mucker passaram assassinada crime atribuído mucker maio aconteceu grand reunião casa maurer presença estimada pessoa jacobina anunci mundo orden extermínio dezessei família inimiga junho aconteceu massacr família kassel casal maurer mandado prisão decretado junho catorz casa inimigo queimada dez pessoa morta inclus criança',\n",
       " 'मुन्दुम नेरियथुम साडी केवल पारंपरिक पोशाक केरल दक्षिण भारत में महिलाओं शरीर निचले हिस्से कवर प्राचीन की सबसे पुराना अवशेष है। मुन्दु मूल पारंपरिक टुकड़ा है कम परिधान साडी प्राचीन है मलयालम में में थुनि अर्थ कपड़े नेरियथुम रूपों ऊपरी परिधान मुन्दु चिह्नित।',\n",
       " 'زیردریایی یو- انگلیسی german submarin u- یک زیردریایی بود که طول آن ٫ متر فوت اینچ ارتفاع آن ٫ متر فوت اینچ بود این زیردریایی در سال ساخته شد',\n",
       " '^ hwang sw direct activ capsaicin receptor product lipoxygenas endogen capsaicin-lik substanc proc natl acad sci usa',\n",
       " 'etta fortskr första halvan seklet -talet fann planer skapa fyrfilig väg rakt igenom stadskärnan öst-västlig riktn spyken svanevägen kallad gatugenombrottet år fattad beslut hu riva bygga trafikl rakt genom lund stadskärna opinionen svängde dock folkpartiet ändrade ställning frågan tillsamman socialdemokraterna röstade stoppa planerna därigenom undslapp lund öde klarakvarteren stockholm carolikvarteren malmö framför socialdemokraterna aktiva stoppa gatugenombrottet bland särskilt universitetslektorn agn gustafsson husen dock redan rivit trafikleden kunna komma fram bland annat prunkand carlsson trädgård bankgatan numera finn busstermin samt vårfruskolan park områd ännu återplanterat annat sätt återställt -talet ändrade uppfattn stort besparingar gjord områden nöden delvi finn bevarad',\n",
       " 'aster bidang manajemen kebijakan internasion graduat school intern polit economi univers tsukuba japan beasiswa joint japan-world bank scholarship program',\n",
       " 'ota maxima speci hoplodactylu delcourti specimin farto cella musei massilia francogallia condito descripta observation confirmata loco agresti anno haec speci cm longa fuit endemica nova zelandia ubi vernaculi habitabat silvi probabilit exstincta facta multi harum insularum fauni saeculo undevicensimo exeunt nova speci invadent sicut ratti mustela terram tempor colonizationi europaea introducta essent minimum familia membrum sphaerodactylu ariasa mm tantum longa parva insula litu reipublica dominicana anno reperta',\n",
       " 'autr auteur inspiré villag agrément leur œuvr peut citer paul fort recueil ballad français également quelqu écrivain locaux comm eugèn soitel roissi passé fernand castelnau carêm roissy-en-fr aimé julien roman roissy-en-fr',\n",
       " 'dtilianum -i alia nomina attiglianum italian attigliano oppidum italia municipium circit incolarum region umbria ac provincia interamnati situm incola adtilianens appellantur',\n",
       " 'شیبه راډیو خپلو اورېدونکو سم معلومات دقیق او پر وخت خبرونه خبرو اترو متوازن چوکاټ او سالمې تفریحي خپرونې په نوښتګر انداز کې وړاندې کوي',\n",
       " 'ordahl road station serv north counti transit district sprinter light rail line straddl citi limit san marco escondido california mail address escondido station locat barham drive auto park waynordahl road intersect east mission road consist singl platform track',\n",
       " 'eda süüdistatud holokausti eitamis - aastal väiti york posti arvamusloo juuti olnud võimalik tappa treblinka gaasikambi diiselmootori heitgaasidega väiti treblinka olnud \"surmalaager\" vaid transiitlaag',\n",
       " 'hinchilla longhair kuce yang beras inggri ra kuce kuce yang anggun ra dibagi chinchilla warna cerah sejati yang gelap perak gradasi',\n",
       " 'பெருந்தோட்டம் என்பது தொலைதூரச் சந்தைகளுக்காகப் பயிர் செய்வதற்கு உரிய பெரிய பரப்பளவு கொண்ட தோட்டத்தைக் குறிக்கும் பெருந்தோட்டம் என்பது தெளிவாக வரையறுக்கப்பட்ட ஒரு சொல் அல்ல எனினும் உள்நாட்டுப் பயன்பாட்டுக்காக அல்லாமல் ஏற்றுமதிக்கான வணிகப் பயிர்களைப் பெருமளவில் பயிர் செய்வதற்கான தோட்டங்களையே இது குறிக்கிறது',\n",
       " 'தீர்வுக் கழகமானது நிதி நிறுவனங்களின் நிலைத்தன்மை மற்றும் கடன் மீட்புத் திறனை பாதுகாக்கும் ஏற்றுக் கொள்ளத்தக்க அளவு வரை வாடிக்கையாளர்களை பாதுகாக்கும் மற்றும் பொதுமக்களின் நிதியை முடிந்தவரை பாதுகாக்கும்',\n",
       " 'empor imperii romani therma -arum fpl verbum deductum graeco θερμός \"calidus\" balnea -orum npl graec βαλανείον fuerunt aedificia lavandi therma balinea apud auctor antiquo magnifica opera imperatoribu erecta significar soleb balneum sive balnea pro lavacri minoribu sive privati usu essent quorum roma magnu numeru exstabat saep autem haec verba inter commutabantur',\n",
       " 'fuerunt occisi icum accusationibu falsi eorum mort exacerbaverunt nationem nascentem intulerunt rebellionem ductam katipunan adiuvata americani katipunan indixit independentiam anno quam america agnovit vicem gubernaculum occupavit altera natio germania tenuit cuirassato expectant occupar ita fecisset americana mox constituerunt americani consortium populorum philippinarum',\n",
       " 'talk taki fotopoulo internation capitalist market economi project inclus democraci talk taki fotopoulo univers vermont discuss murray bookchin chodorkoff part video part retriev januari',\n",
       " 'نن ټکی اسیا په خپل کاري مجال کې وتوانېدل چې په نړیواله سطحه مهمو خبرونو لومړنۍ سرچینه وګرځي او نوم یې په نړیوالو خبري ویب پاڼو کې راسي مثال په ډول ډیلي میل اونلاین نیویارک ټایمز افغان تحلیل ګران او سلګونو نوري نړیوالي خبري ویب پاڼي',\n",
       " '자사 노선은 도부 스카이트리라인 오시아게 - 도부 도부쓰코엔 사이 도부 철도 이세사키 선 도부 도부쓰코엔 - 구키 사이 도부 닛코 선 도부 도부쓰코엔 - 미나미구리하시 간에서 운용된다 운행 종별은 원칙으로 준급·급행에서만 운용된다 기본적으로 계와 운용 구분은 없다',\n",
       " 'バロンはブレスラウで、金モール職人ミヒャエル・バロンの家に生まれた。息子も同じ道を歩むことが期待されたが、バロンは幼い頃から音楽に関心を示し、後に自らの職業とした。年頃からコホットという名前のボヘミア人にリュートを学んだ。ブレスラウのエリザベート・ギムナジウムに入学し、年からライプツィヒ大学で哲学と法律を学んだ。年から年の間は各地の小宮廷を転々とした。ハレ、ケーテン、シュライツ、フェルト、ルードルシュタットを訪れた後、年にイェーナを訪れ、当地で年を過ごした。 その後、カッセル、フルダ、ヴュルツブルク、ニュルンベルク、レーゲンスブルクを経て、年にニュルンベルクで著作\"historisch-theoretisch practisch untersuchung instrument lauten\"邦題『リュート―神々の楽器―』を出版した。主としてこの著作により彼の名は記憶に留められている。年にゴータの宮廷で、落馬事故により死亡したばかりのリュート奏者モイセルの後任となった。年間その地位に留まり、ゴータ公の没後アイゼナハに移った。年、メルゼブルク、ケーテンとツェルプストを訪れ、最終的にテオルボ奏者としてプロイセン皇太子フリードリヒの楽団に参加した。テオルボ購入の名目でドレスデン行きを許可された。ドレスデンで、リュート奏者シルヴィウス・レオポルト・ヴァイスとi・a・ホーファーから教えを受けた。年にフリードリヒの即位後、王立音楽協会のテオルボ奏者として仕え、亡くなるまでこの地位にとどまった。',\n",
       " 'московская патриархия — учреждение русской православной церкви объединяющее структуры непосредственно руководимые патриархом патриарх — священноархимандрит настоятель троице-сергиевой лавры также ряда других монастырей имеющих статус патриарших ставропигий',\n",
       " 'பொருளில்லாமல் தனிமனித வாழ்க்கை சிறப்பாக அமையாது என்பதுபோல அரசாங்கத்திற்கும் பொருள் இல்லாவிட்டால் சிறப்பாக இயங்க முடியாது என்கிறார் வள்ளுவர்ஆக நாகரிகம் தொடங்கிய நாள் முதல் அரசர்கள் தங்களுக்குரிய பொருளை பலவாறு ஈட்டியுள்ளனர்மக்களிடமிருந்து வரி என்ற பெயரில் அரசு பொருள் ஈட்டியுள்ளது என்பதற்கான சான்று சொற்கள் தமிழ்நூல்களில் காணக்கிடைக்கின்றன இறை திறை ஆயம் கொண்டி தெறுபொருள் போன்றவை அவற்றில் சில சொற்களாகும்',\n",
       " 'نظم نثر فارسی تاجیکی در طول چندین عصرها ترقی می\\u200cکرد دوره نشو نمای ادبیات فارسی تاجیکی عصرهای میانه راست می\\u200cآید هنگامیکه در آسیای میانه نخستین دولت تاجیکان وجود می\\u200cآید – – – محض در همین دوره ترقیات ملت تاجیک حساب می\\u200cرود سامانیان ادبیات دقت ویژه\\u200cای ظاهر می\\u200cکردند شاعران عالمان همان دوره مانند رودکی ابن سینا فردوسی عنصری دقیقی در درگاه شاهان سامانیان کار فعالیت می\\u200cکردند ایرانیان تاجیکان آن وقت\\u200cها یک قوم را با ریشه\\u200cهای با خم پیوست تشکیل می\\u200cکردند ادبیات صنعت خم دسترس همه بود رودکی اساسگزار ادبیات فارس تاجیک می\\u200cباشد استیلای عرب\\u200cها آسیای میانه دگرگونی\\u200cهای زیادی آورد بای میьماری تایسلامی تاجیکان نیست کرده می\\u200cشد کتاب\\u200cها سوزانده می\\u200cشدند در آسیای میانه دین اسلام چاری شده زبان عربی عمومی گردید زبان نو ادبی – زبان فارس تاجیک در عصرهای ix - x تشکل یافت رودکی – شاعر برجسته اساسگزار ادبیات فارس تاجیک اولین شده زبان را تشکل داد آن را در نظم خود استفاده برده چندین ژانرهای ادبی آن زمان را وقوع آورد محض از همان دوره سر کرده ادبیات فارس - تاجیک تشکل یافته در تمام عالم مشهور گردید در آخر عصر x فردوس «شاهنام» - «شاهنام» - بی\\u200cزوال خود را ایجاد کرد که از جهت معنا حجم در تمام ادبیات عالم همتایا ندارد عصر xi با وقوع آمدن ایپاس\\u200cهای رمانتیکی مشهور شده\\u200cاست محض در همین ژانر سلسله داستان\\u200cهای عنصری اییوکی گنگوری عمر خیام می\\u200cباشند',\n",
       " 'ชีวิตพระวัดป่าบ้านตาด พระอาจารย์สุชาติ อภิชาโต เล่าว่า ได้ฝึกความอดทนต่ออากาศหนาว เพราะบางปีอุณหภูมิเหลือแค่ องศา เวลาออกบิณฑบาตร เหยียบก้อนหินหนาวเหมือนเหยีบก้อนน้ำแข็ง และสมัยที่อยู่กับหลวงตาจะได้รับการอบรมทุก - วัน อย่างน้อยครั้งล่ะ ชั่วโมง ฟังธรรมแล้วจิตหมุนไปทางธรรม เหมือนต้นไม้ได้น้ำ แต่หากไม่ได้ฟัง กิเลสจะหึกเหิม และไม่หมั่นภาวนา',\n",
       " '\"heroes\" eurovis şarkı yarışmasını puanla kazandı eurovis tarihind yüksek üçüncü puandır aynı zamanda yılından yana birinciyi oylama değil jüri oyları belirlemiştir',\n",
       " 'eil omistatud vana-kreeka laadid nimetus joonia dooria früügia lüüdia miksolüüdia eoolia lokria võrrelda neid tänapäeva mažoori-minooriga peak reastama kvintsüsteemina sellisel juhul tõuseb esil nend mažoorsus-minoorsu',\n",
       " 'hile run campaign elect sister sherri martschink lieuten governor sheali robert kohn recruit unemploy black fisherman benjamin hunt jr run congress republican arthur ravenel jr sheali sought increas turnout white voter play racial fear south carolina elector promis hunt prior arrest $ run congress paid $ file fee sheali paid fee unreport $ campaign contribut sister laidlaw environment servic',\n",
       " 'esper roin född svensk nationalekonom verksam site stockholm institut transit econom handelshögskolan stockholm roin disputerad stockholm universitet forskar politisk ekonomi inkomst- förmögenhetsfördeln samt långsiktig ekonomisk utveckl tillsamman daniel waldenström uppsala universitet bidragit statistik svenska förmögenhets- inkomstutvecklingen -talet world top incom databas rönt stor uppmärksamhet samband boken \"kapitalet århundradet\" utgav fransk ekonomen thoma piketti',\n",
       " '態の転換は接尾辞-gi-、-hi-、-i-によって表される。これらの接尾辞は現代朝鮮語と同様に、態の転換のみならず自動詞の他動詞化や形容詞の動詞化の際にも用いられる。例：ormgi-（移す）＜ orm-（移る）、japi-（捉えられる）＜ jab-（捉える）、siei-（立てる）＜ sie-（立つ）。また、ㄹ語幹に付く態転換接尾辞に- sar-（生きる）。',\n",
       " '年月日，參與了「snh第三屆年度金曲大賞best 」。月日，出演由优酷视频，盟将威影视，嗨乐娱乐及世纪影游联合出品的《热血长安》，饰演上官紫苏一角。月日，鞠婧祎代表snh获得中央“五四优秀青年”称号。月日，發行第張個人ep《等不到你》。月日，于万代南梦宫文化中心举办生日fan meeting。月日，于snh第四届总选举，获得第名，最终获得票，成为第四届总选举选拔组center，又成为snh首位於总选举連霸的成员。月日，絲芭傳媒正式宣布鞠婧禕晉升snh group明星殿堂，成立个人工作室单飞发展，日後將以個人名義進行活動，鞠婧禕成为snh group成立以为第一个晋升明星殿堂的成员。年月日，由知名电影网站tc chandler评选的年度“世界最美面孔人”公布年票选结果中，荣获第名。',\n",
       " 'ลาปาโลมา สเปน paloma แปลว่า \"นกเขา\" หรือ \"นกพิราบ\" เป็นเพลงสเปนที่แต่งโดยเซบัสเตียน อีราเดียร์ sebastián iradi นักแต่งเพลงจากแคว้นบาสก์ในปี คศ โดยได้แรงบันดาลใจมาจากดนตรีอาบาเนราจากคิวบาซึ่งเขาเดินทางไปเที่ยวในปี คศ เพลงนี้รับความนิยมไปหลายประเทศทั่วโลกหลังจากอีราเดียร์เสียชีวิตไปแล้ว',\n",
       " 'entartag philipp douste-blazi également donné lieu dépôt plaint contr noël godin procè débouché relax',\n",
       " 'درجة خط الطول مقسمة دقيقة وينقسم ثانية ويتم كتابة خط طول بهذه الطريقة ° ′ المحدد الثواني كسر عشري يستخدم تمثيل بديل درجة ودقيقة أجزاء لمدة دقيقة بالتدوين العشري جزء صغير وبالتالي يمكن التعبير ′ ° ككسر عشري درجة شرقا لإجراء العمليات الحسابية يتم تحويل قياس الزوايا بالتقدير الدائري أنه يمكن التعبير خط الطول بدلالة الرمز باي π pi باي يساوي ° لإجراء العمليات الحسابية يتم استبدال الشرق والغرب بعلامة سالبة نصف الكرة الغربي وعلامة إيجابية النصف الشرقي يمكن الجمع خط طول محدد وخط عرض محددة عادة تكون خطوط العرض إيجابية نصف الكرة الشمالي تعطي موقعا دقيقا سطح الأرض وهذا يتم باستخدام نظام الاحداثيات الديكارتي جملة ديكارت وقد يحدد خط الطول نقطة معينة بحساب الفارق الزمني الموقع المراد حساب خط الطول عنده \"التوقيت العالمي\" utc ساعة يوم درجة حلقة مفرغة تتحرك الشمس بالنسبة للارض بمعدل درجة ساعة درجة ساعة درجة للساعة الواحدة شخص المنطقة الزمنية utc - ساعات التوقيت العالمي فان الشخص موجود قرب خط طول ° ساعات × ° ساعة ° واستخدمت الكلمة قرب نظراً لأن النقطة تكون وسط المنطقة الزمنية؛ يتم تعريف المناطق الزمنية سياسيا المراكز والحدود وهذا يؤدي كثير الأحيان',\n",
       " 'ianuari abdullah abdulaziz al-saud abdullah abdulaziz abdulrahman faisal turki abdullah muhammad saud ani rege arabiei saudit -',\n",
       " 'egún censo []\\u200b persona residiendo municipio homer densidad población habkm² habitant municipio homer compuesto blanco afroamericano raza mezcla raza total población hispano latino cualquier raza[]\\u200b',\n",
       " 'إصلاح الحكومة المحلية لعام اسكتلندا سن بقانون الحكومة المحلية اسكتلندا لعام وتم بمثابرة تفادي إطلاق مسمى الوحدات الإدارية والتي تدار بواسطة سلطات وحدوية القانون السابق الذكر حدود صلاحيات مجلس غالباً تختلف الحدود وضعت لتقسيم عام والحدود للمقاطعات إنشت عام والتي بدورها كانت مقامة أساس المقاطعات الريفية للشريفية منقطة إدارية تدار بواسطة شريف تابع للتاج الاسكتلندي والتي إنشئت بواسطة مالكوم الثالث malcolm iii ومع وضع البوروات بالحسبة يظهر مدى التعقيد للهيكل التنظيمي للإدارة المحلية لذلك يعرف المسمى الصحيح الأصح يمكن إطلاقه المناطق والتي تدار بواسطة سلطات وحدوية',\n",
       " '대한민국에서의 세기 현대적인 좌익국민주의는 년대 후반에서 년대 후반까지 민족해방nl이라는 진보적인 민주화 운동을 통해서 처음으로 나타났다 이들중 극소수는 조선민주주의인민공화국의 좌파 파시즘적인 주체사상을 신념으로 가진 세력도 있었지만 대다수는 비주류이며 반미적인 좌익국민주의자들이 대부분이다 대한민국에서 좌익국민주의는 당시는 노동착취가 만연하고 기득권 그리고 주류 정치인들은 국민주의를 운운해 우민화 정책을 이용하면서 자신들은 철저한 친미주의자인 시대였고 이런 시대에서 평등 그리고 복지가 아닌 과한 경쟁과 기득권 안정만을 추구하는적인 사상을 지닌 정치인들이 많았던 시기라는 점에서 큰 지지를 얻었다 그러나 이러한 운동은 마르크스 사상을 기초로 한다는 하에 반공주의가 심화된 대한민국에서는 지속적으로 지지를 얻기 힘들었다 또한 반미적이고 국민주의적이며 사회주의적인 생각을 가지고 있는 좌익국민주의자들은 때때로 조선민주주의인민공화국과 비슷하다는 소리와 함께 조작된 간첩사건의 주역도 되었다',\n",
       " 'กรุง ศรีวิไล เข้าเรียนชั้นประถมที่โรงเรียนบางพลีน้อย หลังจากนั้นก็ต่อชั้นมัธยมปลายในตัวอำเภอ โดยอาศัยอยู่ในวัด จนเมื่อเรียนจบชั้น ม ได้ย้ายไปต่อที่โรงเรียนในตัวจังหวัด เพื่อเรียนชั้น ม ยังไม่จบชั้น ม ดีจึงได้ตัดสินใจเข้าสู่กรุงเทพ สอบเข้าโรงเรียนช่างกลปทุมวัน เรียนได้อยู่ ปีเศษก็ถูกสั่งให้ออก ได้เรียนภาษาอังกฤษ และพิมพ์ดีดเพิ่มเติมหลังจากถูกสั่งออก จนได้รู้จักกับผู้ใหญ่ท่านหนึ่งซึ่งได้ฝากเข้าทำงานให้กับกรมศุลกากร เป็นฝ่ายติดต่อราชการ งานด้านชิปปิ้ง ทำได้ ปีได้ตัดสินใจเปิดร้านขายผ้าไหมส่งออกที่โรงแรมแมนดาริน และต่อยอดทำธุรกิจเพิ่มโดยเปิดร้านจิวเวลรี่ แต่พอย่างเข้าปีที่ กิจการเริ่มไปไม่ไหว เพื่อนที่เป็นหุ้นส่วนก็หนีไปฮ่องกงพร้อมกับเงินสดในร้าน จนต้องปิดกิจการไปลงในทีสุด',\n",
       " 'يستخدم التعديل المطالي استخداماً رئيسياً أنظمة البث الإذاعي والتلفزيوني وفي منظومات الاتصال وحيدة الحزمة الجانبية singl side band للمسافات البعيدة وفي دارات تأليف المنضدات بالتقسيم الترددي fdm frequenc divis multiplex وذلك للحصول إشارة واحدة تمثل عدداً كبيراً الإشارات المستقلة المعبرة معلومات مختلفة قنوات هاتفية قنوات تلفزيونية ويتم بإزاحة حزمة الترددات الأساسية لتشغل إشارة حيزاً جديداً تنضيد الواحدة تلو الأخرى ويستخدم التعديل الترددي أنظمة البث الإذاعي عالي الجودة وفي نظم الاتصالات المكروية الأرضية والفضائية التعديل الطوري فهو نادر الاستخدام المنظومات التمثيلية يستخدم كثيراً المنظومات الرقمية شكل الانزياح الطوري المفتاحي phase shift key psk',\n",
       " 'šahh reza pahlevi püüdi muuta iraani mõnekümn aastaga rikast naftamaardl abil juhtivak tööstusriigik kuid kõrvalda liiga järsult islami sell juhtid mullad ajatollad autoriteedi sama saavutanud kiir läänestumin massid poolehoidu riigiusundi positsioonil asuv šiiitlu traditsiooniliselt aldi uuendustel revolutsioonilistel muudatustel sellel toetub ajatolla rūḩollāh khomeynī juhitud liikumin pagenda šahhi riigist ning üritab sellest ajast saadik iraani muuta islamivabariigik',\n",
       " 'ایزو هغه گڼه چی په کی په چاپ ورسیده پدی ځای کی کیفیت په تضمین نور تاکید وشو هغه نوی کار چی پدی برخه کی وشو مخنیوونکو فعالیتونو جوړولو څخه عبارت وو ددی معنی دا چی مخکی لدی چی کومه ستونزه محصول په کیفیت کی رامنځ راشی نو باید دهغه څخه مخه تری مخنیوی شوی وی علاوه ددی اسنادو او پروسیجرو په جوړولو او ساتلو یی تاکید وکړ',\n",
       " '在他们出发之前，罗伯特·菲茨罗伊送给了达尔文一卷查尔斯·赖尔所著《地质学原理》（在南美他得到第二卷）。该书将地形地貌解释为漫长历史时间渐进演变的的结果。当他旅程的第一站抵达圣地亚哥佛得角的时候，达尔文注意到该地火山岩峭壁的高处有一条白色的沉积层内有许多裸露的珊瑚与贝壳碎片。这很好地解释了赖尔的理论，并给予了达尔文思考岛屿地质史全新的视角，使他决定写一本关于地质学的书。达尔文在接下来的旅程中有着更多的发现，它们中的许多是戏剧性的。在巴塔哥尼亚，他看见次级而上的分布着圆石与海贝平原，它们其实是被抬高的海滩。在经历了智利的地震后，他发现贻贝的床基高高地搁浅在潮汐之上，这显示陆地已经被抬高了。在安第斯山脉的高处，他发现化石树矗立在一片沙滩上，周围分布着海贝片。在小獵犬號勘探了科科斯（基林）群岛后，他推论这些珊瑚环岛，是形成在下沉的火山之上的。',\n",
       " 'アメリカ合衆国の対メキシコ貿易額の、メキシコの対米貿易額のがラレド港を出入り口としている。ラレドの経済と生活様式は商業と産業用倉庫業、輸入業および輸出業を中心に回っている。国際貿易の主要な担い手として北アメリカ自由貿易協定の成立で恩恵を受けた。市内のラレド国際空港からはヒューストン、ダラス、およびラスベガスに直行便が飛んでいる。ラレド港にはリオ・グランデ川を渡ってメキシコのタマウリパス州やヌエボ・レオン州に入るつの国際橋がある。',\n",
       " 'eb uygulamalarına atfedilmiş güvenlik duvarı sunan şirket appshield ürünü birlikt perfecto technolog olmuştur ürün e-ticaret piyasasına odaklanmıştır geçersiz web sayfası karakteri girişlerin karşı koruma sağlamıştır perfecto ismini sanctum olarak değiştirmiş aşağıdaki web uygulaması saldırı tekniklerini isimlendirmiş waf piyasası teme atmıştır',\n",
       " 'isak väidetaks seda tasakaalu tulemuskaardil piirangud kontseptsiooni kui praktika mida tõestataks sellega paljud organisatsioonid võtsid antud tasakaalu tulemuskaardi kasutusel kogesid suuri probleem ning eesmärkid saavutamisel kukkusid läbi tasakaalu tulemuskaardi eesmärgid mõõdikut definitsioonid arvesta organisatsioonil tähtsate huvigruppidega ning tasakaalu tulemuskaardi raam olevad neli kategooriat piiravad vaadet organisatsioonil',\n",
       " 'году дойдя ещё богословского класса ломоносов вместе другими двенадцатью учениками спасского училища отправлен петербург зачислен студенты университета академии наук одной версий богословская карьера ломоносова оборвалась из-за вскрывшегося подлога документов поступлении рукоположение состоялось способный семинарист направлен ниву естествознания первые дни пребывания петербурге ломоносов товарищи поселились самой академии наук дальнейшем переехали жительство снятое академией каменное здание новгородской епархии -й линии васильевского острова около невы куплены простые деревянные кровати тюфяками одному маленькому столу стулу платяных книжных шкафа выданы необходимые одежда обувь бельё т д одним существенных пробелов образовании знали немецкого языка распространённого время академии занятия начались изучения немецкого языка которому обучал ежедневно учитель христиан герман',\n",
       " 'eynold born wiesbaden germani father career militari station hail famili move famili live place includ germani farm indiana armi base alaska kansa missouri live longer place move away adult parent extrem devout christian grew christian music older sister own album beatl young child love instantli play air guitar music',\n",
       " 'นาตาลี เดวิส เกิดเมื่อวันที่ สิงหาคม พศ เป็นนักร้อง นักแสดง นางแบบ สำเร็จการศึกษาระดับมัธยมศึกษาจากโรงเรียนเบญจมราชาลัย ในพระบรมราชูปถัมภ์ และระดับปริญญาตรีจากมหาวิทยาลัยศรีนครินทรวิโรฒ คณะมนุษยศาสตร์ เอกภาษาเพื่ออาชีพ นาตาลีมีผลงานที่สร้างชื่อเสียงตั้งแต่ยังเป็นวัยรุ่น คือ ผลงานอัลบั้มเพลงคู่ดูโอกับ แจ๊สกี้ - จริยา แซร่าฮ์ เอชเวิท ในนาม nathali jazki เคยเข้าแข่งขันในรายการซูเปอร์สตาร์ ที่สุดแห่งดาว ในฤดูกาลที่ ซึ่งได้รับรางวัลรองชนะเลิศ และล่าสุดมีผลงานละครคุณภาพ \"รักเร่\" บทประพันธ์ของ โสภาค สุวรรณ โดยมี มล สราลี กิติยากร เป็นผู้จัดละคร',\n",
       " 'دوسرے سیارے سے زمین پر آئی اس نے انسان کو جنم دیا اور واپس چلی گئی ۔ اس نے بے شمار سائنسی اور اثری شواہد سے اپنے نظریہ کو درست ثابت کرنے کی کوشش کی ۔ مگر زندگی کو یا صرف نسل انسانی کو جو کسی سیاروں پر سے آئی ہوئی چیز ثابت کرنے والے مبلغ اس بابت خاموش ہیں کہ اس دوسرے سیارے پر زندگی کا آغاز کیسے ہوا ۔',\n",
       " 'ноября года «вконтакте» других сайтах имиджборд «двач» прочих появляются шокирующие фотографии бросившейся поезд школьницы известной социальной сети рина паленкова непосредственно совершением самоубийства девушка делает «селфи» фоне проезжающего поезда выкладывает страницы подписью «ня пока» девушкой оказывается -летняя студентка колледжа уссурийска рената камболина предположительно решившаяся шаг из-за неурядиц семье фоне сложных личных отношений интернете распространяются фотографии мемы соответствующим чёрным юмором использующие слова «рина» «ня пока»',\n",
       " 'письме л эйлеру формулирует свой «всеобщий естественный закон» июля года повторяя диссертации «рассуждение твёрдости жидкости тел»',\n",
       " 'साधु सुन्दर सिंह की मां देहांत तब हुआ वे वर्ष थे जिसे वह् हिंसा और निरशा में डुब गये। उन्होने अपना क्रोध इसाई मिशनरीयों पे निकाला वे इसाई लोगो सताने लगे और उनके अस्था अपमान करने लगे। उनके धर्म चुनोती लिये उन्होने बाइबल खरीदा और उसका पन्ना अपने मित्र समने जला दिया। रातो बाद रैल पटरी पर आत्मदाह करने से पहले उन्होने स्नान कीया वह स्नान कर रहे थे साधुने जोर से कहा कौन है सच्चा परमेश्वर। अगर परमेश्वर ने अपना अस्तित्व उन्हे उस रात नहीं बताया होता तो वे अत्मदाह करते थे। अंतः भोर खुलने से पेहले साधु सिंह येशु मसिह उन्के छिदे हुए हाथों साथ् द्रुष्टांत हुआ।',\n",
       " '[답] 이 용왕과 금시조는 비록 즐거움을 받는다 하더라도 몸을 뉘고 다니며[傍行] 형상이 축생과 동일하기[形同畜生] 때문에 축생의 세계에 속한다 지옥과 아귀는 비록 사람과 비슷하다 하더라도 큰 고통을 받기 때문에 사람의 세계[人道]에는 들지 못하며 아수라는 힘도 세고 형상이 사람과 하늘들과 비슷하기 때문에 따로 여섯째의 세계[六道]로 세우는 것이다',\n",
       " 'راه\\u200cها وسایط نقلیه نیز دارای اهمیت است راه آهن سرتاسری ایران از خلیج فارس تا دریای خزر همچنین نگاه کنید راه\\u200cآهن مازندران راه آهن تهران مشهد راه آهن تهران تبریز تهران کاشان راه آهن بندرعباس تهران وراه آهن بندرعباس سرخس که مشغول بهره برداریست راه\\u200cهای دیگری که در دست ساختمان است جاده\\u200cهای شوسه همه شهرهای را مربوط می\\u200cسازد راه\\u200cهای کشتیرانی در دریای خزر دریای عمان خلیج فارس است راه\\u200cهای هوایی میان اغلب کشورهای بزرگ جهان شهرهای درجه اول ایران بر قرار است',\n",
       " 'romachu fasciatu tvåvingeart först beskrev fabriciu promachu fasciatu ingår släktet promachu familjen rovflugor inga underart finn listad catalogu life',\n",
       " 'ایلیئس انگریزی alia ایک سلسلہ وار کامِک بُک ہے جس کو قلم کار برائن مائیکل بینڈس اور مصّور مائیکل گیڈوس نے تخلیق کیا۔ اِس کو مارول کامکس نے اپنے مارول میکس مارکہ کے شایع کیا۔ اِس کے کُل شمارے تھے جو تا تک سلسلہ وار چھاپے گئے۔',\n",
       " 'михаи́л васи́льевич ломоно́сов [] ноября деревня мишанинская ныне — село ломоносово архангелогородская губерния русское царство — [] апреля санкт-петербург российская империя — первый русский учёный-естествоиспытатель мирового значения энциклопедист химик физик вошёл науку первый химик который дал физической химии определение весьма близкое современному предначертал обширную программу физико-химических исследований молекулярно-кинетическая теория тепла многом предвосхитила современное представление строении материи многие фундаментальные законы числе которых одно начал термодинамики заложил основы науки стекле астроном приборостроитель географ металлург геолог поэт филолог художник историк генеалог поборник развития отечественного просвещения науки экономики разработал проект московского университета впоследствии названного честь открыл наличие атмосферы планеты венерастатский советник профессор химии действительный член санкт-петербургской императорской почётный член королевской шведской академий наук яркий пример «универсального человека» лат homo universali',\n",
       " 'ocarn gallonic britonic lokarn commun incolarum anno praefectura litorum mare francia occidentali region britannia minor',\n",
       " 'ovind swarup magi notu simplicit r rao kannada ಚಿಂತಾಮಣಿ ನಾಗೇಶ ರಾಮಚಂದ್ರ ರಾಯ bengaluri iunii chemicu indianu papa ioann paulu r rao etiam civitatum foederatarum academia nationali scientiarum regali societati londiniensi sodali istam anno sodali peregrinu cooptatu iunii pontificiam academiam scientiarum appellavit',\n",
       " '태종 무열왕에 대한 당대 신라인들의 평가는 매우 높았다 《삼국사기》 · 《삼국유사》에는 신라에서 무열왕에게 당과 같은 태종太宗이라는 묘호를 올린 것은 신라 역사상 최초이자 유일한 사례였으며 이에 대해 당에서 \"무례하며 건방진 것\"이라며 고칠 것을 요구하자 신라의 신문왕神文王은 당 태종이 위징 · 이순풍 등을 얻어 천하를 평정하는 대업을 이룬 것처럼 무열왕도 김유신이라는 성신聖臣을 얻어서 삼한을 통일하는 대업을 이루었다며 완곡하게 거절하였다 훗날 조선朝鮮의 성리학자 김종직金宗直은 《동국여지승람》에 기록된 고려高麗의 태조太祖 이래 역대 군주들의 묘호를 시호로 대체하고자 하는 성종成宗에게 태종 무열왕의 선례를 들며 굳이 기록된 묘호를 뺄 필요는 없음을 주장하였다',\n",
       " 'ஸ்ரீநிவாச கல்யாணம் ஆம் ஆண்டு வெளிவந்த தமிழ்ப் புராணத் திரைப்படமாகும் ஸ்ரீநிவாசா சினிடோன் நிறுவனத்தினரால் வெளியிடப்பெற்ற இத்திரைப்படத்தில் பி எஸ் ஸ்ரீநிவாச ராவ் செருகளத்தூர் சாமா ஆர் பி லக்ஸ்மி தேவி மற்றும் பலரும் நடித்திருந்தனர்',\n",
       " 'öyde ilköğretim okulu vardır ancak kullanılmamaktadırköyün içm suyu şebekesi vardır ancak kanalizasyon şebekesi yoktur ptt şubesi ptt acentesi yoktur sağlık ocağı sağlık evi yoktur köye ulaşımı sağlayan yol asfalt olup köyde elektrik sabit telefon vardır',\n",
       " 'tt igenom staden nord-sydlig riktn sålede alltid enklar färda öst-västlig riktn biltrafiken ökade anlad söder stadskärnan södra ringen väg två körfält vardera två körbanorna malmövägen trollebergsvägen avlasta innerstadstrafiken tidiga \"förbifart\" dag staden uppfattad byggnationen staden utkant',\n",
       " 'में बिहार तत्कालीन मुख्यमंत्री लालू प्रसाद यादव और नेताओं ने राज्य पशु पालन विभाग लेकर धोखाबाजी से लिए करोड़ रुपये कथित से निगल लिए।',\n",
       " 'आर्किमिडिज़ यूनानी ἀρχιμήδης – ईपू प्राचीन यूनान में रहने वाले गणितज्ञ भौतिकज्ञ इंजीनियर आविष्कारक और खगोलशास्त्री थे। इनके जीवन में बहुत कुछ मालूम नहीं है लेकिन इन्हें प्राचीन पाश्चात्य सभ्यता महानतम वैज्ञानिकों में से माना जाता है। भौतिकी इन्होंने स्थिति-विज्ञान द्रव्य स्थिति-विज्ञान और लीवर सिद्धान्त प्रदान किए। इन्होंने कई नई मशीनें भी ईजाद कीं जिनमें शामिल हैं घेराबंदी तोड़ने लिए यंत्र और आर्किमिडिज़ पेच। इसके अलावा इन्होंने ऐसी मशीनों की परिकल्पना की पानी से जहाजों उठा सकती थीं और दर्पणों प्रयोग से नावों पर आग लगा सकती थीं आधुनिक प्रयोगों से इन मशीनों की वास्तविकता सामने आई है।',\n",
       " 'oplumun büyük kısmı okuma yazma bilmediği molla nasredin dergisi yazarları edebi dilin geliştirilmesind halk dilin yönelm gereğini savunmuşlardır dergi ülkenin geleceği açısından molla nasreddin pek konuda amaç birliği içerisind füyûzat dil meselesind ayrılmıştır füyûzat arapça- farsça tamlamalarla zaman zaman ağdalı osmanlı üslubuyla seçkin kesim hitap ederken molla nasreddin tamamen açık duru azerbaycan türkçesiyl sade üslupla topluma yönelik yayın yapmıştır',\n",
       " 'दीनदयाल और दयानाथ दोनों ने अपनी- अपनी बिसात से ज़्यादा विवाह में खर्च किया। दयानाथ ने कचहरी में रहते हुए रिश्वत की कमाई से मुँह मोड़ रखा था। पुत्र विवाह में वे कर्ज़ से लद गये। दयानाथ तो चन्द्रहार भी चढ़ाना चाहते थे लेकिन उनकी पत्नी जागेश्वरी ने उनका प्रस्ताव रद्द कर दिया था। जालपा की सखी शहजादी उसे चन्द्रहार प्राप्त करने लिए और उत्तेजित करती है। जालपा चन्द्रहार की टेक लेकर ही ससुराल गयी। घर की हालत तो खस्ता थी किंतु रमानाथ ने जालपा सामने अपने घराने की बड़ी शान मार रखी थी। कर्ज़ उतारने लिए पिता ने जालपा कुछ गहने चुपके से लाने लिए कहा तो रमानाथ कुछ मानसिक संघर्ष बाद आभूषणों सन्दूक चुपके से उठाकर उन्हें दे आते है और जालपा से चोरी जाने बहाना कर देते हैं किंतु अपने इस कपटपूर्ण व्यवहार से उन्हें आत्मग्लानि होती है विशेषत वे अपनी पत्नी से अत्यधिक प्रेम करते हैं। जालपा जीवन तो क्षुब्ध उठता है। रमानाथ नौकरी की चिंता होती है। वे अपने शतरंज साथी विधुर और चुंगी में नौकरी करने वाले रमेश बाबू की सहायता से चुंगी में तीस रुपये की मासिक नौकरी पा जाते हैं। जालपा वे अपना वेतन चालीस रुपये बताते हैं। इसी जालपा अपनी माता भेजा हुआ चन्द्रहार मिलता है किंतु दया में दिया हुआ दान समझकर वह उसे स्वीकार नहीं करती। रमानाथ में जालपा लिए गहने बनवाने हौसला पैदा होता है। इस हौसले वे सराफों कर्ज़ से लद जाने पर भी पूरा है। इन्दुभूषण वकील की पत्नी रतन जालपा जड़',\n",
       " 'ปัจจุบันมีรัฐ รัฐที่มีกระบวนการทางประชาธิปไตยโดยตรงที่กำหนดโดยรัฐธรรมนูญและเริ่มโดยประชาชน ในสหรัฐโดยมาก การได้คะแนนเสียงข้างมากอย่างเดียวก็พอตัดสินกระบวนการเหล่านี้[ต้องการอ้างอิง] นอกจากนั้น เขตท้องถิ่นอื่น ๆ จำนวนมากในสหรัฐก็ยังมีกระบวนการบางอย่างหรือทั้งหมดเหล่านี้ โดยที่การริเริ่มกฎหมายในบางกรณี เช่น การเพิ่มภาษี จะบังคับให้ได้คะแนนเสียงเกินกว่าครึ่ง supermajor ก่อนที่จะผ่าน แม้ในรัฐที่ไม่มีหรือแทบไม่มีกระบวนการประชาธิปไตยโดยตรง ประชาชนก็ยังมีโอกาสตัดสินเรื่องโดยเฉพาะบางเรื่องโดยตรง เช่น จะให้ขายสุราในเขตท้องถิ่นนั้นหรือไม่[ต้องการอ้างอิง]',\n",
       " 'गान्धी कहा करते थे उनकी जिन्दगी ईश्\\u200dवर हाथ में है और उन्\\u200dहें मरना हुआ तो कोई बचा नहीं सकता है। उन्\\u200dहोंने बार कहा था-\"जो आज़ादी बजाय सुरक्षा चाहते हैं उन्\\u200dहें जीने कोई हक नहीं है।\" हालांकि बिड़ला भवन गेट पर पहरेदार जरूर रहता था। तत्\\u200dकालीन गृह मन्त्री सरदार पटेल ने एहतियात तौर पर बिड़ला हाउस पर हेड कांस्\\u200dटेबल और कांस्\\u200dटेबलों की तैनाती आदेश दिये थे। गान्धी की प्रार्थना वक्\\u200dत बिड़ला भवन में सादे कपड़ों में पुलिस तैनात रहती थी हर संदिग्\\u200dध व्यक्ति पर नजर रखती थी। हालांकि पुलिस ने सोचा एहतियात तौर पर प्रार्थना सभा में हिस्\\u200dसा लेने लिए आने वाले लोगों की तलाशी लेकर उन्\\u200dहें बिड़ला भवन परिसर में घुसने की इजाजत दी जाये तो बेहतर रहेगा। लेकिन गान्धी जी पुलिस यह आइडिया पसन्द नहीं आया। पुलिस डीआईजी लेवल अफसर ने भी गान्धी से इस में बात की और कहा उनकी खतरा सकता है लेकिन गान्धी नहीं माने।',\n",
       " 'suna uluslararası keman yarışmasında yorkta katıldığı uluslararası waldo mayo keman yarışması>nowiki>nda birincilik ödülünü kazandı waldo mayo keman yarışmasında aldığı birincilik dünyanın ünlü konser salonlarından carnegi halldaki stern hallda büyük salon david gilbert yönetimindeki \"senior concert orchestra york\" solist olarak konser verm imkanı eld etti ekim tarihind düzenlenen konserd johann brahmsın keman konçertosunu seslendirdi',\n",
       " '系列的第一款作品《薩爾達傳說》（ゼルダの伝説）在年月日於日本發行，之後在年內於美國和歐洲地區上市。若以現今的標準來看是一款非常簡單的遊戲，但在當時是十分先進的作品。《薩爾達傳說》的創新之處在包括有多種不同的道具可以使用、一個充滿祕密和等待探索的廣大世界，以及能夠在使用電池的主記憶體中儲存遊戲進度。這款遊戲同時也包含了「第二任務」，在遊戲破關後，玩者可以在另一個世界中重新進行冒險，並包含更具有挑戰性的迷宮。除了技術上的創新之外，《薩爾達傳說》的遊戲方式（例如尋找物品並用它們來解決謎題、與怪物的即時戰鬥、探索廣大的環境）也非常成功，這樣的內容在之後也被許多的遊戲複製。本遊戲在日本和美國大受歡迎，有許多人將本作視為有史以來最重要的電子遊戲軟體。《薩爾達傳說》的修改版本在年代中期於日本推出，利用超級任天堂主機的「satellaview」衛星功能推出。',\n",
       " 'lém beleza natur olinda important centro culturai brasil declarada patrimônio histórico cultur humanidad organização naçõ unida educação ciência cultura',\n",
       " 'amp kuruluşundan özellikl çekoslovakyadan getirilen yahudil merkez sonbaharında yahudi olmayan çek nazil tarafından şehirden çıkarıldı böylec şehirdeki yahudil kolay bulunabilecekti',\n",
       " 'سیاسی مسلکی خدمات میں بڑھ چڑھ کر حصہ لینے والے تھے تحریک پاکستان سے تحریک نظام مصطفےٰ تک ہر پلیٹ فارم پر نمایاں خدمات ہیں سنی کانفرنس ٹوبہ ٹیک سنگھ عالمی سنی کانفرنس ملتان اور میلاد مصطفےٰ کانفرنس رائے ونڈ ان کےکارہائے نمایاں میں شامل ہیں۔',\n",
       " 'inc day revolut one-room stone schoolhous stood grassi area common locat close present intersect south orang avenu academi street maplewood build block construct toll highway newark morristown \"proprietor associates\" school august year resolv erect school build site name truste overse educ local children resolut reflect \"the desir meet school futur columbian school south orange\"',\n",
       " 'breption subrept latin word reporeptum genit mean creep crawl prefix ob- mean \"toward of\" sub- mean \"under close to\" term ancient roman law canon law appli cathol church speci fraud ecclesiast rescript obtain',\n",
       " 'chapelle-dabond relèv larrondiss thonon-les-bain cinquièm circonscript haute-savoi député marc francina ump depui élection',\n",
       " 'boy soccer team coach gene chyzowych success activ scholast soccer coach nation boy soccer team north group iv state section championship − win westfield high school tournament final',\n",
       " 'ประเทศสเปน เข้าร่วมแข่งขันกีฬาโอลิมปิกฤดูร้อนครั้งที่ คศ พศ ณ กรุงปารีส ประเทศฝรั่งเศสระหว่างวันที่ พฤษภาคม – กรกฎาคม พศ',\n",
       " '하지만 아카마의 도움은 매그테리돈 생포 외에는 그다지 크지 않았으며 나중에 일리단을 없애려고 감옥에 갇혀 있던 마이에브와 연합하여 그녀를 구출하려고 시도하였으나 일리단의 부하인 테르도스가 이를 알아채고 일리단에게 보고하자 일리단은 아카마를 아웃랜드의 험악한 감옥에 가두어 버리고 나중에는 불같이 화가 나서 아카마를 단칼에 죽이려 했으나 아카마를 죽이면 많은 드레나이 족들이 들고 일어설 것을 염려하여 테르도스가 극구 말려 죽음만은 면한다 이후 월드 오브 워크래프트에서 탈출하여 동족들의 해방을 위해 모험가들을 이끌고 일리단이 있는 검은사원으로 쳐들어가 그를 제거하는데 성공하게 되고 동족들을 해방시킴은 물론 아웃랜드까지 차지하게 된다 그러나 이를 계기로 아웃랜드는 다시금 군웅할거의 시대로 접어든다',\n",
       " '初代中川会館は、年に立命館学園創立周年と学園創設者・中川小十郎の長寿を祝って広小路校地に建設された。もともと立命館大学校友会評議員会は、盛大な記念祝賀会や中川小十郎の銅像建設などを予定していた。これを知った中川から、銅像建設や祝賀会に資金をまわすより、学園の施設を充実してほしいと要望があり、年月日の校友大会で「中川会館」の建設が決定された。中川会館の建設費用は寄付金によって賄われ、教職員、学生・生徒、学園縁故者の協力で総額円銭が集まった。会館は年月に着工され、同年月日に竣工。鉄筋三階建で陸屋根造り、モルタル吹き付けの白亜の外壁に、腰は人造石洗出で仕上げられた。建坪は坪・m（延坪・m）で、地階は学生控室・食堂にあてられ、存心館に通じる地下通路があった。階部分は出版部、職員室、学生研究室、階は学長室、法学部研究室、文学科研究室、予科研究室、高等商業科研究室、階は総長公室、校友集会室、特別講義室、応接室にあてられた。記念室には久邇宮邦彦王殿下から中川総長に下賜された自作の詩の御書と銅製花瓶、西園寺公望から寄贈された書、白川義則大将寄贈の天壌無窮の銘ある花瓶、総長が明治天皇御聖像に奉献された靖広作の神剣や師の御霊が陳列されたほか尾竹竹坡画伯の風俗画、大理石でできた西園寺公の肖像などが飾られていた。竣工式前日に西園寺公望から送られた「南天」、「山梔子」各株ずつが会館玄関脇などに植樹された。',\n",
       " 'copa mundial fútbol sub- pitó partido argentina vs méxico colombia vs malí primera fase octavo final pitó partido brasil vs arabia saudita',\n",
       " 'berllefenni villag south gwynedd wale lie histor counti merionethshiresir feirionnydd valley afon dula',\n",
       " 'akanlığa yeni binanın yapımına ağusto ’te başlanmış itibarıyla yapımı tamamlanmıştır - eğitim öğretim yılından burada eğitim öğretim verilmektedir',\n",
       " 'acordo relato quai própria vera sílvia membro mr- deixar casa ond viviam apó serem denunciado vizinha josé acabaram cercado polícia muito tiro fuzil acab sendo atingido militant conseguiu escapar ferida táxiao olhar trá ainda pode vê-lo levantando chão bastant machucado ensaguentado atirando doi policiai correndo rua abaixo fazendo caminho inverso vera seguiu outro local ond combinado reencontrá-lo caso separassem alguma missão josé porém nunca apareceu chegar prédio ond moravam outro integrant mesma organização acab sendo visto militar desconfiando denunci militant então pegou arma companheiro esper chegada captor',\n",
       " 'isbi roskov yr orrel tm nicolson paglinawan bailli kirk pm bourgoin baillargeon g ouvrard red \"speci iti catalogu life annual checklist\" speci read uk diaks septemb',\n",
       " 'ornu canadensi canadian dwarf cornel canadian bunchberri quatre-temp crackerberri creep dogwood speci flower plant cornacea dogwood famili nativ eastern asia japan korea northeastern china jilin provinc russian east northern unit state colorado mexico canada greenland unlik rel part substanti tree shrub canadensi creep rhizomat perenni grow cm tall',\n",
       " 'urant enfanc adam young révélé quil aimait fair skateboard activité quil pratiqu toujour quil avou dévouer majeur parti temp création musical',\n",
       " 'ศาสตราจารย์กิตติคุณ ชอุ่ม ประเสริฐสกุล เป็นอาจารย์ทางด้านการถ่ายภาพ และนักถ่ายภาพที่มีชื่อเสียงของไทย มีภูมิลำเนาเดิมอยู่จังหวัดจันทบุรี ท่านเคยเล่าให้ฟังว่าบ้านของท่านติดอยู่กับร้านถ่ายภาพของชาวญี่ปุ่นที่มาเปิดร้านถ่ายภาพในจังหวัดจันทบุรี เมื่อญี่ปุ่นยกทัพผ่านไทย เจ้าของร้านถ่ายรูปกลายเป็นนายทหารญี่ปุ่น ท่านได้รับความรู้เรื่องการถ่ายภาพและเห็นวิธีการทำงานส่วนต่าง ๆ ของการถ่ายภาพ จากร้านถ่ายภาพของชาวญี่ปุ่นนี้ เช่น วิธีการอัดรูปด้วยการใช้แสงแดด และสิ่งที่เห็นจากร้านถ่ายภาพนั้นเป็นแรงบันดาลใจให้ท่านสนใจศึกษาการถ่ายภาพ',\n",
       " 'マーズ・エクスプロレーション・ローバー mar explor rover mer mission は、年にアメリカ航空宇宙局 nasa が打ち上げた、火星の表面と地質を探る機の無人火星探査車（マーズ・ローバー）である。これは、nasaが実施した 年と年のバイキング着陸船、年のマーズ・パスファインダーに続く火星探査プログラムの一部であり、ミッションの科学的目標は過去の火星に水の活動があった手がかりを持つ広範囲の岩石および土壌を探査し、その証拠を見つけ出すことである。ローバーはそれぞれスピリット mer-a とオポチュニティ mer-b と名付けられている。',\n",
       " 'நார்மன் கிரகாம் norman graham பிறப்பு மே இங்கிலாந்து அணியின் துடுப்பாட்டக்காரர் இவர் எந்தவொரு தேர்வுத் துடுப்பாட்டப் போட்டியிலும் கலந்து கொள்ளவில்லை இருப்பினும் முதல்தர துடுப்பாட்டப் போட்டிகளிலும் ஏ-தர துடுப்பாட்டப் போட்டியிலும் கலந்து கொண்டுள்ளார் - ஆண்டுகளில் முதல்தர துடுப்பாட்டப் போட்டிகளில் பங்குகொண்டார்',\n",
       " '그는 총독부 고관과 친교를 두텁게 하는 한편 일본의 지방개량운동과 그 기반이 되었던 호토쿠샤 운동을 현지에서 고나찰하고 자신의 임지에서도 그것을 실천하려 하였다 민이 생각해낸 그림은 촌락의 유력자가 총독부의 정책에 적극 호응하여 교육·산업의 근대화를 추진하고 촌락의 지배를 적극적으로 담당해가는 모습이었다',\n",
       " 'wash hand muddi water countryli geschreven amerikaans countryzang joe babcock stonewal jackson eerst plaat zett singl bereikt achtst plaat hot countri singl country-hitparad than hot countri song geheten daarna nummer opgenomen charli rich johnni river elvi presley',\n",
       " 'omá mejía osorio född januari madrid spansk fotbollsmålvakt spelar engelska middlesbrough spelad tidigar real madrid castilla',\n",
       " 'اندیشه ایجاد سازمان ملل متحد در کنفرانس\\u200cهای مسکو قاهره تهران در سال دقیق\\u200cتر شد از اوت تا اکتبر نمایندگان آمریکا شوروی بریتانیا فرانسه جمهوری چین در کنفرانس دامبارتن اوکس در واشینگتن دی سی بر روی برنامه\\u200cهای تشکیل سازمان ملل کار کردند بیشتر بحث\\u200cهای این کنفرانس در مورد نقش اعضای سازمان شرایط دعوت از آن\\u200cها بود سپس در آوریل در کنفرانس سان فرانسیسکو تکلیف حق وتو برای پنج عضو شورای امنیت تعیین شد در نهایت در اکتبر منشور ملل متحد امضای کشور رسید سازمان ملل متحد رسماً تشکیل شد لهستان در کنفرانس شرکت نداشت ولی جایی برای آن در نظر گرفته شد بعداً منشور را امضا کرد',\n",
       " 'asi ambeng hidangan yang disajikan selamatan lambang keberuntungan nasi dimakan beramai-ramai orang dewasa nasi dimakan memakai tangan telanjang sendok garpu penyajian nasi ambeng mengandung permohonan yang dikaruniai rezeki',\n",
       " 'interess opkomend luchtvaart delfts studenten aantal hen leid dick asj delftsch studenten aeroclub opgericht naam lezingen georganiseerd konden voordelig tarief nederlands luchtvaart school vlieglessen gevolgd doordat vanuit dsa daarnaast zeer succesvol lezingen raakt technisch hogeschool delft delft ban luchtvaarttechniek manier overleg dsa faculteit vliegtuigbouw luchtvaart- ruimtevaarttechniek ontstaan',\n",
       " 'äitleja \"jah kunstnik näitleja muusik luuletaja kodanikunimega kaupo-lembitu keerberg timberhoff aga sõbrad hüüavad mind lihtsalt tibuks\"',\n",
       " 'ir nesnenin başka nesn üzerin uyguladığı yükün yüzey altında oluşturduğu gerilmel nesnenin gerilm direncinin üzerin çıkarak yüzey altında çatlaklar oluşturular çatlaklar yüzey altında ilerleyip yüzey ulaştıklarında yüzey parçacıklar kavkıma görünümünde serbest kalırlar aşınma yöntemi \"delaminasyon\" kavkıma olarak bilinir',\n",
       " 'abril liga argelina direito humano relat cabila morto ferido quai tornaram-s permanentement inválido milhar detençõ mau tratamento tortura prisõ arbitrária',\n",
       " 'giptus presidendik gamal abdel nasser ke moodusta araabia ühinenud vabariigi algus liitriik süüriaga põhiseadu annab islamil riigiusundi staatus nasser lõhkunud islami nõutud poliitika religiooni ühtsust ürita araabiasotsialismi abil läbi viia uuendusi tuginevad koraanil araabiasotsialismi alusek koraani kuulutu vendlusest almust jagamis nõuet käsitataks sotsiaalpoliitikana ning püha sõda võitlu ebaõiglus ülekohtu vastu presid anwar sadat tõlgenda islamit kui õiglus võrdõigluslikkus religiooni egiptuseski islami positsioon viimastel aastatel tugevnenud nähtava kuju saanud fanaatilis sadati-vastas moslemit vennaskonna tegevus elavnemis vennaskonn mõjuvõimu sudaani süüria',\n",
       " 'الزيلين بالإنجليزية xylen زيلول بالإنجليزية xylol ويُسَمَّى منهجياً ثنائي ميثيل البنزين ويُعرَف بزيت الخشب سائل هيدروكربوني قابل للاشتعال يستخدم كمذيب وكمادة أولية صناعة الأصباغ والمواد المتفجرة تحلُّ مجموعتي ميثيل محلَّ ذرتي هيدروجين مرتبطة بحلقة البنزين',\n",
       " 'şubat yılında comodo kötü niyetli reklamlara karşı kullanıcıları korumayı iddia privdog olarak bilinen man-in-th middledan koruyan ürününü duyurdu',\n",
       " '« mise scène efficac quelqu scène dure servent propo film regard modern société où soumiss exigé femm croissant »',\n",
       " 'کوشانيان مسيح تر زېږېدو کاله مخه ځينی قبيلې چې آريايي ساکانو او سيتيانو سره په وينه او نژاد کې شريکې وې او دڅيرو او اوږدو پزو او نورو جوله ييزو او ژبنيو ځانگړنو مخې ختيز آريايي نژاده چخه گڼل کېږي او چينيانو دوی يو چی بللي دي خپل پخواني ټاټوبي يعنې ختيځ چين څخه سير دريا وادي راورېدل ددغه ځای ساکان يې ختيز او په باختر کې آريانا سيمو او اينډوکوښ سويل وشړل او ځای يې يوچيانو ونيوئ يوچيان په شاوخوا کې تر آمو راپورې وتل او تخاريانو په مرسته يې باختر ونيوئ تر دې وروسته يوچيان او تخاريان سره گډ شول او يو غښتلی او بېل ټبر ځنې جوړ شوی چې کوشي کوي کوشانگکوشان مشهوره قبيله همدې خلکو پنځگونو قبيلو څخه وه دکوچی پونده کليمه په پښتو او دری کې دې ريښې نمايندگي کوي دې قبيلې لومړی پاچا کيو- تسيو- کيو kiu-tsiu-kiu کوجوله کره کدفيزيس kujula-kara-adphizesn شا خوا دی چې زموږ په هېواد کې يې يوې سترې امپراتورۍ بنسټ کېښوئ ددې کورنۍ نور پاچهان او مشران دويم کدفيزس کنيشکا واسيشکه هوويشکه واسوشکه دي لويو کوشانيانو شاهنشاهۍ دوره کنيشکا جلوسه پيل او پر واسوشکه حدود باندې ختمېږيپه دې دوره کې هېوادد دوېد او اوستايي پخواني فکري او کلتوري مبادي هخامنشي هندي يوناني بودايي مدنيتو آثارو سره کډ شول او شمالي توراني آريايانو ساکانو او سيتي تهذيبي عناصر پرې ورننوتل او يو قوي افغاني کلتور يې منځ راوړ کوشانيانو څخه ډېرې سکې او کتيبې پ',\n",
       " 'ایلسورتھ ٹاؤن شپ ایلسورتھ کاؤنٹی کنساس کا رقبہ مربع کیلومیٹر ہے اور اس کی مجموعی آبادی افراد پر مشتمل ہے اور میٹر سطح سمندر سے بلندی پر واقع ہے۔',\n",
       " 'พระจุลนายก สุชาติ อภิชาโต เป็นพระภิกษุฝ่ายวิปัสสนาธุระ สังกัดคณะสงฆ์ธรรมยุติกนิกาย ศิษย์ของพระธรรมวิสุทธิมงคล บัว ญาณสมฺปนฺโน อดีตผู้ช่วยเจ้าอาวาสวัดญาณสังวรารามวรมหาวิหาร',\n",
       " 'iuni universitatea lisabona anunțat echipă internațională astronomi descoperit galaxia luminoasă și strălucitoar univ numită prescurtat cr',\n",
       " 'ян ге́йдушка псевдоним — фи́лякс в-луж jan hejduška filak ноября года небельшицы лужица германия — год восточный фронт ссср — верхнелужицкий поэт',\n",
       " 'achèv roman sou baguett coudrier diffèr public novembr donn conférenc réminisc cénacl libanai premier membr féminin',\n",
       " 'lli button encuentran descodificador alli pone descodificar código alli chen pelean control gigantor último piso torr hierro gaff capitán magnum marti pelean gener entonc gener vencido meno marti consigu derrotarl solo mismo tiempo alli venc doctor chen lucha control gigantor despué aparecen marti button remolqu charli marti acuerda día conferencia alli cdf seri termina foto junto cdf',\n",
       " 'leito vice-prefeito natal chapa encabeçada wilma faria eleito deputado feder pfl sendo reeleito',\n",
       " 'مرگ تنها سراغ مادربزرگها آشنایان پیر نمی\\u200cآید بلکه والدین کودکان می\\u200cمیرند پذیرش مرگ آنها بسیار مشکل است خصوص در دنیای امروز که مرگ ومیر خاطر رشد کمتر شده بارها شده\\u200cاست که نویسندگان برای نزدیک شدن موضوع مرگ حیواناتی را مطرح می\\u200cکنند که دوست کودکانند',\n",
       " 'در زمان حکومت شاه اسماعیل صفوی کرمانشاه اشغال سپاهیان سلطان مراد آق قویونلو درآمد اما شاه اسماعیل با دوازده هزار قزلباش جنگ وی رفت موفق بازپس گیری کرمانشاه شد',\n",
       " 'primero habitant establecieron cerca siendo grupo mixteca zapoteca otomí olmeca tra conquista méxico población encargada sebastián luisa narva estableció patrono san andré quién creó escultura siglo xvi febrero virrey lui velasco ruiz alarcón otorgó título reconocimiento tierra comunal grupo originarios[]\\u200b',\n",
       " 'albania devenit regat conducerea regelui zog zog șef clan și premier albaniei zog reușit oprească implicarea italiei afaceril intern albanez',\n",
       " '現存する『ルースカヤ・プラウダ』の諸本は系統に分類される。すなわち、ヶ条（条ともみなされる）からなり、「簡素本」と呼ばれる写本群と、このヶ条を修正し且つ新たな条項を追加した、ヶ条からなる「拡大本」と呼ばれる写本群の系統である。さらに、「拡大本」と他の史料とを底本として編纂された「簡略本」が存在したと想定されている。',\n",
       " 'โอเรียนทัล อายส์ จำกัด อังกฤษ orient eye co เป็นบริษัทจำกัด ที่ประกอบธุรกิจประเภทผลิตและจัดจำหน่าย ภาพยนตร์และรายการโทรทัศน์ประเภทต่าง ๆ โดยจดทะเบียนเมื่อปี พศ',\n",
       " 'gc yeni genel katalogda yer alan galaksidir gökyüzünd tay takımyıldızı yönünde bulunur s? tipi sarmal galaksidir amerikan astronom mark harrington tarafından yılında cm inç çaplı mercekli tip teleskopla keşfedilmiştir',\n",
       " 'eugeot - üretilen süperminidir üretilmey başlanmış efsanevi ten dolayı satışları düşen peugeot yıl üretilmiştir',\n",
       " 'оренбургский областной драматический театр имени м горького г оренбург - режиссёр-постановщик р исрафилов художник-постановщик т г еникеев',\n",
       " 'eijer invald ledamot kungl ingenjörsvetenskapsakademien ledamot kungliga vetenskapsakademien tilldelad brinellmedaljen tillsamman nil magnusson',\n",
       " 'alverd vann etapp vuelta castilla león framför rubén plaza javier moreno mar tidigar året hamnad blåsväder grund operación puerto italienska olympiska kommittén coni rapporterad länkat dna-prov tour franc blod samlat doktor eufemiano fuent kontor operación puerto vann också femt etappen vuelta castilla león',\n",
       " 'palácio luxemburgo palai luxembourg francê palácio localizado º arrondiss pari frança actualment sede senado frança',\n",
       " 'meest applicatieframework window kapselen ten minst gedeeltelijk window api vandaar zowel net-framework java programmeertalen window wrapperbibliotheek window api code pack microsoft net framework net-wrapperbibliotheek window api',\n",
       " 'ayanan novemb menguasai pasar rute london-pari london-brussel novemb perusahaan eurostar mengurangi dampak pencemaran karbon dioksida penerbangan jarak pendek',\n",
       " 'स्टॅलिनवादी युग दौरान देश में समाजवाद विचार जिसे अनेक अन्तरराष्ट्रीय साम्यवादियों ने अव्यवहार्य माना सोवियत संघ की कम्युनिस्ट पार्टी की विचारधारा हिस्सा बन गया क्योंकि जोसेफ स्टॅलिन और उनके समर्थकों ने यह निष्कर्ष निकाला विश्व क्रान्ति आसन्न समझना सरलमति थी।',\n",
       " 'ndrew johnston speeld go genoeg leid blijven plaat kreeg jason bern gezelschap terri pilkadari moritz lampert enig speler bogey maakt maarten lafeb staat nederland plaat',\n",
       " 'nlandsklimat råder trakten årsmedeltemperaturen trakten °c varmast månaden augusti medeltemperaturen °c kallast februari - °c',\n",
       " 'علامه سېد خپلو افکارو نظرياتو څېړنې او تبليغ لپاره په ځوانه ځوانۍ هند په لور وخوځېد او پدې لار کې په نه ستړې کېدونکي تلاښ لاس پورې کړ او هېڅ ډول کوښښ او سعي يې سرفه ونکړه علامه سېد په کال هند په لور خوځي ترڅو انگريزي ښکېلار ځواک پر وړاندې خپلواکۍ غورځنگ فکري مشري په غاړه واخلي علامه سېد لومړنې بهرنې سفر هند په لورې او تر هغه ځاى پورې چې سېد ځوانۍ اړيکې وى نو دې سفر يو تجربوي او څېړنيزه سفر ويلاى شو',\n",
       " 'ultuurimälestist registri alu mõisa peahoon registrinumbri park registrinumbri ning ait-kuivati registrinumbri',\n",
       " '\"kata-kata ‘allahku sendengkanlah telingamu untukku engkau meninggalkan aku?’ permulaan mazmur mazmur dicatat matiu juruselamat kesengsaraan-nya ‘dan jam keenam jam siang kegelapan menyelimuti bumi jam kesembilan jam siang jam kesembilan yesu suara nyar eloim eloim sabachthani diterjemahkan allahku allahku engkau menginggalkan aku?’” eusebiu demonstratio evangelica',\n",
       " '댄 포벤마이어는 알라바마 주에서 어머니와 함께 살면서 여름을 낭비하지 말라는 말을 자주 들었다고 밝혔다 자신의 이야기를 ucc로 만들려고 한 그는 자신의 엄마가 자신을 자유롭게 해 주었다고 회상한다 그는 그림을 매우 잘 그렸는데 한편으로 제프 \"스왐피\" 마쉬는 다문화 대가족에서 자랐다고 한다 포벤마이어처럼 마시도 그의 여름을 여러 활동과 상상으로 보냈다고 한다',\n",
       " '番組スポンサーであるmu-mo本社において、濱口、tko、インディーズ芸人がそれぞれ様々な企画をプレゼンテーションした結果、「世界一いらない着ボイス」と「濱口優撮りおろしデジタル写真集」のそれぞれの企画が採用。着ボイスは芸人達がそれぞれの決め台詞などをレコーディングし、携帯の番組公式サイトにおいて配信。一方、デジタル写真集のモデル候補となったのは、w∞アンナ、牧野ステテコ、魔女っこ、美留香、アイヴィ、☆ぴょんぴょん☆、satomi。この中から、携帯の番組公式サイトによるダウンロード数で写真集モデルが決まることとなった。そのダウンロード数の結果に応じて、魔女っこページ、w∞アンナページ、☆ぴょんぴょん☆ページ、アイヴィページ、美留香ページ、牧野ステテコsatomi二人でページ、と配分が決まった。なお、この写真集はmu-moで配信が行われている。',\n",
       " 'ingl period block يواځينی دوراني بلاک پدې ډول بلاکونوکې دcomport او comportmentکوم چې په يوه دنبات دژونددوران کې بيانوي کېدلو اړتيالري يو دوراني بلاک اوپاتې comport بغيرد دوراني بلاک دتعينولوڅخه ساتل کيږی clone کلون ديوه نبات څخه نمويي تکثيررامنځته شوي اولادونه فردي کلون بلل کيږي که چيرې مونږدولې اوسفيدارديووالدڅخه جداجداقلموڅخه دتکثيرلپاره کاراخلوهم دنوموړي نبات کلون بلل کيدايشي دې طريقي پوسيله تکثيرهم ګټې اوهم تاوانونه لري ګټې يې دادي چې دقلمې پواسطه تکثيرکوونکی نبات چټکه وده کوي ښه اقتصادي طريقه ده اوهم دهرزه ګياوودودې چانس راکموي همدارازښايي دطبعي اغيزپواسطه ډيرکم متضررشي اوخپلواولادونود spring جنيټکي جوړښت يې دمورنۍ نبات سره يوشان وي چې کبله يې دجنيټيکي تغيراتو درامنځته کيدوچانس کم وي seed orchard دښه تخم لپاره دباغ جوړول ډيرپخواڅخه داسې ګڼل کيږي چې ديوراتلونکي نبات کيفيت دتخم په کيفيت پورې تړلی دی چې همدې کبله دښه کيفيت لرونکوتخمونوتوليدته ډيره پاملرنه کيږي چې پدې اړه کرنه نن ورځ ډيره مخکښه ده خوسلويکلچرتراوسه پورې داسې کومې پايلې ندي ترلاسه کړي خوپدې اړه يې هڅې روانې دي په خاص ډول پدې وروستيولسيزوکې ترڅوغوره نتايج ترلاسه کړي forest manag دځنګلونوتنظيم ديوځانګړي هدف لپاره دځنګل درياست دټولواجرايوي ساينسي اقتصادي اوټولنيزاصولو عملي تطبيق دځنګل تنظيم بلل کيږي – زمونږدځنګل دپاليسۍ مطابق بايدځنګلونه دتجارتي مقاصدوپه اساس تنظيم شي – بايدزيات موثرعملي',\n",
       " 'cbm sigla anglica pro \"intercontinent ballist missile\" id rocheta quae bombam nuclearem feren continent continentem volar potest',\n",
       " 'aha önceden bilinmeyen açıklıklar sızma testleri açıklık taramaları sayesind tespit edilebilmektedir web uygulama güvenlik tarayıcısı olarak bilinen web uygulamaları zafiyet tarama aracı samat nist -da şekild tanımlanmıştır \"web uygulamalarını olası güvenlik zafiyetleri inceleyen otomat program web uygulamalarına özgü açıklıklar aramaya ilav olarak araçlar yazılım kodlama hatalarına bakabilmektedir” açıklıkların giderilmesi genellikl çözüm aşaması olarak anılmaktadır kod düzeltmeleri uygulama üzerind yapılabilmektedir ancak geneld hızlı çözüm gerekmektedir tür durumlarda geçici hızlı çözüm sağlamak özgün web uygulama açıklığına özel politikanın uygulanması gerekebilmektedir',\n",
       " 'tilizou-s vasta base dado crime cometido reino unido acerca carreira criminai individuai obter insight analítico ademai captada diferent faceta carreira criminai sendo categoria baixo risco baixa frequência frequência representada letra grega lâmbida ƛ crimin b categoria alto risco baixa-ƛ categoria alto risco alta-ƛ',\n",
       " 'المالح در گفتگو با خبرگزاری فرانسه گفت «من مسئولیت تشکیل دولت انتقالی را پذیرفتم برای تشکیل کابینه با همهٔ گروه\\u200cهای اپوزیسیون سوریه در خارج داخل کشور مشورت خواهم کرد»',\n",
       " 'تاثيرات ئي پنسلينونه ورته دي داسيدو په مقابل کى مقاوم دي او دخولى دلاري ښه جذبيږي په خالى ګيډه په خاصه توګه غوښه خوړونکو حيواناتو ورکول جذب ئي بهتره دي دacr او دهغه دهمکارانو په واسطه چه کومه تجربه په موږکانو باندي په کال کى ترسره شوي وو ښکاره کوي چه amoxacillin نسبت ampicillin په ګرام منفى باسيلونو باندي زيات تاثير لري ampiclox - دغه دوا په شيدوخوړونکو حيواناتو کى دecoli په انتاناتو کى ترينه استفاده کيږي او همدارنګه mg ampicillin او mg cloxacillin په مخلوطى شکل دنباتى تيلو سره يوځاي او شيدوخوړونکو حيواناتو دتيونو په التهاباتو کى ترينه استفاده کوي',\n",
       " 'सार्क कॉन्सोर्टियम ऑन ओपन एंड डिस्टेंस लर्निंग sacodil क्षेत्रीय सहयोग एजेंसी है क्षेत्रीय सहयोग लिए साउथ एशियन एसोसिएशन फॉर रीजनल कोऑपरेशन सार्क तत्वावधान में स्थापित है जिसमें सदस्य राज्यों संस्थानों खुले और दूरस्थ शिक्षा माध्यम से ज्ञान देने वाले संस्थानों सहयोग बढ़ावा देने उद्देश्य हैं और सभी स्तरों पर गुणवत्ता की शिक्षा प्रदान करने की व्यवहारिक और लागत प्रभावी पद्धति में इसके उपयोग बढ़ावा देना भी शामिल है।',\n",
       " 'woltjer olim designationibu p-l qm dz pk agnitu asteroid systemati solari asteroidibu cinguli principali attributu astronomi terrestribu magnitudinem absolutam monstrat septembri auspicii programmati exploratorii pl observatorii palomar repertu estrerum orbitalium ratio epocha ianuarii constitit qua epocha woltjer circa solem movebatur axem orbitalem habebat unitatum astronomicarum eccentricitatem distan igitur sole quam minim unitatibu quam maxim unitatibu inclinatio orbitali ° reperiebatur anomalia media °',\n",
       " 'ij werkt samen grote namen klassiek perzisch iraans muziek zoal mohammad reza shajarian hossein alizadeh ensembl ‘master persian music’ vormd niet-aflatend zoektocht nieuw vormen samenwerk bracht samen indias muzikanten shujaat husain khan sitar zang swapan chadhuri tabla turks saz-spel erdal erzincan amerikaans strijkkwartetten krono brooklyn rider',\n",
       " 'मस्तिष्क एवं मेरु धूसर भाग में ही संज्ञा केंद्र एवं नियंत्रण केंद्र रहते हैं। मेरु में संवेदी पश्च चेष्टावह अग्र तंत्रिका मूल रहते हैं।',\n",
       " 'ещё ранее году своём труде «первые основания металлургии рудных дел» подробно осветил различные вопросы безопасности гигиены труда «горных людей» организации труда отдыха надёжность креплений грунта безопасность переходов лестницам рациональность рабочей одежды изучены многие другие вопросы безопасности труда которые остро стояли производстве опасных работ',\n",
       " 'выводы механической теории теплоты подтвердив саму её впервые обосновали гипотезу атомно-молекулярном строении материи — атомистика получила объективные естественнонаучные доказательства корпускулярной теорией молекулярно-кинетическими взглядами м ломоносова напрямую связанно понимание актуальности закона сохранения вещества силы движения принцип сохранения силы движения стал начальной аксиомой рассмотрении аргументов обосновании молекулярного теплового движения принцип регулярно применяется ранних работах диссертации «о действии химических растворителей вообще» пишет «когда какое-либо тело ускоряет движение другого сообщает часть своего движения сообщить часть движения оно иначе теряя точно такую часть» аналогичны соображения принципе сохранения вещества показывающего несостоятельность теории теплорода руководствуясь м ломоносов выступает критикой идей р бойля преобразовании огня «стойкую весомую» субстанцию «материалах биографии ломоносова» документе № — видим учёный пишет декабре года «в химии разными химическими опытами которых журнал листах деланы опыты заплавленных накрепко стеклянных сосудах исследовать прибывает вес металлов',\n",
       " '历史上的柔远驿是为了给琉球贡使及随员提供食宿之所，同时它也成为中琉间商业和文化交流的枢纽。琉球贡使抵达福州后先会在柔远驿驻扎休整，待准备妥当后，琉球正副使、都通事、大笔帐、正副使使赞等十八至二十多人将赴京进贡，其余的随行人员则一直停留在柔远驿内。福州地方政府在此期间会负责给使团供给米粮，发放菜金和柴火费，并为使团准备宴席。柔远驿还是中国与琉球间贸易的场所，每次琉球使臣来贡的时候，清政府会批准十家琉球商人在柔远驿内从事中琉贸易，而琉球商人则常常成为日本及东南亚国家商品在华贸易的中间商，其贸易包括输入中国的金属制品、宝石、象牙、香料、药材、矿石、海产干货和日用品等以及从中国输出的木材、纺织品、瓷器、茶叶、手工艺品、文具等。很多赴华求知的琉球学生也都在柔远驿内学习中国文化。此外，凡有船只遇险失事漂流至中国东南沿海的琉球难民，中国政府都将其安置在柔远驿中等待遣返，并负责他们在华期间的生活费用。柔远驿中还摆放有客死中国的琉球人的灵位，年代初日本学者造访柔远驿时，驿内尚存琉球人牌位多枚。',\n",
       " 'grup cercetași rondul noapt porneșt nord zid fortăreața craster află sălbaticii anarhici natura unesc jurul singur regele-de-dincolo-de-zid manc rayder rondul înaintează depart nord ajungând fortăreața ruinată cunoscută trecut numel pumnul primilor oameni lordul comand jeor mormont trimit jon snow și qhorin halfhand recunoașter trecătoarea țipătului',\n",
       " 'بهذا النظام يحدد التوقيت مختلف دول العالم لأن الكرة الأرضية تدور حول محورها الغرب الشرق النظام يحدد توقيت المدن المختلفة ؛ فالمسلمين مثلا يؤدون صلواتهم توقيت مدينتهم قريتهم المحلية لهذا غريبا يشمل تقسيم خطوط الطول بالدرجة الزاوية والدقيقة الزاوية والثانية الزاوية ؛ فكل درجة خط الطول مقسمة دقيقة زاوية وكل دقيقة مقسمة ثانية زاوية خط الطول يكون درجته ° وموقع المدينة المنورة مثلا نجده خط طول شرق بالتالي ° شرق',\n",
       " 'eynold josef born februari wife linna girlfriend dian thoma daughter eura resid mexico jostin bileyu thoma move children north carolina tim daughter eura current resid north carolina live year virginia year mexico august st reynold marri kristin nienkirchen turk caico',\n",
       " 'epercussu -ū postglaciali accommodatio -ioni f isostatica glacioisostasi -eō -i f refert elevationem massarum terrestrium propter deglaciationem accuratiu liquefactionem pagocalymmati haec massa terrestr antea propter compressionem glaciei oner depressa denuo elevantur postglacialem perihodon isostaseō phaenomenon',\n",
       " 'yam peliharaan gallu gallu domesticu ungga yang dipelihara orang dimanfaatkan keperluan hidup pemeliharanya ayam peliharaan disingkat \"ayam\" keturunan langsung salah subspesi ayam hutan yang diken ayam hutan merah gallu gallu ayam bangkiwa bankiva fowl kawin silang antarra ayam menghasilkan ratusan galur unggul galur murni fungsi yang ayam potong dipotong ayam petelur diambil telurnya ayam dikawin silang kerabat dekatnya ayam hutan hijau yang menghasilkan hibrida mandul yang jantannya diken ayam bekisar',\n",
       " 'книга приобрела сразу широкую известность встретила административных русских общественных кругах полное доверие разослана присутственным местам всей россии наряду администрацией брафман приобрел авторитет также прессе значительно способствовал росту антисемитского движения антисемиты ссылались книги серьезный достоверный источник',\n",
       " 'oemgenu glendalochensi hibernic caoimhíncoemgen anglic kevin natu annum fort white fountain hibernia – ibidem mortuu fuit monachu hibernicu ecclesia catholica ecclesia orthodoxa eum sanctum putant festu iunii',\n",
       " 'probabl account start schyrleu born reutt austria join augustin order univers ingolstadt probabl cours astronomi learn grind lens graduat return convent enter capuchin order send linz teach philosophi servic kurfürst philipp christoph sötern archbishop trier speyer held captiv emperor ferdinand iii archbishop send mission negoti pope urban viii emperor diplomat activ form spi ban schyrleu land [] account schyrleu life',\n",
       " 'pp-parlamentarik meddelad omedelbart kommer bilda nytt parti puea thai rösta ny premiärminist decemb folkalliansen demokrati krav nyval avvisad',\n",
       " 'reaction chang complaint aros so-cal \"fad frills\"-inessenti lead neglect read write spell arithmet york paper read local commut campaign return effici \"littl red schoolhouse\" chang stay',\n",
       " 'دنيوماسين مقاومت - - رطوبت - دنيوماسين وچ پوډر په وچ ځاي کى دکوټي په عادي تودوخه کى تر دوه کلونو پوري بغير تغيره ساتلاي شو او محلول يي دکوټي په عادي تودوخه کى تريو کال پوري ساتلاي شو او په کى ترڅومياشتو پوري خپل اثرات ساتلاي شي - ph - نيوماسين دددوه نه تر خنثى ph پوري ساتلاي شو اوويل کيږي چه نيوماسين فعاليت په القلى ph کى زياتيږي چه دغه وضعيت دنيوماسين دنورو انتى بيوتيکونو څخه فرق کوي - دحرارت درجه - نيوماسين دحرارت درجى په مقابل کى مقاوم دبى دهوا عادي حرارت سره مقاوم دي ليکن دوخت دتيريدوسره تور رنګ اختياروي - اکسدايز کوونکى مواد - داکسيدايز کوونکوموادو پواسطه نيوماسين ډير زرتخريبيږي نو پدي خاطر دنيوماسين په محلولونو کى انتى اکسدايز مواد علاوه کيږي او په خنثى ph -ph کى ساتل کيږي - په خصوصى توګه کوم انزوم چه نيومايسين تخريب کړي راپور ندي ورکړشوي - ټول هغه مواد چه sulphon acid او هغه مشابه مواد ولري دنيوماسين دترسب او غيرفعال کيدوباعث ګرځي دنيو ماسين فارمکولوژيک اثرات - دخولى دلارى دنيوماسين تطبيق امکان نه لري ځکه چه ئي جذبيږي نو پدي خاطر بايد دعضلى په داخل کى زرق شي او همدارنګه دجلد دلارى نه جذبيږي کله چه وينى داخل شي نوديو ساعت په دوران کى خپل اعظمى غلظت توليدوي او دتداوي مقدار - ساعته پوري دوام کوي نو پدي خاطر لازم دي چه ساعته په څلورو حصو باندي تقسيم کړو نو بايد په هر شپږو ساعتونو کى يوځل بايد تطبيق شي نيوماسين دپښتورګو دلاري ډير ژر اطراح کيږي او کچيري',\n",
       " 'கிரிகோரி டி எசு ஆண்டர்சன் gregori anderson கெரார்டு டிஃவ்லோத்தின் இரு வகைப்பாடுகளுடனும் மாறுபடுமாறு தன் கருத்தை முன் வைத்துள்ளார் கோரபுத் என்றொரு கிளை இல்லை என்று வாதிடுகின்றார் மொழியுரு morpholog ஒப்பீட்டில் முதலுரு தென் முண்டா proto-south munda பிரிவுற்று மூன்று உடன்பிறப்ப்புக் குழுமங்களாக மாறின என்கிறார் இவை கரியா-சுவாங் சோரா-கோரம் குத்தோப்-ரேமோ-குத்தா ஆகிய மூன்றும் என்கிறார்',\n",
       " 'में संयुक्त राज्य अमेरिका राष्ट्रपति चुनाव दौरान लिवली ने जॉन मेकेन विरुद्ध बेरक ओबामा लिए समर्थन व्यक्त किया। लिवली और बेडग्ली बेरक ओबामा-समर्थक विज्ञापन में दिखाई मूव ओनस युवा मत कार्यक्रम हिस्सा था। डफ लिमोन द्वारा निर्देशित यह विज्ञापन गोसिप गर्ल दौरान सीडब्ल्युcw एमटीवी mtv और कॉमेडी सेंट्रल comedi central पर प्रसारित किया जाता था। बेवकूफ में लिवली की तुलना पेरिस हिल्टन से की जाती है। जिसके में लिवली कहना है उनके और पेरिस हिल्टन केवल यही समानता है हम दोनों पास छोटा कुत्ता है और हम दोनों बाल सुनहरे हैं बाकी कुछ भी सामान नहीं है क्यूंकि उन्हें हिल्टन की तरह क्लब पार्टियों में जाना टेबल पर डांस करना और सेक्स टेप पसंद नहीं हैं। उनके वे दूसरों लिए बहुत प्यार करने वाली और भरोसेमंद इन्सान हैं उनके और गोसिप गर्ल में उनके चरित्र सेरेना सामानता रखने वाली बातों में से है।',\n",
       " 'ema ilu kuulu üle kreeka kõik noor printsid tahtsid teda kosida tyndareo tahtnud nend seast üht välja valida sest karti ke helenat naisek saanud solvuvad sõlmivad omavahel ka tyndareos või helena abikaasa vastu liidu tyndareo küsi nõu odysseuselt ke ük kõige targemaid mehi kreeka kuigi kuulu kosilast hulka tegi nõuand järgi kõik kosilas tõotasid pidulikult edaspidi võidelda helena tulevas mehe poolel kui keegi peak tall helena pärast kallal kippuma sellis vand võtmisega tekkinud raskusi sest kõik kosilas lootsid saada helena abikaasak seejärel vali tyndareo helena mehek menelaos ke kohal viibinudki teda esinda theseu ühtlasi tegi tyndareo menelaosest sparta kuninga',\n",
       " 'ux nŭci f fructu putamin praeditu cuiuslibet nonnullarum plantarum quibu semina indehiscentia dum varia semina fructusqu sicci multi lingui nomin nuci similit appellentur solum certu eorum numeru biolog putantur nuce vera nuce gravi alimentorum fon hominibu animalibusqu feri',\n",
       " 'ноября года сделан большой доклад — «слово явлениях воздушных электрической силы происходящих» немаловажно — русском м ломоносовым представлена строго научная теория атмосферного электричества которая полной мере соответствует современным взглядам данных явлений касающихся обстоятельных «изъяснениях надлежащих слову электрических явлениях» неотъемлемой части «слова» сопровождаемой описанием наблюдений опытов пояснением чертежей рисунков учёный убедительно показывает результаты самостоятельных исследований сделанные основе выводы существенно отличаясь найденного показанного б франклином началом имеют предшествующие тому изыскания относящиеся значительно раннему времени — «сие слово готово франклиновой догадке уведал» — отмечает частности ода «вечернее размышление божием величестве случае великого северного сияния» напечатанная году «риторике» всей очевидностью указывает выявленную природу северного сияния далее своём письме академику н гиршову который числе других указывал приоритет б франклина пишет «α …винить станет никто произведения учёных столь поздно доходят особенно америки β',\n",
       " 'etelah menempatkan anseung tahta geom mengirimkan sohyeong 소형 小兄 dasik 다식 多式 silla bantuan tentara pengakuan kerajaan silla bergelut menghindari diserap dinasti tang protektorat menenangkan timur 安東都護府 pemerintahan milit yang didirikan tang semenanjung baekj goguryeo jatuh silla penuh hasrat mengirimkan duta mengakui anseung raja yang sah goguryeo menawarkan aliansi hubungan geom anseung merenggang geom dibunuh perintah anseung pembunuhan anseung melarikan silla memimpin kerajaan bodeok yang iksan jangka yang pendek',\n",
       " 'سانچہقرآن-سورہ آیت ۔۔۔* وَيَقُولُ الَّذِينَ كَفَرُواْ لَوْلآ أُنزِلَ عَلَيْهِ آيَةٌ مِّن رَّبِّهِ إِنَّمَا أَنتَ مُنذِرٌ وَلِكُلِّ قَوْمٍ هَادٍ',\n",
       " 'book year china discov world work sheer fiction present revisionist histori singl document artifact found support claim suppos ming naval expedit africamenzi numer claim hundr piec \"evidence\" assembl entir discredit historian maritim expert oceanograph china europ',\n",
       " 'यह फ़िल्म ब्रितानी भारत उन कैदियों में है जिनको पोर्ट ब्लेयर अण्डमान और निकोबार द्वीपसमूह की सेल्यूलर जेल में काला पानी की सजा पाकर पहुँचे हैं। शब्द कालापानी कारावास तरीके से व्युत्पन्न हुआ। फ़िल्म में इलैयाराजा ने संगीत की रचना की संतोष सीवान ने सिनेमेटोग्राफी चलचित्रण और एन॰ गोपालकृष्णन ने सम्पादित की। मलयाली सिनेमा में फ़िल्म डोल्बी स्टीरियो ने प्रस्तावित की। यह फ़िल्म ₹ करोड़ में बनी। मोहनलाल ने अपने स्टूडियो प्रणवम आर्ट्स इंटरनेशनल बैनर तले फ़िल्म निर्मित की।',\n",
       " 'ملاله يوسفزۍ په انگرېزي malālah yūsafzay یا سي اوردو څانگې يادښت پاڼې بلاگ گل مکۍ چې په خپل نوم ملالې يوسفزۍ نړۍ وپېژندله پښتونخوا سُهېل لوېديځې خوا سوات سيمې مينگوره ښار کې په جولايي زکال زېږېدلې ملاله يوسفزۍ يوه کلنه فعاله زده کوونکې وه او سوات سيمې ماشومو نجونو زده کړې لپاره يې ځايي مرستندويو اورگانونو په مرسته خپل غږ پورته کړی هغه يوه سيمې په کچه تر ټولو وړه فعاله کارکوونکې وه همدې کار او فعالیت کبله پاکستان سخت دريځه طالب اورپکو اکټوبر په زېږدي کې پرې مرگونی بريد وکړ چې په پايله کې په ټېک او غاړه وويشتل شوه او سخته ټپي شوه دوه اوونۍ پورې پاکستان په پوځي روغتون کې بستر وه چې هلته يې درملنه ونشوه نو وروسته يې انگلينډ درملنې لپاره ولېږدوله',\n",
       " 'پیری ٹاؤن شپ کولمبیانا کاؤنٹی اوہائیو کا رقبہ مربع کیلومیٹر ہے اور اس کی مجموعی آبادی افراد پر مشتمل ہے اور میٹر سطح سمندر سے بلندی پر واقع ہے۔',\n",
       " '例如，考虑一个有电子组成的流体。每个电子都有电场，都会排斥其他的电子。作为其结果，该电子所处的区域其电子密度是小于一般情况的。 这个区域实际上可以被看做是一个正电荷屏蔽空穴来处理。从远处来看，这个屏蔽的空穴有一个抵消由其他电子产生电场的正电荷的效果。只有在短程的时候，也就是在空穴区域以内，电子的电场才可以被探测到。',\n",
       " 'hyana ध्यान dhyāna sanskrit medit utgör nyckelbegrepp såväl hinduism buddhism enligt hinduiska yoga sutra dhyana yogan åtta vägar',\n",
       " 'ordi gómez kwam ub catalonia fc barcelona vanaf actief barça b jordi gómez speeld twee officiël wedstrijden eerst elftal novemb debuteerd jordi gómez inval deco duel gimnàstic tarragona halv final copa catalunya twee maanden januari kwam spanjaard zamora cf achtst final copa rey vervang thiago motta veld degradati barça b tercera división vertrok jordi gómez rcd espanyol b seizoen - jordi gómez uitgehuurd swansea citi waar manag roberto martínez destijd actief roberto martínez tekend wigan athlet jordi gómez samen jason scottland mee nieuw club',\n",
       " 'acshamhrain \"the uniti cóemgen ciarán convent glendalough clonmacnois tenth eleventh centuries\" wicklow histori societi interdisciplinari essay histori irish counti ken hannigan william nolan dublini geographi public - anglic',\n",
       " 'برخی نام هوراند را برگرفته از نام قوم هوری می\\u200cدانند هوری\\u200cها یا خوری\\u200cها مردم باستانی آسیای صغیر شرق غرب میانرودان شمالی سوریه بودند که تقریباً از کوه\\u200cهای جنوب دریای خزر سرزمین بین هیتیان آشور شرق دجله منطقه کوهسار زاگرس از آنجا آنها در مناطق بین\\u200cالنهرین شمالی سوریه حتی ساحل مدیترانه پخش شدند',\n",
       " 'lçin yeni sezon hazırladıkları tiyatro oyununda fahişeyi canlandıracaktır fakat türlü yönetmenin istediği performansı sergileyemez gözlem yapmak zorundadır ancak fahişeyi gözlemleyebileceği konusunda fikri yoktur',\n",
       " '地元ノースカロライナのファイエットビル州立大学ではアメリカンフットボールの選手として活躍し、オール・アメリカンに度選ばれている。卒業後はnflのグリーンベイ・パッカーズにドラフト指名されるが、トレーニングキャンプで膝を故障し、プロレスラーに転向。黒人レスラーのソニー・キングのトレーニングを受け、年にテネシーのnwaミッドアメリカ地区にて、リロイ・ロチェスター（leroy rochester）のリングネームでデビューする。ジプシー・ジョーとタッグを組むなど、当時はヒールのポジションで活動していた。',\n",
       " 'صوابۍ پاکستان يو ښار دی دا ښار پاکستان په خيبر پښتونخوا ايالت کې دیپه کال کې ددې ښار وگړو شمېر وگړ شمارۍ مخې دا پاکستان لوی ښار دی او دا خيبر پښتونخوا ايالت په لوی ښارونو کې حسابيږي',\n",
       " 'شکلدساده کپيس سيستم يوه نمونه ښايي coppic standard دا هغه سيستم دی په کوم کې چې نيالګي او مختليفو عمرونو ونې په کاپيس ځنګلونو کې مختليفو مودو لپاره ساتل کېږيد ساتل شوو معياري ونو موده شايد کاپيس ژوند دوران څو چنده وي ددې مهم اهداف په لاندې توګه دي غټ سايز چارتراشو لاسته راوړل يخوهنې په مقابل کې دفاع ترلاسه کول کاپيس ځنګلونه لاپسې ښه کوي کاپيس نيالګيو طاقت برقرار ساتي يوي ټاکلي سيمي څخه زيات عايد تر لاسه کيږي دا دوه چته ځنګل مينځ راوړي لاندې چت يې عمره کاپيس ځنګل وي خو پاسنی چت يې مختلف عمرونه ولري په همدې توګه هر چت ژوندځانکړی دوران لري',\n",
       " 'aspor berisi halaman berlaku paspor yang diterbitkan perwakilan negeri lazimnya menerbitkan paspor jangka diperpanjang setelahnya',\n",
       " '황혼의 망치 부족twilight-hamm clan 오우거 종족 중에서 가장 똑똑하고 굴단의 심복인 초갈이 이끌었으며 차 대전쟁 이후 굴단이 죽으면서 명맥을 유지하다가 차 대전쟁을 거치면서 흑마법을 쓰는 다크 드워프들과 인간 흑마법사들까지 참여하면서 황혼의 망치단이라는 이름으로 바뀌고 고대신 쑨을 이용한 교활한 계획을 진행하다 초갈이 패배하여 유배됨으로써 계획이 좌절되고 이후 넬타리온데스윙의 흑룡군단과 통합되어 현재 데스윙의 아다만티움 갑옷을 수리하는 일을 맡고 있고 또다른 고대신인 소고스에게 박힌 티탄의 검을 빼내고 그를 부활시키려는 작업을 진행 중이다 마찬가지로 인간 연합만 아니라 고대 샤머니즘을 계승한 문명화 오크 세력에게도 적대 세력이 된다',\n",
       " 'estudo consider característica comun transgressor modo identificar padrõ comportamento ademai estudo aborda questõ relativa racionalidad punição leva consideração duração início carreira crimin expectativa término mesma visto haveria aplicar pena superior duração residu referida carreira',\n",
       " 'erbia participará juego olímpico parí respons equipo olímpico comité olímpico serbia así federacion deportiva nacional deport participación',\n",
       " 'بھارت میں علامہ اقبال کو شاعر مشرق ادیب مفکر فلسفی اور مسلمانوں کو جگانے والی شخصیت کے طور پر پہچانا جاتا ہے۔ ان کی ولادت کے موقع پر بھارت میں بھی یوم اقبال یا اقبال ڈے کے نام سے انعقاد کیا جاتا ہے۔',\n",
       " '\"west coast regga group stick figur debut first-ev music video fire horizon track exclus premiere\" billboard novemb',\n",
       " 'ноября года президентами казахстана россии белоруссии принята декларация евразийской экономической интеграции которой заявлено переходе следующему этапу интеграционного строительства — единому экономическому пространству еэп января года вступило силу межгосударственных соглашений создающих правовую основу формирования еэп сформирована евразийская экономическая комиссия заменившая упразднённую комиссию таможенного союза',\n",
       " 'เมื่อเปิดใจบุคคลและผู้เล่นเยาวชนส่วนใหญ่นั้นจะมีสินทวีชัยเป็นแบบอย่าง โดยเขาก็ยังประพฤฒิตนเป็นแบบอย่างที่ดีให้กับผู้เล่นรุ่นต่อไปในขณะนั้นธันวาคม พศ เขาได้มีส่วนร่วมในการช่วยทีมชาติไทยเพื่อที่จะทำให้ทีมชาติไทยผ่านเข้ารอบไปเล่นฟุตบอลโลกครั้งต่อไปให้ได้',\n",
       " '衡山山脉位于湖南省中部偏东南，南起衡阳白露坳，北止长沙城西，长约公里。关于衡山旧有南岳“七十二峰”之说，称回雁为首，岳麓为足。衡山山脉属华夏及华夏式构造体系，由燕山期花岗岩构成断块山体。因经历长期侵蚀，成为准平原；第三纪末新构造运动，花岗岩地层上升断裂成今貌。衡山山脉最高峰为祝融峰海拔米。',\n",
       " 'همچنین سازمان ملل مجمعی برای پشتیبانی از حقوق زنان در عرصه\\u200cهای سیاسی اقتصادی اجتماعی در کشورهایشان تشکیل داده\\u200cاست تلاش می\\u200cکند توجه عمومی را این حقوق جلب نماید حتی قطعنامه\\u200cای در مورد سوء استفاده از این حقوق در خود مجمع عمومی یا شورای امنیت یا مجامع قضایی وابسته صادر کرده\\u200cاست',\n",
       " 'ark seo-joon dizid \"hwarang\" grubunun üyesi efsanevi savaşçı moo-myung karakterini canlandırmaktadır karakteri cesur sınırsız enerjiy sahip birisidir köpek pişman olmadan kuş özgür olarak yaşamak istediği \"dog-bird hwarang” olarak seslenmektedirl',\n",
       " 'خلال القرنين كانت السيوف تُستخدم أيضًا خلال الخيالة والأفراد العاديين التابعين لبعض قوات الشرطة الأوروبية عندما كانت قوات الشرطة الخيالة تستخدم السيف تفرقة التجمعات كانت النتائج سيئة جدًا مثلما تم تصويره المشهد الرئيسي فيلم دكتور زيفاجو يتم استبدال السيف بالعصا تدريجيًا لأسباب عملية وإنسانية كانت الدرك البلجيكية تستخدم السيوف الأرجح عام',\n",
       " 'روم اعلی تعلیم کا قومی مرکز ہے جہاں پہلی جامعہ جامعہ ساپیئنزا sapienza کی بنیاد رکھی گئی اور جو اس وقت یورپ کی سب سے بڑی جامعہ ہے جہاں طلبا زیر تعلیم ہیں۔ دو مزید قومی جامیعات میں بنائی گئيں جن میں سے جامعہ تور ورگاتا tor vergata سن میں اور جامعہ روما ترے roma tre سن میں تعمیر کی گئيں۔ شہر میں اسکے علاوہ کئي نجی جامیعات بھی ہیں جنکی تفصیل درج ذیل ہے۔',\n",
       " 'xercitu byzantinu omnino inter milit numeravit quorum magna par milit mercennarii franci arab pacinaca georgii abasci cosri alani armenii alii fuerunt quamquam omn proelii interfuerunt copia selgiukidorum paulo minu crebra fuiss opinatur',\n",
       " 'late aastast juhti etv saadet \"vabariigi kodanikud\" saat \"välisilm\" ük saatejuhtidest vikerraadio ük \"rahva teenrite\" saatejuhtidest',\n",
       " 'سین-ہلنے-دے-چیسٹر کیوبک انگریزی sainte-hélène-de-chest quebec کینیڈا کا ایک رہائشی علاقہ جو arthabaska region counti municip میں واقع ہے۔',\n",
       " 'دیوان عبدالقادر دیوان لومړۍ ځل لپاره په کال په کندهار کې استاد حبیبي په سریزه او سمونه چاپ شوي دی دوهم ځل په پیښور کې همیش خلیل لخوا په کال کې چاپ شوی دی درېیم ځل په کال کې انورالحق په زیار چاپ میدان راوتلی دی څلورم ځل په کال کې په پيښور کې بیا چاپ شوی په دیوان کې غزلي څلوریزي او بوللي راغلي دي پنځم ځل پروفیسور جهانزیب نیاز لخوا په کال کې چاپ شوی',\n",
       " '阿米尔到了白沙瓦找到拉辛汗。拉辛汗告诉他阿里已经误触地雷身亡，而哈桑和妻子则被自己带回到喀布尔的房子。阿米尔还得知哈桑已经有了一个儿子索拉博（sohrab），拉辛汗后来离开了喀布尔之后，房子就交给哈桑一家三口管理。年，塔利班掌权之后推行暴政，迫害哈扎拉人，他们要强占阿米尔家的房子，哈桑和妻子挺身而出试图阻止，但因为自己哈扎拉人的身份而被塔利班当街枪毙。随后，拉辛汗告诉阿米尔自己把他找来的真正目的是希望他能回到喀布尔，救回现在在孤儿院生活的索拉博。阿米尔并不情愿，但拉辛汗向阿米尔吐露了自己隐藏已久的秘密，告诉他阿里其实不育，并非哈桑的生父，而哈桑是阿米尔爸爸的私生子，和阿米尔其实是同父异母的兄弟。',\n",
       " 'dahliana saep depingitur africanum legi grasmanniana parem lingui indoeuropaei analoga autem legi grassmanniana quae dissimilatio aspirationi voci facta makhuwana lingua bantuana ubi lex katuphana appellatur',\n",
       " 'สนามกีฬาเฉลิมพระเกียรติ พรรษา ธันวา ยังเป็นสถานที่สำหรับจัดการแข่งขัน ไทยไฟท์ ที่มีขึ้นเป็นครั้งแรกในช่วงปลายปี พศ ด้วยเช่นกัน นอกจากนี้ ตัวสนามจะใช้จัดพิธีเปิด-ปิด และการแข่งขันกีฬาฟุตบอล ที่มีความจุ คน และสามารถขยายเพิ่มเป็น คนในอนาคต ซึ่งปัจจุบันใหญ่เป็นอันดับ ของประเทศ',\n",
       " 'ฝ่อซาน ในปี คศ ยิปมัน และ เทียนซือ พี่ชายบุญธรรมเข้าสู่สำนักจินอู่ ซึ่งเป็นสำนักมวยหย่งชุนของ เฉินหว่านซุน หง จินเป่า โดยการฝากฝังของบิดายิปมัน ทั้งคู่จึงตั้งใจฝึกหย่งชุนซึ่งเป็นวิชากังฟูซึ่งผู้หญิงเป็นผู้ค้นคิด ซึ่งมีหัวใจคือการใช้ความอ่อนหยุ่นสยบความแข็งแกร่ง โดยที่เฉินหว่านซุนสั่งสอนทั้งคู่เสมอมาว่า ฝึกกังฟูเพื่อเสริมสร้างสุขภาพและช่วยเหลือผู้ที่อ่อนแอกว่า',\n",
       " 'fter month hearst provid inform oath sworn testimoni convict sla activ author bomb explod hearst castl februari hearst testifi wolf rape emili harri gave magazin interview prison alleg hearst retain trinket wolf indic romant relationship hearst stone carv pre columbian artifact archeolog signific harriss interpret prosecutor jame brown jr juror regard carv brown wave front power evid hearst lie',\n",
       " 'urma evenimentelor anului absență jumătat secol ghiță ionescu revenit românia universitatea bucurești i-a acordat titlul „doctor honori causa”',\n",
       " 'ui ilmneb eesti politsei töötajat kaasamis vajadu sii võidaks koolivägivalla intsidenti käsitleda alaealist poolt alaealist suht toim pandud süüteona õpilast võidaks kannatajak kannatanuk tegevusetult pealtvaatajaid kaasosalistek ning vägivallatsejat toimepanijak või kahtlusalusek nimetada',\n",
       " 'ohn dimaggio - bobo haha skalamand architect jungl evo volkov robo-bobo haha two-head evo michael hunter cain time dark figur rath provid agent huckster vostok',\n",
       " 'phiorrhiza govidjoensi måreväxtart beskrev theodor valeton ophiorrhiza govidjoensi ingår släktet ophiorrhiza familjen måreväxter inga underart finn listad catalogu life',\n",
       " 'bitardo utilizan faluch gorra tradicion estudiant francia cierto diseño código característico faluch dignatario bitardo decorado chevrón junto gorra bitardo ponen capa cuyo color indicativo rango dentro orden',\n",
       " 'velvet пришли atlant record подчинённом лейбле cotillion record выпущен последний альбом ридом load название альбома «нагруженный» намекает провозглашённый atlant record лозунг альбомы должны «нагружены хитами» несмотря диск стал таким хитом ожидала компания включил самые мейнстримовые поп-песни когда-либо записанных группой первую очередь «rock roll» «sweet jane» саунд группы стал поп-роковым элементами фолк-рока ритм-энд-блюза утратив мелодизма',\n",
       " 'gener empieza controlar gigantor gracia doctor chen secuac rebela khan robot ahbía atacado marti torr hierro dice gener gigantor arma indigna intenta atacar doctor chen gener destruy',\n",
       " 'луис де гранада исп lui granada собственное имя исп lui sarria гранада — декабря лиссабон — испанский богослов монах-доминиканец великих мистиков испании наряду святой тересой сан-хуаном де ла крус',\n",
       " '방랑자로 살면서 여러가지 동물 동료들을 데리고 다니는데 렉사르가 데리고 다니는 야수들로는 예전에는 있었으나 지금은 죽고 없는 늑대 곰 미샤misha 독수리 메아리spirit 멧돼지 킁킁이huffer 비룡 레오크leokk가 유명하다 특히 미샤는 항상 렉사르의 곁에 있다',\n",
       " 'فقد تعاون البابا خلال رئاسته الأساقفة بيونس آير الرئيس السابق للمؤتمر اليهودي العالمي إسرائيل سنغر خلال بداية العام توزيع المساعدات لفقراء المجتمع كجزء برنامج مشترك اليهود والكاثوليك؛ وقد عبّر سنغر إعجابه بتواضع برجوليو وقد شملت خطوات البابا الأخرى العديدة دعم المجتمع اليهودي استضافته كاتدرائية بيونس آيرس الكبرى للنصب التذكاري ضمن احتفالات ليلة البلور اليهودية تعتبر ذكريات الهولوكست وكان منأول أعماله كتب رئالسة حاخام روما دعاه لحضور قداس التنصيب الحبري',\n",
       " 'embeluulu variant clérambault sündroom korral inimen veendunud temass armunud mõni kuulsu avaliku elu tegelan arst või mõni temast kõrgemal positsioonil olev inimen',\n",
       " 'playstat nintendo ds nintendo ds xbox gener rex agent provid adlı video oyunu geliştirildi oyun kasım abdd piyasaya sürüldü activis tarafından yayımlandı kleissin omega-on nanit inşa etmek mavi izleri bulmaya çalışmasını konu alan oyunun seslendirmesini dizideki rolleri seslendirenlerl aynı seslendirmenl gerçekleştirdi agent provid esrb tarafından olarak derecelendirildi oyun dizinin bestecisi kevin manthei tarafından kaydedildi',\n",
       " 'памяти минина михаила петровича псковская правда — — янв — — января скончался ветеран великой отечественной войны михаил петрович минин одним первых апреля водрузил знамя победы рейхстагом',\n",
       " 'ان دستاویزات کی درجہ بندی کے دو مقاصد تھے حتی الامکان دستاویزات کی اصل ترتیب کو محفوظ رکھا جا سکے اور ان کی انتظامی تاریخ واضح رہے۔ دستاویز کے ہر سلسلہ کو سے تک ایک حرف تفویض کیا گیا ہے نیز کچھ مخصوص سلسلوں کی مزید توضیحی درجہ بندیاں بھی موجود ہیں۔ دستاویزات کی درجہ بندیاں ذیل میں درج ہیں',\n",
       " 'ermann salza pida samuti kõrgema sõjakooli meresõja mereasjandus loenguid aastak dotsent merendus alal koosta esimes eesti merevä ohvitserid käsiraamatu avalda uurimusi kirjuta artikleid meresõjandusest meresõjakunsti ajalugu dardanellid operatsioon hermann salzat nimetatud ühek kõige andekamak ohvitserik ke kunagi olnud eesti vabariigi merejõudud hästi läbi kõigi sõjaväelastega tuntud seltskonnategelan hermann salza filatelist',\n",
       " 'lõpeta petseri keskkooli epa insener-mehaanikuna põllumajanduskandidaat epa väitekiri \"совершенствование технологии содержания кормления молочного стада условиях рациональной системы скотоводства эстонской сср\" elvi',\n",
       " 'prática antiguidad pode caracterizada heráldica senso estrito palavra embora raiz essência almej mesmo objetivo hoje conhecida heráldica articul lentament europa mediev consolidando-s torno século xii padronizando uso regionai diferenciado atravé série regra geral ainda mantém vigor servindo identificador pessoa família lugar naçõ expondo publicament conquista ideologia valor dignidad pertencimento ligaçõ parentesco mesma forma povo indígena vária part mundo bem cultura antiga sofisticada japonesa árabe desenvolveram sistema simbolismo visuai muita maneira comparávei heráldica europeia forma codificação linguagem uso ampla difusão produzindo emblema signo ocidentai parecem decididament exótico não-familiar',\n",
       " 'innaosavalitsust juhib linnaosavanem kell nimetab ametiss linnavalitsu linnapea ettepanekul kuulat ära linnaosakogu arvamus teisi tööandja õigusi kohustusi linnaosavanema suht täidab linnapea või muu linnavalitsus liig linnapea kinnitatud tööjaotus alusel',\n",
       " 'hospit geriátrico convalescent pedro situado avenida guapira nº faz part irmandad santa casa misericórdia paulo fundado nome asilo medicina municip asilo inválido conhecido popularment sítio guapira atual bairro jaçanã',\n",
       " '記憶喪失者が保護された場合、警察が身元を調べて家族の元へ返すのが普通であるが、ごくまれに記憶喪失者の身元が全く判明しない場合がある。このような場合には取りあえずは生活保護を受けるなどして治療を行うが、長期間に渡って記憶が回復せず、身元も不明な場合には家庭裁判所に就籍許可申立を行い、仮名での戸籍を作ることができる。なお、本来は記憶喪失者を想定した制度ではなく捨て子や迷子などの身元不明者のための制度である。',\n",
       " 'kekristenan ritu orient timur persiapan paskah diken puasa senin bersih minggu pekan persiapan pekan palma yang sabtu lazaru sehari minggu palma pekan suci minggu paskah sabtu malam menjelang minggu paskah perayaan paskah resmi yang matin jam-jam paskah liturgi surgawi paskah liturgi dijamin liturgi minggu paskah sesuai gelarnya festum festorum - perayaan perayaan pekan minggu paskah pekan terang minggu paskah minggu kudu minggu pentakosta pentakostarion',\n",
       " 'alto acr fundado março criado representar município região alto acr capixaba assi brasil brasiléia epitaciolândia xapuri entanto uniform distintivo core oficiai determinado ano seguint clube adquiriu statu \"clube profissional\" garantiu participação primeira divisão campeonato acriano termin quinto lugar',\n",
       " 'گرین فیلڈ کیرن کاؤنٹی کیلیفورنیا کا رقبہ مربع کیلومیٹر ہے اور اس کی مجموعی آبادی افراد پر مشتمل ہے اور میٹر سطح سمندر سے بلندی پر واقع ہے۔',\n",
       " 'canção agora única recebeu crítica positiva universalment pitchfork media deu canção revisão positiva avaliação faixa [ possíveis] dizendo \"acapella\" donna summer estilo faixa keli rainha electro gelada abraço robótica metronom felicidad casa aboutcom \"danc music\" revista faixa favorável chamando canção \"majesty\" nomeou-o \"song day\" entertain weekli chamou canção \"delícia pista dança penas\" coloc música \"o mustlist\" enquanto billboard magazin adicion música bit \"anúncio\" nick levin digit spi impressionado música \"william sido menino ocupado ultimament melhor coisa fez - novo singl usher [omg]? \"meet halfway\"? talvez assinatura keli bingo dizemo \"acapella\" possivelment fatia sublim pop clube vamo ouvir ano bate-b banheira keli proporciona homenagem sincera filho bebê knight \"befor life acapella\" jorra coro quas hinário \"befor life acapella\" resultado tão edificant tão cheio energia emoção apena',\n",
       " 'रैखिक परिपथ linear circuit वह परिपथ है जिसमें f आवृत्ति साइनवक्रीय साइनस्वायडल इनपुट वोल्टेज लगाने पर उसके सभी वोल्टेज धाराएँ भी f आवृत्ति की साइनवक्रीय होती हैं। हाँ यह आवश्यक नहीं है सभी वोल्टेज और धारायें इनपुट फेज में ही हों।',\n",
       " 'astal lõpeta andresen rakver õpetaj seminari ning omanda aastal tartu kursustel keskkooliõpetaja kuts tööta aastail – narva-jõesuu algkooli – rakver algkooli rakver tütarlastegümnaasiumi ning – jakob westholmi gümnaasiumi tallinna prantsus lütseumi kirjandus õpetajana',\n",
       " 'बिवाई पैरों की एड़ियों में होती हैं। इसे एड़ियों फटना भी कहा जाता है। सामान्य सौंदर्य समस्या सकती है लेकिन इससे गंभीर चिकित्सकीय समस्या भी पैदा सकती है। एड़ियों की बिवाई उस सामने आती है एड़ियों नीचे की बाहरी सतह की त्वचा कड़ी सूखी और भुरभुरी जाती है। कभी-कभी तो बिवाई इतनी गहरी होती है उसमें दर्द होने लगता है और खून निकलने लगता है।',\n",
       " '유럽식 포르투갈어는 민중 라틴어의 개의 모음에 개의 근중설 중모음이 더해졌고 이 중 하나는 프랑스어에서 ɯ̽ ɨ ə등으로 묘사되는 묵음과 마찬가지로 빠르게 말할 때 묵음화되는 경향이 있다 고모음 o과 저모음 ɛ ɔ는 개의 뚜렷한 음소이며 다양한 형태의 모음 변화로 대체되기도 한다 카탈루냐어와 마찬가지로 포르투갈어도 비강세음절로부터 강세음절을 뚜렷하게 하기 위해 모음의 발화를 이용한다 고립된 모음들은 고모음화 되는 경향을 보이며 강세가 주어지지 않았을 때는 중모음화 되는 경우가 있다 이중비음은 대개 단어의 끝에서 발생한다',\n",
       " 'बचपन में कपड़ों रूचि लिए उनकी माँ ने उन्हें प्रेरित किया जोकि जॉर्जिया की मॉडल थीं। बचपन में उनकी माँ उनके लिए कपड़े सिलती थीं और बुटीक्स और पुरानी दुकानों से कपडे लाकर पहनाती थीं। वे बड़े कपड़ों उसके नाप बना दिया करती थीं। लिवली बताती हैं वह ऐसा इसीलिए करती थीं क्योंकि वह बहुत रचनात्मक थीं और इसलिए क्योंकि वह नहीं चाहती थीं मैं बच्चों तरह प्लास्टिक क्लिप कसी हुई बड़ी-बड़ी टी-शर्ट पहनूं लिवली ने बताया उन्होंने अपने जीवन में पहली और एकमात्र बार लॉस एंजिल्स निजी स्कूल में दूसरे दर्जे में दाखिला लिया था तो अपने कपड़ों की वजह से वे स्कूल में फिट नहीं सकीं थीं। वे बताती हैं \"वह अकेला स्कूल था जहां मेरे लिए लोग बुरे थे मतलब [] वे मेरा मजाक उड़ाते थे क्योंकि मैं बच्चों से कपडे पहनती थी।\"',\n",
       " 'борозда исбанир англ isbanir fossa — длинная узкая впадина борозда поверхности луны сатурна — энцелада борозды полагают ученые являются результатом целого ряда геологических процессов например разломов обвалов',\n",
       " '在台灣發行的《英文中國郵報》評論提到，上集《太陽旗》在激烈血腥動作鏡頭中，平衡地提供了週到的角色個性描述，将流血場面配上賽德克族傳說，為暴力行為說明賽德克族的思想背景。片中仔細推敲的細節創造了歷史真實感，以及龐大的演員人數傳達出一種莊嚴感。不過，該報也提出某些缺失，例如上集某些拙劣的電腦生成圖像及過度活躍的配樂，下集過度將賽德克族彩虹橋傳說顯現的畫面。',\n",
       " 'ราคาสินทรัพย์ในภาวะฟองสบู่ตั้งอยู่บนสมมติฐานว่าราคาจะเพิ่มขึ้นเรื่อย ๆ ดังนั้น เมื่อราคาเริ่มลดลงภาวะฟองสบู่ก็จะหดตัวลงอย่างรวดเร็ว จนทำให้เกิดภาวะฟองสบู่แตก ซึ่งมักจะทำให้เกิดปัญหาหนี้เสียเกิดขึ้นตามมา คำกล่าวของท่านชายราเชนทร์ จงอย่ากลัวในเศรษฐกิจแต่จงเข้าใจในเศรษฐ',\n",
       " 'mgivningarna runt choaab saïl huvudsak öppet busklandskap runt choaab saïl ganska tätbefolkat invånar kvadratkilomet medelhavsklimat råder trakten årsmedeltemperaturen trakten °c varmast månaden juli medeltemperaturen °c kallast januari °c genomsnittlig årsnederbörd millimet regnigast månaden januari genomsnitt mm nederbörd torrast augusti mm nederbörd',\n",
       " 'इनका जन्म हिमाचल प्रदेश में हुआ। दिल्ली में अस्मिता थिएटर ग्रुप अपने अभिनय कैरियर की शुरुआत की। कंगना राणावत ने सुप्रसिद्ध रंगमंच निर्देशक अरविन्द गौड़ अंतर्गत प्रशिक्षण प्राप्त किया। कंगना ने अरविन्द की थियेटर कार्यशाला में इंडिया हैबिटेट सेंटर में भाग लिया और कई नाटकों में अभिनय किया। अरविन्द गौड़ उनका पहला नाटक गिरीश कर्नाड रक्त् कल्याण था।',\n",
       " '第条 - 第条：「ウラジーミル・モノマフの法規」 - 第条（「ヤロスラフの子らの法典の改定法典」を全条とした場合には第条）に、「ウラジーミル・フセヴォロドヴィチ（＝ウラジーミル・モノマフ）のウスタフ（法規）。之はスヴャトポルクの死後、ベレストヴォに自身のドルジーナ、即ちキエフのトィシャツキー・ラチボルru、ベルゴロドのトィシャツキー・プロコピー（名中略）らを招集し決議したものである（以下、徴収に関する条文。後略。）」とあり、この部分の通称はこれに基づく。ウラジーミル・モノマフがキエフ大公位にあった（スヴャトポルクの死後にキエフ大公位に就いた。）時期（年 - 年）に編入された。なお一説には、ウラジーミル・モノマフによる法規と言えるものは、モノマフの名が言及されるこの第条のみであるとみなす説がある。',\n",
       " 'rattan singer anglo-saxon magic medicin illustr special semi-pagan text lacnunga public wellcom histor medic museum seri londinii oxford univers press editio imperfecta',\n",
       " 'diferencia tasa divorcio observada distinto tipo matrimonio arreglado tasa divorcio país islámico matrimonio consanguíneo arreglado arabia saudita turquía egipto qatar jordania []\\u200b contrast meno tasa divorcio matrimonio arreglado consanguíneo amish hindú judío ortodoxo',\n",
       " 'में स्वीडन की कंपनी बोफोर्स एबी से रिश्वत लेने मामले में राजीव गांधी समेत कई बेड़ नेता फंसे। मामला था भारतीय मिमी फील्ड हॉवीत्जर बोली में नेताओं ने करीब करोड़ रुपये घपला किया है।',\n",
       " 'патриарх московский всея руси алексий открытии архиерейского собора года своём выступлении назвал распространение неоязычества одной главных угроз xxi века поставив ряд терроризмом другими губительными явлениями современности',\n",
       " 'uinqu libri bellorum civilium quibu appianu bella romanorum inter sese tiberio graccho mortem sexti pompei narrat integripraeterea quattuor libri aegyptiaci fuerunt alexandrinu erat appianu velut finem belli civilibu imponer dum aegyptu provincia romana fit victi cleopatra marcoqu antonio tre libri centum anni graec έκατονταετία quorum maxima par traiani bella pertinebat quibu libri nihil superest appianu oper librum quendam parthicum hodi deperditum quoqu memorat fortass libro syriaco subiunctu erat',\n",
       " 'entru numel proprii folosit semnel jōyõ kanji semnel kanji învață copii japonezi timpul învățământului obligatorieu ani și semn jinmeiyō kanji semn folosit nume',\n",
       " 'ugh şiirlerind harlemdeki blue barlardan etkilendiğini söylemişti cazın bluesun spritualsun ritmi yansıyor şiirlerin zora neal hurston başka yazarlarla birlikt çıkardığı \"fire\" afro-amerikan kültürünü konu alan dergiydi',\n",
       " '「『好奇心にあふれているけれど、とりあえず無垢な女の子』でいてくれたのは、この二作ぐらいまで。」「この後、どんどん大胆な役にチャレンジ」しはじめる。 年『フォート・サガン』でジェラール・ドパルデュー、カトリーヌ・ドヌーブと共演。 年『狂気の愛』は後にパートナーとなるアンジェイ・ズラウスキーとの初の作品。 年『デサント・オ・ザンファー 地獄に堕ちて』で『ラ・ブーム』の父親役と歳の離れた夫婦を演じる。 年に『ラ・ブーム』と同じ監督で『スチューデント』、また『ソフィー・マルソーの愛、革命に生きて』でカブールにおける国際ロマンチック映画祭最優秀ロマンチック女優賞を受賞。',\n",
       " 'ทีปิกา ปาทุโกณ เกิดในโคเปนเฮเกน ประเทศเดนมาร์ก ครอบครัวของเธอย้ายไปอยู่ที่บังคาลอร์ รัฐกรณาฏกะ ประเทศอินเดีย เมื่อเธออายุได้สิบเอ็ดเดือน บิดาของเธอชื่อ ประกาศ ปาทุโกณ ได้ลาออกจากการเป็นนักแบดมินตันที่มีชื่อเสียงระดับนานาชาติ และมารดาของเธอเป็นตัวแทนการท่องเที่ยว ทีปิกา ปาทุโกณ ยังมีน้องสาวหนึ่งคนซึ่งมีชื่อว่า อณิศา ซึ่งเกิดในวันที่ กุมภาพันธ์',\n",
       " 'ähistataks omeri arvestamis päeval viiekümn päev ehk seits nädalat pärast paasapühi iisra tähistataks seda püha ük päev juudi kogukondad väljaspool iisraelimaad aga kak päeva',\n",
       " 'rgentina negara multikultur penduduknya orang-orang keturunan italia spanyol jerman wale orang timur lebanon suriah yang jiwa argentina didapati komunita yahudi terbesar amerika selatan',\n",
       " 'باراک اوباما که استفاده از سلاح شیمیایی را خط قرمز معرفی کرده بود سوریه را تهدید دخالت مستقیم کرد در واکنش این موضع گیری بشار اسد با جمع\\u200cآوری از کار انداختن نابودی تمام زرادخانه شیمیایی سوریه موافقت کرد قرار شد این برنامه زیر نظر سازمان ملل متحد سازمان منع بکارگیری تسلیحات شیمیایی انجام شود سال گذشته برنامه نابودسازی تسلیحات مهمات شیمیایی سوریه پایان رسیدبا این وجود سازمان منع بکارگیری تسلیحات شیمیایی از آن زمان تاکنون شواهدی جمع\\u200cآوری کرده\\u200cاست که نشان می\\u200cدهد در حملات نیروهای دولتی روستاهای کنترل شورشیان در سوریه در فاصله ماه\\u200cهای آوریل تا ژوئیه از مهمات شیمیایی کلر یا آمونیاک استفاده شده\\u200cاستبر اساس گزارش سالیانهٔ وزارت امور خارجه آمریکا در مورد وضعیت حقوق بشر در جهان در سال که در روز اسفند منتشر شد این واقعه که در آن هزار چهار صد نفر جان خود را از دست دادند فجیع\\u200cترین واقعه بشری در سال بوده\\u200cاست',\n",
       " 'esd incluso retirada vlade divac formado part estructura diverso clube baloncesto final convirtió president partizan belgrado aunqu debido ocupación jugador nba compatriota amigo vicepresident equipo predrag danilović hizo cargo práctica rienda escuadra ademá despué finiquitada carrera jugador pivot trabajó scout laker año',\n",
       " 'لوگان عنوان جانشین dacia که مدل رومانیایی اتومبیل رنو فرانسه بود طراحی گردید با توجه اهداف شرکت داچیا برای بازاریابی فروش در کشورهای اتحادیه اروپا بایستی طراحان اتومبیلی جادار راحت اسپورت مهمتر از آن کم هزینه طراحی میر کردند داچیا در طراحی لوگان سعی کرده غیر از در نظر گرفتن انتخاب\\u200cهای اقتصادی اتومبیلی با کیفیت بالا قابل اطمینان طراحی کند از ویژگی\\u200cهای آن می\\u200cتوان موارد زیر اشاره کرد',\n",
       " 'نیویارک ریاست کے جنوب کا بیشتر حصّہ الیگھینی سطح مرتقع پر مبنی ہے جو جنوب مشرق سے اٹھتا ہے اور کیٹسکل کی پہاڑیوں تک جاتا ہے۔ مشرقی حصہ کا سارا پانی دریائے الیگھینی کے ذریعے نکلتا ہے اس کے علاوہ سسکیوہینا اور ڈیلاویر کے دریائی سلسلہ بھی پانی کے اخراج میں مدد دیتے ہیں۔ نیویارک ریاست کا سب سے اونچا مقام مارسی پہاڑ ہے جو ایڈیرونڈاک پہاڑی سلسلہ میں واقع ہے۔',\n",
       " 'இங்கு பயன்படுத்தப்பட்டுள்ள தளவிரிப்புக் கம்பளம் உலகின் மிகப் பெரிய கம்பளம் ஆகும் ஈரானியக் கம்பள வடிவமைப்புக் கலைஞரான அலி காலிக்கி என்பவரால் வடிவமைக்கப்பட்ட இக் கம்பளம் ஈரானியக் கம்பள நிறுவனம் ஒன்றால் உற்பத்தி செய்யப்பட்டது இதன் பரப்பளவு சதுர மீட்டர்கள் சதுர அடி இதனை உற்பத்தி செய்வதில் நெசவாளர்களும் நுட்பியலாளரும் பிற தொழிலாளரும் ஈடுபட்டனர் தொன் நிறை கொண்ட இக் கம்பளத்தைச் செய்வதில் தொன் கம்பளி தொன் பருத்தி என்பன பயன்பட்டன இக் கம்பளத்தில் முடிச்சுக்கள் உள்ளதாகக் கணக்கிடப்பட்டுள்ளது',\n",
       " 'شهر کرمانشاه از کوه فرخشاد از غربی کوه بستان از جنوب سفید کوه منتهی می\\u200cشود که در قسمت مرکزی استان کرمانشاه با موقعیت درجه دقیقهٔ شرقی درجه دقیقهٔ شمالی قرار دارد دارای کیلومتر مربع گستردگی ارتفاع متر از سطح دریا است',\n",
       " 'iller utilisé comm receveur réservist équip port couleur jamai disputé parti saison fait fréquent séjour ligu mineur depui premier match joué majeur',\n",
       " 'территории астраханской области автодорога идёт пойме реки волги восточном юго-восточном южном направлениях пересекает небольшой участок калмыкии проходит мимо города нариманова заканчивается городе астрахани правом берегу волги',\n",
       " '년에는 장녀 둘째가 태어났으나 이후로 아이는 집에서 출산하고 출생신고 역시 하지 않았다 년경에는 차남 셋째가 태어났지만 병으로 사망하였고 시신 처리를 고민한 어머니는 비닐로 싸서 악취제거제와 함께 박스에 넣어 벽장에 두는 방법을 택한다 이어 년경에는 차녀 넷째가 년경에는 삼녀 다섯째가 태어나 네 아이를 두게 되었다',\n",
       " 'فكرة تقسيم العراق لثلاث دول دولة كردستان الدولة الشيعية بالجنوب الدولة السنية ظهرت الغزو الأمريكي وخلال وبعد الحرب الأهلية العراقية عارضها حارث الضاري رئيس هيئة علماء المسلمين العراق بشدة وفي نهاية عام اعلن مجلس شورى المجاهدين يضم القاعدة تأسيس اقليم سنيدولة سنية سميت بالدولة الإسلامية العراق',\n",
       " 'irçok çağdaş toplumda ail içi şiddet fiziksel seviyed krimin suç olarak değerlendirilir ekonomik duygus zihinsel sosyal ruhsal baskıların karşılığı olarak yüksek tazminat bedelleri ödemey mahkûm edilirl',\n",
       " 'kabupaten pontianak indonésien kabupaten pontianak kabupaten dindonési situé provinc kalimantan occident chef-lieu mempawah',\n",
       " 'ewi david return voyag puluwat saipan micronesian navig techniqu r finney pacif navig voyag polynesian societi',\n",
       " 'ontrair compagni théâtre baroqu cell commedia dell’art employai actric professionnel lieu fair interprét rôle féminin homm ca chez shakespear exempl sétait inspiré commedia nuit roi comédi erreur troup commedia dell’art généralement composé troi femm sept homm rich « poèt maison »',\n",
       " 'omgivningarna runt mari river växer huvudsak blandskog runt mari river glesbefolkat invånar kvadratkilomet inlandsklimat råder trakten årsmedeltemperaturen trakten °c varmast månaden augusti medeltemperaturen °c kallast februari - °c genomsnittlig årsnederbörd millimet regnigast månaden decemb genomsnitt mm nederbörd torrast maj mm nederbörd',\n",
       " 'artin joão brion madalena sousa miguel caminho ferro revisitado caminho ferro portug lisboa caminho ferro portugues página cs manut uso explícito link cs manut nome múltiplo lista autor link',\n",
       " 'منشور سازمان ملل در سال صراحتاً در پی نظام قانونمندی بود که اطمینان دهد بخش بسیار ناچیزی از درآمدها منابع اقتصادی کشورهای جنگ زده صرف تولید تسلیحات نظامی می\\u200cشود ابداع سلاح\\u200cهای هسته\\u200cای چند هفته پس از امضای منشور طرح موضوع کنترل تسلیحات خلع سلاح واقع گردید در واقع اولین قطعنامه سازمان ملل در اولین نشست مجمع عمومی در ژانویه با عنوان تأسیس کمیسیون ویژه کشف انرژی اتمی بود که خواستار ارائه راهکار جهت مقابله با توسعه سلاحهای هسته\\u200cای کلیه جنگ\\u200cافزارهای کشتار جمعی شد',\n",
       " 'alsola hoanibica amarantväxtart beskrev viktor petrovitj botjantsev salsola hoanibica ingår släktet sodaört familjen amarantväxt inga underart finn listad catalogu life',\n",
       " 'يو وخت الوتکه نه وه الوتکې لپاره کلمې لرلو اړتيا نه وه خو وروسته بيا الوتکه راغله الوتکه پېلوټ چلوله هغۀ هوايي ډگر پکار ووچې الوتکه راکوزه کړي او په دې ډول گڼو نويو مفهومونو لپاره کلمو لرلو ضرورت پېښ شو',\n",
       " 'nno iohann schweighaeuseru doctor argentoratensi maximam editionem graecolatinam quae hodiequ apud erudito honor quattuor voluminibu lipsia curavit plure manuscripto comparavit versionem latinam gelenii emendavit',\n",
       " 'مفتی منیب الرحمان قاری احمد رضا سیالوی حافظ محمد عبد الستار سعیدی خادم حسین رضوی مفتی محمد رمضان سیالوی خطیب جامع مسجدحضرت داتا گنج بخش اور پیر سید محمد عثمان بخاری وغیرہ۔',\n",
       " 'film introduc romanc involv wyatt earp fiction charact base lotti deno play factor actual gunfight advanc film plot',\n",
       " 'クラクフ、パリ、ブレスラウ（現在のポーランド領ドルヌィ・シロンスク県ヴロツワフ）で教育を受けた。年にガリツィア王国議会議員となり、年に終身の帝国貴族院議員となった。クラクフ政界における保守派の若手指導者であり、特に東ガリツィアの保守派閥（podolacy）に支持基盤を持っていた。ポトツキは経済関係の活動に熱心で、年のガリツィア全国ストライキの主導者であったほか、クラクフ農業経営者協会の会長やクラクフの勧業銀行の社長を務めた。ルドルフ皇太子の友人の人でもあった。',\n",
       " 'izan egemenliği dönemind i̇talyada katolik kilisesi ortaya çıktı i̇talyadaki otorit boşluğunı doldurarak sadec açısından değil siyasi açıdan etkin kurum halin geldi papalar cermen ulusu frankları yöneten karolenj hanedanıyla işbirliği yaparak kendilerini lombardlardan korumaya çalıştılar yılında lombardlar güney inerek ravennayı geçirdil papa franklardan yardım istedi franklar lombardları yenerek orta i̇talyayı papaya geri verdil böylec roma kenti civarında bağımsız papalık devleti kurulmuş yılında franklar lombardların i̇talyadaki egemenliğin tamamen vererek i̇talyayı kendilerin bağladılar frankların kralı şarlman yılında papanın elinden taç giyerek roma i̇mparatoru ilan edildi şarlmanın yılındaki ölümüne geçen süre boyunca günümüzdeki i̇talya almanya fransa toprakları karolenj i̇mparatorluğunun bayrağı altında birleşmiş',\n",
       " 'فلم ایئرلفٹ کی موسیقی امال ملک اور انکیت تیواری نے ترتیب دی جب کہ کمار نے بول لکھے۔ ’’سوچ نہ سکے‘‘ فلم کا پہلا گیت تھا جسے ٹی سیریز کے باضابطہ یوٹیوب چینل پر دسمبر کو جاری کیا گیا۔ گیتوں پر مشتمل مکمل نغماتی البم دسمبر کو جاری ہوا۔ فلمی گیتوں کے حقوق ٹی سیریز نے حاصل کیے۔',\n",
       " 'lementa maximi momenti victu rationibu plurimorum psittaciformium semina nuce fructu gemma alia plantarum nonnulla speci animalia cadavera aliquando edunt psittaciform tribu loriinorum nectar florum fructibu vescuntur paen omn psittaciform nido cavi arbori faciunt ova alba pariunt quibu excludunt iuven altricial',\n",
       " 'یواس\\u200cاس اینترپید انگلیسی intrepid یک کشتی بود که طول آن فوت اینچ ٫ متر بود این کشتی در سال ساخته شد',\n",
       " 'родился ноября года серболужицкой рабочей семье деревне небельшицы начальной школы года год обучался гимназии чешской деревне богосудов время обучения членом сербовки занимался изданием студенческого журнала «gmejska heja» года рабочим начала второй мировой войны призван армию погиб году восточном фронте возрасте лет',\n",
       " 'ilitari strength term describ quantif refer nation stand militari forc capac fulfil militari role militari strength countri interpret number individu arm forc destruct potenti arsen china india maintain largest arm forc world militari consid world strongest certainti claim ascertain detail analysi oppos militari forc relat take account field battl tactic conflict uk israel describ train oper militari world',\n",
       " 'site indicado prêmio toddi música independent categoria \"veículo online\" oferecido revista dynamit patrocínio toddi ficou º lugar site indicado prêmio dynamit música independent oferecido revista dynamit',\n",
       " 'ولقد حوى الكتاب الكثير الأخبار المكذوبة الكثير العلماء والفقهاء ومنهم العلامة الشاعر وليد الأعظمي كتابهِ السيف اليماني نحر الأصفهاني وبين زيف أكاذيبه وبطلان أدعاءه ويدرس كتاب الأغاني كثير الدول العربية كمصدر مصادر التراث يحوي القصص الكاذبة والخرافية الخلفاء العرب والمسلمين',\n",
       " 'situează zona județului timiș km sud municipiul lugoj drumul județean dj sud oloșag același drum județean găseșt centrul comună satul știuca km',\n",
       " '東京都立大学法学部法律学科卒業。東京大学大学院法学政治学研究科修士課程修了。年埼玉県入庁（県民部県民総務課調査係）、北埼玉郡大利根町企画財政課長（県派遣）、総合政策部計画調整課主査（計画フレーム担当）、健康福祉部社会福祉課地域福祉担当主査、県立精神医療センター・精神保健福祉センター総務職員担当主幹、年城西大学経営学部マネジメント総合学科助教授。',\n",
       " 'rotopolybia rotundata getingart beskrev adolpho duck protopolybia rotundata ingår släktet protopolybia familjen getingar inga underart finn listad catalogu life',\n",
       " 'cest rezultat corolar teoremei gelfond–schneider\\u2060d afirmă α algebr și diferit și β algebr și irațion αβ transcend funcția x înlocuită cx algebr diferit și într-adevăr',\n",
       " 'ibidang kesenian tanah paguntaka terken tari jepen yang tari asli daerah hadrah tari-tari tradision yang beras daerah dunia musik perkembangan musik tradision modern kemajuan yang',\n",
       " 'رشته اصلی زینب ساسانیان در مسابقات دوچرخه سواری رشته استقامت تایم تریل انفرادی بانوان بود که از سال بصورت حرفه\\u200cای وارد آن شده بود در اردوهای تیم ملی بانوان در چند سال اخیر حضور مستمر داشت چندین دوره نیز قهرمان کشوری در این دو رشته مورد علاقه اش شده بود وی دارنده مدال نقره برنز دوچرخه سواری ایران بودزینب عضو تیم ملی دوچرخه سواری بود در مسابقات قهرمانی آسیا تیم ملی زیر سال را همراهی کرد وی در مسابقات قهرمانی کشور مدال نقره برنز را خود اختصاص داده بود',\n",
       " 'هني او منگلو تر وتلو وروسته دغو خلکو خپل پير پر لار ښوونه بنو سيمه په خپلو مينځو کې په دې ډول سره وويشله چې کيوي مشر ځوی او دې يې سهيلي بر خه چې اوس په مير مشهوره ده ککي تر ختيزو بر خو پورې چې په هغه وخت کې ابا ده وه ورکړه دکيوي دويم زوی سمي يې په مينځ کې تر پورې ځمکې او سو راڼې او لادې کو رمې رود تهل پورې سيمې ور کړل شوې',\n",
       " 'rganismi kõik geenid annavad kokku genoomi genoom ühe kromosoomikomplekti haploidn kromosoomistik sisalduv geneetilin materj populatsioonigeneetika kasutataks \"geeni\" sünonüümina sage mõistet looku looku kromosoomi kindel regioon ku asub mingi spetsiifilin kromosoom sisaldab üksikut väga pikka dna heeliksit ku tuhand geenid kodeeritud prokarüoodid – bakterid arh – tavaliselt hoiavad oma geen ühe suur tsirkulaars kromosoomi mõnikord täiendavad neid plasmiidid – väikes tsirkulaars dna ahelad kodeerivad ainult mõnda geeni kergesti ülekantavad ühelt organismilt teisel näitek antibiootikumiresistents geenid kodeeritaks tavaliselt bakterit plasmiidid antaks edasi rakult rakul ning seda isegi erinev organismid vahel ehk toimub horisontaaln geeni ülekann kuigi mõned lihtsamad eukarüoodid omavad samuti mõne geeniga plasmiid siiski enamikul eukarüootidel geenid talletamisek olema lineaars kromosoomid kromosoomid pakitud tuuma ku dna komplekti histoonidega dna pakkimin histoonidega viiaks läbi regulatoorset mehhanismidega eukrüootset kromosoomid lõpud kapeeritud pikkad kordusjärjestust poolt millek telomeerid telomeerid kodeeri ühtki geeni produkti vajalikud degradatsiooni ennet',\n",
       " 'сентябре года начались работы реконструкции участка — км строительством обхода изосимово тамбовская обл работы планируется завершить году',\n",
       " '戈尔巴乔夫現居於莫斯科。在羅納德·里根逝世後，他代表俄羅斯出席他的葬禮。他也曾聯同葉利欽批評普京對車臣的武力政策和態度偏離了民主。戈尔巴乔夫本人则在年月日接受英国《每日电讯报》采访时，反击美国对普京演讲的指责，称美国领导人的承诺不可信，又在同年月日接受西班牙埃菲社采访时称西方企图孤立俄罗斯。除了时不时发表些政治观点意见外，年时因为他存款的银行破产，为了给它的基金会补充资金，他还十分时髦地为必胜客和lv皮包拍摄了广告。其中为lv拍摄的广告中，他穿着细条纹西服和大衣，坐在汽车的后排，握着车门把手，在他的身旁放着一个路易·威登的行李包。透过车窗，他看到的是破败的柏林墙。从月份开始，这组广告就作为年路易威登集团秋冬季推广活动的一部分，陆续出现在各大时尚和财经类的报刊杂志上。引起了广泛讨论。',\n",
       " 'maken feit verleid aanwezig machtsinstrumenten misbruiken zodoend voordelen behalen materiël financiël voordelen immateriël voordelen zoal seksuel gunsten direct behaald toepass macht bijvoorbeeld dictat kiescommissi benoemt prompt stemmen winnaar verkiezingen uitroept betal verstrek giften behulp macht voordelen verschaffen bijvoorbeeld onderwijz leerl go rapport geeft royal gift dien vader geval machthebb corrupt geworden beslissingen ingegeven algemeen belang eigen voordeel uiteindelijk schadelijk economi rechtszekerheid',\n",
       " 'westen top ligt passo portella waarov belangrijkst wandelrout gebergt voert vormt verbind tussen hoogvlakt campo pericoli vallon portella ten oosten top ligt berghut rifugio abruzzi dateert',\n",
       " 'criado cardeal-presbítero consistório dezembro entrou roma partir legação germânia fevereiro recebeu chapéu vermelho consistório público fevereiro recebeu título clement março papa pio nomeou núncio later marca ancona setembro ocupando cargo mort abad commendatario mosteiro abbondio',\n",
       " 'aeródromo braga código iata bgz código oaci lpbr surgiu atravé progressiva transformaçõ antigo campo lavoura bouça freguesia palmeira designado \"campo aviação\" nome ainda reconhecido actual aeródromo inaugurado junho aterragem dum avião militar monomotor \"junker -f\" pilotado capitão amado cunha',\n",
       " 'جولائی میں عبداللہ بن حسین جوکہ حسین بن علی شریف مکّہ غدار کا غدار بیٹا تھا۔جس کو ایک فلسطینی مسلمان نے مسجد اقصیٰ میں جمعہ کی نماز کے دوران گولیوں سے بھون کر ہلاک کرڈالا۔',\n",
       " 'lana salama ortar reçu prix art visuel loteri israélienn prix ministèr léducat israël art visuel travail soutenu autr collèg académiqu safe marseil provenc ateli euro-méditerrané centr intern création format art électroniqu lécole beaux art marseil cité international art pari fondat beaumarchai',\n",
       " 'биографија епископот полошко-кумановски местобљустител дебарско-кичевски г јоаким јовчески официальном сайте охридской архиепископии',\n",
       " 'یوں تو ملت تشیع نے قیام پاکستان کے انفرادی سطح پر اس ملک کی ترقی میں بڑھ چڑھ کر حصہ لیا اور جزوی طور پرتشیع اور مذہب جعفریہ کو در پیش مسائل کے حل کے لئےبھر پور سعی کی۔مختلف تنظیموں انجمنوں شیعہ کانفرنس اور ادارہ تحفظ حقوق شیعہ پاکستان وغیرہ کے نام سے کوششیں ہوتی رہیں۔اس کے مرحوم علامہ سید محمد دہلوی کی قیادت میں شیعہ مطالبات کمیٹی کا وجود عمل میں آیا۔لیکن آپریل سے باقاعدہ جماعتی سطح پر منظم انداز میں قائد ملت جعفریہ علامہ مفتی جعفر حسین مرحوم کی قیادت میں کا کا آغاز کیا۔',\n",
       " 'ebordosa stad noorden portug gelegen tâmega subregio stad ligt ongev km ten oosten porto rebordosa oppervlakt km² ruim inwon stad maakt deel gemeent pared samen pared gandra sao salvador lordelo rebordosa gelegen centrum portuges meubelindustri',\n",
       " 'februari idw publish announc partnership cartoon network produc comic book issu base properti gener rex titl announc publish',\n",
       " '刑法上の犯罪に対しては、クニャージ・スード（直訳：クニャージの裁判・法廷）と呼ばれる、クニャージの代理人により執行される裁判の実施が規定されていた。事件の解決のために、この裁判で対決できる権利、当事者には平等に事件の経過について述べることができる権利が規定されていた。また、支払い無能力者から負債分を回収する手順に関する規定があった。',\n",
       " 'ساختمان ستاد فعلی سازمان در نیویورک طی سالهای درکنار ایست ریور شده\\u200cاست زمین این ملک را جان دی راکفلر جونیوربه قیمت میلیون دلار خریداری کرد فرزندش نلسون راکفلر را بعنوان مشاور عالی سازنده در سال منصوب کرد آنرا سازمان ملل اهدا نمود',\n",
       " 'ایسٹ آف ففٹی آبشار انگریزیeast fifti fall آبشار ہے جو ہیملٹن انٹاریو کینیڈا میں واقع ہے اس کے مقام بہاؤ کی مجموعی بلندی میٹر فٹ ہے۔',\n",
       " 'obra “explain crimin careers” consist estudo teórico empírico acerca construção carreira crimin modo produzir profundo abrangent conhecimento acerca transgressor assim conhecimento adquirido poderá utilizado modo estruturar política pública combat crime forma racion',\n",
       " 'ith nation team play world cup qualifi australia iraq finish host asian cup thailand iran olymp qualifi dougla import part iraqi armi team cism world militari championship',\n",
       " 'iremont commun francicum incolarum anno praefectura garunna superiori region australi meridiano pyrenaei ianuarii occitania ruscinon meridiano pyrenaei',\n",
       " 'द्वितीय विश्व युद्ध अंत तक मोम सिलेंडर रिकॉर्डिंग इस्तेमाल किया जाता था लेकिन में डिक्टाफोन ने डिक्टाबेल्ट प्रौद्योगिकी की शुरूआत की जिसमें मोम सिलेंडर बजाए प्लास्टिक की बेल्ट में यांत्रिक नली होती थी। बाद में इसे चुंबकीय ध्वनि रिकॉर्डिंग द्वारा परिवर्तित किया गया जिसे तक बेचा गया था। चुंबकीय टेप रिकार्डर की शुरूआत सत्तर दशक अंत में हुई शुरूआत में \"सी\" स्तर कैसेट उपयोग किया गया मूल से फिलिप्स द्वारा विकसित और संगीत कैसेट लिए वास्तविक मानक इसके बाद जल्दी ही मिनी कैसेट रिकार्डर इसे भी फिलिप्स द्वारा विकसित किया गया लेकिन श्रुतलेख उद्योग लिए माइक्रो कैसेट श्रुतलेख बाजार लिए ओलिंपस द्वारा विकसित किया गया उपयोग जारी किया गया। पहली बार जापान में जेवीसी द्वारा इस उपकरण निर्माण किया गया लेकिन इसका डिजाइन और विकास डिक्टाफोन द्वारा किया गया था। कैसेट आकार महत्वपूर्ण था क्योंकि यह निर्माता पोर्टेबल रिकार्डर आकार कम करने लिए सक्षम बनाता था लोकप्रिय रहा था। बाद में डिक्टाफोन ने में जारी हुए पिको कैसेट जेविसी मिलकर विकसित किया। यह छोटा था लेकिन फिर भी इसमें अच्छा रिकॉर्डिंग और गुण था।',\n",
       " 'lexandru segal sólo doce año edad clasificó jugador ajedrez clase mundial rumania convirtiéndos campeón juventud despué europeo sub- ganado campeón universitario participó final nacional representó brasil vario evento internacional ganó gran maestro alemán robert hübner señaló gran maestro húngaro zoltán ribli ganador interzon palma',\n",
       " '火箭军遵守国家不首先使用核武器政策，贯彻自卫防御核战略，严格执行中央军委命令，以保证国家免受外来核攻击为基本使命。火箭军所属导弹核武器，平时不瞄准任何国家；在国家受到核威胁时，核导弹部队将提升戒备状态，做好核反击准备，慑止敌人对中国使用核武器；在国家遭受核袭击时，使用导弹核武器，独立或联合其他军种核力量，对敌实施坚决反击。火箭军常规导弹部队主要担负对敌战略战役重要目标实施中远程精确打击任务。',\n",
       " 'ichel debré né janvier arrondiss pari mort août montlouis-sur-loir homm détat françai notam premier premier ministr républiqu considéré comm l’un « baron gaullism »',\n",
       " '年月日，行政院會通過勞基法部分條文修正草案，賴清德表示一例一休實施以來「企業反映經營困難」，勞工也喪失加班機會，政府面對這些問題不該繼續視而不見，秉持蔡英文總統「既保障勞工權益，也給予資方經營彈性」的指示進行修法。賴清德指出修法的兩重點「四個不變」（正常工時不變、週休二日不變、加班總工時不變、加班費率不變）、「四個彈性」（加班彈性、排班彈性、輪班間區隔彈性、特休運用彈性）。',\n",
       " 'ide etiam salami discretivasalami -īni f graec σαλαμίς neograec σαλαμίνα insula demu graecia cuiu locu mediu oppidum eiusdem nomini salami insula saronica pertinet quoad administrationem par regionali insularum unitati region attica nomen \"salamis\" credeb antiqui nympha salamin derivatum quam deu poseidon huc rapuit genuit cychreum conditorem urbi salamini',\n",
       " 'سانچہقرآن-سورہ آیت ۔۔۔* فَلَمَّا اسْتَيْأَسُواْ مِنْهُ خَلَصُواْ نَجِيًّا قَالَ كَبِيرُهُمْ أَلَمْ تَعْلَمُواْ أَنَّ أَبَاكُمْ قَدْ أَخَذَ عَلَيْكُم مَّوْثِقًا مِّنَ اللّهِ وَمِن قَبْلُ مَا فَرَّطتُمْ فِي يُوسُفَ فَلَنْ أَبْرَحَ الأَرْضَ حَتَّىَ يَأْذَنَ لِي أَبِي أَوْ يَحْكُمَ اللَّهُ لِي وَهُوَ خَيْرُ الْحَاكِمِينَ',\n",
       " '索拉雅（soraya），年轻的阿富汗裔女性，在美国与阿米尔相识，成为他的妻子。胡赛尼在最初的创作中将她塑造为一位美国女性，后来在编辑的建议下把她的身份改成了阿富汗移民，以确保整个故事的可信度，小说的第三部分也因此作出了相应的修改。在小说的最终定稿的情节中，索拉雅是阿富汗将军塔赫里的女儿，和父母一同居住在美国，希望成为一名英文教师。在遇到阿米尔之前，她曾在弗吉尼亚州和自己的阿富汗男友私奔。按照阿富汗传统，她因此成为不清白的女人，也没有人愿意和她结婚。而她向阿米尔坦白这段历史之后，阿米尔自认为自己也有不光彩的历史，没有权利指责她，仍然继续爱着她，最终二人结为夫妻。',\n",
       " 'subkomit mengadakan sidang dengar pendapat kongr ke- yang membaha perubahan iklim global hear state climat chang scienc find fourth assess report intergovernment panel climat chang ipcc work group report melibatkan ilmuwan iklim yang menuli laporan penilaian intergovernment panel climat chang ipcc sidang dipimpin ketua dpr nanci pelosi',\n",
       " 'மணல் நெகிழி சிப்பி சாந்து மற்றும் மெழுகு வார்ப் படங்கள் இழத்தகு அச்சு வார்ப்படம் என்ற பொதுப்பிரிவினுள் அடங்குகின்றன இவ்வகை வார்ப்படங்கள் தற்காலிகமானவை மற்றும் மறு பயன்பாட்டிற்கு இயலாதவைகளாக உள்ளன',\n",
       " 'trakten råder hett ökenklimat årsmedeltemperaturen trakten °c varmast månaden juli medeltemperaturen °c kallast decemb °c genomsnittlig årsnederbörd millimet regnigast månaden novemb genomsnitt mm nederbörd torrast juni mm nederbörd',\n",
       " 'ในปัจจุบัน รูปแบบบริสุทธิ์ของประชาธิปไตยโดยตรงมีอยู่เพียงแค่ในแคนทอนอัพเพินท์เซลล์อินเนอร์โรเดิน appenzel innerrhoden และแคนทอนกลารุส แห่งประเทศสวิตเซอร์แลนด์ เทียบกับสมาพันธรัฐสวิสโดยรวมที่เป็นประชาธิปไตยกึ่งโดยตรง คือเป็นประชาธิปไตยแบบมีผู้แทนที่มีกลไกทางประชาธิปไตยโดยตรงที่เข้มแข็ง ความเป็นประชาธิปไตยโดยตรงของประเทศ จะบูรณาการด้วยโครงสร้างแบบสหพันธรัฐของรัฐบาลกลาง เยอรมัน subsidiaritätsprinzip เทียบกับประเทศตะวันตกโดยมากที่เป็นระบอบประชาธิปไตยแบบมีผู้แทน',\n",
       " 'ormer deathwish profession antwuan dixon imprison mid- state juli thrasher magazin interview—conduct reynold ellington—that schedul releas august dixon explain releas earlier',\n",
       " 'タロット占い師をしている濱口優の弟・濱口善幸がイツザイsの番組自体やレギュラーメンバーの年を占うという企画。スタート以来レギュラーで放送中。月日以降は毎週、ゲストの占いを放送するようになった（以下はこのコーナーのゲスト一覧）。月日からの『めちゃイケてるッ コラボsp』（後述）ではこのコーナーをメインに放送していた。また、ほぼこのコーナーのみを分間放送することもあった。',\n",
       " 'melik aziz osman yine ordusuyla suriyey kardeşin efdala hücum etmek sefer koyuldu fakat kendini arabulucu olarak gören adil yine kardeş arasına girdi mısırdan gelen ordunun komutanları emirleri malik aziz osmanın emirlerini dinlememek ordudan ayrılmalarına teşvik etti böylec ordusu zayıflayan melik aziz osman yine mısıra çekildi',\n",
       " 'uamquam carmina sapphu temporibu antiqui admirationi fuerunt maxima eorum par nunc perdita reliqua miser mutilata tantum nostram aetatem delata nihilominu sappho laud caret',\n",
       " 'ilsa inter anno castrum ordin sancta maria teutonicorum condita anno iu urbi accepit inter bellum septem annorum - anno brevi tempor anno militibu russici expugnata sed vix deleta diebu iulii hic alexand i´ imper russia napoleo imper francorum atqu fridericu gulielmu iii rex borussia pacem tilsa signaverunt qua bellum quartum coalitionum finitum bello orbi terrarum aprili aeroplani sovietici gravit deleta ianuarii expugnata eodem anno potestampii victor belli decreverunt tilsa borussia orientali septentrionali russia administrabatur anno sovetsk nominata incola theodisci expulsi russici alii regionibu urbem translati post finem unioni sovietica anno regio kaliningradensi nec sovetsk quae antea peregrini interdicta erat nunc peregrini aperiebatur',\n",
       " '이 예언자는 디아블로 시리즈로 따지면 데커드 케인과 비슷하다고 할 수 있으며 한때 스톰윈드의 마법사이자 위대한 학자였다 아버지는 스톰윈드 귀족인 니엘라스 알렌이며 어머니는 대륙의 수호자였던 마그나 에이그윈이다 에이그윈이 불타는 군단의 살게라스를 제거하는 과정에서 살게라스의 영혼이 에이그윈의 태내에 들어가고 에이그윈이 메디브를 낳으면서 메디브의 몸 속에 살게라스의 영혼이 잠복한다 메디브가 어느 정도 성숙한 정신을 가질 정도로 성인이 되자 곧바로 살게라스는 메디브의 정신을 장악하고 병든 니엘라스를 죽이고 슬픔의 늪에 어둠의 관문을 세워 워크래프트 의 시작인 차 대전쟁을 일으킨다',\n",
       " 'atenția dietă și fizic acordat mare atenți și echipamentului joc sezonul - blackpool încheiat înțeleger sponsorizar co-op insistat poart perech ghete ușoară le-a descoperit jucând campionatul mondial și vreme găseau cumpărat anglia purtat ghete personaliz retrager deși nevoit schimb sezon fiind fragil',\n",
       " 'raditiegetrouw olympisch spelen olympisch vlam vanuit olympia griekenland londen overgebracht gebruiken toort juni gepresenteerd cm gram wegend gouden fakkel doorboord gaatj gaatj symboliseerden personen toort olympia olympisch stadion londen zullen overbrengen toort aangestoken olympia kwam dagen groot-brittannië land daarvandaan startt dagen durend rout groot-brittannië dag openingsceremoni londen eindigd',\n",
       " 'erälä produceert muziek label rephlex record muziek geschaard elektronisch muziek experimenteel karakt perälä gewoond michigan uitwisselingsstud nadat stapel demo rephlex record gestuurd beloond platencontract sindsdien bekend genr \"intellig danc music\"',\n",
       " 'economía fundamentalment agrícola cierto desarrollo industri ciudad san cristóbal mantien central azucarero activo noviembr recientement iniciado éxito cultivo producción vino partir uva cosechada cuba marca \"bodega san cristóbal\"[]\\u200b[]\\u200b',\n",
       " 'onform recensământului majoritatea populației localității zavadka vorbitoar ucraineană existând minorit și vorbitori limbi',\n",
       " '이른바 원시 시나이 문자는 년에서 년 사이의 겨울에 시나이 반도에서 flinder petri 부부가 발견했다 기원전 세기부터 세기의 것으로 여겨지는 다양한 짧은 원시 가나안 문자 각문이 가나안에서 발견됐다 년에 enjohn darnell와 endeborah darnell가 중부 이집트에서 이른바 wadi el-hol script를 발견했다 기원전 세기에서 기원전 세기 무렵의 것으로 추정된다',\n",
       " 'مېبېندازول په انگرېزي mebendazol يو بېنزيميدازول درمل دی چې جانسن فارمسۍ شرکت لخوا وېرموکس اووېکس انټي اوکس او پريپسېن سوداگريزو نومونو جوړېږي دا درمل جينجيانو ناروغيو په درملنه کې کارېږي چې په دغو کې ستن وزمه چينجيانو گردي چينجيانو اوږده چينجيانو چنگک وزمه چينجيانو او قمچين وزمه چينجيانو ناروغيو درملنې شاملې دي',\n",
       " '他是刘渊妻子呼延氏的兄弟，大司空呼延翼的之子。西晋永安元年（年），他和右贤王刘宣等人密谋乘司马氏八王之乱，推举刘渊起兵，为大单于。奉命到邺城告知刘渊。建立汉国後，任宗正。因为他没有才行，不为刘渊重用，终身没有升职。河瑞二年（年），刘渊临终，因为没有受遗诏顾命，有怨恨。为巩固外甥刘和的皇帝之位，想要剪除他的异母兄弟：齐王刘裕、鲁王刘隆、北海王刘乂、楚王刘聪，引兵杀死刘裕、刘隆，后来被刘聪擒杀。',\n",
       " 'ina dobrev hikâyenin ana kahramanı elena gilbert sezon finalind vampir dönüşmüştür nina dobrev aynı dizid ikiden fazla karakteri canlandırmıştır amara tatia katherin pierc elena gilbert hikâyenin kötü karakterlerinden katherin pierceı katerina petrova olarak bilinir canlandırır sezonun finalind uyku lanetin maruz kalır bonni öldüğü zaman elena uyanacaktır elena kendini birçok doğaüstü olayın ortasında bulur paul wesley salvator kardeşlerden iyi kalpli sevecen stefan salvatoreu canlandırır ağabeyi çapkın vampir damon salvatoreu ian somerhald canlandırmaktadır damon salvator serinin sonlarına doğru duygus düşünceli taraflarını göstermey başlamıştır',\n",
       " 'شربرم جسے بھی کہا جاتا ہے گلگت بلتستان کے ضلع گانچھے میں واقع ہے یہ میٹر بلند ہے یہ دنیا کا واں بلند ترین جبکہ پاکستان کا نواں بلند ترین پہاڑ ہے اس پہاڑ کو قراقرم میں سب سے پہلے دریافت کیا گیا۔',\n",
       " 'orvath agn bjørn thomassen wydra introduct limin cultur chang intern polit anthropolog -',\n",
       " '«concepción moral torres» índice internacion nombr planta ipni real jardín botánico kew herbario universidad harvard herbario nacion australiano ed',\n",
       " 'angal jiwan villag nakodar jalandhar district punjab state india locat kilometr nakodar kilometr kapurthala kilometr district headquart jalandhar kilometr state capit chandigarh villag administr sarpanch elect repres villag panchayati raj india',\n",
       " 'linda município integrant grand recif consórcio transport metropolitano empresa fiscaliza transport público ônibu região metropolitana recif município possui operação terminai ônibu integrado possuem área coberta lanchonet sanitário terminai passageiro têm possibilidad trocar linha pagamento nova tarifa',\n",
       " 'ând partidul comunist chinez reușit înfrângă urmă kuomintangul războiul civil china mulți observatori occidentali crezut sprijinul oferit stalin comuniștilor chinezi transforma republica populară chineză într-un stat marionetă sovieticilor ruptura chino-sovietică pu capăt prejudecăților occidentalilor china s-a dovedit puter independentă i-a permi președintelui american richard nixon profit urma disensiunilor chino-sovietic și deschidă calea normalizării relațiilor americano-chinez nixon vizitat china și s-a întâlnit liderul chinez mao zedong vedeți și diplomația ping-pong',\n",
       " 'concepto hinduísta-budista chakravartin perfecta ilustración concepto monarquía universal[]\\u200b[]\\u200b rueda gira detenga simbolizando goberant univers ideal sarvabhauma gobierna ética benevolentement mundo entero',\n",
       " 'uce peliharaan kuce rumah salah predat terhebat dunia kuce membunuh memakan ribu spesi kuce ukurannya yang kuce berbahaya manusia satu-satunya bahaya yang timbul infeksi rabi akibat gigitan kuce cakaran kuku kuce yang perih menyakitkan kuce berakibat fatal ekosistem yang tinggal alaminya kuce berperan menyebabkan kepunahan kuce menyergap melumpuhkan mangsa yang singa harimau menggigit leher mangsa gigi tare yang tajam melukai saraf tulang menyebabkan mangsa kehabisan napa merusak tenggorokan',\n",
       " 'errängen runt cheshmeh rūbāh lite kuperad sluttar österut högsta punkten närheten meter havet km norr cheshmeh rūbāh runt cheshmeh rūbāh ganska tätbefolkat invånar kvadratkilomet närmast större samhäll gīlaklū km sydost cheshmeh rūbāh trakten runt cheshmeh rūbāh består huvudsak gräsmarker trakten runt cheshmeh rūbāh finn ovanligt många namngivna dalar',\n",
       " '貸切車同様ベース車は観光バスであるが、列シート（昼行：列、一部は列独立）であることと、トイレならびにサービススペース（湯茶コーナー）を備えていることが、貸切車との大きな違いである。また、年（平成年）以降に導入された車両はリアスポイラーを、年（平成年）以降に導入された車両は車間距離警報装置（トラフィックアイ）を、更に年（平成年）以降に導入された車両は側面及び後面の字幕式行先表示器を装備し、外観上も貸切用、空港連絡用との差別化を図っている。また、全車ともetcを装備している。ただし、車両によっては列シートであったり、トイレの設置がない車両もある。なお、コスト削減により年（平成年）月末をもって湯茶サービスは全路線とも廃止となった。',\n",
       " 'เทศบาลตำบลระแหง อยู่ห่างจากกรุงเทพมหานคร ทางทิศตะวันตกเฉียงเหนือ ตามถนนพหลโยธินเป็นระยะทางประมาณ กิโลเมตร ห่างจากตัวจังหวัดประมาณ กิโลเมตร',\n",
       " 'gemeentelijk herindel aantal inwon neuenheim nieuw stadtteil heidelberg for toe oud johanneskerk marktplein neuenheim snel klein uitbreid oud kerk gepland ten slott besloot nieuwbouw grote kerk buiten oud dorpskern',\n",
       " 'プラモデルや関連グッズ、同時期にメディアミックスで展開された『機動戦士ガンダムseed astray』や『ガンダムse msv』も人気を博した。年に東京アニメアワードでアニメーションオブザイヤーとテレビ部門の優秀作品賞の冠を受賞している。また、角川書店の『月刊ニュータイプ』年月号で応募・集計された「最新最強ベストアニメ」では、『機動戦士ガンダムseed destiny』と共に第位に選ばれた。一方、一部に性的・残虐な描写があり、ベッドシーンを匂わせるシーンについてbpoに一度回答を求められたことがある。放送前は吉野弘幸の弁によると「ガンダムは終わったコンテンツ扱い」されていたようで、∀ガンダムまでのコミカライズを担当していたコミックボンボンから断られたが番組の好評を受け急遽連載開始された経緯をもつ。',\n",
       " 'entrala staden ingår medeltida stadskärnan låg gamla stadsvallen samt revingelyckan margreted spoletorp plantagelyckan',\n",
       " 'einemann sidu sell käitumis rassismiga liigita agressioonik jaok “mobbing” kõik-üh vastu käitumisvii hilisemak sünonüümik grupivägivald',\n",
       " 'كانت كرة السلة أبرز أحداث أولمبياد برشلونة سمح للمحترفين بالمشاركة فسابقا كانت تقتصر المشاركة لاعبين دوري الجامعات الأميركي آخرين يلعبون أوروبا فكان وفد الولايات المتحدة فريقاً محترفاُ ضم نجوم الحقبة باتريك ايوينغ وشارلز باركلي واستطاع الفريق سحق منافسيه بسهولة بمعدل فارق بلغ نقطة مباريات وتغلب الأميركيون النهائي كرواتيا - وصنفته الصحافة الرياضية كأعظم فريق كرة سلة تاريخ الدورات الأولمبية',\n",
       " 'erek babasının gereks öbür siyas danışmanlarının kesinlikl karşı çıkmasına karşın metresi dul draga mašin evleneceğini açıklayınca aleksandarın saygınlığı azaldı önce bohemyalı mühendisl evli draga mašin aleksandarın annesinin nedimesiydi aleksandardan yaş büyüktü pek iyi ünü yoktu kararı protesto etmek üzere aleksandarın kabinesindeki bakanların tümü istifa etti',\n",
       " 'person dessutom bara tre stycken kvinnor resterand tio person män jurykonstel bestått minst kvinnlig medlem säsong programmet sänd könsfördelningen juryn jämställd två fyra jurymedlemmar kvinnor',\n",
       " 'fter ytterligar stark säsong fick bellemar återigen lyfta mat-pokalen skellefteå aik första lag år försvarad sm-guld bellemar nio mål slutspelet näst bästa målskytt bara lagkamraten jimmi ericsson framför tolv fullträffar vm minsk bellemar frankrik bästa spelar juni skrev bellemar kontrakt nhl-klubben philadelphia flyer',\n",
       " 'обобщение распространение рамках своей компетенции статистической информации экономической социальной демографической экологической иных сферах',\n",
       " 'यह प्राचीन शहर दक्षिण भोपाल से किमी की दूरी पर स्थित है। यह शहर भगवान शिव समर्पित भोजेश्\\u200dवर मंदिर लिए प्रसिद्ध है। इस मंदिर सोमनाथ भी कहा जाता है। भोपाल से किलोमीटर दूर स्थित भोजपुर की स्थापना गुर्जर परमार वंश राजा भोज ने की थी। इसीलिए यह स्थान भोजपुर नाम से चर्चित है। इस प्राचीन नगर उत्तर भारत सोमनाथ कहा जाता है। यह स्थान भगवान शिव शानदार मंदिर और साईक्लोपियन बांध लिए जाना जाता है। यहां भोजेश्\\u200dवर मंदिर की सुंदर सजावट की गई है। मंदिर ऊंचे चबूतरे पर बना है जिसके गर्भगृह में साढे मीटर लंबा शिवलिंग स्थापित है। इसे भारत सबसे विशाल शिवलिंगों में शुमार किया जाता है।',\n",
       " 'oa kuno pemberkatan anak domba ditemukan buku ritual abad ketujuh biara benediktin bobbio italia ratu roma mempergunakannya berabad-abad menu utama santap malam pau raya paskah anak domba panggang abad kesepuluh ganti anak domba utuh disajikan potongan-potongan dage yang',\n",
       " 'ntre - - phase qualif permet retenir équip disput seizièm final équip disput huitièm final établissait tableau rencontr fonction classement équip pendant phase qualif premier classé rencontr dernier qualifié l’avant dernier qualif tour suivant faisait général seul match',\n",
       " 'nno oldenburgensi hunc agrum expugnavit anni haec regio par dania fuit anno vici hodierni communi ducibu magni oldenburgensibu recti anno oldenburgum publica facta anno vici supra dicti par novi circuli alluvioni visurgensi facti anno saxoniam inferiorem pertin anno tandem vici supra dicti commun novum stadland coniuncti',\n",
       " '허리케인 이오케는 북중태평양에서 생긴 사피어-심프슨 허리케인 등급 제등급인 태풍 개 중 하나였으며 중심기압인 hpa는 년에 북중태평양에서 발생한 허리케인 존을 능가하는 수치였다 허리케인 이오케는 풍속 kmh가 넘는 속력을 연속적으로 시간동안 유지하였다 이 수치는 지구상에서 생긴 모든 허리케인과 태풍 사이클론을 통틀어서 가장 긴 수치이다 또한 허리케인태풍 이오케는 슈퍼태풍의 세력을 연속적으로 시간동안 유지해 이것도 기록으로 남게 되었다',\n",
       " 'длина тела мм жгутик усика самок состоит — члеников основная окраска чёрная конечности светлее брюшко красноватое клипеус плоский внутренние края глаз несут орнамент виде глубокого выреза напротив основания усиков зеркальцо переднего крыла большое середины отходит -я возвратная жилка дыхальце проподеума удлинённое брюшные сегменты сжатые боков нижнечелюстные щупики -члениковые нижнегубные щупики состоят сегментов предположительно другие виды своего рода паразитируют гусеницах бабочек вид впервые описан году немецким энтомологом профессором клаусом хорстманном — dr klau horstmann lehrstuhl zoologi iii biozentrum würzburg германия',\n",
       " 'legend born – ip นับเป็นภาพยนตร์อีกเรื่องที่เป็นเรื่องราวชีวประวัติของยิปมัน ปรมาจารย์มวยหย่งชุนซึ่งมีตัวตนอยู่จริง ซึ่งมีชีวิตอยู่ระหว่างปี คศ -คศ ซึ่งนับเป็นภาพยนตร์ที่เกี่ยวกับยิปมันเป็นเรื่องที่ นับจาก ip และ ip ที่เข้าฉายก่อนหน้านั้นไม่นาน และประสบความสำเร็จอย่างมากทั้ง ภาค',\n",
       " 'بصمات عربی زبان کا لفظ ہے جس کا مطلب ہے چھاپ یا نقش print یہ دراصل لفظ جمع ہے اِس کا لفظ بصمہ ہے۔ یہ لفظ عربی زبان کے ایک بنیادی لفظ بصم سے ماخوذ ہے جس کے ایک معنی انگلی کے نشان کے بھی ہوتے ہیں',\n",
       " 'astakümn aastad aastad aastad aastad aastad - aastad - aastad aastad aastad aastad aastad',\n",
       " 'عام رئيس الجمهورية التشيكية والكاتب المسرحي الشهير فاكلاف هافل وصفا آملا لعالم الحداثة باعتباره واحدا مبنيا أسسٍ علمية المفارقة \"حيث شيءٍ ممكن شيء مؤكدٌ تقريبا\"',\n",
       " 'خبر درگذشت او روز چهارشنبه فوریه اسفند اعلام توسط رامون سانچز از اعضای نزدیک خانواده این نوازنده تأیید شد خبرگزاری اسپانیایی efe گزارش داد که پاکو لوسیا هنگامی که در ساحل کانکون مشغول بازی با فرزندانش بود ناگهان دچار حمله قلبی شد',\n",
       " 'film jan bucquoy producteur franci smet incarn autr parodi lécrivain belg pierr merten voir vie sexuel belg - camp cosmo joue propr personnag vie politiqu belg vacanc noël',\n",
       " 'سید محمد عزالدین حسینی الموسوی زنجانی در سال فروردین ماه هجری شمسی رجب المرجب قمری در شهر زنجان دیده جهان گشود نماز جمعه زنجان در سال\\u200cهای متمادی وسیله اجداد او اقامه می\\u200cشد جد اعلای زنجانی سید محمد مجتهد سردانی از مجتهدین بنام زنجان در عصر خود بود که در طرد دفع بابیت از زنجان نقش بسیار مهمی داشتعبدالله میرزا پسر فتحعلی شاه حاکم زنجان که شیفته مرید سید محمد مجتهد شده بود مسجد سید زنجان را برای اقامه نماز جمعه جماعت امامت وی کرد پدر او میرزا محمود حسینی زنجانی از علمای برجسته ایران نماینده زنجان در مجلس مؤسسان بود مادر او دختر شیخ\\u200cالاسلام زنجان میرزا ابوعبدالله زنجانی نخستین عضو ایرانی فرهنگستان دمشق مترجم «تاریخ\\u200cالقرآن» حبیب\\u200cالله مجد ضیایی نماینده زنجان در مجلس شورای ملی دائی\\u200cهای وی بودند پسردائی\\u200cهای پدرش سید رضا زنجانی سید ابوالفضل زنجانی نیز از روحانیون برجسته اعضای عالی رتبه جبهه ملی ایران بودند پسرعمه پدرش عبدالکریم زنجانی از مبلغان اتحاد اسلام شمار می\\u200cرفت سال\\u200cها در حرم علی بن ابی\\u200cطالب نماز جماعت برگزار می\\u200cکرده\\u200cاست',\n",
       " 'ميخانيکې ياscarificationميتودونه هغوتخمونو دميخانيکې اوفزيکې استراحت ختمولولپاره چې کلک اوډبل seed coat او دميوې پوستکې ولري تطبيقېږي تخم په seed coat اويا دميوې په پوستکی کې واړه سوري کول يايې غوڅول دچاقوفلزي سوان تراشوونکو اوسپنو په واسطه چې داوبوجذب اجازه ورکړيځيني ميخانيکې ماشينونه ددې هدف لپاره موجوددي scarificationڅخه روسته تخمونه معمولاً ديوې ورځې لپاره په يخواوبوکې خيشتول کېږي داميتودو دهغو سپيشزونو دتخمونو لپاره چې مخکې دګرمو اوبوپه واسطه معالجه کې ذکرشواستعمالېږي اوهمدارنګه دeusideroxylon zwageriulin ironwoo لپاره استعمالېږي دځينومېوو چې پوستکې يي کلک وي دڅټک په واسطه وهل کېږي او ياديوې ورځې لپاره په يخو اوبو کې اچول کيږي',\n",
       " 'emot ownership product resourc kind ownership lead politicis economi real synthesi economi politi econom decis make carri entir commun demot assembl make fundament macro-econom decis affect commun citizen vocat orient group worker parecon time worker particip demot decis plan target particip broad vocat orient group respect workplac assembl process modifyingimpl democrat plan run workplac',\n",
       " 'protagonizada jacquelin bracamont jaim camil valentino lanu antagonizada karla álvarez fabiola campoman sabin moussier',\n",
       " '웹 페이지의 파일 포맷은 보통 htmlhyper-text markup language이 쓰이고 http 프로토콜의 mime \"content type\"에 의해 확인된다 대부분의 브라우저는 html 외에 jpeg png gif 이미지 포맷들을 지원하고 그밖에도 플러그인을 통해 확장할 수 있다 http의 \"content type\"과 url 프로토콜 명세의 조합으로 웹 페이지 설계자들은 이미지 애니메이션 동영상 소리 스트리밍 미디어 등을 웹 페이지에 덧붙이거나 웹 페이지를 통해 접근할 수 있게 한다',\n",
       " '年月日下午時分通過各大音樂門戶網站公開新專輯主打歌《love ya》預告片及音源，在哥特式的黑暗氛圍和渾厚的管弦樂聲中，ss帶著剛柔相濟、張弛有度的舞姿登場。以黑色作為主色調的全新形象再度由音樂製作人steven lee與ss攜手打造而成，將管弦樂的旋律和ss所獨具的特色完美融合，新輯《destination》於月日正式發售。',\n",
       " 'astian oczipka lahir bergisch gladbach januari umur pemain sepak jerman yang bermain eintracht frankfurt bek kiri',\n",
       " 'máquina moldagem injeção conhecida prensa mantêm mold component moldado prensa avaliada tonelagem expressa quantidad força aperto máquina pode gerar pressão mantém mold fechado processo injeção',\n",
       " 'elen keller - și beneficiat nivel înalt pregătir și cunoscut persoan afecțiun',\n",
       " 'p zaterdag viermansbob amerikaans team eerst sind gouden medail bob bemand steven holcomb steve mesler curti tomasevicz justin olsen slalom mannen gewonnen italiaan giuliano razzoli pools justyna kowalczyk gouden plak kilomet klassiek stijl vrouwen final mannen curl canades team bestaand kevin martin john morri marc kennedi hebert adam enright gewonnen canades snowboard jasey-jay anderson parrallelreuzenslalom onderdeel ploegenachtervolg richmond medail heren dame verdeeld mannen kregen canadezen mathieu giroux luca makowski denni morrison gouden medail hoewel nederlands ploeg snelst nieuw olympisch record reed duits schaatsster daniela anschütz-thom stephani beckert anni friesing katrin mattscherodt wonnen vrouwen',\n",
       " 'phagnum laxirameum bladmossart beskrev crum sphagnum laxirameum ingår släktet vitmossor familjen sphagnacea inga underart finn listad catalogu life',\n",
       " 'aigatihan levinud hajusa kuni suhteliselt tavalis haudelinnuna euraasia põhjaosa skandinaavia kesk- põhjaosast läbi siberi kuni alaskani kanada loodeosani tihastest ainu liik ke levinud nii euraasia kui põhja-ameerika taigatihan paigalind eestiss sattunud üksikutel kordadel esmakordselt kohati teda kabli oktoobri',\n",
       " '『ストラスブール・ゴシック大聖堂建築工匠ハンス・ハンマー・フォン・ヴェルドの画譜』そのノルマンディー地方におけるレイヨナンとフランボワイアンの様式、そのシャンパーニュ地方におけるレイヨナンとフランボワイアンの様式―日本建築学会東北支部研究報告集計画系第号 平成二十五年六月、pp-。',\n",
       " 'yllu juanensi spesi laba-laba yang tergolong familia salticida spesi genu hyllu ordo aranea ilmiah spesi kali diterbitkan strand',\n",
       " 'آهن آهن fe یون فروس عنصر ردیابی لازمی\\u200cست که تقریباً تمام موجودات زنده از آن استفاده می\\u200cکنند تنها استثناهای این موضوع چندین موجود زنده\\u200cای هستند که در محیط\\u200cهای فقیر از نظر آهن زندگی می\\u200cکنند گونه\\u200cای تکامل یافته\\u200cاند که عناصر گوناگونی را در فرایندهای متابولیکشان مورد استفاده قرار دهند منگنز جای آهن برای تجزیه یا هموسیانین جای هموگلوبین آنزیم\\u200cهای حاوی آهن معمولاً دارای گروه\\u200cهای هموپروستاتیک هستند که در تجزیهٔ واکنش\\u200cهای اکسیداسیون در زیست\\u200cشناسی در انتقال تعدادی از گازهای حل شدنی شرکت می\\u200cکنند',\n",
       " 'itaminum compositum organicum quod inest alimenti necessarium movendum metabolismum corpu humanum aiunt arti medica periti tredecim vitamina requirit sed solum vitaminum ipsum parar potest inopia vitaminorum aut nimiu vitaminorum haustu quorundam morborum causa',\n",
       " '년 월 세 차례에 걸쳐 제국 의회 중의원에 제출하였다 민원식 사후 년이 되는 날에 국민협회 회원이 그의 주기를 추모하면서 만여 명의 연서로 일본 내각에 건백서建白書를 제출 한 일 이 있었다 이들은 조선 참정권 요구 건백서에서 선거법 시행 칙령을 반포 하라고 주장하며 운동을 계속했다 그러나 그것도 년 이후에는 유야무야 되었다 이 때 일본 정부도 지금으로써는 현재의 조선에게 참정권을 부여할 의사가 없다고 잘라 말하였다 그러나 국민협회는 년 이후 역대 내각에 계속 같은 취지의 건백서를 계속 제출해 갔다 이후 그의 뒤를 이어 김명준 윤갑병尹甲炳이 국민협회의 회장을 역임하고 김명준은 이규완 등과 함께 참정권을 계속 주장하였지만 묵살당했다',\n",
       " 'etodiu episcop olimp începutul secolului iv-lea scrie \"symposium\" „și învățat scripturil inspirați dumnezeiască născuți înaint vreme vlăstarul adult dați îngerilor purtători grijă” deși petru menționat pasajul același înțele și citatel date clement alexandrinul',\n",
       " '従来のガンダム作品の版権管理は創通とサンライズが共同で管理されていたが、本作より製作局である毎日放送もそれに加わり、著作権表示は「©創通・サンライズ・毎日放送」「© sunris inc」だった。年以降は毎日放送が外され、seedシリーズの版権管理は従来通り社での管理に戻る。',\n",
       " 'utrefoi term désignait charpenteri port mobil posé vertical deux couliss servait retenir lâcher eaux dune écluse dun étang',\n",
       " 'माना जाता है वीं सदी में तुर्किस्तान यारकन्द शहर धनवान दौलत बेग دولت بېغ\\u200e से निकल रहा था लेकिन काराकोरम दर्रे से उतरने बाद उसने दम तोड़ दिया। दौलत बेग ओल्दी मतलब है दौलत बेग की मृत्यु गई है। कहते हैं उसे अपने ख़ज़ाने यहीं दफ़ना दिया गया है लेकिन आजतक कोई उसकी क़ब्र नहीं ढूंढ पाया है।',\n",
       " 'статья набрала млн просмотров дня российские власти роскомнадзор член совета федерации елена мизулина уполномоченный правам ребёнка павел астахов потребовали провести проверку изложенных фактов принять соответствующие меры время ряд сми пользователей социальных сетей обвинили «новую газету» предвзятости искажении фактов также инициировании моральной паники некоторые обозреватели высказали мнение публикация данной статьи могла привести ужесточению интернет-цензуры россии',\n",
       " 'در روز عید یک\\u200cشنبه نخل در تاریخ آوریل در یک رشته بمب\\u200cگذاری\\u200cهای انتحاری دو بمب در کلیسای سنت جورج در شهر شمالی طنطا مصر در دلتای رود نیل کلیسای جامع ارتدوکس قبطی سنت مارک مهمترین کلیسای قبطی در اسکندریه منفجر شدند پس از حملات رئیس جمهور مصر سیسی شورای امنیت کشور را فراخواند در این حملات حداقل تن کشته تن نیز زخمی شده\\u200cاند داعش شاخه صحرای سینا مسئولیت این حملات را پذیرفته است',\n",
       " 'mart tarihind comodo kayıt yetkisin sahip kullanıcı hesabının yeni kullanıcı hesabı oluşturmak kullandığı dokuz sertifika imzalama isteği yayınlandı tehlikey atıldığına bağlı olduğunu bildirmiştir yedi etki alanı dokuz sertifika verilmiştir saldırı tahran i̇randan kaynaklanmakta numaralı ip adresin takip edilmiştir şirket olarak \"devlet güdümlü saldırı\" sonucu olduğunu bildirdi ancak sonradan saldırının \"yanlış bırakmaya çalışan saldırgan\" kökenli olabileceğini belirtti tür sorunlar yaygın olarak bildirilmiştir sertifikaların verilir iptal edilir olduğuyla ilgili eleştiriler yol açmıştır yılı itibarıyla sertifikaların tümü iptal edilmiştir microsoft sorunu gidermek güvenlik danışımı güncelleştirm yayınladı',\n",
       " 'согласно сведениям собранным ходе переписи г национальным институтом географии статистики ibg население мезорегиона составляет',\n",
       " 'ntre famil bustro tuéni partent l’égypt fuir guerr evelin fait début littérair revu ébauch entreprend recherch vue d’un roman historiqu premièr anné lislam',\n",
       " 'ښکارندوی غوري هجري ښکار ندوی غور او پلار يې احمد غور فيروز کوه کوټوال ده يوه بوللۀ په لاندې ډول ده دپسر ښکلوونکو بيا کړه سينگارونه - بيا يې ولونل په غرونو کې لالو نه',\n",
       " '月日，他簽署新法案，授權撥款多達億美元給nasa，也修改了nasa的目標，表示將致力火星的探索，以及在年代用載人太空船將人送上火星。法案文本指出，nasa「應持續研發全面性整合的太空發射系統，包括超越近地軌道所需的上節火箭，以安全啟動人類下個世紀逐步探索月球、火星甚至更遠的太空任務」。月日，簽署行政命令，將逐步取消前總統奧巴馬制定的氣候變化政策。月日-日，与中国领导人习近平在美国佛罗里达州的海湖庄园舉行為期兩天的會晤。',\n",
       " '에레다르 족 흑마법사이자 살게라스 명의 제자 중 한 명이다 킬제덴과 동료이며 킬제덴과는 다르게 자신이 직접 나가서 싸우는 일이 많으며 성급하고 힘이 세다 그는 인간 마법사들의 대륙인 달라란을 거대한 모래바람에 휩싸이게 하였으며 인간 연합의 세력로데론 달라란 카즈 모단이 서로 연합하지 못하게 이간질하여 분열시킨다 그리고 그 여세를 몰아 나이트 엘프의 칼림도어 대륙에 침략하지만 나이트 엘프와의 전쟁에서 죽는다 하지만 킬제덴의 참모인 티콘드리우스와 타락한 아서스와 켈투자드의 스컬지가 그를 다시 부활시킨다',\n",
       " 'एबीसी जून दिसंबर प्रतियां से अधिक संयुक्त संचलन मोहनदास पई और सतिश यू पई उदयवाणी द्वारा में शुरू की व्यापक से तटीय कर्नाटक क्षेत्र में पढ़ा जाता है। यह बंगलौर और केंद्रों में भी प्रचलन है। इन वर्षों में उदयवाणी इसकी गुणवत्ता की सामग्री निष्पक्ष पत्रकारिता व्यापक स्थानीय कवरेज साफ लेआउट और मुद्रण उत्कृष्टता लिए प्रशंसित किया गया है। यह भी अच्छी गुणवत्ता मुद्रण लिए पुरस्कार मिला है। [प्रशस्ति पत्र की जरूरत]',\n",
       " 'بروتوكول نقل النصوص التشعبية تصفح الإنترنت بروتوكول مكتب البريدبريد الكتروني بروتوكول نقل الملفات انتقال الملف بروتوكول حديث التواصل الانترنتدردشة عبر الانترنت بروتوكول مشاركة الملفات بروتوكول الرسالة الفورية',\n",
       " 'термин «онтология» предложен рудольфом гоклениусом году «философском словаре» «lexicon philosophicum quo tanquam clave philisophia fore aperiunt francofurti» позже иоганом клаубергом году работе «metaphysika ent quae rectu ontosophia» предложившем варианте «онтософия» качестве эквивалента понятию «метафизика»',\n",
       " 'yılında mersind doğdu keman eğitimin dokuz yaşında mersin üniversitesi devlet konservatuvarında alper özcan başladı yılında doğuş çocuk orkestrasına girdi yıl orkestrada çaldı yılında i̇stanbul üniversitesi devlet konservatuvarına girdi veniamin warshavskynin öğrencisi',\n",
       " '그러나 이름과 달리 산성염이라고 해서 염의 수용액이 반드시 산성이라는 것이 아니다 실제로 어떤 염이 수용액에서 어떠한 성질을 띠는 가는 염이 가수분해될 때 어떤 액상이 되는가가 중요하다 염이 가수분해될 때 어떤 산과 염기의 염이냐에 따라 다른 액상을 띄게 되는데 염의 액상은 다음과 같다',\n",
       " 'ecintaan moldi musik terjalin duduk bangku sekolah smp martapura alat musik terakhirnya gitar moldi memb gitar pertamanya uang angpau raya idul fitri yang keluarga kerabatnya',\n",
       " 'هغه بوديجي نه عبارت ده چي تخميني فروشات او مصارفات راتلونکي کال اوهمدارنگه په تقريبي ثابت او متغيرقٻمت باندې شامله ده دا يو مثبت حالت دى چي په درست پلان باندٻد گټي زياتيدو برابرشامل دى',\n",
       " 'الأطروحة برن مقتنع تماما المؤرخون فترة يكن كلياً قبول رفض نظريته وقد وفرت أدوات مفيدة لفهم فترة العصور الوسطى المبكرة ومثالا قيماً لكيفية مخططات بيريوديزيشن المؤقت وبديهيا ابدأ',\n",
       " 'ever romanc languag latin word acrifolium turn aquifolium modern time italian agrifoglio occitan grefuèlh',\n",
       " 'क़रीब एकड़ सुविस्तृत क्षेत्र में स्थित इस मंदिर व आकार-प्रकार परिस्थितियों समय-समय पर बदलता रहा है। वर्तमान में गोरक्षनाथ मंदिर की भव्यता और पवित्र रमणीयता अत्यन्त कीमती आध्यात्मिक सम्पत्ति है। इसके भव्य व गौरवपूर्ण निर्माण श्रेय महिमाशाली व भारतीय संस्कृति कर्णधार योगिराज महंत दिग्विजयनाथ जी व उनके सुयोग्य शिष्य वर्तमान में गोरक्षपीठाधीश्वर महंत अवैद्यनाथ जी महाराज है जिनके श्रद्धास्पद प्रयास से भारतीय वास्तुकला क्षेत्र में मौलिक इस मंदिर निर्माण हुआ।',\n",
       " 'criador mike judg originalment imagin beavi butt-head estudant delinquent colégio existent highland high school coal avenu albuquerqu novo méxico ond especificament criou butt-head sendo visão tipíco delinquent colegi incorporando visual nome voz amigo convidava mundo chutá-lo traseiro nomeava \"traseiro-de-ferro\" \"iron-butt\"',\n",
       " 'ультрих бонер родился городе берне происходил старинной бернской семьи насколько известно принял духовный сан стал монахом однако факт позднее бонер женился говорит будучи постриженным принял сан наз clerici uxoriati который позволяет вернуться светской жизни первые записи бонере относятся году последние — точные дата рождения дата смерти неизвестны',\n",
       " 'วันที่ พฤษภาคม พศ นายอภิรักษ์ โกษะโยธิน ผู้ว่าราชการกรุงเทพมหานคร เป็นประธานในพิธีวางศิลาฤกษ์โครงการก่อสร้าง ณ สถานที่ก่อสร้างสถานีต้นทางช่องนนทรี สาทร',\n",
       " 'erranova sibari telt ongev huishouden aantal inwon daald period - volgen cijfer tienjaarlijks volkstellingen istat',\n",
       " 'நிஞ்சா ஹட்டோரி 忍者ハットリくん ninja hattori என்பது கார்ட்டூன் திரைத்தொடர் ஆகும் இத்தொடர் இந்தியா உள்ளிட்ட நாடுகளில் ஒளிபரப்பப்படுகிறது ஆங்கிலத்தில் வெளியான இத்தொடர் தமிழ் உள்ளிட்ட மொழிகளில் டப்பிங் செய்யப்பட்டிருக்கிறது இத்தொடர் வீடியோ விளையாட்டாகவும் கதைப் புத்தகத் தொகுப்பாகவும் வெளிவந்துள்ளது',\n",
       " 'tankista rusça танкиста tankista anlam tankçı şarkının başçangıç satırından dolayı granits tuti hodyat hmuro границе тучи ходят хмуро granits tuti khodyat khmuro \"sınırlarında karanlık bulutlar dolaşıyor\" sovyet popüler şarkısı',\n",
       " '\"ข้าพเจ้านำขึ้นทูลเกล้าฯถวายสมเด็จพระนางเจ้าฯ พระบรมราชินีนาถ ในวันเฉลิมพระชนพรรษาแทนการถวายรูปเขียนของขวัญอย่างที่เคย ท่านโปรดโคลงบทที่ขึ้นต้นว่า \"รักชาติ ยอมสละแม้ชีวี\" มากที่สุด จึงทรงพระกรุณาโปรดเกล้าฯ ให้ มลพวงร้อย อภัยวงศ์ ประพันธ์ทำนองเพลงที่ชื่อว่า \"ดุจบิดามารดร\" ใช้ร้องมาจนทุกวันนี้…\"',\n",
       " 'ntre realiz sessõ jazz merl saunder particip rubi gravando disco discografia solo apesar vasta bem conceituada crítico música pouco conhecido divulgada dia atuai muito fã creedenc',\n",
       " 'جلالی مریم شیوه\\u200cهای فانتزی سازی در ادبیات کهن ماهنامهٔ تخصصی اطلاع\\u200cرسانی نقد بررسی کتاب فروردین اردیبهشت شمارهٔ ششم هفتم مسلسل –',\n",
       " 'marti estonia alegeril parlamentar partidul reformei premierului taavi rõiva câștigă voturi locul ocupându-l partidul centru voturi partidul social-democrat obținut sută voturi uniunea pro patria și publica irl câștigat sută voturi',\n",
       " 'پښتون لور یم چا زوی خو نه یم فرشتې هغه لنډه کیسه ده چې ډیرو پام یې هغې لیکوالۍ واړاوه په دغه کیسه کې هغې نجلۍ ژوند تصویر ښودل شوی چې په پښتنه ټولنه کې دودونو په نامه په تیاره قفس کې بنده ده فرشتې غني خبریالۍ دندې سره ځښته زیاته مینه ددې سبب شوه چې هغه اوس په یوه خصوصی رسنۍ کې خبریالې په توګه کار وکړي هغې ریپوټونو ډیری موضوع ګانې افغان ښځو ژوند په اړه دي اغلې غني کلید رادیو تر څنګ مرسل اونیزې افغان ښځو پر وضعیت ریپوټونه چمتو کوي چې ډیر کله خپاره شوي دي',\n",
       " 'ایمنی از آن\\u200cجا که درختان طبیعی چراغ\\u200cها در کریسمس نزدیک\\u200cاند امکان خطر آتش\\u200cسوزی وجود دارد اما درختان مصنوعی با کیفیت از پلی وینیل مقاوم در برابر آتش ساخته شده\\u200cاند حتی اگر یک جرقهٔ الکتریکی وجود داشته\\u200cباشد کم\\u200cتر زیان عمده\\u200cای وارد می\\u200cشود',\n",
       " 'ऐसे कई शब्द हैं जोकि आम तौर पर जातिवाचक संज्ञाएं हैं लेकिन सुगमता से \"अस्थायी तौर पर व्यक्तिवाचक संज्ञा कार्य निभा सकते हैं\" \"प्रासंगिक व्यक्तिवाचक संज्ञा\" कर्तव्य कुछ हैं agenc avenu boulevard box build bureau case chapter citi class colleg day edit floor grade group hospit level offic page paragraph part phase road school stage step street type univers week अस्थायी व्यक्तिवाचक संज्ञा कार्य तब उत्पन्न होता है जातिवाचक संज्ञा किसी संख्या संक्षेपीकरण विशिष्ट उल्लेख हेतु नाम रचने लिए कोई शब्द सामान्य प्रकार विशेष मामला इसे तब \"स्पेसिफ़िक डेसिग्नेटर\" में संदर्भित किया जाता है। लिए',\n",
       " 'número total hogar distrito familia menor año edad viviendo toda familia viviendo distrito solament matrimonio total hogar distrito pareja casada mientra pareja mismo sexo promedio persona hogar []\\u200b',\n",
       " '-சிலையெழுபது கம்பர்கம்பர் எழுதிய ஒன்பது நூல்களுள் சிலையெழுபதும் ஒன்றாகும் கலிங்கப் போர் வெற்றிக்குப் பிறகு சோழருக்கு அடங்கிய சிற்றரசனாக பல்லவ நாட்டை ஆண்ட முதற் குலோத்துங்க சோழனுடைய தளபதி கிபி - கிபி கருணாகரத் தொண்டைமானின் குலமாகிய வன்னியர் பெருமையை பற்றி கம்பர் பாடியது இந்நூல் இதற்குப் பரிசாக தங்கப் பல்லக்கு அணிகலன்கள் மற்றும் ஒரு செய்யுளுக்கு ஆயிரம் பொன் வீதம் பரிசும் கம்பருக்கு வழங்கப்பட்டதாக அறியப்படுகிறது',\n",
       " 'نوشتار اصلی ناحیهٔ تابشیدر ناحیهٔ نزدیک ٫ شعاع خورشید یا پایین\\u200cتر مواد خورشیدی بسیار گرم چگال اند آنقدر که بتوانند گرمای زیاد هسته را از راه تابش گرمایی بیرون بتابانند در این ناحیه رفتار همرفتی دیده نمی\\u200cشود با اینکه دمای ماده از میلیون کلوین میلیون کلوین می\\u200cرسد اما همچنان این مقدار کمتر از مقدار پیش بینی شده برای کاهش دما نسبت افزایش ارتفاع است پس این کاهش دما نمی\\u200cتواند از راه همرفت صورت گیرد در این بازه انرژی از راه تابش فوتون توسط یون\\u200cهای هیدروژن هلیم روی می\\u200cدهد؛ که البته این فوتون\\u200cها مسافت بسیار کوتاهی را پیش می\\u200cروند خیلی توسط یون\\u200cهای دیگر دوباره جذب می\\u200cشوند چگالی از ٫ چگالی خورشید تا بالای بازهٔ تابشی نزدیک برابر افت می\\u200cکند از gcm ٫ gcm می\\u200cرسد',\n",
       " 'vital haim seling haifa março ex-jogador voleibol país baixo competiu jogo olímpico',\n",
       " 'matrimonio concertado debatido activament estudioso cuestion debatida incluyen matrimonio arreglado utilizando abusar sistema inmigración internacion matrimonio arreglado violan derecho humano particular derecho mujer[]\\u200b producen matrimonio establ crianza hijo próxima generación[]\\u200b meno amor respeto relación pareja casada[]\\u200b',\n",
       " 'overle blanch suikerziekt \"villa kayola\" cambo-les-bain straatarm zoal verhalen willen verr zeker vond laatst rustplaat cimetièr père-lachais parij samen voormalig durrieux broer vroeggestorven kind philipp',\n",
       " 'octob american civil liberti union file complaint columbia high school south orange-maplewood school district relat academ level disciplinari system state overus disciplin \"zero-tolerance\" polici implicit racial bia level select system violat titl civil right act section rehabilit act claim made suspens rate black student time higher white student classroom environ black student significantli underrepres honor class',\n",
       " 'arrington trabalha área desenvolvimento criminológico trabalhando estudo cambridg funcionário delinquent resultado dess estudo mostraram carreira criminosa comun começam curso preparatório idad média criminoso geralment varia ano entrevista sujeito ano idad observado reincident anormalidad sociai decresceram indicando aumento integração social',\n",
       " 'تاريخ المتنزه يسمح للزوار تشجيعهم أحياناً لإطعام الدببة اعتادت الدببة التسول مقابل الغذاء وأُعطيت فرصة للزوار للحصول صور معهم أدى العديد الاصابات للإنسان عام ففي عام المسؤولون المنتزه سياستهم فتم وضع برنامج فعال لتثقيف العامة حول مخاطر الاتصال الوثيق بالدببة ومحاولةً للقضاء فرص الدببة للعثور الغذاء المخيمات ومناطق جمع القمامة الرغم أنه الاطلاع الدببة صعوبة السنوات الأخيرة أنه اتخذت عدد الإصابات والوفيات البشرية انخفاضًا كبيرًا وأصبح زوارهم خطر',\n",
       " 'oplam gün süren festiv süresinc birçok dans-müzik gösterileri eğlencel yapılmaktadır festiv alanlarında birçok ülkenin tanıtım stantları yer alır kutsal günlerd ataların ruhlarının evlerin geri döndüğüne inanılmaktadır sebepl evlerin kapılarına ruhları karşılaması amacıyla festiv başında sonunda ateşl yakılmaktadır ailel tarafından atalarının ruhlarını temsil etmesi amacıyla yüzen fenerl bırakılmaktadır evlerin kutsal yerleri temizlenmekt ruhların huzur bulması edilmektedir',\n",
       " 'physic antisthen contain theori natur god contend uniti deiti unabl represent unlik earth',\n",
       " 'obra contien traducción parcial derivada manfredo iv saluzzo wikipedia italiano concretament versión publicada editor bajo licencia documentación libr gnu licencia creativ common atribución-compartirigu unport',\n",
       " '中期朝鮮語の合成語の特徴としては、用言語根に直接他の語根が付く合成語が広く見られることである。例：or bir-（乞う）＋ meg-（食う）。中には用言語根に体言語根が付いた例も見られる。例：bsusdor（砥石）＜ bsuc-（擦る）＋ dor（石）。',\n",
       " '웹 브라우저는 웹 페이지를 가져오기 위해웹 문서를 열기 위해 대부분의 웹 서버가 사용하는 httphyper-text transfer protocol로 통신한다 http를 이용해 웹 페이지를 가져올 뿐 아니라 웹 서버에 정보를 송신하기도 한다 작성한 시점에서 가장 많이 사용되는 http는 http로 rfc 에 정의되어 있다 http은 현 세대의 다른 브라우저와는 달리 인터넷 익스플로러에서 완벽하게 지원하지 못하는 표준이 있어야 한다',\n",
       " '肯尼迪在马萨诸塞州成功连任参议员以及自年民主党代表大会以来在全国范围内越来越大的知名度，使他成了许多人心目中年总统竞选的有吸引力的候选人。他的活力被看作是应对苏联挑战、经济萧条、种族隔离和“杂乱无章的美国生活”的优势。年，全美各地邀请他进行演讲的邀请函多达多份，而他同意在个州做场演说，平均两天一场。年初，他每星期收到的此类邀请函平均达份。民主党在个州的领导人大都表示肯尼迪是个很有可能参加竞选的人物。年民主党代表大会的名代表中有人支持肯尼迪参加年总统竞选。在对肯尼迪有所认识的所有潜在选民裡，有的人相信他具有当总统的背景和经验。',\n",
       " 'yrannosauru vocibu graeci τύραννος tyrannu σαῦρος lacerta genu dinosauri praeclara speci tyrannosauru rex aevo cretaceo superior habitavit loco america septentrionali iam appellatur',\n",
       " 'oodus munevad emas mardikad suvel maist augustini lõhedess pragudess või puidu karestatud pinnal kuni piimvalget ovaals kujuga muna läbimõõduga – mm mööbli-toonesepa munadest kooruvad sobiv tingimust kuni päeva pärast mm pikkus vasts ke närivad ennast puitu ning välju sealt enam enn nukkumist',\n",
       " 'году менеджером группы стал знаменитый художник энди уорхол предложивший группе использовать качестве вокалистки некоторых песнях протеже певицу немецкого происхождения нико репутация уорхола помогла группе достигнуть ещё большей известности именно помог группе заключить контракт лейблом verv record формально значась «продюсером» фактически даровав velvet underground возможность создать звук который устраивать благодаря уорхолу группа также стала участвовать мультимедиашоу explod plastic inevit котором использовалась музыка шоу включало видео иллюстрации сделанные уорхолом несколько месяцев это шоу устраивало свои представления нью-йорке совершило тур сша канаде последний инсталляция произошла мае года',\n",
       " 'இக்கையேடு வினா-விடை முறையில் அமைந்திருப்பதால் மறைக்கல்வி வகுப்பில் பயன்படுத்துவது எளிதாகிறது நூல் முழுவதிலும் வினாக்களும் அவற்றிற்கான விடைகளும் தரப்பட்டுள்ளன',\n",
       " 'orden bitardo presidida grand maistr gran maestr formada part dignatario commandeur comendador chevali caballero part novic novicio chabouss estudiant ingresan orden bitardo novicio luego demostrado digno confianza dice estudiant encuentra capacitado dignatario',\n",
       " 'biologisk indik indikatorart art ofta mikroorgan växt visar olika omständighet viss miljö arten använda indik särskilt toler känslig vissa förhållanden ger därmed fingervisn förhållandena insett många faktor påverkar art ans indikatorart längre pålitliga verktyg forskn undantag förekomm gäller miljöer anledn svåra skaffa data annat sätt',\n",
       " 'ndalacum sive andalatum francogallic andelat commun incolarum anno francia praefectura monti celtorum region arvernia',\n",
       " '年月日、後楽園ホールにてマーク・ブリーランドが持つwba世界王座に、世界位の指名挑戦者として再挑戦。r終盤にブリーランドの左アッパーにより古傷の右瞼をカットして大流血、これが響いてr秒tko負け。この試合を最後に現役引退、現在は美容室経営者の夫人の故郷・福岡県でサラリーマン生活を送っている。',\n",
       " '서리늑대 부족frostwolf clan 원로 주술사 드렉타르와 그의 제자 스랄이 이끄는 부족이며 대 족장인 듀로탄이 살아있을 때부터 통일된 오크를 주장하는 강철 호드의 부름을 거부하고 부족의 생존에 집중하는 과정에서 문명화된 부족이다 오크들 중 개혁적이고 진보적이며 전통적이고 뼈대있는 고귀한 토속 신앙인 고대 샤머니즘을 믿고 숭배하며 어둠의 세력불타는 군단 등에 대항하기 위해 강령술이나 흑마법은 전면 엄금되어 있다 그들은 평민 귀족 할 것 없이 강령술과 흑마법 금지법을 철저히 지키고 있으며 귀족들 역시 부정부패와 정신적 타락의 온상인 강령술과 흑마법에 반대하는 주술사들이다 당연히 강령술과 흑마법을 사용하는 검은바위 부족과 폭풍강 부족 황혼의 망치단 등의 타락한 오크 부족들과는 앙숙이 된다 또한 로데론이 언데드 스컬지에 의해 붕괴될 때 부족을 이끌고 칼림도어의 배렌스로 피신한 덕분에 위기를 모면했던 부족이기도 하다 이후 월드 오브 워크래프트 대격변에서는 스랄이 호드의 대족장 자리와 서리늑대 부족장 자리에서 물러난 뒤에는 스랄의 스승이자 원로 주술사인 드렉타르가 다스린다 주로 사육하는 동물은 늑대와 돼지 주 영토는 서리불꽃 마루와 듀로타 왕국과 수도 오그리마',\n",
       " 'ryant trabajó train incid bride film significó debut esposa nazimova aunqu homosexu bryant casado matrimonio conveniencia pue lesbiana bryant nazimova firmaron contrato metro pictur trabajaron junto vario film revel fog billion nazimova fundó nazimova product compañía bryant empezó dirigir pareja produjo adaptación obra oscar wild salomé embargo asociación byrant nazimova duración pue salomé fracaso público nazimova product quebró bryant volvió trabajar volvió broadway despué dejar hollywood bryant nazimova divorciaron aparentement debido unión conveniencia necesaria',\n",
       " 'ello-taivo denk august võrumaa – juuni eesti metsaülem metsaülem ühingu esime looduskaitsja ning metsaerakonna asutamis algatajaid',\n",
       " 'yılında makedonya’nın yugoslavya sosyalist feder cumhuriyeti’nden bağımsızlığını ilan etmesiyl probiştip bağımsız makedonya cumhuriyeti içind bugünün gelmiştir',\n",
       " 'богатейшие красные тона получены результате добавки меди смальт называемых мастерами мозаики «скарцетами» «лаками» очень большого умения требует варка которая сих пор бывает успешной медь использовалась учёным также получения зелёных бирюзовых оттенков поныне знатоки мозаичного искусства очень высоко ценят полихромные качества ломоносовских смальт многие считают таких замечательных красных зелёных оттенков крайне редко мало кому удавалось получить',\n",
       " 'ccreeri mapl leaf white cross histori st john ambul vener order hospit st john jerusalem canada anglic',\n",
       " '하지만 불타는 군단이 더욱 막강해진 세력을 이끌고 또다시 로데론에 침략하자인간을 위한 새로운 방향을 모색하게 되고 자신의 자녀인 탄드레드와 제이나의 의견을 받아들여 알터렉 로데론 등 무너진 국가들의 피난민들의 지원을 겸해 칼림도어에 근거지를 마련하기 위해 부대를 칼림도어로 파견한다 그의 딸이자 키린토의 마법사중 하나였던 제이나는 쿨티라스의 정예병을 이끌고 칼림도어에서 모험을 하게되고 이 과정에서 오크 호드의 서리늑대 부족의 스랄이 이끄는 호드와 말퓨리온이 이끄는 나이트 엘프를 연합하여 불타는 군단의 침공을 막아내는 성과를 내기도 한다',\n",
       " 'aec commentatio automatic praeparata astronomica colligit excerpta pagina [] sitú small-bodi databas elaboraverunt nasa jpl apud institutum technologia californiens',\n",
       " 'trang innuka polügaamia pooldaja ilmselt naist aluspükst imetleja teda tulistati tapeti ühe oma järgija poolt keda avalikult piitsutatud kuna keeldu sundimast oma naist sellist riietuseset kandma surma järel hävitasid kalurid ke elasid koprasaarel michigani järve põhjaosa palvemaja mõlema organisatsiooni peakorteri järelejäänud poolehoidjad läksid laiali',\n",
       " 'موٹروے ایم پاکستان کے صوبہ پنجاب میں واقع ایک موٹروے ہے۔ یہ کلومیٹر طویل ہے اور یہ پنڈی بھٹیاں کے قریب موجود ایم اور ایم کے سنگھم سے شروع ہو کر فیصل آباد تک جاتی ہے۔',\n",
       " 'aley esperado enfrentar carlo condit janeiro ufc entanto condit retirar card devido sério cort mão substituído dustin hazelett',\n",
       " 'élite commenc vraiment resserr - équip réparti deux poul dix club lautr onz quatr premièr équip chaqu poul qualifié disput quart final compétit poursuiv élimin direct jusquà final lélite nouveau réduit - création top seiz club réparti deux poul quatr premier club chaqu poul disput ensuit play-off deux poul quatr deux premier qualifié demi-final cett formul conservé jusquà saison -',\n",
       " 'ummok-kol sydkorea ligger provinsen norra chungcheong centrala delen landet km söder huvudstaden seoul',\n",
       " 'целью установления ультраактивного действия норм «старого» закона является защита прав интересов субъектов права вступивших правоотношения принятия нового закона регулирующего данные положения принцип действия норм устаревшего нормативного акта применяется большинстве случаев регулированию длящихся правоотношений',\n",
       " 'acul nyasa numit malawi statul același nume mediu trăiesc numeroas specii animal alături pești întâlnite păsări acvatic hipopotami și crocodili aproximativ speciil plant și animal trăiesc lac întâlnite nicăieri altundeva lume malul sudic lacului aparțin statului malawi deschi \"parcul națion lacul malawi înscri patrimoniul mondial unesco fauna lacului serveșt hrană locuitorilor statului malawi fiind totodată exportată mare măsură',\n",
       " 'begrip relatief succesboek harri potter-reek overtreft aantal succesboek komrij nederlands poëzi wel dikk komrij genoemd',\n",
       " '玉川良一 浪曲師。コメディアン。東けんじと「wコント」を結成。大阪に移り、三波伸介を加え「おとぼけガイズ」と改称。東京逆進出を巡り意見が対立して解散。「玉川良一とその一党」としてコント活動をする一方、ハンナ・バーベラ・プロダクション制作のアニメ作品などに登場する声優としても活躍した。',\n",
       " 'फ़्रांस की तरह फ़्रेंचाइज़र करार दिन प्रकटीकरण करार प्रस्तुत करता है जिसमें प्रदान किए जाने वाले अधिकार और आवश्यक शर्तें शामिल होती हैं।',\n",
       " 'stell berucht lastig meetkundig middelen bewijzen fout bewijzen gegeven beroemd verschillend bewijzen gepubliceerd bewijzen indirect maken wijz gebruik orden reël getallen opmerkelijk genoeg geldt stell wanneer plaat twee gelijk binnenbissectric twee gelijk buitenbissectric genomen',\n",
       " 'tratamento conter adjetivo refer qualquer patamar nobreza inferior tratamento puro majestad assim superior majestad sereníssima',\n",
       " 'koningsspil kone uitzond meest standerdmolen preci midden zittend eikenhouten grenen hoofda molen zaagmolen papiermolen lang spil bestaat boomstam waarbij kop gezet koningsspil staat rechtop bovenaan bonkelaar bovenrondsel waarme bovenwiel bovena zit aangedreven koningsspil zit korenmolen spoorwiel steenspillen aandrijft oliemolen zit koningsspil onderrondsel onderbonkelaar papiermolen zitten divers bonkelaar koningsspil tussen bonkelaar bovenrondsel zit bovenkrui luitafel luibonkelaar luiwerk aandrijft standerdmolen varkenswiel luiwerk aangedreven bovenwiel',\n",
       " 'நியூ சவுத் வேல்ஸ் குடியேற்ற நாட்டின் ஆளுநராக முதல் வரை இருந்த சர் தாமஸ் பிரிஸ்பேன் என்பவரின் பெயரால் பிறிஸ்பேன் ஆறு அழைக்கப்படுகிறது இவ்வாற்றின் பெயரே அதன் கரையிலுள்ள பிறிஸ்பேன் நகரத்தின் பெயராகவும் விளங்குகிறது',\n",
       " 'zmuth revela verdadeiro propósito omnitrix permitir diverso sere universo entendessem vida pele outro ressuscitar espéci inteligent extinta',\n",
       " 'ria naturală află partea central-sudică județului brașov teritoriul sud-est satului holbav apropierea drumului județean djb leagă satul vulcan paltin',\n",
       " 'eorg ghiță ionescu marti bucurești - iuni londra diplomat român profesor universitatea manchest engleză manchest univers și london school econom polit scienc nuffield fellow lse - președint comitetului unificarea europeană asociaței internațional științ politic engleză intern polit scienc associ secretar gener comisiei român armistițiu forțel aliat - diplomat ambasada română ankara - secretar gener comitetului națion român diaspora york - director „radio europa liberă” - șa',\n",
       " 'uito ano patti boa experiência pari compositor ópera bel canto gioacchino rossini grand defensor valor tradicionai canto italiano',\n",
       " 'سانچہقرآن-سورہ آیت ۔۔۔* وَقَالَ يَا بَنِيَّ لاَ تَدْخُلُواْ مِن بَابٍ وَاحِدٍ وَادْخُلُواْ مِنْ أَبْوَابٍ مُّتَفَرِّقَةٍ وَمَا أُغْنِي عَنكُم مِّنَ اللّهِ مِن شَيْءٍ إِنِ الْحُكْمُ إِلاَّ لِلّهِ عَلَيْهِ تَوَكَّلْتُ وَعَلَيْهِ فَلْيَتَوَكَّلِ الْمُتَوَكِّلُونَ',\n",
       " 'अभय सचदेवा फरदीन खान और रीतिका खन्ना ईशा देवोल पारम्परिक विवाह पद्धति विवाहित दो लोग। अभय रीतिका सामने अपने आप करने सभी स्थितियों करना चाहता था लेकिन रीतिका अपने आप थोड़ा पीछे खींच लेती है जिससे दोनों जीवन में थोड़ा तनाव भ्रम रहता है।',\n",
       " '\"mean\" albüm çıktığında yalnızca promosyon singl olarak yayınlanmasına rağmen yine resmi singlelar uluslararası listeler girmeyi başardı kanada resmi müzik listesi canadian hot numaradan giriş yapan şarkının listedeki yüksek başarısıda \"mean\" kasım avustralya müzik listesin kırk numaradan girdi temmuz mediabas countri aircheck countri singl adlı listed numaraya ulaştı şarkının dijit ortamdaki milyonu aşan satış rakamıyla riaadan platin plak sertifikası aldı ticari başarısının yanında gerçekleşen grammi ödüllerind \"en i̇yi countri şarkı\" \"en i̇yi countri solo performansı\" kategorilerind ödül kazandı ayrıca yıl sonu açıklanan countri song listesind yirmi dördüncü sırada yer aldı',\n",
       " 'नाथपा झाकड़ी जलविद्युत परियोजना हिमाचल प्रदेश में राष्ट्रीय राजमार्ग - हिन्दुस्तान तिब्बत मार्ग पर सतलुज नदी पर स्थित है। इस परियोजना मई में कमीशन किया गया था आधिकारिक तौर पर मई प्रधानमंत्री श्री मनमोहन सिंह ने इसे राष्ट्र समर्पित किया।',\n",
       " 'ierre-loui duchartr comédi italienn limprovis caneva vie caractèr portrait masqu illustr personnag commedia dell’art pari librairi franc',\n",
       " 'また、ニュータウンの交通機関として新線建設を目的とした会社に相次いで出資した。北総開発鉄道（年（昭和年）。現：北総鉄道）、千葉急行電鉄（年。年解散、現京成千原線を経営）、遅れて東葉高速鉄道（年（昭和年））がそれである。そして、成田空港へのアクセスを目指して年（昭和年）月に新線免許を申請した。しかし、運輸省と新東京国際空港公団（ともに当時）が空港ターミナルビル地下への乗り入れを拒否した（当時予定されていた成田新幹線との兼ね合いもあった）。結局、第・第ターミナルビルの中間に駅を設置（空港通勤者の交通機関という位置付けとされた）することとなり、年（昭和年）月に着工、突貫工事により年月には建設工事を終了し、年月には習熟運転も始まった。しかし、反対運動による開港の延期（さらには初代ae車への放火）で年あまり営業できない期間が続いた。都心側でも、京成上野駅の改良工事が年月から年月まで行われた。',\n",
       " '読み方：エイティ ツーライト サーティ フォーライトショート イントゥ フォーレフトオープン キンクスワンサーティ エイトライトベリーロングフラット フォーティー コーションバンプ キープライト ファイブレフト アンド シックスライトオーバークレスト フィフティ ツーライトカット トウェンティオーバーブリッジ ファイブレフトタイトゥンフォー',\n",
       " 'ломоносов выдвинул идею систематического обновления географических карт каждые лет обновлении нуждался академический атлас ломоносов считал необходимым новом атласе отражены явления социально-экономического характера материалы атласа предполагалось краткий срок собрать помощью «географических запросов» разосланных г губерниям уездам анкете содержалось вопросов десять которых относились физической географии остальные — экономической природопользованию',\n",
       " 'تشتهر المحمية بأرضيتها البركانية مرصعة بيانابيع مائية ساخنة وأحواض الكمى وينابيع ساخنة وتوجد الينابيع الساخنة العالم منطقة يلوستون سصل عدد الينابيع ينبوع ومنها السخانات الكبيرة سخان ضمنها \"أولد فيثفول\" \"حوض الجايزير العلوي\" يحب السياح مشاهدته ؛ فهو يدفع الماء الساخن أعلى بمعدل دقيقة يوجد بالمحمية ينبوع steamboat geysir ويعد أنشط ينبوع ساخن العالم موجود \"حوض جايزير نوريس\"',\n",
       " '« خلاصه این فخر رازی آن محی الدین عربی آن غزالی چنین مولوی امثال او قدری گمراهند که ضلالتشان از عمیق\\u200cترین ضلالت هاست؛ این\\u200cها که در در ریاضت تلاش کرده\\u200cاند گاهی هذیان\\u200cهای عجیبی می\\u200cگویند تعریف\\u200cهای فراوانی از دشمنان خدا مانند طلحه زبیر معاویه می\\u200cکنند',\n",
       " 'übriidhaab kahekojalin puu ehk emas- isasõi paiknevad erinevatel puudel looduslikult tekkinud teis põlvkonna hübriid seni leitud kuigi teoreetiliselt võivad hübriidhaavad ristuda hariliku haavaga omavahel hübriidhaavad annavad rikkalikult seemet aga sellegipoolest neil seemnelis paljunemis võime tunduvalt väiksem kui lähteliikidel seemnest kasvanud hübriidhaavad märgatavalt nõrgema elujõuga kui harilik haab ning hukuvad halbad valgusolud külmakahjustust või rohttaimed konkurentsi tõttu',\n",
       " 'குலோத்துங்கனின் கலிங்கப் போரைப் பிண்ணனியாகக் கொண்ட பல்வேறு இலக்கியங்கள் தோன்றியதாகத் தெரிகிறது வீரசோழியம் உரை தண்டியலங்காரம் உரை ஆகியாவ்ற்றில் ஒரு சில செய்யுள்கள் மட்டுமே கிடைக்கின்றன கலிங்கத்துப் போர் பற்றிய ஏனைய பல செய்யுள்கள் நமக்குக் கிடைக்கவில்லை அவை இனி நமக்குக் கிடைப்பதற்கு வழியில்லை கலிங்கத்துப் பரணி அழியாது கிடைத்திருக்கிற்றது எனினும் அதன் மிக உன்னதமான இலக்கியத்தரமே அதற்குக் காரணமாக இருந்திருக்க வேண்டும் ஒரு சிறந்த நூல் மட்டமான ஏனைய நூல்களை அழித்துவிடும் என்பதற்கு இந்திய இலக்கியங்களில் வரலாற்றில் பல உதாரணங்கள் உள்ளன ஜெயங்கொண்டாரைப் பார்த்து எழுதியவர்கள் பலர் ஆனால் பிற்காலப் புலவர்களில் எவரையும் ஜெயங்கொண்டானுக்குச் சமமானவர்கள் என்றோ அவருடன் போட்டியிடக் கூடியவர்கள் என்றோ சொல்வதற்கில்லை',\n",
       " 'குறுநூல் miniatur book என்பது சிறிய அளவு கொண்ட நூலாகும் இவை அரை அங்குல சதுர வடிவில் இருந்து x அங்குல அளவு வரையான நூல்கள் இவ்வகையைச் சேரும் இவற்றின் உயரம் அகலம் அல்லது தடிப்பு அங்குலத்துக்கு மேற்படுவது இல்லை சுலபமாக இடத்துக்கிடம் எடுத்துச் செல்லலாம் என்பதாலும் மறைத்து வைப்பது இலகு என்பதாலும் ஆம் நூற்றாண்டின் கடைசிப் பகுதியில் இவ்வாறான நூல்களுக்குப் பெரும் மதிப்பு இருந்தது அக்காலத்துக் குறுநூல்களில் பல மொரோக்கோ நாட்டுத் தோலில் கட்டப்பட்டு சரிகை வேலைப்பாடுகள் முதலியன செய்யப்பட்டு அழகுற அமைந்தன அகரமுதலிகள் மொழி பெயர்ப்பிகள் சமயக் கதைகள் சில வேளைகளில் சுற்றுலாக் கையேடுகளும் கூட இவ்வடிவத்தில் உருவாக்கப்பட்டன',\n",
       " 'ksosoomid väikes lipiids kaksikmembraaniga ümbritsetud vesiikulid eksosoomid olid avastatud aastal retikulotsüütid kultuuri retikulotsüüdid erütrotsüütid eellas rakud sekreteerivad neid kahel viisil ka konstitutiivselt ehk reguleerimata konstants eraldumis kaudu või reguleeritud raku aktivatsioonil mõne teis signaalmolekuli toimel eksosoomid endosomaatilis päritoluga eristab neid teistest mikropartiklitest rakkud paiknevad suur multivesikulaars kehakes multivesikulaars kehakes membraan sopistub siss sinna voolab osa tsütosoolist pärast eraldub väike vesiikul täielikult multivesikulaars kehakes membraanist liigub kehakes siss nii toimub kuni terv multivesikulaarn kehak täi pärast võib eskrt valk endosoomi sorteeriv komplek suunata multivesikulaars kehakes ka lüsosoomi ku toimub proteiinid degradatsioon või plasmamembraani suuna kui multivesikulaarn kehak suunataks lüsosoomi sii seda nimetataks degradatiivsek degradatiivs kehakes signaalik ubikvitiini lisamin ubikvitiiniga markeeritaks teisi valk mida suunataks lüsosoomi või proteosoomi eksotstsütootilis multivesikulaars kehakes ühinevad plasmamembraaniga toimub membraanid fusioon eksosoomid eraldumin väliskeskkonda mikropartiklitest ainult ek',\n",
       " 'ปีเตอร์ เดนนิส แบลนด์ฟอร์ด \"พีต\" ทาวน์เซนด์ อังกฤษ denni blandford \"pete\" townshend เกิด พฤษภาคม เป็นนักกีตาร์ นักร้อง นักแต่งเพลง และนักประพันธ์ชาวอังกฤษ เป็นรู้จักในฐานะมือกีตาร์และนักแต่งเพลงวงดนตรีร็อคอังกฤษ เดอะฮู โดยพีตได้ร่วมอยู่กับวงฮูเป็นเวลายาวนาน ปี ในช่วงที่วงเติบโตขึ้นพวกเขาได้รับการยกย่องว่าเป็นหนึ่งในวงดนตรีที่มีอิทธิพลในยุค และ',\n",
       " 'สัมประสิทธิ์แรงยก cl หรือ cz อากาศพลศาสตร์ ปริมาณไร้มิติ เกี่ยวกับแรงยกที่สร้างขึ้นโดยแพนอากาศ ด้วยแรงดันพลวัตของของไหลรอบ ๆ แพนอากาศ และพื้นที่ผิวของแพนอากาศ',\n",
       " 'civarında selahaddin eyyubi mısırdaki devlet işlerinden kendini ayırarak yakın akrabalarının bulunduğu şam halep civarına çekilmişti burada iken kurduğu devletin kendinden olacağı hakkında önemli kararlar aldı kardeşi adil kabul ettirdi kararlara göre birinci oğlu efdal suriy filistinin idaresi suriy şam emiri ikinci oğlu aziz osman mısır sultanı üçüncü oğlu zahir gazi halep emiri olacaktı kardeşlerinden turanşah yemen emiri adil elcezir diyarbakır yöreleri mayyafarikin emiri olarak hükümet edeceklerdi kardeşi adil ayrıca ürdünde kerak şuvbak kaleleri verilecekti tarihçi ebu fedaya göre selahaddın yaşında oğlu aziz osmanı mısır valisi yapmış genç aziz osman görevi amcası ebubekir adil paylaşmıştır',\n",
       " 'உயர் பள்ளி மாணவர்களுக்கு high school student தமது பல்கலைக் கழகத் தேர்வுக்கு தேவையான கிறடிக்களில் தமிழ் மொழிக்காக கிறடிக்கள் பெற முடியும்',\n",
       " 'ppianu ips historii sani aequi iudicii fuiss videtur favor vel odio gesta narrar studet nec testimonia iniqua -exempli gratia philippica ciceronis- historico accipienda putat font rebu gesti coaevo eligit atqu nonnumquam inscription scrinia palatina recurrit exempli gratia proscriptioni edictum anni acn graec conversum quarto libro bellorum civilium suorum inseruit experientia quoqu uti scit quipp imperatorum romanorum procurar solebat instituta suae aetati nonnumquam memorat praeter conferat magni momenti parvi discerner solet atqu causa magnarum mutationum rerum plerumqu optim percipit',\n",
       " 'هور در اوت در لیسمور نیو ساوث والز در استرالیا دنیا آمد او از بیماری اسکیزوفرنی رنج می\\u200cبرد با حقوق مستمری ناتوانان دولت زندگی می\\u200cکند او در حومه شهر می\\u200cفیلد در شهر نیوکاسل نیو ساوث والز زندگی می\\u200cکند',\n",
       " 'suit tension xv franc boycotté équip britanniqu voient dérive d’un trè mauvai œil point d’être exclu tournoi cinq nation ffr trouv enfin accord club entré dissid conséquenc crise profond effectif diminu trè fortement nombr club pass nombreux club arrêtent purement simplement rugbi alor dautr rejoign rugbi xiii professionnel lancé franc',\n",
       " 'نصیر کوی کو جہلم میں پیدا ہوئے۔ وہ پنجابی اور اردو کے شاعر تھے۔ان کی مشہور نظم تم کتنے بھٹو مارو گے\" دنیا بھر میں مشہور ہوئی۔وہ انقلابی سوچ کے انسان تھے جس کا اظہار ان کی شاعری میں موجود ہے۔ ان کا انتقال نومبر کو جہلم میں ہوا۔ان کی کتاب \"ساڈے ہتھ اگنی دا تا\" ان کی وفات سے چند دن پہلے چھپی۔',\n",
       " 'avril promu chef brigad général chef moreau command demi-brigad lign employé divis militair fait chevali légion d’honneur décembr offici l’ordr juin',\n",
       " 'klimaat eilanden varieert subtropisch tropisch basi groott eilanden warmt extreem luchtvochtigheid samen vruchtbar vulkanisch bodem gezorgd dicht regenwouden eilanden twee jaargetijden onderscheiden hete jaargetijd duurt novemb maart koeler jaargetijd april oktob loopt',\n",
       " 'ondisi memunculkan gab celah kebutuhan nutrisi yang akibatnya ayam megalami gangguan produktivita kondisi seringkali istilah defisiensi nutrisi kejadian defisiensi nutrisi disebabkan nutrisi ransum feed intak konsumsi ayam sesuai kebutuhan nutrisinya terpenuhi ransum yang dikonsumsi sesuai asupan nutrisi yang masuk kekurangan',\n",
       " 'piradicli cylindrica måreväxtart beskrev nathaniel wallich joseph dalton hooker spiradicli cylindrica ingår släktet spiradicli familjen måreväxter inga underart finn listad catalogu life',\n",
       " 'डॅल्टा इक्वूलिआइ δ equulei - यह द्वितारा है जिसके दो तारे एक-दूसरे की इर्द-गिर्द हर सालों में परिक्रमा पूरी कर लेते हैं। यह किसी द्वितारा मंडल लिए बहुत ही कम कक्षीय काल ऑर्बिटल पीरियड है।',\n",
       " 'ராம்சே குறுக்கீட்டு முறையால் ramsey interferometri அணுக்களுக்கிடையே நடைபெறும் நிலைமாற்றத்தின் transit அதிர்வெண்ணைக் அளவிடும் ஆய்வே அணுவினுடைய நீரூற்று உருவாக காரணமாக இருந்தது',\n",
       " '在南美，达尔文发现并挖掘了一些已灭绝的巨型哺乳动物化石，其中相当一部分并不处于有剧烈天气变化与灾难发生迹象的地质层里。而一个动物的头盖骨在他看上去竟似乎是非洲犀牛的。此外，他判断一些动物甲片来自于该地区一种常见犰狳体积两至三倍大小的史前巨型犰狳身上，但受bori saint-vincent的dictionnair classique的误导，他转而相信是周围发现的大地懒属的遗骸的一部分。在赖尔的第二卷书中，万物的创生被归结为“centr creation”，而此时思想已经走在时代前方的达尔文对此困惑不解。',\n",
       " 'سانچہقرآن-سورہ آیت ۔۔۔* قَالَتْ لَهُمْ رُسُلُهُمْ إِن نَّحْنُ إِلاَّ بَشَرٌ مِّثْلُكُمْ وَلَـكِنَّ اللّهَ يَمُنُّ عَلَى مَن يَشَاء مِنْ عِبَادِهِ وَمَا كَانَ لَنَا أَن نَّأْتِيَكُم بِسُلْطَانٍ إِلاَّ بِإِذْنِ اللّهِ وَعلَى اللّهِ فَلْيَتَوَكَّلِ الْمُؤْمِنُونَ',\n",
       " 'ergina tončeva гергина иванова тончева magistra bulgarica director gymnasii nationali classici serdica siti nata decembri',\n",
       " 'தனியொரு மனிதனால் புரட்ட முடியாத மிக அதிகமான மூலதனத்தை பல்வேறு மனிதர்கள் கூட்டாகச் சேருவதால் புரட்ட முடியும்மேலும் ஒருவரின் பொறுப்பு வரையறுக்கப் பட்டிருப்பதால் அவருக்கு பெரும் நட்டம் எதுவும் வந்து விடாது',\n",
       " 'さがみ三太・良太 浪曲漫才。共に先々代の相模太郎門下。三太は相模五郎の名で浪曲漫談を展開。良太は浅草・東洋劇場に入りコメディアンに転身。みなみ良雄として活躍したが、コントコンビ解散直後、三太と再会し漫才コンビを結成。年コンビ解散。現在、三太は再度一人で浪曲漫談を、良太は娘と親子漫才を行っている。また、三太は相模太郎の名跡を預かる。良太の弟子に酒井くにお・とおるがいる。',\n",
       " 'jack heuer consacr passion sport automobil lanc montr heuer carrera hommag carrera panamericana anné cett montr porté nombreux pilot cours donn naissanc lune bell collect marqu jack heuer présent prototyp slalom timer foir horlogèr bâle s’agit premier instrument chronométrag électroniqu préci seconde[réf nécessaire]',\n",
       " 'nut johannesen driemaal deel olympisch winterspelen tweemaal olympisch kampioen winterspelen meter winterspelen meter',\n",
       " '年月日，拍攝期間飽受籌資之苦的《賽德克·巴萊》將獲得台灣行政院文建會投資萬元國發基金，將使《賽德克·巴萊》成為文創創投官民共同投資政策下的第一案。魏德聖在剛出版的《導演、巴萊》新書中，有許多直述他與投資方打交道的過程篇幅。在臺灣鼓勵投資文創產業，而文創創投又熱衷投資臺灣電影的風潮下，或許可供電影投資者與創作者共同思考。',\n",
       " 'egal creado mucha expresion ajedrez \"passadinha segalesca\" especi golp táctico final peaton sacrifican promov dama',\n",
       " 'เดือนธันวาคม พศ มีการลงนามในข้อตกลงระหว่างแองโกลา คิวบา และแอฟริกาใต้เกี่ยวกับการถอนทหารคิวบา ทหารคิวบาถอนกำลังออกหมดเมื่อ พฤษภาคม พศ สงคราม ปีในแองโกลาสิ้นสุดลงเมื่อ พฤษภาคม พศ โดยผู้นำประเทศลงนามในสนธิสัญญาสันติภาพและรับปากจะฟื้นฟูประชาธิปไตย',\n",
       " '昭和六三年（一九八八）春三月、西園寺家の発祥地である北山殿の址、すなわち現鹿苑寺（金閣寺）の傍に、国際社会に活躍しうる人材を養成するため、新に学舎を建設し、『西園寺記念館』と名付けることにした。ここに掲げる『禮記』から引用された墨蹟は、学祖が大正四年（一九一五）須磨逗留の折に作られており、学を志す人々に学問の深さを諭したものである。',\n",
       " 'tenoma ptychophthalma vlinder famili sikkelmotten oecophorida wetenschappelijk naam soort eerst geldig gepubliceerd meyrick',\n",
       " 'ts rain canção cantora irlandesa enya lançada segundo singl álbum amarantin ano país europeu',\n",
       " 'ilesinin çocuğundan küçüğü mendeleyevin büyük babası sibiryanın gazetesini çıkarıyordu babası lise müdürüydü mendeleyev ilköğrenimini sürgünde yaptı babası ölünce annesi iyi öğrenim koşulları sağlamak amacıyla batıya göçtü',\n",
       " '欧洲大片的土地和许多古老著名的国家，即使已经陷入或可能陷入秘密警察和纳粹统治的种种罪恶机关的魔掌，我们也毫不动摇，毫不气馁。我们将战斗到底。我们将在法国作战，我们将在海上和大洋中作战，我们将具有愈来愈大的信心和愈来愈强的力量在空中作战；我们将不惜任何代价保卫我们的岛屿。我们将在海滩上作战；我们将在敌人登陆地点作战；我们将在田野和街头作战；我们将在山区作战；我们决不投降。即使这个岛屿或它的大部分被征服并陷入饥饿之中，这是我一分钟也没有相信过的，我们在海外的帝国臣民仍要英国舰队的武装保护之下，继续战斗，直到新世界在上帝认为适当的时候用它全部的力量和能力，来拯救和解放这个旧世界。',\n",
       " 'известно крайней мере образца критической оценки поэтического наследия м ломоносова пушкина — произведении третьего четвёртого плана — слишком известных «разнородных путевых заметках» эссе—перифразе радищевского «реального путешествия» — «путешествии москвы петербург» впервые изданных этим условным наименованием году главе «чёрная грязь» радищевского «путешествия» цитируемой пушкиным который говорит последнем излагая далее своё мнение',\n",
       " 'visser \"differenti sensori percept plant compound insects\" plant resist insect மூல முகவரியிலிருந்து -- அன்று பரணிடப்பட்டது பார்த்த நாள் மார்ச்',\n",
       " 'فریمونٹ کلارک کاؤنٹی وسکونسن کا رقبہ مربع کیلومیٹر ہے اور اس کی مجموعی آبادی افراد پر مشتمل ہے اور میٹر سطح سمندر سے بلندی پر واقع ہے۔',\n",
       " 'erro neuqu berg chile ligger provinsen provincia concepción regionen región biobío södra delen landet km sydväst huvudstaden santiago chile toppen cerro neuqu meter havet',\n",
       " 'terolophia variantennali spesi kumbang tanduk yang tergolong familia cerambycida spesi genu pterolophia ordo coleoptera kela insecta filum arthropoda kingdom animalia',\n",
       " 'போர்த்துக்கீசர் காலத்தில் திருகோணமலையின் திருக்கோணேஸ்வரம் ஆலயத்தைப் போத்துக்கேயர் அழித்தபோது அங்கிருந்த சில விக்கிரகங்களைக் காப்பாற்றுதவற்காக குருமார் மீட்டு எடுத்தனர் பின்னர் இந்த விக்கிரகங்களை தம்பலகாமத்தில் பிரதிட்டை பண்ணியதன் மூலம் உருவாக்கப்பட்டதே இந்தக் கோவிலாகும்',\n",
       " 'eponüümn arhont hoolitseb niisii kõige sell eest kuninga aga korraldab kõigepealt müsteerium koo korraldajatega kell valib rahva kak kõikid ateenlast poolt ühe eumolpiidid teis kerüükid poolt peal sell lenaia dionüüsiad koosnevad rongkäigust võistlusest rongkäigu korraldavad kuninga korraldajad ühiselt võistlus aga korraldab kuninga üksinda korraldab kõik tõrvikutega rongkäigud kaitsevalitsu kõikid niinimetatud traditsioonilist ohvripidustust üle lähevad loosiga pealekaebus jumalateotus pärast sii kui tekib vaidlu preestriameti ümber otsustab kõik tülid sugukondad preestrit vahel sakraalset asjad mõrvakohtuasjad lähevad loosiga kuulutab välja erandid religioossetest tavadest mõrva- haavamiseprotsessid kui keegi mõrvab või haavab meelega toimuvad areopaagi ee sii kui keegi mõrvab mürgi või süütamisega ainult sell üle mõistab kohut nõukogu tahtmatu tapmis või mõrvakavatsus üle või kui keegi tapab orja asuniku või võõramaalas kohtunikud pallaadioni kui keegi tunnistab mõrva üle kuid väidab soorita sell õigusega näitek abielurikkuja tabamisel või ettekavatsemata sõja või spordiõnnetus läbi sii peetaks sell üle kohut delfiinioni kui keegi pagen',\n",
       " 'खड़ताल castanet तालवाद्य है जिसमें दो बराबर धातु लकड़ी फ़ाइबरग्लास किसी सख़्त सामग्री से हिस्सों हाथ में पकड़कर आपस में टकराने से ध्वनी उत्पन्न की जाती है। इन दोनों हिस्सों अंत पर धागे से बांधकर जोड़ा गया होता है।',\n",
       " 'يزيد بن أبى كبشة السكسكى الشامي الدمشقي اسم أبيه أبى كبشة جبريل بن يسار بن حيى بن قرط بن سبيل بن المقلد بن معدى بن عريق بن السكسك بن أشرس بن كندة بن عفير بن عدى بن الحارث',\n",
       " 'مهبل په لاتينvagina ښځينو تی لرونکو ژويو داخلو تناسلو غړو څخه یوه نلي عضله ده چې مقعد او متيازو نل په منځ کې پرته ده نوموړي غړه فرج رحم سره لگوي او حيض ښځې مياشتۍ ناروغی زیږولو او جنسي اړيکو جماع په وخت کې عمل کوي',\n",
       " 'карл поппер сформулировал концепцию трёх миров мира физических объектов состояний мира психических ментальных состояний сознания мира объективного содержания мышления сюда входят содержание научных гипотез литературные произведения другие зависящие субъективного восприятия объекты',\n",
       " 'リオ・グランデ平原の西端に位置するラレドは、エドワーズ台地の南、東は海岸平原、西はメキシコ山脈となっている。この地域には下藪、草地、オークおよびメスキートで覆われた幾つかの丘と平地がある。毎年開催されるコーラ・ブランカ・コンテストにはアメリカ合衆国やメキシコ中から多くの狩猟者が集まる。',\n",
       " 'النهاية قال القاضي تشانيل \"أن أعمال المتهم توضح أنه مذنب\" فقد حاول يخفي المسدس وأن يهرب ايستبورن أوضح لهيئة المحلفين الكثير القضايا انتهت بإدانة المتهم بغض النظر وجود أدلة قليلة دقيقة النقاش تقريبا اتفقت هيئة المحلفين بالحكم المتهم بأنه مذنب وقد حكم القاضي ويليمز بالإعدام',\n",
       " 'หลังจากที่ภาคเอนด์เลสวอลซ์ออกฉาย ฮาจิเมะ คาโทกิก็ได้ออกแบบกันดั้มเดธไซธ์ใหม่อีกครั้งและเรียกว่ารุ่นแรกเริ่ม earli typeให้มีรูปร่างที่ใกล้เคียงกับกันดั้มเดธไซธ์เฮลในภาคเอนด์เลสวอลซ์มากกว่าเดิม',\n",
       " 'ockinga gezworen stad groningen drie jaar presid krijgsgericht aldaar vanaf lid raad eerst maal burgemeest groningen period tussen gedurend reek jaren raadsheer afgewisseld functi gedeputeerd groningen voort lid admiraliteit harlingen daarnaast vervuld regentenfuncti scholarch latijns school curat hogeschool bewindvoerd west-indisch compagni drost oldambt',\n",
       " 'awuman köyü zaman hangi halklar tarafından kurulduğu arkeolojik çalışma yapılmadığından kesin olarak bilinmemektedir ancak gerek yaşlıların anlatımı gereks günümüze ulaşan eserl kürtlerden önce ermenilerin burada yaşadığını gözler önüne sererçeşitli zamanlarda değişik yerlerdeinşaat yapımı yapılan temel kazılarında yer altında iyi işlenmiş taş duvarlar mezarların çıkması vb köyün eski yerleşim yeri hatta merkez olabileceği intibasını güçlendirmektedir',\n",
       " 'rik komatsu dabord drafté yanke york choisiss tour sélection sign léquip sign cepend brewer milwauke font choix rond alor quil évolu luniversité détat californi fullerton',\n",
       " 'آهن ششمین عنصر از لحاظ فراوانی در جهان است که در آخرین کنش نکلئوسنتز در ستاره\\u200cهای بزرگ از طریق سیلیکون فیوزینگ ایجاد می\\u200cشود در حالی که آهن حدود ٪ از پوستهٔ زمین را تشکیل می\\u200cدهد اعتقاد بر این است که هستهٔ زمین در حد زیادی از یک آلیاژ آهن-نیکل تشکیل شده\\u200cاست که ٪ جرم کل زمین را تشکیل می\\u200cدهد بنابر این آهن فراوانترین عنصر روی زمین است ولی در پوستهٔ زمین چهارمین عنصر از لحاظ فراوانی می\\u200cباشد بیشتر آهن پوسته شکل ترکیبی با اکسیژن صورت سنگ\\u200cهای معدنی اکسید آهن هماتیت مگنتیت یافت می\\u200cشود',\n",
       " 'راميرو الثاني – ابن أردونيو الثاني وملك مملكة ليون عام وفاته البداية ملكًا بالاسم فقط جزء مملكة أستورياس ملكًا ليون ومعها جليقية تنازل أخيه ألفونسو الرابع العرش عام وتعد حوليات قشتالة الأولى بالإسبانية anal castellano primero المصدر الرئيسي يتناول فترة حكمه',\n",
       " 'ஒடிசி என்பது இந்தியாவிலிருக்கும் ஒரிஸ்ஸா மாநிலத்தில் ஆடப்படும் ஒரு நடனம் இது கோயில்களில் பேணப்பட்டுவந்த ஒரு பாரம்பரிய நடனக் கலையாகும் பதினேழாம் நூற்றாண்டில் கோட்டிப்புகழ் எனப்படும் சிறுவர்கள் இந்நடனத்தைப் பெண்ணுடை தரித்துக் கோயில்களில் ஆடினர்',\n",
       " 'ஆமைக\\u200c\\u200cள் மு\\u200cட்டை\\u200cயி\\u200cட்டு கு\\u200cஞ்சு பொ\\u200cரி\\u200cக்கு\\u200cம் இன\\u200cத்தை\\u200cச் சே\\u200cர்\\u200cந்தவை கட\\u200cலி\\u200cல் வாழு\\u200cம் பெ\\u200cண் ஆமைக\\u200cள் கரு\\u200cத்த\\u200cரி\\u200cத்தது\\u200cம் ஆயிரம் மைல்களுக்கு அப்பால் உள்ள ஒரு கட\\u200cற்கரையை நோ\\u200cக்\\u200cகி கூ\\u200cட்டமாகப் பய\\u200cணி\\u200cக்க\\u200cத் தொடங்கு\\u200cம் ப்வை பெரும் கூட்டமாக அல்லது சிறிய குழுக்களாக வந்து பெரும்பாலும் ஒபிரஹேசத்திலேயே முட்டைகளை இடுகின்றன அதாவது ஒருமுறை முட்டை இட்ட கடற்கரையையே அடுத்தமுறையும் முட்டையிடுவதற்காகத் தெரிவுசெய்கின்றன முட்டையிடவுள்ள கரையை அண்மித்த கடலில் குறித்த கடல் ஆமை இரவாகும் வரை காத்திருக்கும் இரவானதும் கடற்கரைக்குச் சென்று தெரிவுசெய்த இடத்தில் தனது உடல் நிலத்தில் பதிவதற்கு ஏற்றவாறு முன்னங்கால்களால் குழி ஒன்றைத் தோண்டி பின்னர் அந்தக் குழிக்குள் தனது பின்னங்கால்களால் கோப்பை வடிவில் குழி ஒன்றையும் தோண்டிக் கொள்ளும் இவ்வாறு முட்டை இடுவதற்கெனத் தோண்டும் குழி முட்டைக் கூடு என அழைக்கப்படுகின்றது முட்டைக்கூடானது முதல் சென்ரிமீற்றர் அளவு ஆழத்தில் இருக்கும் இத்தகைய அளவுடைய ஒரு கூட்டில் சுமார் முதல் முட்டைகள் வரை இடும் பெரும்பாலான கடல் ஆமைவகைகளின் முட்டையொன்றின் அளவும் தோற்றமும் மேசைப்பந்தொன்றைப்போல் இருக்கும் இந்த முட்டையின் கோது மிகவும் மென்மையானது முட்டை இட்டு முடிந்த பின்னர் பெண் கடலாமை அதன் முன்னங்கால்களால் மணலை வீசி முட்டைக்கூட்டை மூடிவிடும் முட்டைகளை மணல் போட்டு மூடிய பின்னர் அது மீண்டும் கடலுக்குள் சென்றுவிடும் இந்த முட்டைகள் சூரிய வெப்பத்தால் மணல் சூடாகும் போது இயற்கையாகவெ அடைகாக்கப்பட்டு இரண்டு மாத',\n",
       " 'состоянию г единственным поставщиком зенитной артиллерии армии сша компания colt manufactur compani изготавливавшая -мм автоматическую зенитную пушку весьма посредственных годовых показателях производства — экземпляров год началу г удалось увеличить темпы производства орудий месяц будучи увеличенными втрое темпы производства удовлетворяли растущим потребностям вооружённых сил сша — отдельного повествования заслуживает история принятием «бофорс» вооружение момент -мм орудие устраивало командование главного управление вооружений армии сша начальник береговой артиллерии генерал-майор дж грин настоял необходимости -мм бофорс которое зарекомендовало период гражданской войны испании ходе дюнкеркской операции эвакуации союзнических сил дальнейшем это решение оправдалось мере интенсификации применения японской стороной камикадзе тихоокеанском театре военных действий флоте предпочитали дальнобойные «бофорс» превосходившие «эрликон» эффективной дальности стрельбы интерес командования флота орудию возник проявился году осенью г образцы бофорс независимо друг друга получили ознакомительных целей управления вооружени',\n",
       " 'aprè travaux détienn pattou armoiri née mariag dhenri mesm seigneur roissi malassis maîtr requêt chanceli royaum navarr lieuten civil député pari jeann hennequin fill doudard iv hennequin descend famil gentien gentien derigné « gueul troi fasc ondé dargent dazur semé fleur ly dor brochant » dazur semé fleur ly accordé roi philipp iv « bel » mémoir servic rendu batail mons-en-pévèl deux cousin jacqu pierr gentien',\n",
       " 'osto coenzima quimicament tiol pode reagir ácido carboxílico formar tioéster modo atu portador grupo acilo molécula coenzima leva grupo acetilo referida acetil-coa unida grupo acetilo referida geralment \"coash\" \"hscoa\" coenzima acetil permit degradado enzima ciclo kreb ocorr posteriorment degradação mesma',\n",
       " 'پوهاند ضمیر بېرته خپل هېواد راستون شو او خپلو خلکو چوپړ یې ملا وتړله هغه لمریز کال وري په میاشت کې کابل ښار دارالامان په ښوونځي کې ښوونکي سپېڅلې دنده پیل کړه او هېواد بچیانو په ښوونه او روزنه بوخت شو',\n",
       " 'แผนดินไหวครั้งนี้เป็นแผ่นดินไหวครั้งที่ก่อให้เกิดความเสียหายมากที่สุดในรอบปีที่เกิดขึ้นในพื้นที่ไครสต์เชิร์ช แผ่นดินไหวนี้ได้เกิดแผ่นดินไหวตามใหญ่เมื่อวันที่ มิถุนายน ซึ่งก่อให้เกิดความเสียหายเพิ่มเติมอีก และแผ่นดินไหวตามชุดใหญ่ในวันที่ ธันวาคม พศ',\n",
       " 'レッキ中、ドライバーは法定速度内で運転しながらコース上の注意すべき点を読み上げていき、それを隣に座るコ・ドライバーがノートに書き留めておく（目安となる目標物なども書いておく）。回目以上のレッキが許されている場合、今度はコ・ドライバーがノートを読み上げ、ドライバーが訂正箇所をチェックしてノートを修正する。本番のssアタック時にはコ・ドライバーがノートを読み上げ、ドライバーはその情報を頼りに全開走行することとなる。ペースノートの正確度は競技の成績を左右するだけではなく、乗員（クルー）の安全にも大きく関わる。',\n",
       " 'существует мнение иваново-вознесенское собрание уполномоченных новой формой государственного управления название «первый совет» дали --е годы xx века идеологическим соображениям -е годы xx века такая интерпретация получила второе рождение поддержку',\n",
       " 'roissi vécut situat franc occupé villag libéré mercredi août troup américain plusieur écrit document photographiqu témoignag roisséen relat libérat roissy-en-fr larmé américain ainsi jour précédé cet évènement historiqu',\n",
       " 'yılında iken sistemin fırlatılışının kasım ayında gerçekleşmesi bekleniyordu basın fırlatmanın başlarına kayabilceği yorumunda bulunmuştur ancak fırlatmanın tarihinin ocak ayı sonu olduğunu resmi olarak duyurmuştur',\n",
       " 'октябрю года канадское производство достигло показателя около двухсот орудий месяц десятки меньше темпов производства сша однако связи отсутствием самостоятельных логистических возможностей канадские экспедиционные соединения дислоцированные британских островах других регионах снабжались британских складских запасов время орудия канадского производства либо перевозились суше сша оттуда распределялись американской транспортно-логистической службой войск либо устанавливались вооружённых судах британского торгового флота заходивших канадские порты',\n",
       " 'março henri maundrel visit poço jacó profundidad água poço media edward robinson visit local meado século xix descrevendo \"resto antiga igreja\" encontrando-s pouco acima poço sudoest \"massa disform ruína quai fragmento cinza coluna granito ainda mantendo antigo polimento\" cristão locai continuaram venerar lugar igreja local adquirido patriarcado ortodoxo grego nova igreja dedicada santa fotina construída terremoto veio destruir templo',\n",
       " 'سوویت اتحاد کی چوڑائی کوئی کلومیٹر یعنی میل تھی جو کالینن گراڈ سے لے کر راتمانوا تک پھیلی ہوئی تھی۔ اس کی لمبائی تقریبا کلومیٹر یعنی کوئی میل تھی۔ اس کا زیادہ تر حصہ ناہموار اور بہت مشکل ہے۔ پورا امریکہ اس کے ایک حصے کے اندر سما سکتا ہے',\n",
       " 'сын бедных галисийцев рано потерял отца мать вынуждена просить подаяние знатный гранадец граф де мендоса пожалел мальчика взял пажи одному своих сыновей диего уртадо де мендоса впоследствии ставшему известным поэт писатель дипломат историк луис рос альгамбре жило семейство мендоса',\n",
       " 'มีภาพยนตร์ไทยเข้าประกวดจำนวน เรื่อง ภาพยนตร์สารคดี เรื่อง คณะกรรมการตัดสินประกอบด้วย พระเจ้าวรวงศ์เธอ พระองค์เจ้าเปรมบุรฉัตร เป็นประธาน นายธนิต อยู่โพธิ์ นายเขียน ยิ้มศิริ นายจิตต์ บัวบุศย์ นายสนั่น ปัทมทิน นายระบิล บุนนาค นายบุญยง นิโครธานนท์ นางลัดดา ถนัดหัตถกรรม นางเกษรี บุลศุข โดยนายสงบ สวนศิริ เป็นเลขานุการ',\n",
       " 'mbordservic försäljning dryck samt fullständiga rättighet finn flygn koncept varierar beroend sträcka tidpunkt resan nextjet också egen ombordtidn \"above\" producera samarbet spenner media',\n",
       " 'การตัดแต่งกิ่ง โป๊ยเซียนบางพันธุ์อาจแตกกิ่งออกมามาก ทำให้ใบอาจจะไปปิดบังแสง แล้วทำให้อากาศไม่ถ่ายเท จึงควรมีการตัดแต่งกิ่งทั้งเพื่อให้อากาศถ่ายเทสะดวก และเพื่อความสวยงาม นอกจากนี้กิ่งที่ตัดออกมายังสามารถนำไปขยายพันธุ์ต่อได้อีกด้วย',\n",
       " 'errängen runt puerto cuesta blanca kuperad högsta punkten närheten meter havet km väster puerto cuesta blanca trakten runt puerto cuesta blanca nära obefolkad mindr två invånar kvadratkilomet omgivningarna runt puerto cuesta blanca huvudsak öppet busklandskap',\n",
       " 'ดูโอจำต้องสละกันดั้มเดธไซธ์เมื่อถูก ozโจมตีหลังจากกลับไปอวกาศ ซึ่งกันดั้มเดธไซธ์ไม่สามารถต่อสู้ได้และระบบทำลายตัวเองไม่ทำงาน ozได้เก็บกันดั้มเดธไซธ์ไปศึกษาและทำลายออกอากาศเพื่อข่มขวัญชาวอาณานิคม ซึ่งซากของกันดั้มเดธไซธ์ถูกนักวิทยาศาสตร์ทั้งห้าเก็บไปปรับปรุงใหม่เป็น xxxg-d กันดั้มเดธไซธ์เฮล',\n",
       " 'スビアーコの修道院群の中心となるサンタ・スコラスティカ修道院 saint scholastica subiaco は、サクロ・スペコからマイル半ほどの場所に位置し、もともとは年にベネディクトゥスによって建設された修道院である。年にロンバルド人によって破壊され、およそ世紀にわたって放置されたが、世紀初頭にヨハネス世（在位：年 - 年）の命によって再建された。この際、ベネディクトゥスと彼の妹スコラスティカに奉献された。年、サラセン人によって修道院は破壊されたが、年の文書に再建が記録されている。この年に教皇レオ世（在位：年 - 年）は、ベネディクトゥスとスコラスティカに捧げられた祭壇を（シルウェステル世に捧げられた祭壇とともに）聖別したと言われている。さらに年にはハンガリー人による破壊を受けたが、すぐに再建された。ベネディクトゥス世（在位：年 - 年）は新しい教会を聖別し、修道院は聖スコラスティカに奉献されるものとなった。',\n",
       " 'lternanț vocalic facio „eu fac” ~ „făcui” ~ efficio „eu îndeplinesc” hau „casă” ~ häuser „case” ~ häuschen „căsuță” fr répéter „a repeta” ~ ilel répète „elea repetă”',\n",
       " 'nni famam quidem maiorem assecutu cantum \"hello dolly\" cantric barbara streisand edidisset cantum etiam spectamin musicali eiusdem nomini egit editu autem anno unu illustrissimi cantibu eiu \"what wonder world\" statim gratissimu britannia civitatibu foederati sed primum prosperatu',\n",
       " '달리 계산하면 수미산의 바다 위에 드러난 부분은 정육면체이므로 정육면체를 번 휘감았다는 것은 높이가 × 회 반복되는 것과 같다 즉 대용왕의 키는 최소 × 배 또는 최대 × 배이다',\n",
       " 'год учился харьковской консерватории ныне харьковский национальный университет искусств имени п котляревского класс сольного пения рс вайна одновременно артистом комсомольско-молодёжной оперы впервые выступил оперной сцене харькове году',\n",
       " 'помимо стрелковых механизированных формирований мл- состояла вооружении чисто артиллерийских бригад полков резерва верховного главного командования рвгк пушечный полк рвгк имел единицы мл- года формируются артиллерийские бригады рвгк пушечная бригада имела единиц мл- пушечные бригады рвгк могли входить состав крупных артиллерийских соединений — артиллерийских дивизий прорыва пушечных артиллерийских дивизий',\n",
       " 'patri sinspir présentat journaux françai américain contemporain « tout suivant lign éditorial offrant articl d’opinion journal principal qualité d’être util agréabl patri respir cett philosophi nouvel fait place chaqu semain feuilleton supplément music poési courrier pass revu l’actualité local national international voulant populair donn lecteur comm argent contribu invent press canadienne-français journal bon marché rempli renseign nouvel politiqu aussi variées»',\n",
       " 'ผู้ดำรงตำแหน่งมิสแกรนด์มาเลเซียคนแรก คือ michel madelein moey จากรัฐปีนัง และได้เข้าร่วมการประกวดมิสแกรนด์อินเตอร์เนชันแนล ซึ่งถือว่าเป็นการประกวดมิสแกรนด์อินเตอร์เนชันลแนลครั้งแรก ส่วนผู้ดำรงตำแหน่งมิสแกรนด์มาเลเซียคนปัจจุบัน คือ ranmeet jassal จากรัฐเซอลาโงร์ ซึ่งได้รับตำแหน่งการแต่งตั้งจากผู้อำนวยการกองประกวดฯ ให้ดำรงมิสแกรนด์มาเลเซีย เพื่อให้เข้าร่วมการประกวดมิสแกรนด์อินเตอร์เนชันแนล ณ เมืองลาสเวกัส ประเทศสหรัฐอเมริกา',\n",
       " 'guerra então passou cidad latina medúlia fort guarnição bem fortificada diverso combat realizado cidad romano acabaram vencedor anco retorn roma muito espólio latino serem habitant cidad assentado sopé aventino perto mont palatino perto templo múrcia',\n",
       " 'embar siam nugroho yuliana nugroho yuliani anak pasangan suyono sri mariyati desa balerejo madiun jawa timur lahir operasi ceasar rsud dr soedono madiun maret rsud dr soedono madiun merujuk bayi kembar siam rsud dr soetomo surabaya menanganinya',\n",
       " 'anthracina insect behoort ord vliesvleugeligen hymenoptera famili gewon sluipwespen ichneumonida wetenschappelijk naam soort eerst geldig gepubliceerd tosquinet',\n",
       " '花岡駅には当時を偲べる物はほとんど残されていない。徳和駅の紀勢本線を乗り越えていたガードは架け替えられ、三重県道号が通っている。県道が尽きる豊原琵琶垣内交差点付近からしばらくは小さな橋台がいくつか残っている。漕代駅跡付近からの線路跡は、現在は三重県道号が通っている。伊勢有田駅 - 川端駅間の参宮線を乗り越えていたガードは、当時のまま道路橋に転用されている。この付近にも小規模な橋台がいくつか残っている。宮川を渡る鉄橋のトラスの一部は豊橋駅を跨ぐ陸橋に転用されて現存しているが、宮川橋梁自体を偲べる構造物は大神宮前方にある橋台のみである。宮川堤駅から大神宮前駅までの路盤は線路に転用されている。この区間にあった第トンネル、第トンネルは自動車用に改良され、それぞれ秋葉山トンネル、天神丘トンネルと名を変えている。山田西口駅跡には、跡地の敷地にある民家が「伊勢電山田西口駅記念室」として、壁には駅名標が再現され、伊勢電の資料室を設けている。大神宮前駅跡には伊勢市の設置した駅名標形の記念碑が建てられている。',\n",
       " 'இக்கோயிலில் ஆதித்தவர்னேஸ்வரர் ஆனந்தவள்ளிஅம்பாள் சன்னதிகள் உள்ளன இக்கோயில் தொகுப்புக் கோயில் என்ற வகைப்பாட்டில் இந்து அறநிலையத்துறையின் கட்டுப்பாட்டில் உள்ளது பரம்பரை அல்லாத அறங்காவலர் அமைப்பால் நிர்வகிக்கப்படுகிறது',\n",
       " 'องค์กรมิสแกรนด์มาเลเซียได้รับการก่อตั้งขึ้นอย่างเป็นทางการในปี คศ โดยในปี คศ และ นั้นได้มีการแต่งตั้ง santhawan boonratana และ ranmeet jassal ให้เป็นผู้ดำรงตำแหน่งมิสแกรนด์มาเลเซีย และมิสแกรนด์มาเลเซีย ตามลำดับ ทั้งนี้ในระหว่างการแต่งตั้งผู้ดำรงตำแหน่งมิสแกรนด์มาเลเซีย นั้น จูดี้ เบนจามิน ซึ่งดำรงตำแหน่งผู้อำนวยการกองประกวดมิสแกรนด์มาเลเซียในขณะนั้น ได้ให้ข้อมูลเกี่ยวกับการจัดการประกวดมิสแกรนด์มาเลเซีย ว่า มีการวางแผนจะจัดการประกวดดังกล่าวขึ้นในช่วงเดือนกรกฎาคม คศ เพื่อค้นหาตัวแทนชาวมาเลเซียเข้าร่วมการประกวดมิสแกรนด์อินเตอร์เนชันแนล',\n",
       " 'ohail play big role pakistan world-cup triumph famous tell ian botham send mother-in-law refer botham statement send mother-in-law pakistan botham controversi nought final sohail infam moment cricket field world cup quarter final arch rival india bangalor sohail captain side pursuit rel larg target over open partner saeed anwar pakistan fli start score saeed anwar back pavilion sohail smash deliveri indian seamer venkatesh prasad cover player exchang word sohail unnecessarili point finger aggress prasad deliveri clean-bowl trigger bat collaps ultim lost game elimin pakistan competit',\n",
       " 'aravá mijloci hatzeva cumpăna apelor mării moart și golfului eilat goful aqaba cuprind gav haarava ridicătura aravá circa mg înălțime și vărsarea râurilor nahal paran hayun și nekarot',\n",
       " 'マキとは面識はなかったが、彼女について「藤女一の美少女」という噂はナギにも伝わっていた。その後、塾でマキと対面するが、この時これまでの人生はその可愛らしい童顔のせいでほとんど男扱いされていなかった自分を「男」として扱ってくれたマキに好印象を持つようになった。ただし同時に異性に免疫のないマキのキョドった行動を見せられたため「すごくかわいいけど、すごく変」という印象に落ち着く（この際、若干引いていた）。それ以降はマキがナギを「リコが好きな人」「（どちらかといえば）同性の友達みたい」と認識したことから互いに普通に会話できるようになった模様。',\n",
       " 'அங்கிருந்த சிறுமலர் உயர்நிலைப் பள்ளியில் flower high school சேர்ந்து பயின்றார் அங்கு அவருக்கு ஆசிரியராக இருந்தவர் கவிஞர் பாபநாசம் சிவனுக்கு தம்பியான இராசகோபலய்யர் ஆவார் சிறிதுகாலத்திற்குள்ளவாகவே ஜானகிக்கு அம்மாவான நாராயணியம்மாள் இந்த இராசகோபலய்யருக்கு துணைவி ஆனார் ஆம் ஆண்டில் வெளிவந்த மெட்ராஸ் மெயில் திரைப்படத்தில் பாடல்கள் எழுத இராசகோபலய்யருக்கு வாய்ப்புக் கிடைத்தது எனவே அவர் தன் குடும்பத்தினருடன் சென்னைக்குக் குடியேறினார் அதனால் ஜானகியும் சென்னைக்குக் குடிபெயர்ந்தார்',\n",
       " 'أعادت السعودية عملية بناء جدار حاجز البلدين وذكرت سي الحاجز يبلغ طوله لإغلاق الحدود بينها وبين اليمن ويقول فرانك غاردنر مراسل سي للشؤون الأمنية زار الحدود البلدين الجزء الأول الحاجز اكتمل بناؤه وكانت السعودية شرعت ببنائه نهاية عام وبداية عام وأعتبرت اليمن حينها مخالفاً لاتفاقية جدة يبدو أنها حلت مشكلة الحدود البلدين',\n",
       " 'இக்கோயில் முதன்மைத் திருக்கோயில் என்ற வகைப்பாட்டில் இந்து அறநிலையத்துறையின் கட்டுப்பாட்டில் உள்ளது பரம்பரை அல்லாத அறங்காவலர் அமைப்பால் நிர்வகிக்கப்படுகிறது',\n",
       " 'omgivningarna runt huckleberri swamp växer huvudsak blandskog runt huckleberri swamp ganska glesbefolkat invånar kvadratkilomet trakten ingår hemiboreala klimatzonen årsmedeltemperaturen trakten °c varmast månaden juli medeltemperaturen °c kallast januari - °c genomsnittlig årsnederbörd millimet regnigast månaden juni genomsnitt mm nederbörd torrast mar mm nederbörd',\n",
       " '\"hoje brasõ frequentement único elemento dispõ situar objecto monumento documento espaço tempo embora tradição heráldica ainda mantenha viva muito país inglaterra escócia suíça sobretudo notável quantidad código deu origem regem grand part história simbólica social bandeira farda etiqueta produto alimentar vitivinícola passando símbolo partido político clube futebol\"',\n",
       " '年（大正年）月初旬、ホフマンより「スグコイ ホフマン」という電報を受け、帰京する準備をしていたところ、萩へ赴任中だった司祭のエメ・ヴィリヨンが尋ねてきた。ヴィリヨンは、若きホイヴェルスに萩・津和野の教会を任せようと思い期待していたが、電報の内容を見るや落胆し、「イエズス会は駄目だ」と烈火のごとく怒った。ホイヴェルス自身も、出来るなら岡山に残り、布教活動をしたかった。',\n",
       " 'artin rosen cinéast dramaturg américain réalisateur producteur plusieur film cinéma télévision œuvr cinématographiqu connu long métrage danim foll escapad watership sorti fondateur dune compagni cinéma théâtre nepenth product',\n",
       " 'ika ditel eusebiu merujuk injil matiu bahasa ibrani ayat - salah “ketiga injil sebelumnya” merujuk injil matiu bahasa yunani “ tangan orang” satu-satunya eusebiu menganggap versi karya versi ibrani yunani injil matiu dipahami injil matiu bahasa yunani terjemahan yang dikembangkan injil matiu bahasa ibrani dituli matiu',\n",
       " 'ohidroa berg madagaskar ligger centrala delen landet km söder huvudstaden antananarivo toppen vohidroa meter havet',\n",
       " 'nnonsbladet lundaliv finn utkomm åtta nummer året gatorna skåneupplagan gratistidningarna metro citi malmölund hämta ur torg trottoar uppställda behållar lund lokala tv-kanal heter steve liksom radio studentkan båda etermedi driv utskott akademiska föreningen huvudsakligen gjorda student lund skall bevaka svt genom sydnytt sverig radio genom radio malmöhu',\n",
       " 'รีเบร์เปลต ได้สิทธิ์สำหรับทัวร์นาเมนต์ในฐานะทีมชนะเลิศของ โกปาลีเบร์ตาโดเรส ฤดูกาล ด้วยการเอาชนะด้วยรวมผลสองนัด – เหนือ อูอาเอ็นแอล ใน นัดชิงชนะเลิศ นี่เป็นครั้งแรกของรีเบร์เปลตที่ได้เข้าร่วมในทัวร์นาเมนต์นี้ พวกเขาเคยได้ลงเล่นสองครั้งในนาม อินเตอร์คอนติเนนตัล คัพ ซึ่งเป็นรายการก่อนหน้านี้ของฟุตบอลชิงแชมป์สโมสรโลก ชนะหนึ่งครั้งในปี คศ และแพ้หนึ่งครั้งในปี คศ พวกเขาได้เข้ามาถึงรอบชิงชนะเลิศหลังจากที่เอาชนะสโมสรจากญี่ปุุ่น ซานเฟรช ฮิโระชิมะ ในรอบรองชนะเลิศ',\n",
       " 'genr calligrapha regroup espèc coléoptèr famil chrysomelida insect phytophag originair région tempéré amériqu nourriss nombreus espèc darbr arbrisseaux couram appelé calligraph raison motif ornent leur élytr',\n",
       " 'இது தெற்கு ஆசியா முழுவதுமே பரவலாகக் காணப்படுகிறது சாம்பல்-பழுப்பு கலந்த மேல்பாகம் மற்றும் மஞ்சள் கலந்த சிவப்பு கீழ் பாகம் கொண்டது மேலும் கருப்பு அடி வயிறும் செம்பழுப்பு உச்சந்தலையும் பிரதானமான வெள்ளைப்புருவக் கோடும் கருப்பு கண் பட்டையும் இக்குருவியை எளிதில் இனம் காண உதவும் களக்குறிப்புகளாகும்',\n",
       " 'البرلمان العربي استنكر البرلمان العربي بشدة الهجوم الإرهابي ووصفه بالجبان وتجه باسم الشعب العربي كافة ببالغ العزاء لعائلات الضحايا والشعب التونسي',\n",
       " 'asil precop - \"mihai teliman cronicar vieții românești bucovina ultimului deceniu sec xix-lea\" anb nr p -',\n",
       " 'स्वाभाविक से ये तीनों बातें देशहित में नहीं थीं इसलिए इसका तीखा विरोध करते हुए पं प्रेमनाथ डोगरा नेतृत्व में प्रजा परिषद् गठन हुआ और देश में प्रधान निशान और विधान आंदोलन छिड़ गया। में उन्हें गिरफ्तार किया गया था। उन्हें मुक्त कराने लिए आन्दोलन हुआ। उस नारा था \"जेल दरवाजे खोल दो पंडित जी छोड़ दो। इस आंदोलन में पंडित जी बार जेल गये और काफी दिनों तक जेल में रहे जहां शेख अब्दुल्ला सरकार ने उन्हें बहुत कष्ट दिए। इनकी सरकारी पेंशन भी बंद कर दी।',\n",
       " 'fl asteroid asteroid asteroid troya yupit yang terletak orbit yupit eksentrisita orbit asteroid tercatat magnitudo mutlaknya',\n",
       " '年他突袭波哥大，月日建立“大哥伦比亚共和国”，并把它分为三个省：委内瑞拉、新格拉納達和基多。其后议会选举他为哥伦比亚总统。年解放委内瑞拉，年月日同安东尼奥·何塞·苏克雷并肩解放厄瓜多尔，月日和何塞·德·圣马丁将军在瓜亚基尔会面。年月日解放上秘鲁，年月日上秘鲁以玻利瓦名字命名玻利维亚共和国，结束了西班牙在南美的统治。年在巴拿马举行泛美大会。',\n",
       " 'بَحرانی\\u200cها یا بحارنه عرب\\u200cهای بومی بحرین که شیعه هستند بزرگترین گروه قومی این کشور را تشکیل می\\u200cدهند جمعیت آن\\u200cها در سال در آمار اتنولوگ حدود هزار نفر برآورد شده\\u200cاست',\n",
       " 'endidikan sekolah dasarsd dijalankan bandung dilanjutkan singapura sekolah tingkat smp sma dijalankan singapura perguruan dijalankannya singapura south east asia union colleg singapor market financi cours singapor univers',\n",
       " 'ampeonato alagoano distriktsmästerskapet delstaten alagoa brasilien mästerskapet spelad första gången främst två lag framgångsrika mästerskapet csa crb respekt mästerskapssegrar senar tid arapiraca även kommit vunnit sex gånger -talet fram säsongen samtidigt csa vunnit enda gång -talet',\n",
       " 'comovent drama mistura romanc ação estrela jennif love hewitt série ghost whisper vive barista clair serv bebida biscoito conhecimento philli ground café local clair enfurec locai traficant principalment glenn kennedi encanta colega trabalho todd gold aconselha joven esperançoso especi jovem salli vega ajuda desafio solitário craig palmer apó clair envolv traficant locai começar perseguida encontra jovem misteriosa elli carrol resgatada vida morador nunca mesma apó chegada misteriosa clair',\n",
       " '좌익 국민주의左翼國民主義 프랑스어 nationalism gauch 영어 left-w nation 또는 사회국민주의社會國民主義 프랑스어 nationalism socialist 영어 socialist nationalism는 좌파 이념과 민족주의가 결합된 이념이며 반인종주의 반국수주의 반우월주의 반제국주의적인 것이 특징이며 민족 자결과 민족 해방을 최상의 가치로 여긴다 때문에 보편적인 국민주의인 우익 국민주의와는 여러가지 차이가 있다',\n",
       " 'बैक्टीरिया जनित मस्तिष्क ज्वर फैलाने वाले बैक्टीरिया व्यक्ति उम्र समूह भिन्न-भिन्न होते है। * जन्मे और माह तक नवजात शिशुओं में आम कारण ग्रुप बी स्ट्रेप्टोकॉकि उपप्रकार iii आमतौर पर योनि मे होता है वह कारण हैं पहले सप्ताह जीवन में रोग होने कारण है और पाचन तंत्र में आमतौर पर रहने वाले बैक्टीरिया जैसे एस्क्रीचिया कोली एंटीजन रखता है होते हैं। लिस्टीरिया मोनोसाइटोजिनिस सेरोटाइप iv बी नवजात प्रभावित कर सकता है और महामारी दौरान होता है।',\n",
       " 'photo memiliki fitur event yang penggunanya menemukan foto berdasarkan foto diambil pengguna event mengelompokan foto dalamnya tersedia fitur rate foto yang disimpan iphoto dirili januari memiliki tambahan fitur',\n",
       " 'rivalea-moșteni comună județul teleorman muntenia românia formată satel brătășani deparați și trivalea-moșteni reședința',\n",
       " '디제이맥스 포터블 클래지콰이 에디션 djmax portabl clazziqu edition은 펜타비전이 개발한 psp용 리듬 액션 게임인 디제이맥스 포터블의 후속작이다 디제이맥스 포터블 의 외전격 첫 번째 작품으로 이 게임은 전작과 달리 유명 가수 클래지콰이가 참여했다는 것에서 화제를 모으고 있으며 년 월 일 대한민국에 정식 발매되었다',\n",
       " 'மலாயாவில் முதன்முதலில் குடியேறியவர்களுக்கும் பாப்புவா நியூகினி பூர்வீகக் குடிமக்களுக்கும் பல உடல் ஒற்றுமைகள் உள்ளதாகக் கண்டுபிடிக்கப் பட்டுள்ளன அந்த முதல் ஆதிவாசிகள் குகைகளில் வாழ்ந்தனர் கற்களால் ஆயுதங்களைச் செய்தனர் இவர்கள் கிமு ஆண்டுகளுக்கு முன்னால் தென் மேற்குச் சீனாவில் இருந்து வந்து மலாயாவில் குடியேறியவர்கள் இந்தக் காலக் கட்டத்தைக் கற்காலம் என்று வரலாறு சொல்கின்றது இவர்கள் பெரும்பாலும் விவசாயிகள் வளர்ப்பு பிராணிகளும் இவர்களிடம் இருந்துள்ளன இவர்கள் மண்பாண்டங்கள் தயாரிப்பதிலும் ஆடை ஆபரணங்கள் தயாரிப்பதிலும் சிறந்து விளங்கி இருக்கின்றனர் குகைகளில் ஓவியங்கள் வரைவதிலும் தங்கள் திறமைகளைக் காட்டியுள்ளனர்',\n",
       " 'aki fotopoulo talk multidimension crisi inclus democraci oxford univers novemb video part part talk part talkdiscuss part discuss retriev januari',\n",
       " 'счёт женщины сильно ограничены передвижении течение жизни это оказывает сильное психологическое давление её положение мужем отцом становится очень уязвимым бессильным постоянным насилием угрозами социологами подсчитано коэффициент насилия женщинами относителен тому сколько данной местности распространена пурда затворничество зачастую лишает женщину либо медицинской помощи деревне поликлиника самостоятельного планирования замужестве женщина попытается сбежать деревни неё это крайне сложно сможет покинуть деревню сопровождении мужа мужчины-родственника исследования также показали женщины обязанные соблюдать пурду чаще используют контрацепцию',\n",
       " 'دوى دوه وزرې الوتکې په لومړنۍ ازموينه کې چې ويلبر رايټ چلوله فټه واټن په ثانيو کې طى کړ او په اخرنۍ او اوږده الوتنه کې چې بياهم ويلبر رايټ چلووله ددوى الوتکې فټه واټن په ثانيو کې وواهه',\n",
       " 'otic dautorité fichier d’autorité intern virtuel • intern standard identifi • bibliothèqu national franc donné • systèm universitair document • bibliothèqu congrè • gemeinsam normdatei • bibliothèqu royal pays-ba • bibliothèqu national catalogn • worldcat',\n",
       " '페리와 두펀스머츠 박사의 대결장면이 나오기 전에 두펀스머츠의 회사가 나오면서 나오는 짧은 노래 원작영어판과 한국어 번역판이 다르다 원작에서는 \"두펀스머츠 악당 주식회사~\"doofenshmirtz evil incorporated~로 나오지만 한국어판에서는 \"두펀스머츠 악당의 멋진 회사~\"라고 나오며끝 부분의 음도 원작이 더 높다 때에 따라 변형되기도 한다',\n",
       " 'سعد بن فضالہ جو شام کے جہاد میں سہیل کے ساتھ تھے بیان کرتے ہیں کہ ایک مرتبہ سہیل نے کہا کہ میں نے رسول اللہ ﷺ سے سنا ہے کہ خدا کی راہ میں ایک گھڑی صرف کرنا گھر کے تمام عمر کے اعمال سے بہتر ہے اس لیے اب میں شام کا جہاد چھوڑ کر گھر نہ جاؤں گا اور یہیں جان دونگا اس عہد پر اس سختی سے قائم رہے کہ طاعون عمواس میں بھی نہ ہٹے اور ھ میں اسی وبا میں شام کے غربت کدہ میں جان دی۔',\n",
       " 'heodora kaynaklarda theodora olarak anılır ~ - ö haziran i̇mpar justinianosun eşidir soylu olmadığı hald imparatoriç aşk cinselliğin sembolü olmuş birisidir',\n",
       " 'esquisador têm dificuldad estudar extinção humana diretament vez assim nunca aconteceu apesar disto significar extinção humana acontec futuro criar modelo risco existenciai complexo part devido vié sobrevivência',\n",
       " 'erorangan perusahaan menyebar merata sabang merauk indonesia negeri singapor malaysia filipina taiwan hongkong tiongkok india pakistan australia dubai jerman rusia belanda amerika',\n",
       " 'enso viven thueyt jóvene agricultor hijo agricultor panadero hijo panadero zapatero jóvene sabían leer escribir contar sabía leer analfabeto cuyo nivel educativo desconocido servicio militar mala reputación catorc solicitud exención reforma escrito petición éste demá oficio sei inscrito difícil obten información pue método selección cambiado',\n",
       " 'подготовительные группы набираются девочки мальчики возрасте - лет специально малышей создана универсальная система обучения «ребенок будущего» сочетается танец гимнастика музыка уроки творчества участие концертных программах подготовка школе',\n",
       " 'ชาวบันตูเป็นชนกลุ่มแรกที่เข้ามาอยู่ในบริเวณที่เป็นประเทศแองโกลาปัจจุบัน เมื่อก่อนพศ โปรตุเกสเข้ามาถึงแองโกลาเมื่อ พศ และผูกมิตรกับราชอาณาจักรบาคองโก เพื่อดำเนินการค้าทาส แองโกลาจึงกลายเป็นอาณานิคมของโปรตุเกส การต่อต้านโปรตุเกสด้วยสงครามกองโจรเริ่มขึ้นตั้งแต่ พศ - พศ โปรตุเกสจึงให้เอกราชแก่แองโกลา หลังได้รับเอกราช แองโกลาเกิดความขัดแย้งภายในประเทศระหว่างกลุ่มนิยมคอมมิวนิสต์กับประชาธิปไตยที่ต่างมีมหาอำนาจหนุนหลัง ในที่สุดกองทหารคิวบาเข้ามาช่วยทำให้ฝ่ายนิยมคอมมิวนิสต์คือขบวนการประชาชนชนะ ส่วนแกนนำกลุ่มสหภาพแห่งชาติที่สหรัฐหนุนหลังออกไปสหรัฐเมื่อ พศ',\n",
       " 'برنامج العالم يقول برنامج الهدف الرئيسي تغطية التطورات والأحداث العالمية سواء سياسية اقتصادية خلال متابعة الصحافة العالمية ينشر بالاضافة الي جولة سريعة تم نشره مصر دول اخري وجهة نظر مصرية',\n",
       " 'iigikogu õiguskomisjon riigikogu alatin komisjon \"mill tööala väga ulatuslik tegeleb eraõigus kriminaalõiguse- sisejulgeolekualast eelnõudega samuti politsei- piirivalveteenistust ning päästeteenistust reguleeriv eelnõudega komisjoni tööala advokaatid notarit vandetõlkid kohtutäiturit pankrotihaldurit tegevust korraldavad seadus ning valitsus tegevus reformid rakendamis kontrol oma valdkonna piires\"',\n",
       " 'به\\u200cطور سنتی فیلم\\u200cهای جنگی موزیکال\\u200cها درام\\u200cهای تاریخی ژانرهای محبوب بوده\\u200cاند اما در قرن میلادی فیلم\\u200cهای مجموعه\\u200cای محبوب\\u200cترین بوده\\u200cاند تمامی فیلم\\u200cهای هری پاتر سری فیلم\\u200cهای سرزمین میانهٔ پیتر جکسون در فهرست پرفروش\\u200cترین\\u200cها قرار دارند فیلم\\u200cهای دزدان دریایی کارائیب مجموعهٔ تبدیل\\u200cشوندگان نیز در آن حضور دارند همچنین ژانر ابرقهرمانی محبوبیت ویژه\\u200cای بین مخاطبان دارد بتمن سوپرمن از شرکت دی\\u200cسی فیلم\\u200cهای مارول مانند مرد عنکبوتی مردان اکس فیلم\\u200cهای دنیای سینمایی مارول فروش خوبی داشته\\u200cاند تنها فیلم\\u200cهایی که در فیلم پرفروش قرار دارند اقتباس دنباله یا بازسازی نیستند آواتار تایتانیک می\\u200cباشند که هردوی آن\\u200cها را جیمز کامرون نوشته کارگردانی کرده\\u200cاست فیلم\\u200cهای پویانمایی نیز معمولاً نمایش خوبی در گیشه داشته\\u200cاند پویانمایی\\u200cهایی مانند منجمد پرفروش\\u200cترین پویانمایی تاریخ شیرشاه از دیزنی داستان اسباب\\u200cبازی در جستجوی نمو از پیکسار پرفروش\\u200cترین پویانمایی\\u200cها بوده\\u200cاند مجموعه\\u200cهای شرک عصر یخبندان ماداگاسکار نفرت\\u200cانگیز از دیگر پویانمایی\\u200cهای موفق بوده\\u200cاند',\n",
       " 'topologi faibl group difféomorphism « topologi compacte-ouvert » sen converg uniform tout compact fonction dérivé jusquà lordr métrisabl σ-compacité',\n",
       " 'endapatkan ladang minyak tarakan tujuan jepang perang pasifik jepang menyerang tarakan tanggal januari mengalahkan garnisun belanda yang pertempuran yang separuh pasukan belanda gugur ladang minyak tarakan berhasil disabotas belanda penyerahannya jepang cepat memperbaikinya menghasilkan barel diproduksi',\n",
       " 'पहला ग्रैंड स्पोर्ट नाम कोड चेसिस गूडिंग एंड कंपनी पेब्बल की नीलामी में बेचा गया था जिसमें जीतने वाली बोली मूल्य $ मिलियन था। इस नीलामी से $ दान में दे दिया गया।',\n",
       " '寳晃院（ほうこういん）は東京都西東京市住吉町にある真言宗智山派の寺。山号は金輪山と号し、本尊には不動明王を祀る。宝晃院と記されることもある。 本山は練馬区石神井台の三宝寺。如意輪寺、寶樹院、東禅寺と合わせて保谷四軒寺と呼ばれる（以前は当寺、如意輪寺、寶樹院、西光寺（現総持寺）だったが、西光寺移転後は東禅寺となる）。また、多摩八十八ヶ所霊場の三十六番札所である。',\n",
       " 'تضمنت تحديد منطقة الرعي بعشرين كيلو مترا بحيث يحق للرعاة البلدين استخدام مناطق الرعي ومصادر المياه جانبي الجزء خط الحدود استنادا التقاليد والأعراف القبلية السائدة لمسافة تزيد كيلو مترا',\n",
       " 'สเปซอินเวเดอร์ส ได้รับการสร้างขึ้นโดยโทะโมะฮิโระ นิชิคะโดะ ผู้ซึ่งใช้เวลาหนึ่งปีในการออกแบบและพัฒนาฮาร์ดแวร์ที่จำเป็นในการผลิตเกมนี้ มีการรายงานถึงแรงบันดาลใจในการสร้างเกมจากที่มาที่แตกต่างกัน รวมถึงการดัดแปลงเชิงกลไกของเกม สเปซมอนสเตอร์ส ที่ได้รับการเปิดตัวใน คศ และความฝันเกี่ยวกับเด็กนักเรียนญี่ปุ่นที่กำลังรอซานต้าครอสและมีการโจมตีจากการบุกรุกของเหล่าเอเลี่ยน อย่างไรก็ตาม นิชิคะโดะได้อ้างว่าเกมอาเขด เบรกเอาท์ ของอาตาริได้สร้างแรงบันดาลใจให้แก่เขา เขาได้มุ่งหมายต่อการสร้างเกมยิงที่มีความโดดเด่นของความรู้สึกเดียวกันกับความสำเร็จจากการพิชิตด่านและทำลายเป้าหมาย แต่มีกราฟิกส์ที่ซับซ้อนมากขึ้น นิชิคะโดะได้ใช้รูปแบบที่คล้ายกันกับ เบรกเอาท์ แต่มีการเปลี่ยนแปลงทางกลศาสตร์ของเกม',\n",
       " '본래 오크 호드의 주술사이자 사려 깊고 미래를 염려하는 현자였던 넬쥴은 한때 막강한 세력을 거느리고 있었으나 불타는 군단이 침략하자 패배하고 불타는 군단의 에레다르 족 흑마법사 킬제덴에게 붙잡혀 몸을 잃는 형벌을 당한다 그러나 킬제덴이 넬쥴에게 자신의 부하가 된다면 새로운 몸을 줄 것이라고 약속하고 넬쥴과 다시 계약함으로써 서먹했던 관계는 곧 회복되지만 나중에 넬쥴이 변심하여 불타는 군단으로부터 독립하고자 킬제덴의 명령을 무시하고 언데드 스컬지를 만들자 킬제덴은 나이트 엘프의 일리단으로 하여금 넬쥴을 없애라고 한다',\n",
       " 'yansamba vattendrag kongo-kinshasa ligger provinsen katanga södra delen landet km sydost huvudstaden kinshasa',\n",
       " 'زغال سنگ مرمریت مرمر تراورتن کائولین سیلیس فیروزه پوکه معدنی بنتونیت باریتین دولومیت خاک نسوز زاج تالک فلدسپات گچ سولفات دوسود',\n",
       " 'meerika illuminaatid ühing kujuta endast lõhenenud mormoonid salaühingut ke laena weishaupti ordu nime omamata selget ettekujutust traditsioonist millel pretendeeri ordu moodusta umb paiku jame g strang tavalisel mormooni moel võtsid vaid mehi vastu kuigi lepinguk coven nimetatav abiorganisatsioon võtti vastu mõlemast soost isikuid peaordust palju teada aga lepe võtti lihaselis ehk sõjalis mormonismi näo ning andi vand kaitsta kirikut kuni verevalamiseni välja',\n",
       " 'ignifi littéral « théâtre interprété gen l’art » cest-à-dir comédien professionnel term jour utilisé nombreus langu parmi lesquel françai langlai',\n",
       " 'ozzenacum -i italian bocenago oppidum italia municipium region tridentino-alta athesiatirol meridionali provincia libera tridentina tridentinum situm incola bozzenacens appellantur',\n",
       " 'リヴォルヴァーカノンとは、強引な簡略化をすれば、大口径の弾薬を使用する全自動射撃機構を持つ回転式拳銃である。回転式拳銃とは“弾薬自体は外部の弾倉に装弾し、発砲時のみシリンダーに装填する”という点で異なるが、「単一の銃身に回転する複数の薬室を持つ」という火器としての機構は同一である。',\n",
       " '年北平和平解放后，年月毛泽东等中共中央领导人及中共中央机关、中国人民解放军总部从河北省建屏县（今平山县）西柏坡迁至北平。进入北平后，中共中央多数机关临时安置在西山的园林和旧寺庙内。当时中共中央设想在复兴门到石景山一带的农田和菜地兴建新城，并在万寿路地区兴建中央领导办公和居住地。中共中央同时决定，在新的办公地点建成前，为工作方便，中央机关及中央领导人暂到中南海办公。年月，毛泽东从香山双清别墅搬进中南海丰泽园菊香书屋。',\n",
       " 'tiam conventio praevention pugnaqu consilii europa violentiam mulieribu ac domesticam hanc conventionem praefacion adfirmat',\n",
       " 'venema tulid võimul enamlas vabastati salza teenistusest isegi veda sest enamik baltisakslastest ke olid vene sõjavä lasti maha',\n",
       " '年月-日凌晨：第一列列車crha-逐步由屯門內河碼頭運抵石崗。因车卡较多且车身较为宽大，港铁方面于月日至日将列车分为四次从码头运抵石岗，每次运送两节车卡。为配合运送，香港运输署决定月日至日期间，每日由凌晨时至凌晨时，将视情况对介乎锦田绕道与七星岗之间的一段锦田公路由双程行车改为单程东行。之后列车将在广深港高铁香港段进行靜態測試及低速動態測試，之後又會在公里的試行段隧道，即石崗緊急救援處至旺角西通風樓之間的下行隧道，進行動態測試。',\n",
       " 'марта года заседании межгосударственного совета евразэс высшего евразийского экономического совета принято решение подписании января года всеобъемлющего договора формировании евразийского экономического союза',\n",
       " '她和 gut 唱片公司簽約，公司準備為她錄製專輯，但發佈前公司倒閉了。後來她發現作為一位作曲家比較創佳績，獲得了索尼 atv 的出版合同。她與麥莉·希拉的 \"parti usa\" 的制片 drluke 一起合寫這首歌歌詞還和 claud kelly（克勞德凱利）合作，以及為賈斯汀‧提姆布萊克，克里斯小子（與他歐洲巡迴演出），艾莉西亞‧凱斯，克莉絲汀‧阿奎萊拉寫詞曲。她的 歌曲 \"sexi silk\" 被喜劇電影 easi 當成配樂。',\n",
       " 'ano fracassado casamento candi continua vivendo guadalajara torna treinadora equip futebol filho ond assist melhor amiga soledad cujo filho beto melhor amigo salvador váva patricio termina casando alic irmã candi contudo irrita constantement devido fato patricio pode esquec candi santiago abr clínica cidad guadalajara ond conhec candi edifício ambo trabalham princípio candi odiando santiago amor ficando vez fort noiva santiago chamada marisa sendo verdadeira fera',\n",
       " 'bizan i̇mparatoru herakleio bizan i̇mparatorluğunun doğu eyaletlerinin çoğunu istila sasani i̇mparatorluğuna karşı saldırı başlatmaya hazırdı nisan pazar günü paskalya kutlamasından gün konstantinopolisten ayrıldı patrik sergio patrici bonusin sorumluluğunda genç oğlu herakleio konstantini naip olarak bıraktı anadoludaki suriyedeki per güçlerini tehdit etmek hareketi konstantinopolisdan bitinyada pylaey kilikyada değil doğru yola çıkmaktı yaz eğitimini adamlarının yeteneklerini kendi generalliğini geliştirmek harcadı herakleio sonbaharda kapadokyaya yürürken fırat vadisinden anadoluya per iletişimini tehdit etti i̇rana girişini engellemek anadoludaki şahrbarazın komutasındaki per güçlerini bitinya galatyanın ön hatlarından doğu anadoluya geri çekilmey zorladı',\n",
       " 'گرابوف ناد پیلیتسان لهستانی grabów pilicą یک روستا در لهستان است که در گمینا گرابوف ناد پیلیتسان واقع شده\\u200cاست گرابوف ناد پیلیتسان نفر جمعیت دارد',\n",
       " 'وی نخست تربیت پدرش میرزا محمود حسینی امام جمعهٔ زنجان مدارج علمی را طی کرد هم\\u200cزمان تحصیلات کلاسیک فراگیری زبان فرانسه نزد میرزا مهدی خان وزیری پرداخت او بر زبان فرانسه مسلط بود از تشکیل حوزه علمیه قم به\\u200cوسیله عبدالکریم حائری یزدی حوزه\\u200cهای شهرهای ایران فعال بوده حوزهٔ علمیهٔ زنجان موقعیت خاصی داشته است وی دوران مقدمات سطح مقداری از درس خارج را در حوزهٔ زنجان در نزد این استادان گذرانددوره ادبیات؛',\n",
       " 'согласно сведениям приведённым докладе патриарха кирилла архиерейском соборе февраля года начале года русской православной церкви приходов текущим данным время доклада русской православной церкви имелось епархий несло служение епархиальных викарных епископов — правящих служило священников диаконов приходах — священника диакона остальные клирики относились монастырскому духовенству странах дальнего зарубежья имелось приходов монастыря московского патриархата числе приходов монастырей составе русской зарубежной церкви',\n",
       " 'پپخه خولۍ په تورکي ژبه کې قراقل وايي دغه خولۍ په ډېر زيار جوړېږي او ځانگړو روزونکو پسونو څخه په لاس راځي چې پسونو گډوری ماشوم پسه پیدا شي نو سمدلاسه يې حلالوي او پوستکی يې تر باسي',\n",
       " 'รถไฟวงแหวนเดลี เป็นส่วนหนึ่งของรถไฟชานเมืองเดลี มีลักษณะเป็นวงกลม และขนานไปกับถนนวงแหวน โดยรถไฟวงแหวน มีการวางแผนเพื่อรับรองการใช้งานในเอเชียนเกมส์ เริ่มเปิดให้บริการในปี คศ และได้พัฒนาขึ้นระหว่างช่วงเอเชียนเกมส์ สายนี้มีระยะทางยาว กิโลเมตร ใช้เวลาในการเดินตลอดสาย ชั่วโมง นาที ถึง ชั่วโมง โดยยึด สถานีนิซามุดดิน เป็นสถานีต้นทางและปลายทาง รถไฟเปิดเวลา นาฬิกา และปิดเวลา นาฬิกา เนื่องจากราคาตั๋วไป-กลับของสาย มีราคา รูปีอินเดีย ซึ่งน้อยมากเมื่อเทียบกับของรถไฟใต้ดิน ซึ่งมีราคา รูปีอินเดีย ดังนั้น รถไฟวงแหวนจึงเป็นที่นิยมของกลุ่มคนระดับกลางและระดับยากจน รถไฟแต่ละขบวนวิ่งห่างกัน นาที ถึง นาที นาที ในภายหลังจากที่โครงข่ายรถไฟเดลีขยายไปไกลกว่าถนนวงแหวน ทำให้รถไฟวงแหวนเป็นระบบรถไฟที่มากเกินจำเป็น อย่างไรก็ตาม ก่อนที่กีฬาจักรภพอังกฤษ จะเริ่มขึ้น ได้มีการเปิดใช้งานสถานีรถไฟ สถานี ใกล้กับสนามกีฬา',\n",
       " 'igny-la-sal commun francicum incolarum anno praefectura mosa region orientali lotharingia ianuarii alsatia campania arduenna lotharingia',\n",
       " 'ebe laetabili keversoort famili boktorren cerambycida wetenschappelijk naam soort eerst geldig gepubliceerd belon',\n",
       " 'rançois-rené chateaubriand franceză ipa |[fʀɑ̃swa ʀəne ʃatobrijɑ̃] septembri - iuli scriitor francez politician și diplomat considerat fondatorul romantismului literatura franceză principala lucrar \"geniul creștinismului frumusețea religiei creștine\" publicată ulterior numeroas ediții ale membru academiei francez',\n",
       " '路線が大神宮前駅まで達すると、桑名駅 - 大神宮前駅間を途中駅のみ停車し分で走破する特急「はつひ」「かみち」が、新造されたモハニ形により運転を開始。伊勢電が参急に吸収されたのちには、関急名古屋駅 - 大神宮前駅間を特急が分で走破した。戦後は線内運転のみとなった。',\n",
       " 'பீட்டர் ஆண்ட்ரியாஸ் தீல்அக்டோபர் இல் பிறந்தார் ஒரு அமெரிக்க தொழிலதிபர் துணிகர மூலதன நிபுணர் கொடையாளர் அரசியல் ஆர்வலர் மற்றும் எழுத்தாளர் ஆவார் $ பில்லியன் மொத்த சொத்து மதிப்புடன் ஆம் ஆண்டின் [list|ஃபோர்ப்ஸ் மிடாஸ் பட்டியலில்] வது இடத்திலும் மற்றும் $ பில்லியன் மொத்த சொத்து மதிப்புடன் ஆம் ஆண்டின் ஃபோர்ப்ஸ் பட்டியலிலும் இடம் பெற்றிருந்தார்',\n",
       " 'همچنین ببینید تاج خورشیدی حلقهٔ تاج خورشیدیاز تمام خورشید فقط جو آن قابل مشاهده\\u200cاست ناحیه\\u200cای که از لحاظ فعالیت نیز غنی است پایه جو خورشیدی شید سپهر است لکه\\u200cهای خورشیدی بر روی شید سپهر ظاهر می\\u200cشوند لایه خارجی بعدی رنگین سپهر',\n",
       " '이승만과 돈암장의 비서로 활동하던 그는 좌우합작과 신탁통치를 반대하는 이승만과 하지와의 관계가 악화되자 중간에 난처한 입장에 처하기도 했다 별다른 지원 없이 이승만의 비서로 활동하면서 그는 집이 있는 북아현동에서 이승만의 사저가 있는 돈암동과 마포장으로 걸어서 출퇴근하였다',\n",
       " 'چنانچہ جیمز دوم کو انگلستان آئرلینڈ اور اسکاٹ لینڈ کے تختوں سے اتارنے کے لیے ملک میں زبردست تحریک نے سراٹھایا۔ یہ تحریک تین سال تک جاری رہی۔ا دوران ملک کے جاگیر دار طبقہ نے جو ٹوری کہلاتا تھا بادشاہ کی زبردست حمایت کی اور پارلیمنٹ کی مخالفت کی جو فرماں روا سے معرکہ آراء تھی۔ٹوریوں کے مقابلہ میں کاروباری اور سرمایہ دار طبقہ تھا جو’وگ‘ کہلاتا تھا۔ وگ کا لفظ’ وگامور‘ سے نکلا ہے جس کے معنی ہیں مویشیوں کا چھکڑا چلانے والا۔ ٹوری کی اصطلاح آئرلینڈ کی زبان گیلیک سے ماخوذ ہے جس کے معنی ڈاکو اور رہزن کے ہیں۔ یہ نقطہ آغاز تھا ٹوری پارٹی کا جس نے میں اپنے آپ کو قدامت پسند پارٹی کہلانا پسند کیا لیکن اب بھی عرف عام میں ٹوری پارٹی کہلاتی ہے۔ اسی زمانہ سے ٹوری پارٹی بنیادی طور پر شاہ پرست پارٹی چلی آرہی ہے۔',\n",
       " 'primo actu octavia nullam spem mort videt caedibu messalina matri claudii patri fratri britannici edocta fatum genti suae recognovit contumelia igitur falsa crimina tantum timet etiam populu faven sedition movet eo incepto tam audaci deterrer conatur ei causa morti fieret verba eiu omnem tragoediam velut longa deploratio fati sonant',\n",
       " 'later moulin plattelandsgebi net ten zuiden rijsel net buiten stadsmuren port pari gebi kwamen twee belangrijk toegangswegen rijsel samen rue darra rue douai onderdeel wazemm lag kilomet ten oosten centrum parochi wazemm vooral windmolen opgericht vanaf eeuw volgend eeuwen leprozeri gevestigd buitenwijk bekend naam faubourg malad faubourg pari spreken begin eeuw teld wazemm -tal molen waarvan grootst deel later moulin ging vooral olieslagerijen omwil molen sprak faubourg moulin',\n",
       " 'uhar makinasının verimini inceleyen kişi fransız fizikçi nicola leonard sadi carnot’tur - yılında yayımladığı ateşin tahrik kuvveti üzerin isimli kitabında buhar makinasının maksimum veriminin sıcak halindeki buhar soğuk halindeki suyun sıcaklığı arasındaki farka bağlı olduğunu gösterdi carnot ısı işin birbirlerin dönüşmesi yolunu olarak alan kişi olduğundan termodinamik biliminin kurucusu kabul edilmektedir',\n",
       " 'eotridactylu obsoletu rechtvleugelig insect famili tridactylida wetenschappelijk naam soort eerst geldig gepubliceerd günther',\n",
       " 'இக்கோயிலில் அங்காள பரமேஸ்வரி அம்மன் சன்னதி உள்ளது இக்கோயில் முதன்மைத் திருக்கோயில் என்ற வகைப்பாட்டில் இந்து அறநிலையத்துறையின் கட்டுப்பாட்டில் உள்ளது வழக்கு நிலுவையில் இருப்பதால் நடைமுறை நிருவாகியால் நிர்வகிக்கப்படுகிறது',\n",
       " 'شاید از خود بپرسید که عدد را از کجا دست آورده\\u200cام برای دست آوردن این عدد باید تاریخ شمسی میلادی یک روز را در اختیار داشته باشید عنوان مثال شمسی طبق تقویم برابر میلادی است کاری که باید الان کنیم این است که این دو تاریخ را روز تبدیل کنیم در این تبدیل باید تعداد سال\\u200cهای کبیسه\\u200cای که این دو تاریخ پشت سر گذاشته\\u200cاند نیز فراموش نکنیم برای اینکه تعداد سال\\u200cهای کبیسه را در دو تقویم میلادی شمسی بخواهیم محاسبه کنیم باید را برای تقویم شمسی را برای تقویم میلادی تقسیم بر کنیم خارج قسمت این دو تقسیم ترتیب تعداد سال\\u200cهای کبیسهٔ تقویم شمسی میلادی است که از ابتدای شروع کار این تقویم\\u200cها تا کنون پشت سر گذاشته\\u200cاند البته این اعداد مطابق واقعیت نیستند ولی محاسبات اشکالی وارد نمی\\u200cکنند',\n",
       " 'änapäev peetaks tasakaalu tulemuskaarti ühek põhilisek komponendik ettevõtet strateegi juhtimissüsteemi aastal läbiviidud uuringut kohaselt tasakaalu tulemuskaart kuuendal positsioonil kõige levinum juhtimisvahendit maailma ning kolmand positsioonil euroopa tasakaalu tulemuskaardi kasutus määr näitek põhja-ameerika euroopa tasakaalu tulemuskaart laialdaselt kasutus äri tööstuse valitsusasutust ning mittetulunduslik organisatsioonid',\n",
       " 'june googl index billion internet url uniform resourc locat make comprehens search engin web time compani cite nec research institut data june press releas state \"there billion web page onlin today\" googl \"provid access million full-text index web page million partial index urls\"',\n",
       " 'يمكن فهم الحداثة أنها ردُ فعلٍ الحداثة أعقاب الدمار لحق بالفاشية والحرب العالمية الثانية والمحرقة العديد المثقفين والفنانين أوروبا يثقون الحداثة السياسية والاقتصادية والمشروع الجمالي برمته الحداثة كانت ترتبط كثيرٍ الأحيان بالهوية والوحدة والسلطة واليقين الحداثة يرتبط بالفروق والانفصال والنصية والتشكك الخ',\n",
       " '《中國時報》指出，针对一些中國大陆媒体对这部影片的差评，媒體的批評反而引起中國大陆的觀眾期待。該報記者江芷稜表示，《赛德克巴莱》 講述原住民抗日，反抗高壓統治，尋求靈魂自由，關鍵一句「如果文明是要我們卑躬屈膝，那我就讓你們看見野蠻的驕傲！」，並轉述網友意見「『電影充斥反動思想，如果在中國播放恐引發西藏、新疆族群反動，挑動獨立敏感神經。』不能老看《建黨偉業》這類國共思想電影，『本來不知道這部片子，看來一定要一睹為快！ 』」',\n",
       " 'ouis s-a căsătorit prințul moștenitor frederick danemarcei – stockholm iuli nunta celebrată mare pompă într-un moment când suedia într-o stare foamet zestrea prințesei constat lucruri fabric suedia beneficia economia suedeză căsătoria sugerată modalit crea relați prieteni între danemarca și suedia țări într-o situați tensionată suedia ajutat danemarca timpul războiului germania',\n",
       " 'ब्लेक लिवली की अभिनय में कोई दिलचस्पी नहीं थी लेकिन उनकी जूनियर और सीनियर वर्षों की गर्मियों दौरान उनके भाई एरिक ने अपने एजेंट की मदद से कुछ ऑडिशन्स लिए कुछ महीनों लिए लिवली बाहर भेजा और उन ऑडिशन्स में से में उन्हें चुन लिया गया और द सिस्टरहुड ऑफ़ द ट्रेवलिंग पेंट्स में उन्हें ब्रिड्गेत किरदार मिला द सिस्टरहुड ऑफ़ द ट्रेवलिंग पैंट्स में अपने फ़िल्मी दृश्यों लिवली ने बुरबंक हाई स्कूल में अपने जूनियर और सीनियर वर्षों फिल्माया में लिवली ने कहा था हालांकि \"गोस्सिप गर्ल \" फिल्माने की प्रतिबद्धता कारण निकट भविष्य में स्टैनफोर्ड नहीं जा सकेंगी पर उन्होंने विश्वविद्यालय की शिक्षा विचार पूरी तरह से त्यागा नहीं है। उन्होंने कहा था सप्ताह में दिन कोलंबिया विश्वविद्यालय जाने की संभावना है और स्कूल जाने लिए सक्षम होने विकल्प ही गोस्सिप गर्ल में उनका किरदार स्वीकार करने कारण था हालांकि अभी तक उन्होंने किसी भी कक्षा में दाखिला नहीं लिया है।',\n",
       " 'автомобильная дорога маршруту москва — тамбов — волгоград маршрут № твёрдым покрытием спроектирована нии гипродор нормативам дорог первой технической категории начала строительства принято решение построить дорогу нормативам второй технической категории открытия движения затем реконструировать её дороги первой технической категории - годы дорога построена двумя полосами движения шириной проезжей части метров участок москва — кашира каширское шоссе имел полосы движения строительство дороги велось чистого листа результате дорога обошла практически населённые пункты сооружение велось этапа первом этапе построена дорога москва — тамбов затем продлена волгограда распада советского союза дороге «каспий» присоединена дорога волгоград — астрахань присвоен федеральный номер м-',\n",
       " '乳幼児（赤ちゃん）向けのからサイズまでの服を指すが、最近は大柄の赤ちゃんも増えており、サイズやそれ以上のサイズを展開する例も見られる。からサイズは新生児用の赤ちゃんに着せるものであり、産着とも呼ばれる。サイズ以上は歩けるように設計されている服が多い。いずれもおむつの着用を前提に作られており、上のシャツ部分と下のブルマ部分が一体型ロンパース型になっていたり、ズボンやオーバーオールの股下にホックを取り付けていたりして、用を足したおむつをすぐ交換できるように、下半身をオープンにできる服が多い。',\n",
       " 'координация работ формированию развитию цифрового пространства союза участие проработке инициатив цифровой трансформации рамках союза',\n",
       " 'मंदिर रिकॉर्ड में यह पता चला है गोरखपुर गोरखनाथ मंदिर की संरचना और आकार की अवधि साथ-साथ तब्दील गया था। वास्तव में सल्तनत और मुगल काल शासन दौरान इस मंदिर नष्ट करने लिए कई प्रयास किए थे पहले यह अलाउद्दीन खिलजी जिसने वीं सदी में गोरखनाथ मंदिर नष्ट कर दिया और बाद में इसे वीं सदी में भारत इस्लामी शासक औरंगजेब ने नष्ट किया था। तथ्य यह है इसकी संरचना दो बार नष्ट किया गया था इसके बावजूद भी ये जगह अभी भी अपनी पवित्रता लिये उसके महत्व और उसके पवित्र आभा रखती है।',\n",
       " 'onform recensământului majoritatea populației satului babînți vorbitoar ucraineană existând minorit și vorbitori rusă',\n",
       " 'ไก่ป่าชวา มีลำตัวยาวประมาณ เซนติเมตร มีลักษณะเด่น คือ ตัวผู้มีขนสร้อยคอสั้นและกลมมนสีขาว ตัวเมียมีหน้าอกสีน้ำตาลคล้ำ ส่วนของลำตัวมีลายสีดำทั่วไป',\n",
       " '特権階級に従属する人々。クニャージのコルムレニエru（寄食地、扶養地）や村等の所領に住み、労働に従事した。『ルースカヤ・プラウダ』中最も低い位置づけにあり、これらの人々の殺人に対してはグリヴナの罰金と規定された。この中にもさらに社会的地位の格差が存在した。（なお、社会的位置づけや用法は、キエフ・ルーシ期以降の歴史において変動するものがある。詳しくは各頁を参照されたし。）',\n",
       " 'errängen runt mont johnson kuperad österut västerut platt havet nära mont johnson nordväst högsta punkten närheten meter havet km söder mont johnson trakten glest befolkad finn inga samhällen närheten trakten runt mont johnson finn ovanligt många namngivna öar',\n",
       " 'क्या आप जानते हैं डेबिट कार्ड ऑनलाइन इस्तेमाल जोखिम भरे कदमों में से है? आपके पास क्रेडिट कार्ड नहीं है तो प्री– पेड कार्ड में पैसे डालें और ऑनलाइन शॉपिंग लिए उसी उपयोग करें। इस तरह आप चोरों अपने बैंक अकाउंट से दूर रख सकेंगें।',\n",
       " 'یہ نئے ٹوری رہنما ونسٹنچرچل کی پرعزم اور مضبوط قیادت تھی کہ جس نے برطانیہ کو اس دوسری جنگ عظیم میں فتح سے ہمکنار کیا۔ اس جیت میں جنگ کے دوران قومی حکومت میں لیبر پارٹی کی شمولیت اور امریکا کے فوجی اتحاد کے کردار کو بھی اہمیت حاصل تھی۔دوسری عالم گیر جنگ کے جب سن انیس سو پینتالیس میں عام انتخابات ہوئے تو اس میں ٹوری پارٹی کے مقابلہ میں لیبر پارٹی کی بھاری جیت نے ساری دنیا کو حیرت ذدہ کر دیا۔ خود لیبر رہنماؤں کو اتنی زبردست جیت کی توقع نہیں تھی۔پھر سنہ انیس سو اکیاون میں اس وقت لوگوں کے تعجب کی انتہا نہیں رہی جب لیبر پارٹی کی فلاحی بہبود بنیادی صنعتوں کو قومیانے اور بے روزگاری کے خاتمہ کے لیے انقلابی تبدیلیوں کے دور کے باوجود اسے عام انتخابات میں شکست کا سامنا کرنا پڑا اور چرچل کی قیادت میں ٹوری پارٹی پھر برسر اقتدار آگئی۔اس دوران پارٹی کی قیادت بدلی اور چرچل کی جگہ ہیرلڈ میکملین نے سنبھالی لیکن اقتصادی خوشحالی کی بدولت ٹوری پارٹی تیرہ سال تک ملک پر حکمران رہی اورپھر جب ملک اقتصادی کساد بازاری کا شکار ہوا تو ہیرلڈ ولسن کی قیادت میں لیبر پارٹی سن انیس سو چونسٹھ کے انتخابات میں فتح مند رہی۔',\n",
       " 'ağusto tarihind tutuklu mustafa yalçın görevlilerc coplanarak mamak cezaevind öldürüldü mustafa yalçın raci tetikin müdürlüğündeki mamak cezaevind öldürülen tutuklu olarak bilinir yayıncı i̇lhan erdost eylül darbesinin günlerind mamak cezaevin götürüldüğü sırada yolda yediği dayak nedeniyl yaşamını yitirdi',\n",
       " 'شبانه روز دو گونه متفاوت تقسیم شده\\u200cاست یکی بر اساس گاه یا موقعیت خورشید ماه طول سایه بوده است برای نمونه آریایی\\u200cها زرتشتیان شبانه روز را بر مینای پنج\\u200cگاه یعنی از برآمدن آفتاب تا نیمروز از نیمروز تا سه ساعت پس از نیمروز از ساعت سه پسین تا فرورفتن آفتاب از فرورفتن آفتاب پیدا شدن ستاره شامگاهی در آسمان تا نیمه شب از نیمه شب تا برآمدن آفتاب',\n",
       " 'classement championnat franc permet détermin club admi particip coup deurop rugbi xv challeng européen rugbi xv sept club françai mieux classé championnat franc particip coup deurop autr équip l’élite disput challeng européen',\n",
       " 'ack made film blake edward thriller carey treatment badli cut mgm commerci underwhelm honker coburn play rodeo rider',\n",
       " 'व्यक्तिवाचक संज्ञा गठन करने वाले शब्द शब्दों सामान्य अर्थ जिस वस्तु व्यक्तिवाचक संज्ञा संदर्भित कर रहा उससे असंबंधित सकते हैं। लिए tiger smith ना होने बावजूद किसी नाम tiger smith सकता है। यही कारण है आम तौर पर व्यक्तिवाचक संज्ञाओं भाषाओं अनुवाद नहीं होता है हालांकि उनका लिप्यंतरण सकता है। लिए जर्मन उपनाम knödel अंग्रेज़ी में knodel knoedel जाता है शाब्दिक dumpl मालपूआ नहीं लेकिन जगह नाम और राजा पोप और ग़ैर-समकालीन लेखकों नामों लिप्यंतरण सामान्य और कभी-कभी सार्वभौमिक है। लिए पुर्तगाली शब्द lisboa अंग्रेज़ी में lisbon जाता है अंग्रेज़ी london फ्रेंच में londr जाता है और यूनानी ἁριστοτέλης aristotelē अंग्रेज़ी में aristotl जाता है।',\n",
       " 'andavran britonic landavran commun incolarum anno praefectura illa vicinonia francia occidentali region britannia minor',\n",
       " '„această anecdotă ajun folclorul ibm păcat explicat acțiunil tatei zecilor mii oameni trebuit să-i respect regulile”',\n",
       " '第条 - 第条：「ヤロスラフの法典」 - ヴァシリー・タチーシチェフによって発見された「簡素本」は、『ノヴゴロド第一年代期ru』（新輯本）の年の頁に記載されたものである。年の頁は、「ノヴゴロド公ヤロスラフが兄弟のスヴャトポルクをリューベチ近郊で破った後、キエフ大公位に就くと、この戦いでヤロスラフを支援したノヴゴロドの人々に金銭を与えて賞し、また「グラーモタru」（特許状）を与えた」という主旨の記述があり、この次に「簡素本」中の第条 - 第条（「ヤロスラフの法典」）が記載されている。この年を、『ルースカヤ・プラウダ』の原型が成立したとみなす説が、研究史上根強い。また、ヤロスラフがノヴゴロドの人々に法文を与えた背景については以下の考察がある。すなわち、ヤロスラフはスヴャトポルクとの戦いに際しヴァリャーグを傭兵に雇い入れていたが、彼らはノヴゴロドの人々に乱暴を働き、治安の乱れの元ともなっていた（これにより一時ヤロスラフとノヴゴロドの人々との間にも摩擦が生じていた）。そのような状況の元、年のスヴャトポルクとの戦いに臨み、ノヴゴロドのヴェーチェ（民会）は、ノヴゴロド兵の出兵の見返りとして、刑法の布告の約束をヤロスラフに求めていた、という経緯によるものだという指摘である。',\n",
       " 'ergiu risiu sarki rizzi sarki el-rizzi lingua arabicaسركيس الرزي serg * bkoufa † juniu roma erat episcopu libaniu ecclesia maronitarum erat primu commonefacit imprimaturem libri civitatem arabicam',\n",
       " 'rand cross iron cross \"the victori luftwaff french campaign\" award decor – juli',\n",
       " 'ij trouwd februari groningen richardina ludolphi dochter drost beid oldambten richard ludolphi anna busch overle septemb -jarig leeftijd woonplaat groningen zoon henrik even vader raadsheer gedeputeerd burgemeest groningen',\n",
       " 'लिवली द्वारा तक की सबसे अधिक प्रशंसित भूमिका द प्राइवेट लाइव्स ऑफ़ द पिप्पा ली में उनके द्वारा की गई सहायक भूमिका है जिसमें उन्होंने किरदार युवा-संस्करण की भूमिका की है। ब्रिसबेन टाइम्स brisbanetim पॉल ब्य्र्नेस ने फिल्म में लिवली प्रदर्शन \"संवेदनात्मक\" बताया फिल्म में कीनू रीव्स विनोना राइडर और रॉबिन राइट पेन्न भी अभिनीत किया गया है। इसे पहली बार टोरंटो अंतर्राष्ट्रीय फिल्म समारोह में दिखाया गया था और नवम्बर संयुक्त राज्य अमेरिका में सीमित से इसके रिलीज की योजना है। में आने वाली चुक होगन उपन्यास प्रिंस ऑफ़ थीव्स पर आधारित फिल्म द टाउन लिए लिवली ने कफलिन क्रिस्टा में अपनी भूमिका लिए अक्टूबर में दृश्य फिल्माने शुरू कर थे। इस फिल्म में लिवली किरदार जेम की बहिन और डफ की पुरानी प्रेमिका है महीने की बेटी शाइन की मां भी है। इस फिल्म में बेन अफलेक भी लिया गया है फिल्म वर्तमान में निर्माणाधीन है एवं सितंबर में रिलीज होगी मेरी क्लेयर साक्षात्कार में लिवली ने कहा था अभिनेत्री में उनके पेशे पर उने भरोसा नहीं है इसीलिए वापसी पर विकल्प तौर पर वो खुद की इंटीरियर डेकोरेटिंग फर्म खोलना चाहती हैं क्यूंकि उन्हें रंग डिजाइन और परती सामान बहुत आकर्षित करते हैं। जनवरी में लिवली सुपर हीरो फिल्म ग्रीन लेन्टर्न में करोल फेरिस की भूमिका में अभिनीत होने की घोषणा की गई में रिलीज होगी',\n",
       " 'olkswagenin \"küçük hacim yüksek güç düşük tüketim\" felsefesiyl piyasaya sürdüğü tsi motor serisi olarak golf modelind litr hacim hp güçle çıktı model golf gt adını veren volkswagen böylec golf gtia ucuz alternatif üretmiş tsi motorun güçlü aynı zamanda ekonomik olmasını sağlayan direkt enjeksiyon sistemi fsi turbo kompresörün birleşimiydi motorda önce kompresör devrey giriyor motor devri artınca turbo çalışmaya başlıyor kompresörün yerini alıyordu çift beslem sayesind turbo boşluğu oluşmuyordu tsi motorlar volkswagenin yeni geliştirdiği dsg şanzımanlarla iyi uyum sağlıyordu volkswagen motorun sadec turboya sahip hplik versiyonlarını üretti süre volkswagenin tfsi motorları tsi adını aldı tsi motorlar volkswagen ürün gamına yayılmasının ardından grup bünyesindeki diğer markalara sıçradı bugün \"downsizing\" anlayışının başarılı örneklerinden halin geldi',\n",
       " 'भोपाल की स्थापना परमार राजा भोज ने - ईस्वी में की थी। उनके राज्य की राजधानी धार थी मध्य प्रदेश जिला है। शहर नाम भोजपाल था भोज और पाल संधि से बना था। परमार राजाओं अस्त बाद यह शहर कई बार लूट शिकार बना। परमारों बाद भोपाल शहर में अफ़गान सिपाही दोस्त मोहम्मद - शासन रहा। इसिलिए भोपाल नवाबी शहर माना जाता हैआज भी मुगल संस्कृति देखी जा सकती है। मुगल साम्रज्य विघटन फ़ायदा उठाते हुए खान ने बेरासिया तहसील हड़प ली। कुछ बाद गोण्ड रानी कमलापती की मदद करने लिए खान भोपाल गाँव भेंट किया गया। रानी की मौत बाद खान ने छोटे से गोण्ड राज्य पर कब्ज़ा जमा लिया।',\n",
       " 'igreja convento domingo típico representant gótico mendicant portug igreja possuía nave central flanqueada dua nave laterai menor altura transepto salient ábside possui capela-mor quatro capela laterai obra gótica convento sobrev justament ábside cinco capela sendo capela-mor planta poligon capela coberta abóbada cruzaria ogiva grand janelõ arco duplo separado colunelo externament volum ábside clarament marcado grand capela-mor poligon delineada grand contrafort coroado gárgula outro vestígio mediev arco ogivai separam nave ainda capitéi base coluna obra século xviii',\n",
       " 'ij wk-eindrond italië deed debut costa rica meteen spreken verdienst doelman lui gabelo conejo ging italië speler club sport cartaginé bescheiden subtopp costa ricaans competiti vaderland ingedeeld poul brazilië zweden schotland leek voorhand kansloo',\n",
       " 'இவற்றுள் சில இனங்கள் ஒரே தாவர சிற்றினங்களுக்கிடையே மற்ற சிற்றினங்களுக்கிடையே அல்லது முற்றிலும் மாறுபட்ட உயிரினங்களுக்கிடையே அதாவது பூச்சிகள் போன்றவற்றுடன் இவ்வேதிபொருட்கள் சமிக்ஞைகள் கூட்டுப்பொருள்களாக செயல்படுகிறது இருந்தபோதிலும் அனைத்து வேதிப் பொருட்களும் தாவரங்களுக்கு இன்றியமையாதது அல்ல சில வேதிப் பொருட்கள் இன்றியமையாததாக அமைகிறது ஃபீரோமோன்ஸ்',\n",
       " 'elon concepteur lélément architectur princip vocat distingu rigidité tour barr construit lépoqu lagglomér nantais profil savèr moin brutal satténuant palier successif jusquau sol',\n",
       " 'ärast katariina surma tühista poeg keiser paul aastal asehalduskorraldus aastal riia kreisi aladest omaett kreisik eraldatud volmari liideti nüüd taa riiaga riia-volmari kaksikkreisik sellin korraldu kehti aastani riia volmari eraldati omaett maakondadek',\n",
       " 'نو ايا دى نويو لغتونو بېخې تېر شي او اول نورو رسنيو فرصت ورکړي چې نوي لغتونه امتحان کړي چې که خلکو ومنل او زده کړل بيا دې يې دى استعمال کړي؟',\n",
       " 'oel hast metcalf né janvier meadvil pennsylvani mort février portland astronom américain',\n",
       " 'angon plaat bestuurlijk gebi banjarnegara provinci midden-java indonesië dorp telt inwon volkstel',\n",
       " 'dward seymour hertig somerset född döpt januari easton wiltshir död begraven decemb bradley hous maiden bradley wiltshir engelsk ädling sir edward seymour baronet',\n",
       " 'نیویارک ریاست میں شہر ہیں۔ ریاست کا سب سے بڑا اور متحدہ امریکہ کا سب سے گنجان آباد شہر نیویارک جس میں پانچ کاؤنٹیاں بورو ہیں برونکس نیویارک مینھاٹن کوئینز کنگز بروکلن اور رچمنڈ اسٹیٹن جزیرہ۔ نیویارک شہر میں ریاست کے دو تہائی لوگ آباد ہیں۔',\n",
       " 'oartea egbert ii-lea însemnat și stingerea liniei familiei brunonen sora egbert ii-lea gertruda braunschweig fiică căsătoria soț henric \"cel gras\" markgraf frizia și northeim fiică richenza s-a măritat lothar süpplingenburg duce saxonia ulterior împărat fiica gertruda rândul soția ducelui henric \"cel mândru\" saxonia și bavaria membru familiei welfilor welfii dobândit proprietățil familiei brunonen jurul braunschweigului dețin secolul xx-lea',\n",
       " 'отличие полноразмерных холодильников работающих компрессионной холодильной машине мини-бары обычно снабжены абсорбционной холодильной машиной качестве хладагента используется аммиак который взаимодействует абсорбентом — водой перенося тепло холодильному контуру такое холодильное оборудование работает бесшумно позволяет использовать фригобары гостиничных номерах кабинетах спальнях часто используются барах торговых залах ресторанов',\n",
       " 'سیاست رسمی دولت اسرائیل الزام می\\u200cدارد که أُورُشَلِیمَ که ریشه نامهای عبری انگلیسی در کنار القُدس صورت أُورُشَلِیمَ-القُدس کار برود',\n",
       " 'ஹெமு hemu ˈheːˌmuː ஹேமசந்திர விக்கிரமாத்தியன் என்றும் ஹெமு விக்கிரமாத்தியன் என்றும் அழைக்கப்பட்டவர் இராஜபுத்திர வீரரான இந்து சமய ஹெமு ஆப்கானிய சூரி வம்சத்தின் மன்னர் முகமது அடில் ஷாவின் அமைச்சராகவும் போர்ப்படைத்தலைவராகப் பணியாற்றியவர் அடில் ஷா சூரிக்காக உமாயூன் மற்றும் அக்பரின் படைகளை எதிர்த்து ஆக்ரா மற்றும் தில்லியில் நடந்த போர்களில் ஹெமு வெற்றி பெற்றார்',\n",
       " 'ezophora leukasikini insektsart beskrev matsumura yezophora leukasikini ingår släktet yezophora familjen spottstritar inga underart finn listad catalogu life',\n",
       " 'hong wa dae vel domu caerulea corean 청와대 靑瓦臺 domu officinaqu praesidi rei publica coreana domu saxo albo sejongno seuli locatur anno circit bugak hortu domu gyeongbok coronabatur \"gyeong dae\" appellata sed chong wa dae vel domu caerulea anno iun bo-seon nominatu',\n",
       " 'lu mõi rüütlimõi rapla kihelkonna harjuma nüüdisaj jääb rapla maakonna rapla valla territooriumil mõisakomplek asub alu',\n",
       " 'rot kelme-stallet fått problem ekonomi valverd fått erbjudanden andra stall stannad spanjoren kelm säsongen vann bland annat volta comunitat valenciana vuelta murcia etapp baskien runt vuelta burgo valverd fyra totalt vuelta españa året vann etapp loppet framför bland annat stuart ogradi deni mensjov valverd medverkad också olympiska sommarspelen aten',\n",
       " 'idea paseo actual avenida blasco ibáñez condicionado especialment vida vecino cabañ proyecto fechado inicio manifiesta interé municip crear nueva vía comunicación ademá camino grao actual avenida puerto aproxim playa burguesía valenciana',\n",
       " 'lund - -talet säte ärkebiskopen byggd stort antal kyrkor kloster runt staden mest fann kyrkor lund reformationen rev nästan kyrkor kloster',\n",
       " 'primera campaña unido resultó satisfactoria pue disputó partido temporada regular - aunqu sólo titular- incluido quinteto ideal rooki ademá convirtió rápidament jugador popular querido público pese inicial dificultad idiomática',\n",
       " 'vez sentencia tsj madrid ministerio cultura generalitat valenciana interpusieron recurso tribun supremo éste resolv procedimiento cuya existencia obviado año anterior propia sentencia reconoc error redacción',\n",
       " 'zczepański kokku viiekordn poola meister – kergekaalu kuni kg aastatel – – ning kergekeskkaalu kuni kg aastal poola meistrivõistlustel kergekaalu kuni kg aastal koha esinda maavõistlustel poolat korda ning võiti neist kaota kohtumist',\n",
       " 'genitivo plurali duali femini neutriusqu generi terminatio casu -∅ sed terminatio cadit post dua consonant vocali quaedam inter consonant nonnumquam necess advenit',\n",
       " '\"slow\" avustralyalı şarkıcı kyli minogueun dokuzuncu stüdyo albümü bodi languaged yer alan şarkı kasım parlophon tarafından albümün çıkış singleı olarak yayımlandı',\n",
       " 'другие масс-медиа отметили поднятая вокруг статьи шумиха поможет лишь «закручивании гаек» наступлении свободу слова интернете никак поможет разрешении проблемы подростковая суицидальность проценту которой россия лидирует мире хотя количество самоубийств снижается журналисты ряда сми стали рассматривать контексте подобные случаи ноября года скоростным электропоездом смертельно травмированы двое подростков подмосковном орехово-зуеве происшествие последующие публикации вынудили следственные органы принять внимание версию доведении самоубийства',\n",
       " 'โรงเรียนหรือหน่วยราชการใดที่ตั้งอยู่ในพื้นที่ของวัดหรือที่ธรณีสงฆ์ การใช้พื้นที่ต้องปฏิบัติตามขนบธรรมเนียม จารีตประเพณี วิถีไทย และวิถีพุทธ และกฎระเบียบของวัด',\n",
       " 'asteroid asteroid asteroid apollo yang terletak bumi eksentrisita orbit asteroid tercatat magnitudo mutlaknya',\n",
       " '혜원慧遠 ~은 《대승의장》 제권에서 도에 태어나게 되는 원인은 전체적인 측면[通]과 개별적인 측면[別]이 있다고 말하고 있다 전체적인 측면이란 선에 상품 · 중품 · 하품의 유형[三品]이 있는데 그 과보로서 순서대로 천상도 · 인간도 · 아수라도의 선도에 태어나게 되는 것과 악에도 역시 상품 · 중품 · 하품의 유형이 있는데 그 과보로서 순서대로 지옥도 · 축생도 · 아귀도의 악도에 태어나게 되는 것을 말하는데 여기서 선이란 구체적으로 말해서 선十善을 말하고 악이란 악十惡을 말한다고 진술하고 있다 그리고 개별적인 측면이란 도에서 받는 삶의 모습이 개개의 유정마다 다른 것을 말하는데 그 유형이 무한하다고 진술하고 있다',\n",
       " 'ماتريديه يوه كلامي ډله ده چې بنسټ يې برهان او عقلي دلايلو څخه اېښودل شوې ترڅو كلامي مسائلو په حلونه كې ورڅخه په گټې اخيستو سره خپلو مخالفو ډلو معتزله او جهميانو ځواب وايي او دارنگه اسلام نېغې گروهې څخه په حقه سره دفاع وكړي',\n",
       " 'erviço gerenciado inglê manag servic tipo atividad ond adicionado serviço princip prestado gerenciamento dest capacidad disponibilidad gerenciamento falha recuperação dentro dest escopo fornecido métrica perform serviço inglê kpi key perform indic anális dest indicador serviço apresentação plano melhoria contínua processo',\n",
       " 'இக்கோயிலில் ஹரிஹர புத்திரசாஸ்தா சன்னதி உள்ளது இக்கோயில் முதன்மைத் திருக்கோயில் என்ற வகைப்பாட்டில் இந்து அறநிலையத்துறையின் கட்டுப்பாட்டில் உள்ளது பரம்பரை அல்லாத அறங்காவலர் அமைப்பால் நிர்வகிக்கப்படுகிறது',\n",
       " 'ignoré longtemp exactitud famil seigneurial armoiri appartenai semblerait quell trè ancienn remont siècl',\n",
       " 'دا نوم اوسني افغانستان دغرب پلو خلكو چې اوسيني ايران کې اوسېږي پرې ايښى دى ځكه پر هغو لمر دغې خوا څخه ورخاته نو هغو دېته خراسان ووايه\" افغان تاريخپوه عبدالشکور رشاد لخوا چې زياتوي \"په خراسان كې دغه موضوع ده چې دا كلمه افغانستان هغه وخت خراسان لوېديځو گاونډيانو چې نن ورځې ايران بلل کېږي ورباندې ايښې ده او بله مهمه خبره دا ده چې ياقوت حموي شام مخور ليكوال چې معجم الادبا معجم البلدان او مراصدالاطلاع کتابونه يې ليكلي دي هغه سړي خراسان په څلورو ايالتونو ويشلى دى يو ايالت يې ابرشهر په نامه راوړى دى چې نور خلك بيا لكه عبدالحی گرديزي په زين الاخبار كې هغه هرات ولايت په نامه راوړى او په دې هرات بادغيس پوشنج ايران طوس چې اوس يې مشهد بولي قاين طبس او نيشاپور شامل ايالت يې بلخ چې تر بدخشان پورې دا سيمې په كې شاملې وې خو دوه نور ايالتونه يې اوسيني افغانستان څخه دباندې چې يوه يې ماورالنهر ايالت وېل چې په هغه كې بخاراسمرقند تاشكند او فرغانه شامل او يې مروې ايالت باله چې په هغه كې مروې څخه بيا جيحون يانې اوسنى آمو تر روده پورې بيا هرات تر حواشيو او حواليو پورې دا سيمې په كې شاملې وې٬٬ نو هغه تاريخي خراسان په څلورو ايالتونو كې دوه ايالته تر افغانستان دباندې دي چې يو مروې ايالت دى چې هغه اوس په تركمنستان كې واقع دى او ماورالنهر ايالت دى چې هغه اوس په اوزبكستان كې دى او ايران ختيځې پولې سيمې چې دا په خراسان كې شاملې وې يادې شوي',\n",
       " 'سانتا کاتالینا تینتا کا رقبہ مربع کیلومیٹر ہے اور اس کی مجموعی آبادی افراد پر مشتمل ہے اور میٹر سطح سمندر سے بلندی پر واقع ہے۔',\n",
       " 'استكشاف عام ذكر الرجل الجبلي بريدجر يعتقد أيضاً يكون أوروبي أمريكي يرى بحيرة الملح الكبرى ملاحظته لغليان الينابيع وتدفق الماء ووجود جبل الزجاج والصخور الصفراء التقارير تم تجاهلها حدٍ كبير بسبب بريدجر عرف بكونه \"يحيك القصص\"',\n",
       " 'mpresa coaligada trata denominada tarjeta fidelización multipatrocinador conocida programa multifidelización marca fórmula gran éxito comerci mundo compañía diferent sector agrupan premiar client descuento beneficio punto canjeabl viaj regalo compra producto servicio',\n",
       " 'குல்திப் சிங் kuldip singh பிறப்பு சனவரி இந்திய வழக்கறிஞரும் இந்திய உச்ச நீதிமன்றத்தின் முன்னாள் உறுப்பினரும் ஆவார் நீதிமன்றத்தில் இருந்து ஓய்வு பெற்ற பின்னர் - தேசிய சீர்திருத்த கமிஷனின் தலைமையில் ஆம் ஆண்டு மக்கள் தொகை கணக்கெடுப்புக்குப் பிறகு இந்தியாவின் அனைத்துப் பகுதியையும் மறுபரிசீலனை செய்தார்',\n",
       " 'eologica huiu phaenomeni evidentia inveniri possunt sicuti fossil ora terrassia marina \"elementa signatoria interactioni inter sublevationem oscillationem libra mari',\n",
       " 'obra contien traducción derivada cathorop puncticulatu wikipedia catalán publicada editor bajo licencia documentación libr gnu licencia creativ common atribución-compartirigu unport',\n",
       " 'девятнадцатилетнем возрасте вступил доминиканский монастырь гранаде принял монашеский сан взял имя луиса де гранады обладая глубокими теологическими познаниями послан учиться вальядолид сблизился выдающимся богословом мельчором кано развивавшим гуманистические идеи эразма роттердамского позднее служил кордове близок хуану авильскому жил португалии — эворе лиссабоне призван выдающийся красноречия',\n",
       " 'eee john neumann madalyası ieee tarafından bilgisayar bilimi teknolojisin yönelik önemli katkılar yıl verilen ödüldür yılında ieee yönetim kurulu tarafından oluşturulmuş ödül kurams teknolojik girişimci katkılara odaklanmaktadır',\n",
       " '大阪市生まれ。年東京大学文学部中国文学科卒、年大阪市立大学大学院博士課程満期退学。年大阪市立大学講師、年助教授、年教授。年「魯迅のリアリズム 「孔子」と「阿q」の死闘」で大阪市大文学博士。年定年退官、名誉教授、関西外国語大学教授、同孔子学院理事。年退職。',\n",
       " 'dtü yönetimi siyaset bilimi mezunudur defter dergisinin kanat yayınlarının kurucularındandır virgül dergisinin genel yayın yönetmenliğini yapmıştır ekim itibaren yılı aşkın süre aralıksız yayımlanan dergi ekonomik zorluklar dağıtım sorunları yüzünden yayın hayatını sayısıyla sona erdirdi',\n",
       " 'ila cm boyuna büyük tutulmuşları cm kilo ulaşan ak balığın uzun yanları yassı füze şekilind vücudu vardır kafası büyük ağzı geniştir dış görünüşü leuciscu idu balığına benzer büyük kenarları koyu renk pulları vardır anal yüzgeci dışarıya doğru dönüktür karın göğü yüzgeçleri kızıl renktir',\n",
       " '年月，肯尼迪在越南面临了一个「吴廷琰危机」。南越是個佛教徒為主的國家，但南越領導人吴廷琰篤信天主教，對佛教歧視且迫害，屠殺了信奉佛教的示威者，引爆了佛教徒危機，怨聲載道。楊文明等將軍们發動了年政變殺死了吴廷琰，由楊文明取而代之。而美國政府同意政變的行動。肯尼迪同意了对吴廷琰政权的推翻，其中一个原因就是他担心吴廷琰可能会和中立政府（包括共产主义者在内）谈判，类似的事曾经在年在老挝发生过。国务卿迪安·腊斯克曾经说过，“对中立的妥协……就等于投降。”',\n",
       " '長崎県営バスの車両は、年（昭和年）度の購入車から、屋根を灰色に塗り、前面及び側面の上半分をカーキ色、下半分を緑色とした長崎電気軌道の旧型車に似たツートンカラーを採用していた。その後、長距離路線車や貸切車が別のデザインに移行する一方で、市内路線車にはこの塗色が年（昭和年）まで長期にわたって使用され、県営バスが「青バス」の愛称で呼ばれることとなるきっかけとなった。車体前面にはメーカーエンブレム（スリーダイヤfusoエンブレムなど）が、側面には旧長崎県章がペイント描きで掲出されていた。',\n",
       " 'التعامل الضغط الجوي القياسي فعلى سبيل المثال عندما تكون قيمة الضغط kpa فعندها يمكن القول بأن الضغط قيمته - بالنسبة للضغط الجوي القياسي المساوي لـ kpa بمعنى الضغط الحالي kpa الضغط الجوي القياسي',\n",
       " 'libérat reprend métier davocat avocat commi doffic pierr laval confrèr jacqu baraduc yves-frédéric jaffré demand être déchargé cett mission « protest hautement devant lopinion afin sach tell affair avocat san dossier » expliqu livr pourquoi défendu laval articl mond aussi lavocat dhenri béraud louis-ferdinand céline dadrien marquet dhenri labrou défendu également dautr collaborateur plupart condamné mort comm robert beauplan mathild carré troi ancien gardien camp concentr natzweiler-struthof conférenc thème « justic partisan lamnisti » interdit',\n",
       " 'noplurel aseamănă malofagel mallophaga deosebesc următoarel aparatul bucal conformat înțepat și supt b capul totdeauna îngust decât toracel segmentel toracic fuzion anoplurel adeseori vectori agenți biologici produc grave',\n",
       " '김춘추가 귀국한 태화 년년부터 신라는 관복을 당풍으로 바꾸고 진덕여왕이 직접 당의 왕업을 찬미하는 「오언태평송五言太平頌」을 지어 비단에 수를 놓아 보냈으며 태화 년년부터 신라의 고유 연호를 폐지하고 당의 영휘永徽 연호를 쓰는 등 친당 정책을 더욱 가속화하였다 진덕여왕 년년에는 중국의 제도를 본뜬 정월 초하루일 백관百官들이 모여 행하는 하정례賀正禮를 처음으로 조원전朝元殿에서 치렀으며 품주稟主가 집사부執事部로 개편되어 왕정의 기밀 사무를 맡았다 좌이방부左理方府가 설치되고 파진찬波珍湌 김인문金仁問이 다시 당에 파견되어 좌령군위장군左領軍衛將軍 벼슬을 받고 숙위를 맡았다',\n",
       " 'vec taux tax d’habit pression fiscal particuli roissi parmi faibl département franc fallait néanmoin ajout part intercommunal taux département val-dois fixé anné valeur loc titr comparaison taux commun belloy-en-fr luzarch encor survilli commun pay franc popul équivalent',\n",
       " 'سيير بهادرزاده الله نه يواځې فيزيکي ځواک ورکړی بلکه دی فکري وړتيا خاوند دی نوموړی خپل هېودا ژبو سره سره په انگرېزي آلماني نيدرلنډي او اسپانيوي ژبو غږېدی شي',\n",
       " 'novembr loccas élection législ suivent dissolut lassemblé national tent fair élire député indre-et-loir battu décide mar suit linvalid lélection gabriel macé présenter réunion île quil découvert président républiqu lor dun voyag juillet choix sexpliqu craint voir rest lempir coloni françai suivr voie emprunté lalgéri indépend laquel nétait favor titr personnel ainsi michel debré prend act fondat paul vergè quelqu anné auparav parti communist réunionnai mouvement réclame activ lautonomi lîle suppress statut dom',\n",
       " '棄教とは、主に政治的な弾圧により自分が信仰していた宗教に対する信仰を放棄するよう、その時代の権力者などにより外発的に動機づけられることにより、自らの信仰を放棄することである。具体的には、日本におけるキリシタンは、豊臣秀吉や徳川家康らが政権を担うようになった後に、キリスト教への信仰を放棄するよう激しい弾圧が加えられた。当時のキリシタンの中には、幕府による過酷な弾圧や拷問に耐えかねて棄教した者もいれば、最後の最後までキリスト教への信仰を守り通して殉教した者もいる。',\n",
       " 'وشرابوته په انګلیسي ژبه کي واین wine وايی چې داتوری دجرمنی ژبې winam څخه اخیستل شویدیدجرمنی ژبې داتوری دلاتیني ژبې دvinum څخه اخیستل شویدی چې ددې لاتیني توری معنی شراب ده اودالاتینی توری بیادvine څخه اخیستل شویدی چې وانګوروته ویل کيږي لکه څرنګه چې قوي شراب دانګوروڅخه جوړېدل نوځکه سرچینه ئې همداتوری دی',\n",
       " 'ener rex cartoon network action studio tarafından yapılan abd yapımı bilim kurgu \"nanopunk\" aksiyon çizgi televizyon dizisi dizinin denetleyici yönetmenliğini cartoon network studiostan john fang üstlendi imag comicsin yayımladığı rex çizgi romanından esinlenildi i̇lk gösterimini abdd nisan cartoon networkta yapan çizgi dizi tv-pg-v olarak derecelendirildi dizinin bölümü ocak yayınlandı',\n",
       " 'ari dialek bahasa tidung yang kelompok komunita lingkungan sosial budayanya kelompok-kelompok memiliki pemimpin diriwayatkan kerajaan benayuk menjelutung runtuh anak keturunan beserta warga yang selamat berpindah menyebar membangun pemukiman salah keturunan benayuk yang bernama kayam pemimpin pemukiman linuang kayam kampung kayam yang cikal pemimpin raja-raja pulau mandul sembakung lumbi',\n",
       " 'p juli medail officieel gepresenteerd ontwerp brit david watkin ontwerp voorzijd zoal eerder medail geval grieks godin overwin nikè parthenon stapt gaststad arriveren achterzijd logo spelen theem herkennen',\n",
       " 'ongregasi doktrin iman vatikan membala juli tanda kongregasi seriu mempertimbangkan prospek bersatu mencermati \"situasi yang berkembang komuni anglikan rumit\"',\n",
       " 'nom kunskapsteorin vetenskapsteorin betecknar holism arbetshypotesen kunskap komplicerat system skapat genom historien livet tron absoluta sanningar avvisa grundtank idéhistorisk vetenskap motsat fundamentalismen grundtank tanken också stomm socialpsykologin modern medicin föreligg motsättn holistisk vetenskapssyn förespråka individu politiskt avseend',\n",
       " 'году архангельске создан межрегиональный ломоносовский фонд одной основных задач которого является просветительская деятельность основной идеей лежащей основе организации фонда является продолжение подвижнической деятельности м ломоносова направленной возрождение лучших традиций российской науки культуры просвещения русском севере инициативе фонда ведётся подготовка пятитомной «поморской энциклопедии» году организован научно-культурный центр «ломоносовский дом» архангельске создан конкурс имени м ломоносова научно-исследовательских внедренческих работ проблемам охраны окружающей среды архангельской области',\n",
       " 'egea micii reform justiți modul numită inițiativa legislativă ministerului justiției accelera desfășurarea proceselor instanțel românia promotorul princip legii ministrul justiției cătălin predoiu inițiativa s-a concretizat legea publicată monitorul ofici partea nr octombri',\n",
       " 'châtillon bergabung montroug bermain klub memutuskan pemain profesion mengikuti uji coba olympiqu lyonnai auxerr meraih kesuksesan lanta meninggalkan peranc inggri mengikuti uji coba watford barnsley',\n",
       " 'எரிமலை வெடிப்பு தொகுதி அளவீட்டின் அலகு vei- volcan explos index ஆகும் இந்த அளவீடின்படிக்கு எரிமலை வெடிப்பின் வீரியம் அளவுகோளிடப்படுகிறது இதில் vei-ற்கு மேலாக பதிவாகும் எரிமலை குமுறல்கள் இந்த வகையில் அடக்கப்படுகின்றன இவை போன்ற பெரிய நிகழ்வுகளில் எரிமலை வெடிப்புகள் குறைந்தது கன கிலோமீட்டர்களை உள்ளடக்கும் அதே போல் vei கன கிலோமீட்டர்களை பாதிக்கும் என்றும் அலகிடப்படுகிறது',\n",
       " 'õna pärineb ladina keelest illuminati tähendad „valgustatud” illuminaatlikul liikumisel kak eraldi suunda ük põhiolemuselt protestantlikgnostilin kristlus vorm tein millega seotud weishaupt vabamõtlej sage ateistlik või vähemalt mittekristlik usk inimkonna täiustumisvõimetess weishaupti valitud nimi illuminaatidel perfektilibilisten „täiustumisvõimelised”',\n",
       " 'lenanın küçük erkek kardeşisonradan ortaya çıktığına göre kuzeni jeremi gilbertı steven r mcqueen jeremi elenanın teyzesi yasal vasisi jenna sommersı canning canlandırır katerina graham elenanın yakın arkadaşı cadı bonni bennettı candic accola elenayla rekabet halind ikinci sezonda vampir dönüşen yakın arkadaşı carolin forbesu zach roerig elenanın çocukluk arkadaşı sonradan carolin sevgili eski sevgilisi matt donovanı michael trevino jeremynin düşmanı mattin yakın arkadaşı mystic fallsun başkanının oğlu kurtadam tyler lockwoodu canlandırır kayla ewel mattin başına bela açan kız kardeşi tylerın jeremynin sevgilisi vicki donovanı canlandırdı vicki damon tarafından vampir dönüştürüldükten stefan tarafından öldürülerek diziden çıkarıldı matthew davi tarih öğretmeni vampir avcısı jennanın sevgilisi alar saltzman karakterini canlandırmak üzere oyuncu kadrosuna katıldı daniel gilli ikinci sezonun başlarında asıllardan elijah karakterini canlandırmak oyuncu kadrosuna katıldı i̇kinci sezonun sonlarına doğru joseph morgan dizinin kötü karakterlerinden eski vampir klausu lord niklau canlandırmak diziy dahil üçüncü sezonda',\n",
       " 'earnestli urg acquaint real fact parti time ago read public alarm told london milk adulter timid person deprec exposur plea give instruct art adulter milk vain fear milkmen knew practic exposur taught purchas necess scrutini caution leav obey necess pleas',\n",
       " 'первая серьёзная ссора наставником разразилась конце декабря года поводом послужил отказ ломоносова выполнить черновую работу которую поручил генкель весной ломоносов коллеги очередного скандала пришли просить денег своё содержание генкель отказал отношения оказались окончательно испорчены кроме ломоносов считал нечему учиться фрайберге',\n",
       " 'อายุในทีมชายจำกัดที่ไม่เกิน ปี เช่นเดียวกับการจำกัดอายุในกีฬาโอลิมปิก ในขณะที่มีการอนุญาตให้มีผู้เล่นอายุเกินจากที่กำหนดได้สามคนในแต่ละทีม',\n",
       " 'marti nouăsprezec persoan printr turiști străini ucis atacul muzeul bardo tunisia persoan rănite',\n",
       " 'обеспечение проведения оценки последствий воздействия специальной защитной антидемпинговой компенсационной меры конкуренцию трансграничных рынках предусмотренных договором союзе',\n",
       " 'igura heráldica representada core naturai muito objeto natureza planta animai descrito cor nest caso figura própria cor frequent timbr suport abuso esmalt cor visto prática viciosa decadent',\n",
       " 'كانت طالبة نيميسيو أنتونيز وكارمين سيلفا وغارسيا باريوس وباول هاريس تعلمت منهم الرسم والنحت إضافة لذلك درست أرتيو الجامعة البابوية الكاثوليكية تشيلي التحقت بمدرسة \"طلاب الفن\" نيويورك',\n",
       " 'украине помимо самоуправляемой правами широкой автономии составе московского патриархата украинской православной церкви упц мп продолжают существовать включающие свой состав значительное число духовенства мирян однако имеющие канонического общения другими православными церквями украинская православная церковь киевского патриархата упц кп украинская автокефальная православная церковь уапц ними московский патриархат также находится состоянии конфронтации эта ситуация зачастую называется расколом православия украине',\n",
       " 'ولد سيد علي بمدينة الجزائر إبان الاحتلال الفرنسي للبلاد دخل ميدان المسرح لقائه بمصطفى كاتب يشرف فرقة مسرحية خمسينيات القرن العشرين شارك الفرقة الفنية لجبهة التحرير أسستها لنشر القضية الجزائرية دوليا',\n",
       " 'ubula -ae f sive bulbula francogallic boubl amni francia gouttièr oritur region arverniam centrumqu adluit post praefectura podium dumiati elaverimqu praeterlapsu ostium long mont santi portiani invenit quo sicaulam inciden confluit atqu elaverim ac deind ligerim augen usqu oceanum atlanticum',\n",
       " '켈투자드의 참모 그는 켈투자드가 대사령술사일 때부터 그의 휘하에 있던 저주받은 자들의 교단 소속의 사령술사였으며 그의 사후에도 그를 저버리지 않았다 이후 타락한 아서스에 의해 대 불사체로 부활한 켈투자드가 그를 자기 휘하에 두며 스컬지 군대를 지휘하게 했다 그리고 난 뒤에 실바나스 윈드러너가 아서스와 리치 왕을 배신하고 독립 포세이큰을 창설하자 켈투자드는 스컬지에 대한 포세이큰의 도전과 배신을 용납할 리 없었고 리치 왕 아서스와 의논해 퓨트리스를 포세이큰 쪽에 스파이로 심어둘 계획을 짰고 실바나스가 그를 포세이큰 왕립 연금술사 협회의 학장으로 임명하면서 계획이 성공한다 그는 파라넬과 함께 실바나스의 명령으로 스컬지와 생명체 모두를 죽이는 역병을 개발하게 되지만 실제론 이것을 이용해 언더시티를 점령해 스컬지 영토로 만들 계획이었다',\n",
       " 'இரண்டாம் உலகப்போருக்குப்பின் சோவியத் இராணுவத்தின் சிறிய படைக்கலன் பொது வடிவமைப்பாளராக பதவி உயர்வுபெற்றார் இவருடைய வடிவமைப்பு செருமனியின் யுகோ ஷிமெய்சர் மற்றும் வெர்னர் குருனர் வடிவமைப்புகள் களில் சேர்க்கப்பட்டது பின்னாளில் குழுத் தானியங்கி படைக்கருவிகள் ஏகே- க்கும் மேலான ஆர் பி கே ருக்நாய் பியுல்மியாட் கலாஷ்னிக்கோவ் - இலகு எந்திரத்துப்பாக்கி மற்றும் பி கே பியுல் மியாட் கலாஷ்நிக்கோவா-கலாஷ்நிக்கோவ் எந்திரத் துப்பாக்கி வகைத் துப்பாக்கிகளும் வடிவமைக்கப்பட்டது',\n",
       " 'شهر قدیمی اورشلیم قلب اورشلیم یا همان بیت\\u200cالمقدس است این شهر شکلی تقریباً صورت مربع با طول کیلومتر کوچه\\u200cهای باریک تودرتو با معماری تاریخی دارد که مشخصه هر چهار محله\\u200cاش است – محله مسیحیها محله مسلمانان محله یهودیها محله ارمنی\\u200cها دورادور این شهر قدیمی را دیواری سنگی دیوار قلعه\\u200cهای قدیمی فرا گرفته\\u200cاست',\n",
       " '十七世紀前半葉台灣北部於西班牙統治時期駐台（年月－年月）西班牙神父艾斯基維（jacinto esquivel rosarioop）說：「他們都使用一種通用语即巴賽語（bazay）。有些地方雖然有他們自己的語言，但都是以巴賽語作為第二語言」， 另駐台（年－年）傳教士胡安·洛杉磯（juan angelesop）亦說：「西班牙人統治的區域有一種共通的語言，叫做巴賽語（basay），通行到產金的地區哆囉滿turoboan，花蓮縣立霧溪出海口一帶」',\n",
       " 'پیتر هور انگلیسی hore یا پیتر مایکل هُوارد انگلیسی michael howard با نام مستعار شاک انگلیسی shok هولیگان اهل استرالیایی است که خاطر جنجال\\u200cآفرینی\\u200cهایش در مسابقات مراسم\\u200cهای رسمی مشهور گشته است',\n",
       " 'oor konservatiivid erakonna isamaaliit erakonna isamaa publica liit noorteorganisatsioon organisatsioon loodi aastal',\n",
       " 'உரப்பனூர் ஊராட்சி urappanur gram panchayat தமிழ்நாட்டின் மதுரை மாவட்டத்தில் உள்ள திருமங்கலம் ஊராட்சி ஒன்றியத்தில் அமைந்துள்ளது இந்த ஊராட்சி திருமங்கலம் சட்டமன்றத் தொகுதிக்கும் விருதுநகர் மக்களவைத் தொகுதிக்கும் உட்பட்டதாகும் இந்த ஊராட்சி மொத்தம் ஊராட்சி மன்றத் தொகுதிகளைக் கொண்டுள்ளது இவற்றில் இருந்து ஊராட்சி மன்ற உறுப்பினர்களைத் தேர்ந்தெடுக்கின்றனர் ஆம் ஆண்டு இந்திய மக்கள் தொகை கணக்கெடுப்பின்படி மொத்த மக்கள் தொகை ஆகும் இவர்களில் பெண்கள் பேரும் ஆண்கள் பேரும் உள்ளனர்',\n",
       " '小規模なネットワークでは、手動でルーティングテーブルを構成してもよい 静的ルーティング。ネットワークが大規模になると複雑なトポロジーを持ち、しかも間断なく変更される。そのためルーティングテーブルの構築は大きな問題となりがちである。それでもなお、公衆交換電話網は、ルーティングテーブルをあらかじめ計算し用意した上で、最も短い経路が使えなくなった場合に備えて予備回線も用意する方法をとっている。動的ルーティングは自動的にルーティングテーブルを構築する方法によって、この問題を解決しようというものである。ルーティングテーブルの構築はルーティング・プロトコルによって伝えられる情報に基づいて行われる。この手法によって、通信の断絶が起きないように、自律的といっていいほどのルーティング能力が得られる。だが、プロトコルの構成には技術が要求され、現時点ではルーティングが完全に自動的に行われるというわけではない。',\n",
       " 'سايكت دُوَّار يقع بجماعة إشمرارن إقليم شيشاوة جهة مراكش آسفي المملكة المغربية ينتمي الدوّار لمشيخة ادا اومرزوك تضم دوار يقدر عدد سكانه بـ نسمة الإحصاء الرسمي للسكان والسكنى لسنة',\n",
       " 'yılında bozulan newcomen makinalarından onarılması i̇skoçyalı mühendi jame watta verildi makinayı onaran watt aynı zamanda randımanı düşük makineyi geliştirmek istedi arkadaşı i̇skoç kimyacı joseph blacktan gizli ısıyı öğrenmiş watt aynı odayı sürekli ısıtıp soğutmanın israflı olduğunu anladı aklına oda yapma fikri geldi sürekli sıcak diğeri sürekli soğuk tutulacaktı buhar işini yaparken sıcak odada bulunacaktı halin getirilmesi gerektiğind supaplar sistemiyl soğuk odaya alınacaktı',\n",
       " 'efra kokkuvõttev termin millega tähistataks materjali plahvatusliku vulkaanipursk käigu vulkaanist välja paisatud läbi õhu maapinnal sadanud tefra kompaktn kivim vaid pude sete ignimbriit rüoliit obsidiaan tuff jne kuulu tefra hulka siiski tule sellest aru saada nii tefra võik kivimiliselt neist koosneda vastupidi pimsist tefra tihti koosnebki täpselt samamoodi koosneb liiv peamiselt kvartsist mida leidub kivimit koostis kuid liiva ennast peeta pudedus tõttu kivimik vaid settek tuff litifitseerunud tefra',\n",
       " 'ur reuni elp jadwal tur membawa jepang amerika selatan eropa amerika serikat kanada elp bermain arena-arena yang dibandingkan puncak kadang-kadang hadapan orang belo horizont brasil konser san diego california agustu',\n",
       " 'fördrag förlorad ryssland tillgång japanska havet tvingad överg utposten albazin fick gengäld upprätta handelsförbindels kina gränsen ryssland qing-väldet löpa läng stanovoj-ryggen norr amur floden argun ryska sibirien södra grän gått ungefär läng linj fördraget nertjinsk fördraget markerad vändpunkt kinesisk utrikespolitik eftersom ryssland behandlad part förhandlad lika fot snarar tributskyldig stat underställd kina',\n",
       " 'ăzboiul greco-italian durat octombri pânâ aprili și part celui de-al război mondial forțel italien invadat grecia și succes local limit scurtă vreme atacul iniți grecii contraatacat italienii respinși și împinși înapoi bazel plecar albania italienii pierdut mare part iernii luptel stabilizarea linii frontului permitea rețină controlul treimi teritoriul albaniei îndelung pregătita ofensivă italiană marti eșuat germanii intervenit aprili sprijinul aliatului italian și atacat grecia invadarea încununată succ iugoslaviei',\n",
       " 'tyloleptu taino skalbaggsart beskrev steven w lingafelt marc mich styloleptu taino ingår släktet styloleptu familjen långhorningar inga underart finn listad catalogu life',\n",
       " 'สินทวีชัย หทัยรัตนกุล ชื่อเล่น บอล เป็นที่รู้จักในชื่อ ตี๋ มีนาคม พศ มีชื่อเดิมว่า โกสินทร์ หทัยรัตนกุล เป็นนักฟุตบอลชาวไทย เติบโตที่จังหวัดชลบุรี โดยเริ่มเล่นฟุตบอลให้กับโรงเรียนอัสสัมชัญศรีราชา จากนั้นได้ลงเล่นในรายการแข่งขันทั้งระดับท้องถิ่นและภูมิภาค ทำให้ความสามารถของผู้รักษาประตูที่สูง เซนติเมตร พัฒนาขึ้นอย่างรวดเร็ว ปัจจุบันสังกัดสโมสรสุพรรณบุรี',\n",
       " '月日ss於音樂頻道mnet的專屬節目「sos」開播，日於mnet音樂節目「直播 countdown」中以歌曲〈chance〉進行首場回歸舞台，正規輯「volum - st now」翌日發行。月日五位成員共同擔任造型大師安德烈金fashion show模特兒；隊長金賢重另與趙惠蓮搭檔走秀，日起金賢重亦與朱玟奎共同主持mbc音樂節目「show 音樂中心」。月日參加於首爾奧林匹克競技場舉行的「 mnet km音樂節」，並獲得音樂錄影帶獎、最佳舞蹈部門獎的獎項。月日成員朴政珉首錄mbc綜藝節目「驚嘆號」後正式成為節目主持；亦於月日起接下kbs節目「危機逃出no」主持棒。月日ss開始後續曲〈膽小鬼〉宣傳活動。月日在首爾三成洞coex大西洋廳舉行正規輯發行紀念演唱會。',\n",
       " 'ide mimpi ricki sutanto yang diwujudkan anak-anak bangsa kuncinya komitmen yang kuat pemerintah melaksanakannya dukungan segenap masyarakat bangsa',\n",
       " 'उन्होने अपनी यात्रा तिब्बेट और हिमालया तक की में उन्होने अपनी यत्रा श्रीलंका तक की अगले कुछ वर्ष् में उन्हे बर्मा मलाया चिन और् जपान से आमंत्रित किया गया। उनके वर्ष होने तक उनका धर्म प्रचार बढ्ते गया। और की आयु तक उनका नाम और उनके चित्र पूरे इसाई विश्व में परिचीत हुआ।',\n",
       " 'dayzac defensor pobr cond blou juez jean durand participan revolución camp lalevad camp jalè creación escuela comunidad religiosa \"hermana presentación\" mari rivier',\n",
       " 'شاخ زریں ترکی \"خلیج\" یا \"آلتن بوئے نوز\" haliç altın boynuz انگریزی golden horn آبنائے باسفورس کی ایک قدرتی خلیج ہے جو شہر استنبول کے یورپی حصے کو دو حصوں میں تقسیم کرتے ہوئے ایک قدرتی بندرگاہ بناتی ہے۔ اسی شاخ زریں کے مقامِ داخلہ پر بازنطینی حکمرانوں نے ایک زنجیر نصب کر رکھی تھی اور نتیجتاً وہی جہاز بندرگاہ میں داخل ہو سکتا تھا جسے وہ چاہتے تھے۔ میں جب عثمانی سلطان محمد ثانی نے قسطنطنیہ کا محاصرہ کیا تو اس کے بحری بیڑے کی راہ میں یہی زنجیر حائل ہو گئی اور تمام تر کوششوں کے باوجود بحری بیڑا اسے عبور نہ کر سکا۔ جس پر سلطان نے خشکی پر سے جہازوں کو گزارنے کا محیر العقول خیال پیش کیا اور اسی منصوبے پر عمل کرتے ہوئے عثمانی بحری بیڑا شاخ زریں میں داخل ہوا اور قسطنطنیہ کی فتح عمل میں آئی۔ آج گنجان آبادیوں کے علاوہ استنبول کا ایوان صنعت تجارت اور مسلم یہودی اور عیسائی قبرستان بھی شاخ زریں کے دونوں جانب واقع ہیں۔ غلطہ پل شاخ زریں کے دونوں جانب واقع غلطہ اور امینونو کے علاقوں کو ملاتا ہے۔ یہ اپنی تاریخی حیثیت اور قدرتی حسن کے باعث سیاحوں کے لیے استنبول کے پرکشش ترین مقامات میں سے ایک ہے۔',\n",
       " 'ário ator famoso participaçõ especiai film incluindo johnni depp cuja estreia origin nightmar elm street roseann barr tom arnold alic cooper iggi pop canta canção-título film',\n",
       " 'lever tumbler lock set lever prevent bolt move lock perfect robert barron doubl act lever lock requir lever lift height slot cut lever lift lever lift lever type lock current today',\n",
       " 'errängen runt bondo platt högsta punkten närheten meter havet km öster bondo finn inga andra samhällen närheten trakten runt bondo finn ovanligt många namngivna vattendrag',\n",
       " 'михаил васильевич создал основы русского научного языка удалось исключительно удачно перевести латинского языка основные физические химические термины',\n",
       " 'پژواک يوې ځانگړې پروژې په توگه اساسي قانون تاريخي لويې جرگې پوښښ لپاره زېږديز کال سمبر په مياشت کې په کار پيل وکړ او کال اپرېل په مياشت کې يوه خپلواک خبري اژانس په توگه جوړ شو چې مرکزي دفتر يې په کابل کې دى',\n",
       " '\"heaven back seat\" canción autorizada película nightmar elm street dream child lanzado singl vídeo music contó extracto película',\n",
       " 'வேதியியலில்டை அமினோ அமிலங்கள் டை அமினோ கார்பாக்சிலிக் அமிலம் என்றும் அழைக்கப்படும் ஒரு டை அமினோ அமிலம் குறைந்தபட்சம் ஒரு கார்பாக்சில் மற்றும் இரண்டு அமீன் வினைத் தொகுதியை கொண்ட ஒரு மூலக்கூறு ஆகும்டை அமினோ அமிலங்கள் அமினோ அமிலங்களின் வர்க்கத்தைச் சேர்ந்தவை',\n",
       " 'succesboek bestsel letterlijk engel bestverkopend aanduid boek binnen bepaald period uitzonderlijk go verkoopt term bestsel wel gebruikt media zoal cd',\n",
       " 'году торжественном собрании академии наук ломоносов произносит «слово похвальное императрице елизавете петровне» имевшее большой успех времени ломоносов начинает пользоваться большим вниманием дворе году ломоносову помощи шувалова удаётся устроить фабрику мозаики этих целей мая императрица елизавета жалует ломоносову мызу усть-рудица четыре окрестных деревни',\n",
       " 'ernika irnadiani ifada lahir bogor jawa barat agustu umur puteri indonesia - penyiar tvri yogyakarta wartawan stasiun televisi lativi pr manag pt sido muncul menjalankan bisni dibidang kecantikan bernika aktif pembicara seminar dosen disalah perguruan swasta kota bogor',\n",
       " '京成高砂 - 空港第ビル間では、経由路線と運賃が種類（成田スカイアクセス経由と、京成本線経由）存在することになる。そのため、空港第ビル駅と成田空港駅のホームを京成本線専用ホームと成田スカイアクセス専用ホームに分け、両駅の京成本線コンコースに中間改札を設置してルートの特定と運賃の算定を行っている。',\n",
       " 'turken fatih baydar hasan akku turk olympisch comité teruggetrokken deelnam olympisch spelen vanweg positiev dopingtest',\n",
       " 'vez pelea termina sorpresivament chico noqueado nube ga naranja adormecería caer marti divisa lejo robot',\n",
       " 'buchi keizō sive litteri iaponici 小渕 恵三 natu nakanojō praefectura gunma iunii tokii mortuu maii alumnu universitati waseda fuit politicu iaponia primu minist iulii usqu diem aprili',\n",
       " '松阪市立第五小学校（まつさかしりつ だいごしょうがっこう）は三重県松阪市の市立小学校。年（明治年）月に田原学校として創立した。旧神戸村に位置するこの学校は、神戸尋常高等小学校を名乗っていたことがある。付近の人口増加に伴い児童数が増えたため、年（昭和年）に松阪市立徳和小学校を分離した。校舎は久保町だが運動場は垣鼻町。',\n",
       " 'ikrovesiikulit tekkerada täiesti erinev eksoomid tekkerajast mikrovesiikulid tekivad rakumembraani väljasopistus tagajärjel rakumembraan koosneb fosfolipiidid kaksikkihist normaalset füsioloogilist tingimust fosfolipiidid paiknemin membraani asümmeetrilin fosfaatidüülholiin sfingomüeliin paiknevad põhiliselt välimis kihi aminofosfolipiidid fosfatidüületanoolamiin kuuluvad põhiliselt sisemis kihi koosseisu sellis asümmeetria säilitamin raku jaok väga olulin seda tagavad spetsiaals ensüümid tuntuimad nendest flipaasid tagavad niinimetatud flip-flop liikumis ehk lipiidi molekuli translokatsiooni ühest kihist teis raku aktiveerumisel apoptoosi signaaliraja aktivatsioonil membraani füsioloogilin fosfolipiidid paiknemin muutub ioonid mõjul toimub tsütoskeleti aktiini filamentid ümberkorraldamin rakumembraani juur nei kohtad rakumembraan enam seotud tsütoskeletiga membraan hakkab punguma sell siss voolab tsütoplasma koo valkud mrna mirna-ga lõpuk toimub vesiikuli eraldumin rakupinnalt mikrovesiikulid suuremad kui eksosoomid nend diameet varieerub – µm vahel vere väga palju trombotsütaars päritoluga mikrovesiikuleid trombotsüütid mikrovesiikulit peamin marker cd valk aga teisi',\n",
       " 'eenvoudig variant regulier expressi besturingssystemen vinden jokerteken gebruikt zoeken bestandsnamen',\n",
       " '主砲は、ddkと同じく式口径インチ連装速射砲を基搭載した。砲射撃指揮装置（gfcs）としては、番艦「みねぐも」（ddk）においては、前方の第方位盤としてはmk、後方の第方位盤としてはmkと、ddkの構成が踏襲され、番艦「なつぐも」（ddk）以降では第方位盤を国産のfcs-bに更新した。アスロックと同様、dashにおいても、対潜攻撃中は第方位盤を使って追尾してやる必要があるため、対空射撃は手動のmkのみとなり、やまぐも型と同様に経空脅威対処能力の低下が課題とされた。アスロックよりもdashのほうが攻撃所要時間が長いため、この課題は、本型において特に重大であった。なお番艦「むらくも」（ddk）は、年（昭和年）に第方位盤をfcs-実験機に、年（昭和年）にはアスロックへの換装工事と同時に後部口径インチ連装速射砲を口径ミリ速射砲に換装し、次世代砲熕兵器システムの試験に従事した。この砲熕兵器システムはポスト次防艦（はつゆき型など）以降で広く採用されることになったが、試験の終了後もこれらの装備は残され、fcs-実験機は、のちに実用機の-型に再換装された。',\n",
       " 'urial ground posit critic respons number critic note mix upbeat regga dub regga review \"origin bass-heavi drop beat consist album subtl nuancesand subtl nuancesof dub stick figur digit remain firmli puls root reggaedub music\" pier state \"the album repres mileston stick figur music growth innov abil layer instrument transcend lyric complex [than previou albums]\"',\n",
       " 'سبزی کا لفظ عموماً پودوں کے ایسے حصے کے لیے استعمال کیا جاتا ہے جو انسانی کھانے کے لیے ممکن ہو۔ چونکہ اس لفظ کو روایتاً استعمال کی جاتا ہے اس لیے اس کی سائنسی بنیاد کوئی نہیں اور اوقات پھلوں کو بھی سبزی میں شامل کر لیا جاتا ہے مثلاً ٹماٹر۔ سبزی کی مثالیں کریلا میتھی آلو گوبھی بھنڈی توری کدو گاجر وغیرہ ہیں۔ فنجس کو بھی سبزی میں شامل کیا جاسکتا ہے۔ اس کا مطلب ہوا کہ سبزیوں میں مختلف پودوں کے بیج شاخیں پھل اور جڑیں سب کی مثالیں ملتی ہیں۔ کچھ مشہور سبزیاں امریکہ کی دریافت کے براعظم امریکہ سے لائی گئیں جن کو لوگ پندرہویں صدی عیسوی سے پہلے نہیں جانتے تھے۔ مثلاً ٹماٹر اور آلو۔ آج آلو سب سے زیادہ استعمال کی جانی والی سبزی ہے جو اصل میں ایک طرح کی جڑ ہے۔',\n",
       " 'latyrhiza género monotípico orquídea epifita única especi platyrhiza quadricolor barbrodr originria brasil',\n",
       " '年月日，星期六，肯尼迪在参议院秘密会议厅裡向名支持者正式宣布竞选总统。月日，在威斯康星州的初选中，肯尼迪获得了、总计 张选票，为该州年来候选人在初选中获得的最多票数。而且肯尼迪在个地区中赢得了个地区的多数票，从而赢得了该州的大会代表。月日，肯尼迪在西弗吉尼亚州取得了的压倒性胜利，战胜了休伯特·汉弗莱，此后天内，肯尼迪又在马里兰州以击败了韦恩·莫尔斯，在俄勒冈州同样以取胜。到此时，肯尼迪已经是第七次大获全胜，打通了总统候选人提名的道路。但形式并不就此一片乐观。林登·约翰逊于月日宣布参加总统竞选，并就麦卡锡问题等话题公开抨击肯尼迪。月日，在民主党全国代表大会上，肯尼迪获得了民主党总统候选人的提名，尽管林登·约翰逊在这之前对他进行过中伤，但肯尼迪仍然邀请他加入竞选队伍，成为副总统候选人。',\n",
       " '차량의 도장은 지금까지의 차량에 이용된 블루와 브라운이 아닌 새로운 것으로 알려진 빛나는을 의미하는 샤인 오렌지색으로 전면 유리 밑에는 도장에 의해 측면은 도어포켓 부분에 블록 씰로 각각 붙였다 차량 바닥은 한세대 전의 계보다 mm 낮은 mm로 홈과의 단차를 줄였다 더 나아가 폐차시의 재활용을 고려하여 차체 각부의 알루미늄 재질 통일을 도모하고 있다',\n",
       " '常に冷静沈着だがお金に目がなく、ゲーム機の名前を呟きながら生徒会費を数える所を目撃したマキに「金銭管理を任せたらマズい」と誤解され生徒会を出入禁止処分にされた。エノに付き合わされる形で生徒会の秘密を暴こうとしたが、それは卑怯だと諌めエノを制止した。しかし手違いで『恋愛研究』は暴露され、リコの嘘により『恋愛研究』をしていた人間はマキではなくエノだということになりエノが責められる事となる。中傷はエノだけには収まらずマキも協力していたはずだとマキにも話が及んだ為リコが『恋愛研究』の弁護をし始めた際にはフォローをさりげない形で行い、結果的に恋愛研究はバレずに済んだ（恋愛研究は生徒の依頼のためということになり、趣味でしているのではないという意味）。エノが副会長として復職したついでに、自らも会計に復帰する。数字を「円」のつもりで計算するため、数学の成績は学年一である。身長は生徒会で一番高いが、バストに関してはスズに「胸がない同志」扱いされている（一応気にはしているらしく、スズにこのネタを振られると問い質すことがある）。',\n",
       " '明治時代，年（明治年）山手線開通，年（明治年）都心方向的東京市電、年（明治年）西側的玉川電鐵（現東急田園都市線）通至此地，成為交通節點。年（昭和年）東京橫濱電鐵（現東京急行電鐵東橫線）、年（昭和年）帝都電鐵（現京王電鐵井之頭線）、年（昭和年）東京高速鐵道（現東京地下鐵銀座線）陸續通車。',\n",
       " 'انتظار آن می\\u200cرود که مدار گردش خورشید پیرامون کهکشان تقریباً بیضی گون باشد که دلیل مارپیچ بودن بازوهای کهکشانی توزیع ناهمسان جرم در آن\\u200cها با کمی آشفتگی همراه باشد همچنین خورشید نسبت صفحهٔ کهکشان تقریباً ٫ بار بر گردش بالا پایین نوسان می\\u200cکند این بحث وجود دارد که با گذر خورشید از ناحیهٔ پرچگالی کهکشان شمار برخورد جرم\\u200cهای آسمانی با زمین بیشتر می\\u200cشود درنتیجه انبوهی از جانوران گیاهان در زمین از میان می\\u200cروند روی رفته تا میلیون سال طول می\\u200cکشد تا سامانهٔ خورشیدی یک بار پیرامون کهکشان بگردد یک سال کهکشانی پس باید انتظار داشت تا خورشید در طول زندگی اش بتواند تا بار پیرامون کهکشان بگردد سرعت حرکت سامانهٔ خورشیدی پیرامون مرکز کهکشانی نزدیک km است با این سرعت ٬ سال طول می\\u200cکشد تا سامانهٔ خورشیدی بتواند در مسافتی درازی یک سال نوری سفر کند همچنین روز طول می\\u200cکشد تا اندازهٔ یک نجومی جابجا شود',\n",
       " 'பங்குகளை வைத்திருக்கும் உறுப்பினர் இறந்து விட்டால் அவருடைய சட்ட பூர்வமான வாரிசு அந்த பங்குகளைப் பெறுவதன் மூலம் நிறுமத்தின் உறுப்பினர் ஆகிறார்',\n",
       " '隊長金賢重於月日在首爾清潭洞某處拍攝日本化妝品“tonymoly”廣告成為該品牌代言人躍升亞洲明星。月日dsp娛樂宣布與在泰國管理韓國事務的企業ktcc簽訂ss在泰音樂發行及相關活動的專屬契約，ss正式進入泰國市場。月日韓國sport chosun媒體公布以「韓國最棒的團體是誰?」為標題進行日的票選，ss得到人支持，共萬受訪者中，以％的得票率獲得第一位。',\n",
       " 'บ้านผีสิงมักจะเป็นที่อยู่อาศัยของวิญญาณคนตายที่อาจเคยอาศัยอยู่เดิมหรือคุ้นเคยกับสถานที่ เรื่องราวในบ้านที่เกิดขึ้นอาจจะพูดได้ว่ามีส่วนเกี่ยวข้องกับเหตุการณ์รุนแรงหรือโศกนาฏกรรม ภายในอาคารในอดีตที่ผ่านมาอย่างเช่น ฆาตกรรม การเสียชีวิตโดยอุบัติเหตุ หรือการฆ่าตัวตาย ทั้งในเรื่องไม่นานไปจนถึงในอดีตอันยาวนาน ในความเชื่อหลายวัฒนธรรมและศาสนา เชื่อว่าหลังความตายยังคงมีวิญญาณล่องลอยอยู่ ในบ้านผีสิงอาจจะมีเสียงลึกลับหรือการปรากฏตัวของผี หรือแม้กระทั่งการทำให้วัตถุ สิ่งของเคลื่อนที่',\n",
       " 'eze voorzien toegang werk toevoeg kernel enkel voorbeelden windowsregist systeem opstarten herstarten windows-servic startenstoppenaanmaken gebruikersaccount beheren functi bevinden bestand advapidl bit-window',\n",
       " 'мл- стреляла всем ассортиментом -мм пушечных гаубичных снарядов числе разнообразными старыми гранатами русского импортного производства исключением мортирной фугасной гранаты -ф- стрельба которой гаубиц м- д- гаубицы-пушки мл- категорически запрещена великой отечественной войны вооружение поступили новые боеприпасы повышенного могущества оф также добавились новые типы например активно-реактивные кассетные осветительные кумулятивный снаряд -бп- пробивал углом ° — мм ° — мм ° — мм',\n",
       " 'amak cezaevind askerliğini yapan erlerden kamil atliman doğan eşlik işkenc yapmaları zorlandıklarını kendilerin dayak atıldığını söyledil i̇şkenc özel eğitim aldıklarını belirten doğan eşlik darbecil mamak cezaevi görevlileri hakkında ankara cumhuriyet savcılığına suç duyurusunda bulundu',\n",
       " 'این دژ با ارزش تاریخی که دارد بنابر ساختار معماری ویژگی\\u200cهای استراتژیکی رزمی در مرداد خورشیدی شماره در سیاههٔ یادمان\\u200cهای دیرین ایران - فهرست آثار تاریخی ملی - ماندگار شد',\n",
       " 'البرلمان الأوروبي عبر رئيس البرلمان الأوروبي باسم البرلمان وأعضائه تنديده الشديد بالحادثة وعبر تعازيه لأسر الضحايا ودعمه لكل التونسيين وقال الديمقراطية التونسية ضربت بهذا الهجوم وجدد دعم الاتحاد الأوروبي لتونس توجهاتها',\n",
       " 'elon warna yang dasarnya putih bercak warna hitam orany biru krem orang jepang menyebut pola mi-k gen pengendali warna bulu terletak kromosom kelamin bertaut kelamin kuce telon yang beraneka warna kuce betina',\n",
       " 'بخش اکتشاف تولید نفت گاز شرکت اوام\\u200cوی در کشورهای مختلف پراکنده\\u200cاست این کمپانی با تمرکز بر بخش\\u200cهای اکتشاف تولید از نظر عملیاتی آن\\u200cها را بخش تقسیم نموده که هر قسمت دارای مدیریت مستقل می\\u200cباشد این سه بخش عبارتند از',\n",
       " 'உத்தக ராமபுத்திரர் uddaka rāmaputta கௌதம புத்தருக்கு யோகா மற்றும் தியானம் ஆகியவற்றை கற்றுத் தந்த ஆசிரியராக கருதப்படுகிறார்சித்தார்த்தர் முதலில் யோகக் கலையை ஆலார காலமிரிடம் பயின்றார் பின்னர் அட்டாங்க யோகம் எனும் உயர்நிலை தியானம் மற்றும் யோகக் கலையை உத்தக ராமகுப்தரிடம் பயின்றார்',\n",
       " 'رد السفير البريطاني مايلز لامبسون الزعيم مصطفى النحاس بخطابه قائلا الشرف أؤيد وجهة النظر عبر عنها خطاب رفعتكم المرسل منكم بتاريخ اليوم وإني اؤكد لرفعتكم سياسة الحكومة البريطانية قائمة تحقيق التعاون بإخلاص حكومة مصر كدولة مستقلة وحليفة تنفيذ المعاهدة البريطانية المصرية تدخل شئون مصر الداخلية تأليف الحكومات تغييرها',\n",
       " 'التحول الراديو بدلا اللاسلكية وقعت ببطء وغير متساو العالم الناطقة باللغة الإنجليزية ساعد دي فورست تعميم كلمة جديدة الولايات المتحدة أوائل عام أسس ديفوريست راديو شركة الهاتف ورسالته العالم الكهربائي حول الحاجة القيود القانونية حذر فوضى الراديو سيكون بالتأكيد يتم تطبيق التنظيم الصارم وستؤدي البحرية الأمريكية دورا الرغم ترجمتها لاتفاقية برلين استخدمت مصطلحي تلغراف لاسلكي برقية لاسلكية بحلول عام بدأت تعزيز استخدام الراديو بدلا بدأ المصطلح ليصبح المفضل الناس إدخال البث ويستند مصطلح الإذاعة مصطلح زراعي يعني تقريبا تشتت البذور نطاق واسع واصلت بلدان الكومنولث البريطانية استخدام مصطلح لاسلكي منتصف القرن العشرين الرغم مجلة هيئة الإذاعة البريطانية المملكة المتحدة لديها تسمى راديو تايمز تأسيسها أوائل عام',\n",
       " 'asó manuel oreilli calvo puerta iv cond buenavista iii cond oreilli muert título cond castillo quedó vacant finalment caducado',\n",
       " 'โรแบร์โต คอนซินา อิตาลี roberto concina เป็นที่รู้จักกันดีในชื่อ รอเบิร์ต ไมลส์ robert mile เป็นดีเจและโปรดิวเซอร์ชาวสวิส-อิตาลี เขาเป็นที่รู้จักในเพลง \"ชิลเดรน\" children',\n",
       " 'впервые свой хвостик отрастил году играя сухуми сделал это похожим актёра стивена сигала обрезал году будучи тренером минского «динамо»',\n",
       " 'processo injeção garantir desenvolvimento polímero fundido enchimento suav arrefecimento configuração forma atend requisito produção produto qualidad processo injeção parâmetro processo important temperatura temperatura fusão temperatura rosca temperatura mold pressão pressão plastificação pressão injeção pressão cavidad papel correspondent tempo variável tempo injeção tempo resfriamento assim diant seguir discutido principai parâmetro interaçõ processo',\n",
       " '儘管增長率結存果斷地活躍朝向金磚四國的經濟，高水準經濟地區個人財富程度會持續超越平均金磚四國水準。高盛證券估計到年八大工業國組織g成員國地區的年收入會超過$，反而只有二千四百萬名金磚四國居民才有相同收入水準。報告強調指出印度能源的大型無效率，及引人注目地提及金磚四國在全球資本市場的極小代表權。過往矛盾凸顯金磚四國的龐大人口，而且使金磚四國的總財富相當容易使六國高峰會成員國地區失色，及同時令年收入會保持於當今工業國家基準之下。上述現象會持續影響全球市場；隨著跨國公司試圖從金磚四國的取得優勢，例如由金磚四國的龐大潛質市場生產廉價汽車及其他金磚四國居民負擔得起的產品，來替代昂貴的奢侈汽車品牌。',\n",
       " '\"ہم اس کا عقیدہ رکھتے ہیں کہ حضرت عیسیٰ علیہ السلام خدا کے بیٹے ہیں اور خدا ان کے ساتھ متحد ہو گیا ہے ہم آپ کے پاس بحث گفتگو کرنے کے لیے آئے ہیں اگر آپ ہماری پیروی کریں اور ہمارے ہم عقیدہ ہو جائیں تو بہتر ہے کیونکہ ہم اس عقیدہ میں آپ سے مقدم ہیں اور اگر آپ نے ہمارے اس عقیدہ میں مخالفت کی تو ہم بھی آپ کی مخالفت کریں گے\"۔',\n",
       " 'eltsilistaimed valik oleneb mitmetest kasvuperioodil esil kerkida võivatest teguritest nend ülesannetek ka põllule või peenral kasulikk loomi meelitada näit sipelgad konnad mesilas jpt kahjureid peletada haigustekitajaid ohutada maamulda toitainetega varustada taimed saagikust tõsta',\n",
       " 'کواد quad در لغت معنای چهارگوش می\\u200cباشد کواد دستگاهی است که تصاویر دوربین مدار بسته را از کانال دریافت از یک کانال خارج می\\u200cکند دستگاه کواد قابلیت نمایش هشت چهار تصویر صورت هم\\u200cزمان از یک مانیتور را دارد',\n",
       " 'ラレドでは非農業雇用数が年月の人から年月の人まで増加した。北アメリカ自由貿易協定によって国際貿易が拡大したために、全体として州内のどこよりも高い雇用機会成長率 - を記録した。年の雇用機会成長率は だった。年月時点で、失業率は、人であり、テキサス州全体のより高い。年代半ばの失業率が以上だったことと比較すると大きく改善されたことになる。',\n",
       " 'вклад развитие педагогики разработал впервые россии педагогическую теорию методологической основой которой явилось материалистическое мировоззрение разграничение науки религии организатором науки просвещения написал первую грамматику русского языка',\n",
       " 'xxie olympisch winterspelen gehouden vancouv februari enkel onderdelen vonden plaat naburig whistler richmond ioc-zit praag juli vancouv verkozen boven pyeongchang salzburg olympisch zomerspelen montreal olympisch winterspelen calgari derd maal canada olympisch spelen organiseerd',\n",
       " 'acobu robertu thompson sicagi natu maii causidicu rerum politicarum peritu americanu factioni republicana inter alia anno usqu annum illinoesia gubern fuit',\n",
       " 'மக்கள் அனைவரும் ஒழுக்கந்தவறாமல் வாழவேண்டும் என்றும் பொய் சூது கொலை குடி விபச்சாரம் கூடா ஒழுக்கம் ஆகியவை உடல் நோயை உண்டாக்கும் என்றும் யோகப்பயிற்சியிலே வாழ்வில் வெற்றி பெறமுடியும் என்றும் உடல் வலிமையுடன் நீண்டநாள் வாழ முடியும் என்றும் சித்தர்கள் பல பாடல்கள் பாடியுள்ளனர்',\n",
       " 'مسور بن مخرمہ بیان کرتے ہیں کہ رسول صلی اللہ علیہ آلہ سلم کے پاس جب ہوازن کا وفد آیا تو آپ صلی اللہ علیہ آلہ سلم کھڑے ہوئے آپ سے ان لوگوں نے درخواست کی کہ ان کے قیدی واپس کر دئیے جائیں رسول صلی اللہ علیہ آلہ سلم نے فرمایا کہ میرے پاس سچی بہت پسندیدہ ہے اس لئے دوباتوں میں سے ایک کو اختیار کرو یا تو قیدی واپس یا مال اور میں نے تو ان کے آنے کا جعرانہ میں انتظار کیا تھا رسول صلی اللہ علیہ آلہ سلم نے ان لوگوں کا دس راتوں سے زائد انتظار کیا جب طائف سے واپس ہوئے تھے چنانچہ جب ان لوگوں کو معلوم ہوا کہ رسول صلی اللہ علیہ آلہ سلم دو چیزوں میں سے ایک ہی چیز واپس کریں گے تو ان لوگوں نے کہا ہم اپنے قیدیوں کو اختیار کرتے ہیں یعنی قیدیوں کو واپس کر دیجئے رسول صلی اللہ علیہ آلہ سلم مسلمانوں کے درمیان کھڑے ہوئے اور اللہ کی تعریف بیان کی جس کا وہ مستحق ہے پھر فرمایا اما تمہارے یہ بھائی ہمارے پاس تائب ہو کر آئے ہیں اور میرا خیال ہے کہ ان کے قیدی ان کو واپس کر دوں اس لئے جو شخص بطیب خاطر بخوشی واپس کرنا چاہے تو واپس کر دے اور جو شخص یہ چاہتا ہو کہ اس کا حصہ باقی رہے اس طور پر کہ جو سب سے پہلی فتح ہوگی تو ہم اس کا دے دیں گے تو ایسا کرے لوگوں نے کہا کہ ہم ان لوگوں کو رسول صلی اللہ علیہ آلہ سلم کی خوشی کی خاطر بلا معاوضہ دے دیں گے رسول صلی اللہ علیہ آلہ سلم نے فرمایا ہم نہیں جانتے کہ تم میں سے کس نے اس کو منظور کیا اور کس نے منظور کیا تم لوگ لوٹ جاؤ اور تمہارے سردار ہمارے',\n",
       " 'p juni ontv gouden label mechelen cd pianowerk franz schubert waarond vier impromptu’ pianoson',\n",
       " 'وحتى أقسام الحكومة المحلية تتكون مستوى أعلى الأقاليم region إقليم يحتوى مستوى يسمى الضاحية باستثناء مناطق مجالس الجزر وهي وحيدة الطبقة',\n",
       " 'بر اساس جدول زیر دامنه ماه\\u200cهای گاه\\u200cشماری هجری خورشیدی با روزهای میلادی بطور نسبی غالب تطبیق داده می\\u200cشود در بعضی از سال\\u200cها یک روز تفاوت یا جابجایی در این تبدیل وجود دارد',\n",
       " 'такер гейтс — американский телережиссёр продюсер режиссёром нескольких эпизодов сериалов канала abc «шпионка» «остаться живых» также режиссёром ряда эпизодов сериалов «дурман» «карнавал» «пойнт-плезант» «хафф» «юристы бостона» «город пришельцев» «братья сёстры» «родина» «парки зоны отдыха»',\n",
       " 'unduz kunduzgil castorida familyasından castor cinsini oluşturan ağaçları kemirerek beslenen kıyılarında yaşayan kemiricilerin ortak adıdır yaşayan türü vardır eski dünya kunduzu fiber yeni dünya kunduzu canadensi',\n",
       " 'acrovis rovi corpor olunca safedisc safecast drm korumalarının geliştirmesin verinc reload kendi içlerind kullandıkları aracı halka açtı araç sayesind cddvd kontrolleri denem süreleri çevrimiçi etkinleştirm çalıştırma sayısı arka planda gerçekleşen cddvd kontrolleri aşılabiliyordu',\n",
       " 'õisa aastal valminud peahoon asub haeska küla lõunaosa aastal hoon renoveer ning matsalu looduskaitseala raja sinna väikes hanelist rännet tutvustava väljapaneku praegu haeska mõisa peahoon eravaldus',\n",
       " 'สมเด็จพระราชาธิบดี สุลต่าน มีซาน ไซนัล อาบิดีน พระนามเต็มอัล วาติกูร บิลลาห์ ตวนกู มิซาน ไซนัล อาบิดีน อิบนี อัลมาร์ฮุม สุลต่าน มะห์มุด อัล มักตาฟิ บิลลาห์ ชาห์ ภาษาอังกฤษal-wathiqu billah tuanku mizan zainal abidin ibni al-marhum sultan mahmud al-muktafi billah shah ทรงเป็นเป็นพระมหากษัตริย์มหารายาแห่งรัฐตรังกานู และเป็นพระราชโอรสในสุลต่าน มะห์หมุด อัลมักตาฟี บิลลาห์ ชาห์ พระมหากษัตริย์แห่งตรังกานูองค์ก่อน และพระองค์ทรงเป็นยังดีเปอร์ตวนอากงองค์ที่ ทรงเป็นประมุขแห่งสหพันธรัฐมาเลเซีย ตั้งแต่วันที่ ธันวาคม พศ - ธันวาคม พศ',\n",
       " 'eck johann friedrich napierski kard eduard allgemein schriftsteller- gelehrten-lexikon provinzen livland ehstland kurland erster band a−f mitau johann friedrich steffenhagen sohn lk - []',\n",
       " 'march goodrem undergo cancer treatment hodgkin diseas higgin carter announc plan releas album shop album begin bid record compani overwhelm success goodrem debut album innoc eye sold million copi worldwid industri expert expect bid album attract figur $ million $ million goodrem famili disapprov album releas lawsuit file goodrem lawyer claim album made unfinish demo record fit commerci releas coverag media case settl mediat exchang releas album higgin carter receiv unspecifi payout',\n",
       " 'اور کے دوران تحریک اخوان المسلمین کے کچھ ارکان مصر میں اشتراکی طرز حکومت کے حامیوں کی کاروائیوں سے بچنے کے لیے سعودی عرب میں پناہ گزین ہوئے۔ وہ وہابی تحریک سے بھی اختلافات رکھتے تھے۔ وہابی تحریک اور تحریک اخوان المسلمین کے ایک دوسرے پر اثرات نے ایک نئی مذہبی سیاسی تحریک صحوہ کو جنم دیا۔ یہ تحریک میں اپنے عروج کو پہنچی جس کے سعودی حکومت نے اس کو محدود کر دیا۔',\n",
       " 'именно произошло возгорание творческого роста расцвета школу пришли известные ведущие педагоги-хореографы заслуженная артистка украины ольга стратиневська артисты солисты балета ольга самойленко лев благой сергей астремський лидия зотова ситниченко алла сердцева оксана орлюта любовь луговская — ученики первых наборов школы',\n",
       " 'நேரமீடுசெய்தல் என்பது ஒரு நிலவியற்பகுதியில் நிலவும் நேரத்தை ஒருங்கிணைந்த சர்வதேச நேரத்திற்குச் சமமான நேரமாகக் குறிப்பிடும்பொருட்டு கூட்டவோ அல்லது குறைக்கவோ செய்கின்ற நேரத்தின் அளவாகும் அந்நேரம் பகலொளி சேமிப்பு நேரம் அல்லது திட்ட நேரம் என்பவற்றில் எதுவாகவும் இருக்கலாம்',\n",
       " '冰醋酸是一个良好的极性质子溶剂，常常被用来作为重结晶提纯有机化合物的溶剂。纯的溶融状态的乙酸是生产对苯二甲酸的溶液，对苯二甲酸是制备聚对苯二甲酸乙二酯的重要原料。尽管现在仅有-的乙酸作此用途，不过据预测，它在今后几十年内将有显著的增长，因为聚对苯二甲酸乙二酯的产量正在增加。',\n",
       " 'esem b special versu versatil intergener transmiss violenc approach studi intergener transmiss violent versu non-viol father latent class analysi journal quantit criminolog -',\n",
       " 'ougla aziz shamasha eshaya arab دوكلاص عزيز\\u200e born januari former iraq nation footbal player caretak coach iraq christian minor ethnic assyrian',\n",
       " 'práctica matrimonio consanguíneo endogámico limita drásticament posibilidad matrimonio alienta inherentement matrimonio arreglado según tradición nacimiento millon persona principalment fe islámica realizan práctica matrimonio arreglados[]\\u200b[]\\u200besta práctica observada aunqu mucha menor medida grupo étnico áfrica india indonesia polinesia ámerica sur[]\\u200b pakistán arabia saudita mayoría matrimonio arreglado endogamo consanguineo matrimonio arreglado endógamo consanguíneo iraq irán jordania siria yemen kuwait emirato árabe unido omán sudán libia mauritania matrimonio turquía egipto argelia region nigeria india malasia alta poblacion musulmana matrimonio arreglado endogámico consanguíneo []\\u200b[]\\u200bentr poblacion islámica matrimonio arreglado incluyen matrimonio endogámico consanguíneo superan tasa observada encima matrimonio endogámico consanguíneo',\n",
       " 'ugustinu mahiga alumnu universitati africa orientali urb daressalaamensi atqu universitati torontonensi canada ubi gradum doctori anno ascendit legatu fuit tanzanianu nation unita anno iunii iussu ban gimun legatu speciali eiusdem consociationi apud somaliam creatu quod officium usqu iunii implevit successor nicolao kay decembri praesid tanzaniano ioann magufuli legatu parlamentariu minist rerum externarum patria factu praecessor bernardo memb',\n",
       " 'tijden spelen zeven sporter kameroen vermist organisati vermoedd asiel wilden aanvragen bekend sporter eritrea guine ivoorkust verdwenen enkelen verklaard inderdaad groot-brittannië wilden blijven wegen onrust eigen land',\n",
       " '세계 웹 브라우저 시장에서 인터넷 익스플로러는 년 말까지는 에 육박하는 점유율을 기록했다 하지만 파이어폭스 사파리 구글 크롬 등 새로운 웹 브라우저들이 나오며 인터넷 익스플로러의 점유율이 계속해서 떨어져 년 월 에 이르게 되었으며 다음으로 크롬 파이어 폭스 로 뒤따랐다 그 후 년 월 일 시점으로 크롬의 점유율이 로 위이며 인터넷 익스플로러는 파이어 폭스가 사파리 오페라 의 순이다',\n",
       " '자유 공화당은 공화 민주당chp와 민주당dp에서 정치를 하던 멘데레스가 월 일 일어난 쿠테타 이후 년 월 일 교수형으로 처형되었다 터키 국회에서 년에 제정된 법에 의해 멘데레스와 그와 같이 사형된 자들에게 무죄가 선언되었다',\n",
       " 'simen asundu fort kristina nüüdne wilmington usa delawarei osariigi nimetati emamaa kuninganna kristiina järgi uus-rootsi hõlma osa praegusest delawarei jersey pennsylvania osariigist rootslast paarisaja soomlas kõrval asunik arvukalt hollandlasi samuti saabusid kolooniass rootsi sõduritena mõned sakslas',\n",
       " '军事专家尹卓称，战略支援部队主要的使命任务是支援战场作战，使我军在航天、太空、网络和电磁空间战场能取得局部优势，保证作战的顺利进行。具体地说，战略支援部队的任务包括：对目标的探测、侦察和目标信息的回传；承担日常的导航行动，以及北斗卫星和太空侦察手段的管理工作；承担电磁空间和网络空间的防御任务。',\n",
       " 'commedia dell’art inspira grand dramaturg françai pierr corneil lillus comiqu personnag matamor molièr partagea sall pendant temp « comédien italien roi » comédie-italienn jf regnard écrivit comédien parmi lesquel figurait fameux scaramouch tiberio fiorelli angelo constantini mezzetin comédien italien démasquer tard pierr carlet chamblain marivaux écrivit',\n",
       " 'イチバンコンichibanconは、ノースカロライナ州のシャーロット市およびその周辺で毎年開催されているアメリカ合衆国のアニメコンベンションであり、日本のポップカルチャーの喧伝も行なっている。最初のイチバンコンのイベントは、年月〜日の週末にシャーロットのおよそマイル北東に位置するコンコード市のグレィト・ウルフ・ロッジにて開催され、現在では新年に催される最初のカロライナのアニメコンベンションとしての周知を得ている。',\n",
       " 'opoľčani slovacic okr topoľčani unu septaginta novem slovacia circulorum region nitria urb eiusdem nomini caput huiu circuli incolarum anno',\n",
       " '“مسلمان اپنے مسیحی ساتھیوں کی نسبت بہتر حضرت نظر آتے word frequent show merci defeat seldom guilti brutal mark christian captur jerusalem ” p',\n",
       " 'artai persatuan demokrasi kebangsaan pemilu berubah partai demokrasi kebangsaan pdk gambar logo partai keputusan disepakati utusan dewan penguru provinsi partai persatuan demokrasi kebangsaan indonesia acara rapimna tanggal - oktob mercure-ancol jakarta perubahan menjadikan partai demokrasi kebangsaan mantap melaju berperan kancah dunia perpolitikan indonesia berfusi partai lainya',\n",
       " 'قطب\\u200cهای خورشید هر سال یکبار تغییر می\\u200cکند پدیده\\u200cای که دلیل آن چندان روشن نیست با این حال دانشمندان معتقدند تغییر سرعت جریان پلاسما از استوا قطب بالعکس در سطح خورشید اینکه سرعت گردش خورشید بدور خود در قطب بیشتر از استوا است نقش عمده\\u200cای در روند جابه\\u200cجایی قطب\\u200cهای خورشید دارنددر تغییر قطب\\u200cهای خورشید که بتدریج در طی یازده سال صورت می\\u200cگیرد؛ لکه\\u200cهای خورشیدی که فعالیت مغناطیسی شدیدی دارند متلاشی شده بتدریج سمت یکی از قطب\\u200cهای خورشید حرکت می\\u200cکنند تا اینکه جایگزین قطب قبلی شوند جابجایی قطبی خورشید تغییرات میان\\u200cکهکشانی ایجاد می\\u200cکند که بصورت توفان\\u200cهای مغناطیسی ظاهر می\\u200cشود این توفان\\u200cها ممکن است بر لایه یون\\u200cکره جو زمین تأثیر بگذارند در ارتباطات ماهواره\\u200cای رادیویی اختلالاتی ایجاد کنند یکی از تأثیرات این جابجایی قطبی که در زمین مشاهده خواهد شد بیشتر شدن دفعات گستردگی پیدایی شفق\\u200cهای قطبی است',\n",
       " 'شکست در ممانعت از نسل\\u200cکشی رواندا در سال که منجر مرگ حدود یک میلیون نفر شد علت آن عدم تصویب اقدام نظامی الزامی از سوی شورای امنیت بود',\n",
       " 'تاجیکِستان فارسی تاجیکی тоҷикистон با نام رسمی جمهوری تاجیکستان فارسی تاجیکی ҷумҳурии тоҷикистон çumhurii toçikiston کشوری کوهستانی محصور در خشکی است که با حدود میلیون نفر جمعیت در سال میلادی مساحتی بالغ بر ٬ مترکیلومربع ٬ مایل\\u200cمربع در آسیای مرکزی قرار دارد این کشور با افغانستان از جنوب ازبکستان از غرب قرقیزستان از جمهوری خلق چین از شرق مرز مشترک دارد',\n",
       " 'errängen runt goldman glacier varierad goldman glacier ligger upp höjd högsta punkten närheten kukri hill meter havet kilomet sydväst goldman glacier trakten obefolkad finn inga samhällen närheten trakten runt goldman glacier finn ovanligt många namngivna isformation',\n",
       " 'august carvaj call squad time match franc macedonia made debut septemb – friendli defeat former play full minut select uefa euro tournament drop squad injuri contract whilst club',\n",
       " 'ucia trandafir august bucurești - iuli lakewood statul ohio medic și comandantă „cetățuilor fete” secția feminină mișcarii legionar -',\n",
       " 'конца -х годов мабул является одним наиболее популярных курортов восточной малайзии соответствующая инфраструктура входит состав гостинично-курортного комплекса «сипадан-мабул» расположенного также соседних островах сипадан капалай мабул наиболее популярен среди любителей морского отдыха особенности дайвинга сноркелинга привлекаемых природными красотами местной акватории — помимо специальных пунктов оборудованных самом острове нужд дайвинга приспособлена заброшенная нефтяная платформа находящаяся километре мабула',\n",
       " '그는 일본인의 조선인 차별에 분개하면서도 어쩔수 없다고 봤다 그는 \"일본인과 조선인 사이에 차별대우가 존재하는 것은 당연하다\"고도 말했다 왜냐하면 양자 사이에는 경제력과 학력 수준에서 차등이 존재하기 때문에 정치·사회적으로 차별 대우가 생기는 것은 자연스런 이치라는 것이다 또한 조선인 스스로가 지적 능력과 분별력을 갖추지 못한 것도 문제점이라고 지적했다 그는 유언비어에 쉽게 현혹되고 사리판단 보다는 낭설과 미신에 의존하는 것을 차별대우 받을 수 밖에 없는 점으로 지적했다 다시 말해 문명화 정도의 차이가 차별 을 낳는 원인이라고 보았다',\n",
       " 'ahasa awamnya paspor ktp negeri visa tiket masuk negara visa arriv tiket masuk negara yang “beli” perbatasan bandara negara yang tuju',\n",
       " 'لړاکاډيميکي هڅي پيل کړې چي په هغوکي ئې داملايي يووالي پاره کارهم شامل په طلوع افغان کي په دغوراپيل سووهڅوکي علامه حبيبي سره ارواښادمولاناقيام الدين خادم ارواښادحاجي ولي محمدمخلص ارواښادمحمدگل نوري اوارواښادعبداللطيف هوتک ملگري ول ددې هڅوپه تعقيب دکابل پښتوټولني دژبي دليکدوداومعيارپه باب هلي ځلي کړي دي اودلروبرپښتنو ليکوالو گډتلاښ ئې زمينه برابره کړې ده دپښتوټولني هڅي که څه ناکافي بلل سوي دي خوپخپل وخت کي دستايني وړدي ورپسې دکابل پوهنتون دادبياتوپوهنځي دهغوځوانواستادانوله خوا چي په خارج کي ئې نوي ژبني اکاډميک تحصيلات سرته رسولي وه پښتوژبي کره کېدني خوځښت راپيل سوچي په هغوکي ارواښاد پوهاند ډاکټر محمد رحيم الهامارواښادحبيب الله تږی ارواښاد پوهندوی نور احمدشاکر پوهانددوکتورمجاوراحمد زيار ډاکټر عبدالرازق پالوال استاد بايزيد اڅک اونورو برخه اخيستې وه په دوی کي پوهاند دوکتور زيار صاحب کار دحجم په لحاظ اوهم دې چاري دخپل ټول ژونددوقف کولوله امله تر نوروزيات کارکړی دئ پوهاند زيار صاحب خپلوگوندي اوسياسي اړيکو دومره پراخه زمينه برابره کړه چي تر ورواستادانوډېروړاندي ولاړسي ځکه هغوی په سياسي لحاظ مغضوب واقع سوي وه ځيني هيواده وتلوته مجبورسوي وه او هغوی چي پاته وه چامخي نه پرېښوول همدې امله دژبي دکره کولوکارته يوازي ډاکټرصاحب زياراوږه ورکړه وروسته څرگنده سوه چي ددې خوځښت په پيل کي چي کومو کسانوله دې بهېرسره لاس يوکړی دهغي لاري په پاللوکي ستونزي وموندلې',\n",
       " '-シーズンにnbaはスリーポイントシュートを導入する。もともとロングレンジシュートが得意だったブラウンはこのnbaの新しい試みにもすぐに対応し、成功率を記録して見事に初代スリーポイントシュート成功率位に輝いた。その後ブラウンの成績は緩やかに下降していくが、最後のシーズンにはガードの選手としては異例となるフィールドゴール成功率超えを達成している。年にソニックスがブラウンと再契約しなかったことから、ブラウンは現役から引退することを決意した。ソニックスで年間プレーしたブラウンは、引退した時点でソニックスの通算出場試合数、得点、アシスト、スティールでチーム歴代位だった。',\n",
       " 'கபில வயிற்றுப் பூங்குயில் phaenicophaeu sumatranu என்பது குயிற் குடும்பத்தில் பூங்குயில் பேரினத்தில் உள்ள ஒரு அழகிய பறவையாகும் இவ்வினம் புரூணை இந்தோனேசியா மலேசியா மியன்மார் சிங்கப்பூர் தாய்லாந்து போன்ற தென்கிழக்காசிய நாடுகளில் காணப்படுகின்றது',\n",
       " 'การพิมพ์ภาพในญี่ปุ่นก็เช่นเดียวกับศิลปะสาขาอื่นๆ ของญี่ปุ่นที่จัดเป็นตระกูลโรงเรียนศิลปะ และ ขบวนการต่างๆ ตระกูลการการสร้างภาพพิมพ์ที่มีชื่อเสียงที่ต่อมาคือขบวนการ moku hanga ก็ได้แก่',\n",
       " 'rv（hyperson research vehicle）計画の一環としてraeの超音速部門が開発した。これは高速大気圏再突入試験のためのオーストラリアのwre（weapon research establishment）との共同プロジェクトだった。いくつかのバージョンが存在する。',\n",
       " 'ډپټي محمد حيات خان په خپل مشهور اثر تاريخ حيات افغاني کې چې دده خوا کلونه وړاندې په اردو ژبه کښل شوی او بيا ورو سته په انگر يزي او پښتو ژبو ژبا ړل شوی دی دوی پخو انۍ سيمي او بنو سيمې بنو څيو راتلو په اړوند داسي ليکلي دي\" بنو څيو استو گني اصلي ځای سليمان غره يوه لړۍ يعني شوال غر او دبنو څيو تر راتگ دمخه په بنو کې دهني او منگلو قبيلي ميشته وې چې بيا ورو سته ددغو قبيلو پير شيخ شاه محمد رو حانيرح دوی نه دې کبله خپه شو چې غلو دانو لسمه بر خه يې چې هغه ور کو ور باندې بنده کړه چې غه خته نو موړي پير شيتک او لادې نه کيوي او سوراڼي اولاده خپل زوی شاه نيکبين سره يو ځای شوال دغره نه دې سيمي راو ليږل او اجازه يې ورکړه چې دوی بايد دهني او منگلو قبيلي دې ځايه وباسي او دغه سيمه چې دبنو څيو تر راتلو دمخه په ډنډ با ندې مشهوره وه په خپل واک کې راولي څر نگه چې دشيتک اولاده شوال په غره کې وزيرو قبيلې زور زياتي په وجه په تنگ شوي وو نو نو موړي پير دغه خبره يې غنيمت گڼله او دغې سيمې يې ډله ايزه ليږ ديدنه پيل کړه چې مړی تو چي سهيل او دگبر غره په شمالي لمنې ورغړ کې ميشته شول بنو څيو خپل پير زوی شاه نيکبين په غو ښتنه درې کو ترې راوړې ديوې کو ترې نه يې هيڅ بڼکې ونه ايستلي ددويمې کو ترې نيما يې بڼکې او ددريمې کو ترې ټو لې بڼې يې وايستلې او درې واړه کو ترې يې دخپل يوه استازي په لاس هني او منگلو قبيلو واستولي او دا پيغام يې ور وليږه',\n",
       " 'şark mektuplari kitabının sahibi ladi montagu tarihindeki mektupların birind şunları yazmıştır taş murabba şeklind yontma taştan ayak üzerin mevzu dört sütun üzerind duruyor taşın ayağında kabartma olarak muhareb mecli resmi diğer ikisind rumca latinc şunlar yazmaktadır',\n",
       " 'மேலும் செஞ்சியர்கோன் என்றழைக்கப்படும் செஞ்சி நாட்டுச் சிற்றரசனான கொற்றண்டை என்பவனைப் பலவகைப் பாக்களில் புகழ்ந்து புகழேந்தி ஒரு கலம்பகம் பாடியதாகத் தொண்டை மண்டல சதகம் கூறுகிறது ஒட்டக்கூத்தரும் புகழேந்தியும் சமகாலத்தவர் என்ற கருத்தை நாம் ஏற்றுக்கொண்டால் செஞ்சியை ஆண்ட இந்தச் சிற்றரசன் விக்கிரம சோழ உலாவில் குறிப்பிடப்பட்டவனாகயிருக்கவேண்டும் ஆனால் இது சந்தேகத்திற்குரியது புகழேந்தி கூத்தருக்கு ஒரு நூற்றாண்டுக்கு பின்னரே வாழ்ந்ததாகக் கொள்ளலாம் புகழேந்தி நளவெண்பா மூலம் புகழ் பெற்றவர் \"வெண்பாவிற் புகழேந்தி\" என்பது ஒரு சொற்றொடர் நளவெண்பா நளன் கதையை வெண்பாக்களில் கூறுகிறது சமஸ்கிருதத்தில் அனுஸ்டுப் என்பதற்குச் சமமானது தமிழ் வெண்பா தக்க திறமையும் புலமைமுடைய கவிஞர்கள் கையாண்டால் வெண்பா சிறந்த பலன் தரும்',\n",
       " 'sb fera venir chaleur épouvant provoquera maladi mortel parmi nation mond just sourc guérison',\n",
       " 'مجمع عمومی سازمان ملل متحد در فوریه با تصویب قطعنامه\\u200cای یازده ماه سرکوبی معترضان در سوریه را محکوم کرد قطعنامهٔ تصویب شده در مجمع عمومی از دولت بشار اسد می\\u200cخواهد که ظرف روز طرح اتحادیهٔ عرب را اجرایی کند اتحادیهٔ عرب خواستار کناره گیری بشار اسد از ریاست جمهوری انتقال قدرت معاونش بود کشور که این قطعنامه رأی مثبت دادند خواستار پایان خشونت\\u200cها در سوریه شده\\u200cاند کشور از جمله ایران روسیه چین کوبا ونزوئلا کره شمالی این قطعنامه رای منفی دادند',\n",
       " 'asm clermont auvergn détient anti-record auvergnat participé treiz final nont gagné cell rc toulon lun principaux rivaux anné arriv just derrièr nombr final disputé gagné',\n",
       " 'ยกตัวอย่างเช่น บิดาของรัฐธรรมนูญสหรัฐและประธานาธิปดีคนที่ เจมส์ เมดิสัน สนับสนุนสาธารณรัฐตามรัฐธรรมนูญเหนือประชาธิปไตยโดยตรง โดยเฉพาะก็เพื่อป้องกันปัจเจกบุคคลจากเจตจำนงของคนส่วนมาก โดยได้กล่าวไว้ว่า',\n",
       " 'comparison note author googl stori \"not gutenberg invent empow individu transform access inform profoundli google\" long \"cook engin web search began inform time web\" digit book expand health inform',\n",
       " 'تاریخ کے میں یہ مفروضہ کا پیچیدہ رہا ہے - اگرچہعصر حاضر کے اکثر دانشور اس کو مسترد کرتے ہیں یہ مفروضہ ماضی میں کافی زیر تنقید بحث رہا ہے جبکہ اب بھی اس کے قریب الفہم اور معقول ہونے کے حمائتی موجود ہیں ۔ انیسویں صدی کے اخیر میں ارنسٹ رنن اور دیگر دانشوروں نے اندازا لگایا کہ اشکنازی یہودیوں کی ابتداء ترک پناہ گزینوں سے ہوئی جنہوں نے خذری خانیت کے انہدام پر مغربی یورپ کیجانب ہجرت کی اور اپنی آبائی خذری زبان کو یدش سے بدل دیا جبکہ یہودیت پر ساتھ ہی ساتھ عمل پیرا رہے ۔ اگرچہ اس وقت کے سے کئی دانشور وقفے وقفے سے خذر-اشکنازی مفروضے کیجانب یاد دہانی کراتے رہے اس مفروضے نے بڑے پیمانے پر عوامی توجہ آرتھر کوستلر کی کتاب تیرھواں قبیلہ کی اشاعت کیبعد حاصل کی ۔ ایرن ایلہائیک نے اس مدعا کو حال ہی میں دوبارہ میں پھر سے زندہ کیا جس نے میں اس مفروضہ کو بری از الزامی کیلئے ایک مطالعہ منعقد کرایا۔ شکوک شبہات کے باوجود اس نے میں یدش ماہر پال وکسلر کے لسانی نظریات کا حدودی استعمال کرتے جینیاتی تجزیے کا ایک نیا طریقہ کا تیار کیا اور اس مفروضے کے تصور کو پھر سے مرتب کیا۔',\n",
       " 'سردار حيات الله خان امير الله خان او صندل بېگم زوی هغه دوه مېرمنې درلودې لومړنۍ ښځه يې زليخا بېگم لقب يې شاه بوبو هغه سردار محمد رفيق خان کشرۍ لور وه او دويمه مېرمن يې يوه چترالۍ ښځه وه حيات الله خان درې زامن درلودله چې هر يو يې',\n",
       " 'நவம்பர் ]] இல் தோமஸ் அல்வா எடிசன் ஒலியைப் பதிவு செய்து அதனை மீளவும் ஒலிக்கச் செய்யும் தனது போனோகிராஃப் என்ற கருவி பற்றிய கண்டுபிடிப்பை அறிவித்தார் அதனை முதற் தடவையாக நவம்பர் இல் காட்சிப் படுத்தினார் இது பின்னர் [[பெப்ரவரி இல் அவரால் காப்புரிமம் patent பெறப்பட்டது',\n",
       " 'کرمانشاه از جمله مناطقی بود که در ابتدای سلطنت آقا محمدخان قاجار تصرف وی درآمد در قرن نوزدهم بر اهمیت تجاری استراتژیک کرمانشاه افزوده شد کرمانشاه مرکز کردستان ایران شد سر جان ملکم اهمیت کرمانشاه را عنوان بازاری برای تجارت بین ترکیه ایران ذکر کرده است سر جان مکدانلد کینر بیان می\\u200cکند که در شهر در حال شکوفایی بود حدود خانه داشت که جمعیتی بالغ بر حدود نفر را سکنی می\\u200cداددوران بعدی رشد توجه کرمانشاه در دوران قاجاریه بود که مورد توجه دوباره حکومت از لحاظ سیاسی اجتماعی بود در سال با منصوب شدن محمد علی میرزا دولتشاه حکومت کرمانشاهان طرح\\u200cهای شهری را در کرمانشاه اجرا درمی\\u200cآورد شکل کنونی شهر کرمانشاه را می\\u200cکند پس از در گذشت محمدعلی میرزا دولتشاه فرزندش محمدحسین میرزا حشمت\\u200cالدوله در سال هـق حکومت غرب عراق عرب عراق عجم از جمله کرمانشاهان منصوب شد',\n",
       " 'หลังจากแยกทางกับคิมเบอร์ลี่ คอนราด เฮฟเริ่มใช้ชีวิตแบบเพลย์บอยเต็มรูปแบบ เฮฟเลือกคบกับสาวๆ เป็นกลุ่มแฟน อายุตั้งแต่ - ปี ในปี แบรน โรเดริค brand roderick ถอนตัวจากการแสดงซีรีส์เรื่อง baywatch เพื่อมาเข้าสังกัดแฟนของเฮฟ หลังจากนั้นเฮฟเลือกเยสมิน คิง yazmin king เป็นคนโปรด หลังจากนั้นทีน่า แมรี่ จอร์แดน tina mari jordan ได้เป็นแฟนคนหลัก แต่หลังจากนั้นเฮฟก็เสาะหาสาวผมบลอนด์อีก คนมาเข้าสังกัดแฟนของเขา รวมไปถึง ฮอลลี่ แมนดิสัน holli madison บริจเจ็ด มาร์คาร์ด bridget marquardt และเคนดรา วิลคินสัน kendra wilkinson ซึ่งเป็นนักแสดงจากซีรีส์เรื่อง girl ก็มาอยู่กับที่แมนชั่นเพลย์บอยของเฮฟ เฮฟได้เลือก เคนดรา วิลคินสัน วัย ปี kendra wilkinson เป็นแฟนลำดับที่',\n",
       " 'الولايات المتحدة يرتدي ضباط الجيش والبحرية وخفر السواحل السيوف شفرة واحدة يرتدي أيضًا ضباط البحرية الضابط والضباط النظاميين السيوف أنهم يقصدون استخدامها كأسلحة والآن يستخدمونها بشكل رئيسي الزينة الاحتفالات ضمن الاحتفالات يستخدم السيف احتفال يسمى \"قوس السيف\" يقام لرجال سيدات الخدمة حفلة زواجهم',\n",
       " 'rgentina mengklaim kedaulatan kep falklandmalvina kep shetland selatan kep sandwich selatan wilayah selua juta km² antartika ºbb ºbb gari paralel ºl wilayah antartika antartika argentina dianggap wilayah nasion alasan pendudukan permanen abad',\n",
       " '末日聖徒イエス・キリスト教会の集会所はヒルサイド道路とカクタス・ドライブの交差点にある。ルーテル派や無会派の集会所グレース・バイブル教会はヒルサイドのはずれに、クロスローズ教会は国際ブールバードにある。もう一つのバプテスト集会所であるユナイテッド・バプテスト（マイク・バレラ牧師）は国際ブールバードにある。アッセンブリー・オブ・ゴッドの最初の集会所はマクファーソン道路の聖所に大規模なものを描いている。全ての会派や無会派の教会近くにはスペイン語の集会所もある。',\n",
       " 'عربی زبان رسمی بحرین است گرچه زبان انگلیسی طور گسترده\\u200cای در این کشور استفاده می\\u200cشود عربی بحرانی رایج\\u200cترین گویش زبان عربی\\u200cاست که توسط مردم کار گرفته می\\u200cشود در میان جمعیت بحرینی غیر بحرینی بسیاری از مردم فارسی زبان رسمی ایران یا اردو زبان رسمی پاکستان هند صحبت می\\u200cکنند نپالی زبان مالایالم مالایالم هندی در میان جوامع مهاجر رواج دارد',\n",
       " 'ua irmã amalia carlotta patti cantora infância família mudou-s cidad nova iorqu patti cresceu wakefield part bronx criança patti cantava profissionalment desenvolveu voz soprano coloratura registro vocai equalizado perfeitament surpreendentement emotivo acredita-s patti aprendeu sabia técnica canto meio-irmão mauric strakosch músico impresário posteriorment patti outro grand cantor ego considerávei coment tudo sabia aprendido conta própria',\n",
       " 'کلارک ٹاؤن شپ پیری کاؤنٹی انڈیانا انگریزی clark township perri counti indiana ریاستہائے متحدہ امریکا کا ایک township indiana جو پیری کاؤنٹی انڈیانا میں واقع ہے۔',\n",
       " 'ui mingi objekti mõõte vähendada x korda sii sell objekti ruumala väheneb x³ korda kuid objekti pindala vaid x² korda sellel põhimõttel vältimatud tohutud tagajärj näitek ütleme trelli või ükskõik muu masina võimsu võrdelin ruumalaga ning trelli hammasratast laagrit hõõrdejõud võrdelin pindalaga normaalmõõdu trelli võimsu piisav saamak vabalt üle hõõrdejõust aga kui vähendada trelli välismõõtmeid korda vähenek trelli ruumala ehk võimsu x x korda kuid trelli pindala ehk hõõrdejõud vaid x korda proportsionaalselt olek sellel trellil korda vähem võimsust hõõrdejõu kohta kui algsel trellil kui algs trelli võimsuse-hõõrdejõu suhe näitek tähendab seda väiksel trellil olek korda väiksem võimsu kui olek hõõrdejõud trell olek kasutu',\n",
       " 'سانچہقرآن-سورہ آیت ۔۔۔* وَآتَاكُم مِّن كُلِّ مَا سَأَلْتُمُوهُ وَإِن تَعُدُّواْ نِعْمَتَ اللّهِ لاَ تُحْصُوهَا إِنَّ الإِنسَانَ لَظَلُومٌ كَفَّارٌ',\n",
       " 'id project issu dissolut privatepubl realm divid real issu maintain enhanc autonomi realm institut arrang adopt introduc democraci household social realm gener workplac educ establish etcetera time enhanc institut arrang polit econom democraci effect democraci conceiv free time equal distribut citizen requir end present hierarch relat household workplac democraci social realm particularli household requir institut arrang recognis charact household need-satisfi integr servic household gener scheme satisfact',\n",
       " 'オクラホマ州立大学システム oklahoma state univers system とは、アメリカ合衆国オクラホマ州内に張り巡らされているつの教育機関の集合体、オクラホマ州立大学群のこと。つの普通大学とつの医学系機関で構成される。旗艦校はスティルウォーターにあるオクラホマ州立大学スティルウォーター校 oklahoma state univers - stillwater。',\n",
       " 'конце -х годов острове окружающей акватории отмечаются некоторые проблемы экологического характера вызванные частности работами расширению местных пляжей',\n",
       " 'तीसरी अवस्था सुषुप्ति प्रगाढ़ निद्रा लय जाता है और जीवात्मा क स्थिति आनंदमय ज्ञान स्वरूप जाती है। इस कारण अवस्थिति में वह सर्वेश्वर सर्वज्ञ और अंतर्यामी एवं समस्त प्राणियों की उत्पत्ति और लय कारण है।',\n",
       " '년 필사탁은 회남 번진의 좌상도지병마사左廂都知兵馬使로 있었다 당시 도사 여용지를 신임했던 고병은 여용지에게 번진의 사무를 사실상 맡겼는데 그의 숙장宿將이었던 유공초兪公楚와 요귀례姚歸禮 등은 여용지가 그들에게 취한 참소讒訴로 죽임을 당했을 정도였고 이는 번진의 장령들이 죽음을 두려워하는 것으로 이어졌다 필사탁은 특히 황소의 전 추종자라는 자신의 지위 때문에 불안해하고 있었다 나아가 필사탁은 자기 첩 중 하나가 관련된 사건을 두고 여용지와 다투었었다 그 첩은 아름답기로 유명했는데 여용지는 그녀의 아름답다는 평판 때문에 그녀의 모습을 보고 싶어했고 필사탁은 거부하였다 그러나 어느 날 필사탁에 집에 없었을 때 여용지는 그래도 그녀를 보러 갔고 분노한 필사탁은 그녀를 집안에서 쫓아냈다',\n",
       " 'تاریخ فرهنگی جایگزین تاریخ اجتماعی شد در دههٔ میلادی به\\u200cصورت شیوهٔ غالب درآمد این شاخه به\\u200cطور معمول ترکیبی از رویکردهای انسان\\u200cشناسی تاریخ است که با نگاهی زبان فرهنگ عمومی سنتی تفسیر فرهنگی از تجریبات تاریخی می\\u200cپردازد تاریخ فرهنگی گزارش\\u200cها توصیفات روایی از دانش گذشته رسوم هنر گروهی از مردمان را مورد بررسی قرار می\\u200cدهدموّرخان غالباً اهمیت نوشته\\u200cهای تاریخی اشاره می\\u200cکنند این تأکید باعث ایجاد اصطلاح پیش از تاریخ شده که دورانی که هنوز خط ابداع ایجاد نشده بود اشاره می\\u200cکند تقسیم تاریخ شکل پیش از تاریخ تاریخی بستگی زیادی موضوع مورد مطالعه دارد زیرا خط در نقاط مختلف دنیا در زمان\\u200cهای متفاوتی پدید آمده\\u200cاست',\n",
       " 'भास्कराचार्य वीं सदी भारतीय गणित पथ प्रदर्शक थे गणितज्ञों की लम्बी परंपरा उत्तराधिकारी थे और उज्जैन स्थित वेधशाला मुखिया थे। उन्होंने लीलावती और बीजगणित जैसी गणित की पुस्तकों की रचना की ’सिद्धान्तशिरोमणि नामक ज्योतिषशास्त्र की पुस्तक लिखी। सर्व प्रथम उन्होंने ही इस तथ्य की पहचान की कुछ द्विघात समीकरणों की ऐसी श्रेणी भी हैं जिनके दो हल संभव हैं। इनडिटर्मिनेट समीकरणों हल करने लिए उनकी चक्रवाल विधि यूरोपीय विधियों से कई सदियों आगे थीं। अपने सिद्धांत शिरामणि में उन्होंने परिकल्पित किया पृथ्वी में गुरुत्वाकर्षण बल है। उन्होंने इनफाइनाइटसिमल गणनाओं और इंटीग्रेशन क्षेत्र में विवेचना की। इस पुस्तक दूसरे भाग में गोलक और उसके गुणों अध्ययन भूगोल में उनके उपयोग ग्रहीय औसत गतियां ग्रहों उत्केंद्रीय अधिचक्र नमूना ग्रहों प्रथम दर्शन मौसम चंद्रकला विषयों पर कई अध्याय हैं। उन्होने ज्योतिषीय यंत्रों और गोलकीय त्रिकोणमिति की भी विवेचना की है। उनके त्रिकोणमितीय समीकरण -',\n",
       " 'izică takaaki kajita japonia și arthur b mcdonald canada contribuțiil semnif priveșt experimentel demonstrat particulel neutrino își modifică identitățil metamorfoză implică faptul masă',\n",
       " '빛의 수호자 우서는 차 오크 전쟁에서 빼앗긴 스톰윈드를 찾기 위해 싸운 백전의 노장이다 안두인 로서 경의 부관이며 쿨 티라스의 대제독 댈린 프라우드무어와 친구 사이였다 노스샤이어가 그의 고향이며 노스샤이어 수도원에서 알론서스 파올의 제자가 되고 빛과 정의에 대해 알았다',\n",
       " 'eagleboardの改版として、beagleboard-xmが年月日から出荷開始された。基板外形はxmm（基板穴間隔は約xmm）で、omapの改良版であるdmを搭載している。dramをmbに拡張、オンボードイーサネットポート、ポートのusbハブを持つ。フラッシュメモリは搭載されていないため、microsdカードを起動メディアとして使用する必要がある。xmで追加されたカメラポートはleopard board社のベアボーンのカメラ用。',\n",
       " 'เนื่องจากจีนแพ้สงครามจีน-ญี่ปุ่น จักรพรรดิกวางสูจึงทรงทำการปฏิรูปร้อยวัน ทำให้พระนางซูสีไทเฮาทรงเข้ายึดพระราชอำนาจแล้วนำจักรพรรดิกวางสูขังไว้ และร่วมมือกับกบฏนักมวยซึ่งมีความคิดอนุรักษนิยมเช่นเดียวกับพระนาง จนประมาณเดือนกรกฎาคม คศ กบฏนักมวยได้ต่อสู้กับกองกำลังนานาชาติในเมืองเทียนจินและกรุงปักกิ่ง ทางสถานทูตสหราชอาณาจักร ฝรั่งเศส เบลเยี่ยม เนเธอร์แลนด์ สหรัฐอเมริกา รัสเซีย และญี่ปุ่น ที่อยู่ในสถานทูตในกรุงปักกิ่ง ได้นำกำลังมาปิดล้อมพระราชวังต้องห้าม การกระทำเช่นนี้ทำให้กบฏนักมวยสังหารบาทหลวงชาวเยอรมันชื่อ klemen freiherr kettel ในวันที่ มีนาคม ปี พระนางซูสีไทเฮาประกาศสงครามกับชาวต่างชาติในวันที่ มีนาคม ปี เพื่อเป็นการต่อต้านอำนาจของชาวต่างชาติ แต่พวกข้าหลวงตามหัวเมืองกลับปฏิเสธสงครามและพวกปัญญาชนในเมืองเซี่ยงไฮ้ก็ยังได้ให้ความช่วยเหลือข้าหลวงในภาคตะวันออกเฉียงใต้ของจีนที่ต่อต้านการประกาศสงครามด้วย',\n",
       " 'partij deed mee italiaans landelijk verkiezingen februari movimento stell volgen peil februari stemmen krijgen',\n",
       " '年始成員展開個別活動，依序月朴政珉；月金亨俊；月許永生；月金賢重；月金奎鐘皆陸續發行個人迷你專輯，其中金賢重在月日，韓國hanteo網站公佈年“hanteo awards”排行榜中以兩張個人專輯萬張的銷量成為了solo歌手中的第一名，總排行榜第三名的優異成績。朴政珉亦進軍台灣戲劇圈拍攝個人首部主演之偶像劇「翻糖花園」，許永生、金奎鐘、金亨俊皆分別演出音樂劇擔任要角。',\n",
       " '大紀薬品株式会社（だいきやくひん）は、かつて和歌山県和歌山市西浜-に本社を置いていた、医薬品・医療機器・医療用検査試薬・介護用品・健康食品・一般用医薬品等の卸売販売をおこなう企業であった。田辺製薬系医薬品卸であった。現在はアルフレッサグループの一社「ケーエスケー」である。',\n",
       " 'โดยมีผู้ช่วยเป็น หม่อมเทวาธิราช หม่อมราชวงศ์แดง อิศรเสนา นายทัด ศิริสัมพันธ์ นายสุด และ มรว เฉลิม โดยเริ่มภายในพระนครก่อน เพื่อตัดถนนเจริญกรุงและวางสายโทรเลขไปยังพระตะบอง และแผนที่บริเวณปากอ่าวและเข้าร่วมสำรวจกับกองแผนที่อินเดีย และอังกฤษแล้วทรง ตั้งกองแผนที่ในวันที่ ตุลาคม พศ โดยสังกัดฝ่ายพระกลาโหม ซึ่งมีหน้าที่บัญชาการหัวเมืองและทหารฝ่ายใต้ในขณะนั้น โดยให้พระองค์เจ้าดิศวรกุมาร กรมพระยาดำรงราชานุภาพ ผู้บัญชาการกรมทหารมหาดเล็ก เป็นผู้ดูแล',\n",
       " '年月-日凌晨：第二列列車crha-逐步由屯門青山灣的貨物裝缷區運抵石崗。因车卡较多且车身较为宽大，港铁方面于月日至日将列车分为四次从码头运抵石岗，每次运送两节车卡。为配合运送，香港运输署决定月日至日期间，每日由凌晨时至凌晨时，将视情况对介乎锦田绕道与七星岗之间的一段锦田公路由双程行车改为单程东行。',\n",
       " 'uando elmo timbr ostentado costumam acompanhado lambrequim originalment tratava-s tecido usado fundo capacet proteção parcial aquecimento provocado sol hoje forma capa estilizada pendendo elmo heráldica britânica típico superfíci externa lambrequim cor princip escudo superfíci interna princip metal — embora pare reino unido usem coloraçõ padronizada despeito posição nobiliárquica core arma lambrequim veze ilustrado borda rasgada sofrido dano combat embora borda muito simplesment decorada vontad brasonador',\n",
       " 'erdasarkan peraturan partai politik yang memiliki kursi dprd sulawesi selatan yang mengajukan kandidat partai politik yang memiliki kursi mengajukan calon memperoleh dukungan partai politik partai golkar yang mencalonkan koalisi calon independen membutuhkan suara minim',\n",
       " 'ходе этих совместных м ломоносовым исследований году г рихманом разработан первый электроизмерительный прибор экспериментального наблюдения — «электрический указатель» который отличие использовавшегося электроскопа «снабжён деревянным квадрантом градусной шкалой измерения степени электричества» г рихман «громовая машина» созданная ими имела принципиальные различия приборами других учёных числе «электрическим змеем» б франклина давала возможность стабильного наблюдения любом изменении электричества содержащегося атмосфере любой погоде',\n",
       " 'دېگان په لوی ننگرهار کې يوې پښتني قبيلې نوم دی چې ځينې څېړونکي يې دهقان اوښتې بڼه گڼي دېگان هغو دري ژبو ويل شوي چې پلار ريښه يې پښتنه ده په افغانستان کې ډېری پښتون توکمه وگړي شته چې دري ژبي شوي او خپله مورنۍ ژبه او دود دستور يې هېرکړي هغو کتاره محمد زیان پوپلزیان شېخ محمديان کابل يوه ډله يوسفزيان ساپيان او داسې نور يادېږي',\n",
       " 'ده غوښټل ترسو هند روانې سياسي او ټولنيزې وضعې څخه ځان خبر کړي نو پدې اړه يې هند پوهانو مشرانو او سياسي وتلو څېرو سره ليدنې کتنې پېل کړې هغوې افکارو څخه يې ځان خبر کړ او ښوونيز نظام په اړه يې هغوي کړه وړه نظره تېر کړ علامه سېد دا تريخ واقعيت درک کړ چې په هند کې واک او چارې مسلمانانو لاسو څخه په ټولييز دول وتلې دي نو لدې امله هغه مخالفت او کينه انگرېزانو په وړاندې هرچا زياته وه او مسلمانانو څخه يې غوښتنه دا وه چې خپلې اړه يکې پرنگيانو سره وشلوي علامه سېد په هند کې څه کم يو کال تېر کړ او بيا حج مبارکې فريضې اداکولو لپاره حجاز په لور وخوځېد',\n",
       " 'ضدِ ورم مدافعتی تجاوب anti-tumor immun respons جیسا کہ نام سے ظاہر ہے اصل میں ایک جاندار کے جسم کی اپنے جسم میں پیدا ہونے والی سرطان کی بیماری جسے طب میں ورم tumor بھی کہا جاتا ہے کے خلاف مدافعتی جواب immun respons کی ہوتی ہے کہ جسے وہ سرطان کے خلیات کے خلاف ایک ہتھیار کے طور پر استعمال کرسکتا ہے یا کرنے کی کوشش کرتا ہے۔ تجاوب کا لفظ respons یا جواب کے معنوں میں آتا ہے۔',\n",
       " 'legia poem liric adesea tandru trist și melancol secolul xv-lea elegia tindea dobândească caract filozof exempl autori elegii tibul ovidiu goeth aleksandr pușkin',\n",
       " 'गोरक्षनाथ मंदिर गोरखपुर में अनवरत योग साधना क्रम प्राचीन काल से चलता रहा है। ज्वालादेवी स्थान से परिभ्रमण करते हुए गोरक्षनाथ जी ने आकर भगवती राप्ती तटवर्ती क्षेत्र में तपस्या की थी और उसी स्थान पर अपनी दिव्य समाधि लगाई थी वर्तमान में श्री गोरखनाथ मंदिर श्री गोरक्षनाथ मंदिर स्थित है। नाथ योगी सम्प्रदाय महान प्रवर्तक ने अपनी अलौकिक आध्यात्मिक गरिमा से इस स्थान पवित्र किया था अतः योगेश्वर गोरखनाथ पुण्य स्थल कारण इस स्थान नाम गोरखपुर पड़ा। महायोगी गुरु गोरखनाथ की यह तपस्याभूमि प्रारंभ में तपोवन में होगी और जनशून्य शांत तपोवन में योगियों निवास लिए कुछ छोटे- छोटे मठ रहे मंदिर निर्माण बाद में हुआ। आज हम जिस विशाल और भव्य मंदिर दर्शन कर हर्ष और शांति अनुभव करते हैं वह ब्रह्मलीन महंत श्री दिग्विजयनाथ जी महाराज जी की ही कृपा से है। वर्तमान पीठाधीश्वर महंत अवैद्यनाथ जी महाराज संरक्षण में श्री गोरखनाथ मंदिर विशाल आकार-प्रकार प्रांगण की भव्यता पवित्र रमणीयता प्राप्त रहा है। पुराना मंदिर नव निर्माण की विशालता और व्यापकता में समाहित गया है।',\n",
       " 'pó transmissão origin spin-off seri lançado forma continuação nome daria personagem secundária programa retorn episódio novo tornou protagonista próprio seriado exibido doi film feito totalizando junto episódio spin-off nunca exibido mtv brasil razõ desconhecida versõ legendada portuguê feita fã encontrada internet',\n",
       " 'eartthrob conocido américa latina latido corazón españa bajo traducción amor episodio tercera temporada seri televisión estadounidens ángel escrito dirigido david greenwalt estrenó originalment septiembr semana despué atentado septiembr []\\u200b',\n",
       " 'lcatel-lucentin thalesdeki hissesi mayı dassault aviat tarafından satın alındı alcatel-luc eylül openplugu satın aldığını açıkladı alcatel-luc ekim çağrı merkezi hizmetleri birimi genesi birimini özel sermay grubunun üyesi permiraya şirketin yılında satın aldığı miktar milyar dolara sattı alcatel-luc franco-american finansmanına ihtiyaç duydu',\n",
       " 'atti recebia $ noit perform contrato estipulavam nome maior qualquer outro nome cartaz diziam livr ensaio precisando comparec nenhum',\n",
       " 'انتهاء مهلة الإنذار بقليل حضر المطار مندوب الصليب الأحمر الدولي وطلب تمديد مهلة الإنذار وأعلن استعداد الصليب الأحمر للتوسط السلطات الإسرائيلية لتنفيذ شروط المنظمة وخلال الفترة والفترة اعقبتها وزير الدفاع الإسرائيلي موشي دايان ورئيس الأركان دافيد العازار وشمعون بيريس وزير المواصلات بالتفاوض المجموعة طريق برج المطار ومكبرات الصوت قائد المجموعة أصر تنفيذ كافة شروط المنظمة وشارك المفاوضات عدد كبار المسؤولين البلجيكيين',\n",
       " 'neanderth film sf american regizat ewald andr dupont scenariul realizat aubrey wisberg și jack pollexfen roluril principal joacă actorii robert shayn dori merrick și richard crane',\n",
       " ...]"
      ]
     },
     "execution_count": 11,
     "metadata": {},
     "output_type": "execute_result"
    }
   ],
   "source": [
    "corpus=[]\n",
    "for i in data['Text']:\n",
    "    corpus.append(i)\n",
    "corpus"
   ]
  },
  {
   "cell_type": "markdown",
   "id": "d0de3561",
   "metadata": {},
   "source": [
    "# Using Count-Vectorizer"
   ]
  },
  {
   "cell_type": "code",
   "execution_count": 12,
   "id": "2c478f8e",
   "metadata": {},
   "outputs": [
    {
     "data": {
      "text/plain": [
       "array([[0, 0, 0, ..., 0, 0, 0],\n",
       "       [0, 0, 0, ..., 0, 0, 0],\n",
       "       [0, 0, 0, ..., 0, 0, 0],\n",
       "       ...,\n",
       "       [0, 0, 0, ..., 0, 0, 0],\n",
       "       [0, 0, 0, ..., 0, 0, 0],\n",
       "       [0, 0, 0, ..., 0, 0, 0]], dtype=int64)"
      ]
     },
     "execution_count": 12,
     "metadata": {},
     "output_type": "execute_result"
    }
   ],
   "source": [
    "countvectorize = CountVectorizer(max_features = 10000)\n",
    "x = countvectorize.fit_transform(corpus).toarray()\n",
    "x"
   ]
  },
  {
   "cell_type": "code",
   "execution_count": 13,
   "id": "e5baa4df",
   "metadata": {},
   "outputs": [
    {
     "data": {
      "text/plain": [
       "(21854, 10000)"
      ]
     },
     "execution_count": 13,
     "metadata": {},
     "output_type": "execute_result"
    }
   ],
   "source": [
    "x.shape"
   ]
  },
  {
   "cell_type": "code",
   "execution_count": 14,
   "id": "f108d8ba",
   "metadata": {},
   "outputs": [
    {
     "data": {
      "text/plain": [
       "array([0, 0, 0, ..., 0, 0, 0], dtype=int64)"
      ]
     },
     "execution_count": 14,
     "metadata": {},
     "output_type": "execute_result"
    }
   ],
   "source": [
    "x[0]"
   ]
  },
  {
   "cell_type": "code",
   "execution_count": 15,
   "id": "cc855c6b",
   "metadata": {},
   "outputs": [
    {
     "data": {
      "text/plain": [
       "12"
      ]
     },
     "execution_count": 15,
     "metadata": {},
     "output_type": "execute_result"
    }
   ],
   "source": [
    "x[0].sum()"
   ]
  },
  {
   "cell_type": "code",
   "execution_count": 16,
   "id": "9f0b4f8d",
   "metadata": {},
   "outputs": [
    {
     "data": {
      "text/plain": [
       "6"
      ]
     },
     "execution_count": 16,
     "metadata": {},
     "output_type": "execute_result"
    }
   ],
   "source": [
    "x[1].sum()"
   ]
  },
  {
   "cell_type": "markdown",
   "id": "411a233e",
   "metadata": {},
   "source": [
    "### Label Encoding (converting y into categories)"
   ]
  },
  {
   "cell_type": "code",
   "execution_count": 17,
   "id": "70abdc45",
   "metadata": {},
   "outputs": [
    {
     "data": {
      "text/plain": [
       "array([ 4, 17, 19, ..., 16,  1, 14])"
      ]
     },
     "execution_count": 17,
     "metadata": {},
     "output_type": "execute_result"
    }
   ],
   "source": [
    "label = LabelEncoder()\n",
    "y = label.fit_transform(data['language'])\n",
    "y"
   ]
  },
  {
   "cell_type": "code",
   "execution_count": 18,
   "id": "a9287e13",
   "metadata": {},
   "outputs": [
    {
     "data": {
      "text/plain": [
       "(21854,)"
      ]
     },
     "execution_count": 18,
     "metadata": {},
     "output_type": "execute_result"
    }
   ],
   "source": [
    "y.shape"
   ]
  },
  {
   "cell_type": "markdown",
   "id": "8f773495",
   "metadata": {},
   "source": [
    "### Splitting the dataset"
   ]
  },
  {
   "cell_type": "code",
   "execution_count": 19,
   "id": "6ccd164b",
   "metadata": {},
   "outputs": [
    {
     "data": {
      "text/plain": [
       "((17483, 10000), (4371, 10000), (17483,), (4371,))"
      ]
     },
     "execution_count": 19,
     "metadata": {},
     "output_type": "execute_result"
    }
   ],
   "source": [
    "x_train, x_test, y_train, y_test = train_test_split(x, y, test_size=0.2, random_state=0)\n",
    "x_train.shape, x_test.shape, y_train.shape, y_test.shape"
   ]
  },
  {
   "cell_type": "markdown",
   "id": "8c9ebb39",
   "metadata": {},
   "source": [
    "### MultinomialNB"
   ]
  },
  {
   "cell_type": "code",
   "execution_count": 20,
   "id": "a4bcb108",
   "metadata": {},
   "outputs": [
    {
     "data": {
      "text/html": [
       "<style>#sk-container-id-1 {color: black;}#sk-container-id-1 pre{padding: 0;}#sk-container-id-1 div.sk-toggleable {background-color: white;}#sk-container-id-1 label.sk-toggleable__label {cursor: pointer;display: block;width: 100%;margin-bottom: 0;padding: 0.3em;box-sizing: border-box;text-align: center;}#sk-container-id-1 label.sk-toggleable__label-arrow:before {content: \"▸\";float: left;margin-right: 0.25em;color: #696969;}#sk-container-id-1 label.sk-toggleable__label-arrow:hover:before {color: black;}#sk-container-id-1 div.sk-estimator:hover label.sk-toggleable__label-arrow:before {color: black;}#sk-container-id-1 div.sk-toggleable__content {max-height: 0;max-width: 0;overflow: hidden;text-align: left;background-color: #f0f8ff;}#sk-container-id-1 div.sk-toggleable__content pre {margin: 0.2em;color: black;border-radius: 0.25em;background-color: #f0f8ff;}#sk-container-id-1 input.sk-toggleable__control:checked~div.sk-toggleable__content {max-height: 200px;max-width: 100%;overflow: auto;}#sk-container-id-1 input.sk-toggleable__control:checked~label.sk-toggleable__label-arrow:before {content: \"▾\";}#sk-container-id-1 div.sk-estimator input.sk-toggleable__control:checked~label.sk-toggleable__label {background-color: #d4ebff;}#sk-container-id-1 div.sk-label input.sk-toggleable__control:checked~label.sk-toggleable__label {background-color: #d4ebff;}#sk-container-id-1 input.sk-hidden--visually {border: 0;clip: rect(1px 1px 1px 1px);clip: rect(1px, 1px, 1px, 1px);height: 1px;margin: -1px;overflow: hidden;padding: 0;position: absolute;width: 1px;}#sk-container-id-1 div.sk-estimator {font-family: monospace;background-color: #f0f8ff;border: 1px dotted black;border-radius: 0.25em;box-sizing: border-box;margin-bottom: 0.5em;}#sk-container-id-1 div.sk-estimator:hover {background-color: #d4ebff;}#sk-container-id-1 div.sk-parallel-item::after {content: \"\";width: 100%;border-bottom: 1px solid gray;flex-grow: 1;}#sk-container-id-1 div.sk-label:hover label.sk-toggleable__label {background-color: #d4ebff;}#sk-container-id-1 div.sk-serial::before {content: \"\";position: absolute;border-left: 1px solid gray;box-sizing: border-box;top: 0;bottom: 0;left: 50%;z-index: 0;}#sk-container-id-1 div.sk-serial {display: flex;flex-direction: column;align-items: center;background-color: white;padding-right: 0.2em;padding-left: 0.2em;position: relative;}#sk-container-id-1 div.sk-item {position: relative;z-index: 1;}#sk-container-id-1 div.sk-parallel {display: flex;align-items: stretch;justify-content: center;background-color: white;position: relative;}#sk-container-id-1 div.sk-item::before, #sk-container-id-1 div.sk-parallel-item::before {content: \"\";position: absolute;border-left: 1px solid gray;box-sizing: border-box;top: 0;bottom: 0;left: 50%;z-index: -1;}#sk-container-id-1 div.sk-parallel-item {display: flex;flex-direction: column;z-index: 1;position: relative;background-color: white;}#sk-container-id-1 div.sk-parallel-item:first-child::after {align-self: flex-end;width: 50%;}#sk-container-id-1 div.sk-parallel-item:last-child::after {align-self: flex-start;width: 50%;}#sk-container-id-1 div.sk-parallel-item:only-child::after {width: 0;}#sk-container-id-1 div.sk-dashed-wrapped {border: 1px dashed gray;margin: 0 0.4em 0.5em 0.4em;box-sizing: border-box;padding-bottom: 0.4em;background-color: white;}#sk-container-id-1 div.sk-label label {font-family: monospace;font-weight: bold;display: inline-block;line-height: 1.2em;}#sk-container-id-1 div.sk-label-container {text-align: center;}#sk-container-id-1 div.sk-container {/* jupyter's `normalize.less` sets `[hidden] { display: none; }` but bootstrap.min.css set `[hidden] { display: none !important; }` so we also need the `!important` here to be able to override the default hidden behavior on the sphinx rendered scikit-learn.org. See: https://github.com/scikit-learn/scikit-learn/issues/21755 */display: inline-block !important;position: relative;}#sk-container-id-1 div.sk-text-repr-fallback {display: none;}</style><div id=\"sk-container-id-1\" class=\"sk-top-container\"><div class=\"sk-text-repr-fallback\"><pre>MultinomialNB()</pre><b>In a Jupyter environment, please rerun this cell to show the HTML representation or trust the notebook. <br />On GitHub, the HTML representation is unable to render, please try loading this page with nbviewer.org.</b></div><div class=\"sk-container\" hidden><div class=\"sk-item\"><div class=\"sk-estimator sk-toggleable\"><input class=\"sk-toggleable__control sk-hidden--visually\" id=\"sk-estimator-id-1\" type=\"checkbox\" checked><label for=\"sk-estimator-id-1\" class=\"sk-toggleable__label sk-toggleable__label-arrow\">MultinomialNB</label><div class=\"sk-toggleable__content\"><pre>MultinomialNB()</pre></div></div></div></div></div>"
      ],
      "text/plain": [
       "MultinomialNB()"
      ]
     },
     "execution_count": 20,
     "metadata": {},
     "output_type": "execute_result"
    }
   ],
   "source": [
    "classifier = MultinomialNB().fit(x_train,y_train)\n",
    "classifier"
   ]
  },
  {
   "cell_type": "code",
   "execution_count": 21,
   "id": "2992a3a6",
   "metadata": {},
   "outputs": [
    {
     "name": "stdout",
     "output_type": "stream",
     "text": [
      "The MultinomialNB count Vectorizer has: 91.2605811027225 % accuracy\n"
     ]
    }
   ],
   "source": [
    "pred = classifier.predict(x_test)\n",
    "accuracy = (metrics.accuracy_score(y_test, pred))*100\n",
    "print('The MultinomialNB count Vectorizer has:',accuracy,'% accuracy')"
   ]
  },
  {
   "cell_type": "markdown",
   "id": "90be2cfc",
   "metadata": {},
   "source": [
    "## -------------------------------------------------------------------------"
   ]
  },
  {
   "cell_type": "markdown",
   "id": "2f420791",
   "metadata": {},
   "source": [
    "# Using TF-IDF Vectorizer"
   ]
  },
  {
   "cell_type": "markdown",
   "id": "14bcfc52",
   "metadata": {},
   "source": [
    "### Splitting the dataset"
   ]
  },
  {
   "cell_type": "code",
   "execution_count": 22,
   "id": "e3621a5b",
   "metadata": {},
   "outputs": [
    {
     "data": {
      "text/plain": [
       "0    lement gottwaldi surnukeha palsameer ning paig...\n",
       "1    ebe joseph pereira thoma eng jesuit sino-russi...\n",
       "2    ถนนเจริญกรุง อักษรโรมัน thanon charoen krung เ...\n",
       "3    விசாகப்பட்டினம் தமிழ்ச்சங்கத்தை இந்துப் பத்திர...\n",
       "4    spon behoort geslacht haliclona behoort famili...\n",
       "Name: Text, dtype: object"
      ]
     },
     "execution_count": 22,
     "metadata": {},
     "output_type": "execute_result"
    }
   ],
   "source": [
    "x = data.iloc[:,0]\n",
    "y = data.iloc[:,1]\n",
    "x.head()"
   ]
  },
  {
   "cell_type": "code",
   "execution_count": 23,
   "id": "d53a6c38",
   "metadata": {},
   "outputs": [
    {
     "data": {
      "text/plain": [
       "0    Estonian\n",
       "1     Swedish\n",
       "2        Thai\n",
       "3       Tamil\n",
       "4       Dutch\n",
       "Name: language, dtype: object"
      ]
     },
     "execution_count": 23,
     "metadata": {},
     "output_type": "execute_result"
    }
   ],
   "source": [
    "y.head()"
   ]
  },
  {
   "cell_type": "code",
   "execution_count": 24,
   "id": "244e5761",
   "metadata": {},
   "outputs": [],
   "source": [
    "x_train, x_test, y_train, y_test = train_test_split(x, y, test_size=0.2, random_state=42)"
   ]
  },
  {
   "cell_type": "markdown",
   "id": "dc6f7410",
   "metadata": {},
   "source": [
    "### Applying TF-IDF Vectorizer"
   ]
  },
  {
   "cell_type": "code",
   "execution_count": 25,
   "id": "91759ffb",
   "metadata": {},
   "outputs": [
    {
     "data": {
      "text/html": [
       "<style>#sk-container-id-2 {color: black;}#sk-container-id-2 pre{padding: 0;}#sk-container-id-2 div.sk-toggleable {background-color: white;}#sk-container-id-2 label.sk-toggleable__label {cursor: pointer;display: block;width: 100%;margin-bottom: 0;padding: 0.3em;box-sizing: border-box;text-align: center;}#sk-container-id-2 label.sk-toggleable__label-arrow:before {content: \"▸\";float: left;margin-right: 0.25em;color: #696969;}#sk-container-id-2 label.sk-toggleable__label-arrow:hover:before {color: black;}#sk-container-id-2 div.sk-estimator:hover label.sk-toggleable__label-arrow:before {color: black;}#sk-container-id-2 div.sk-toggleable__content {max-height: 0;max-width: 0;overflow: hidden;text-align: left;background-color: #f0f8ff;}#sk-container-id-2 div.sk-toggleable__content pre {margin: 0.2em;color: black;border-radius: 0.25em;background-color: #f0f8ff;}#sk-container-id-2 input.sk-toggleable__control:checked~div.sk-toggleable__content {max-height: 200px;max-width: 100%;overflow: auto;}#sk-container-id-2 input.sk-toggleable__control:checked~label.sk-toggleable__label-arrow:before {content: \"▾\";}#sk-container-id-2 div.sk-estimator input.sk-toggleable__control:checked~label.sk-toggleable__label {background-color: #d4ebff;}#sk-container-id-2 div.sk-label input.sk-toggleable__control:checked~label.sk-toggleable__label {background-color: #d4ebff;}#sk-container-id-2 input.sk-hidden--visually {border: 0;clip: rect(1px 1px 1px 1px);clip: rect(1px, 1px, 1px, 1px);height: 1px;margin: -1px;overflow: hidden;padding: 0;position: absolute;width: 1px;}#sk-container-id-2 div.sk-estimator {font-family: monospace;background-color: #f0f8ff;border: 1px dotted black;border-radius: 0.25em;box-sizing: border-box;margin-bottom: 0.5em;}#sk-container-id-2 div.sk-estimator:hover {background-color: #d4ebff;}#sk-container-id-2 div.sk-parallel-item::after {content: \"\";width: 100%;border-bottom: 1px solid gray;flex-grow: 1;}#sk-container-id-2 div.sk-label:hover label.sk-toggleable__label {background-color: #d4ebff;}#sk-container-id-2 div.sk-serial::before {content: \"\";position: absolute;border-left: 1px solid gray;box-sizing: border-box;top: 0;bottom: 0;left: 50%;z-index: 0;}#sk-container-id-2 div.sk-serial {display: flex;flex-direction: column;align-items: center;background-color: white;padding-right: 0.2em;padding-left: 0.2em;position: relative;}#sk-container-id-2 div.sk-item {position: relative;z-index: 1;}#sk-container-id-2 div.sk-parallel {display: flex;align-items: stretch;justify-content: center;background-color: white;position: relative;}#sk-container-id-2 div.sk-item::before, #sk-container-id-2 div.sk-parallel-item::before {content: \"\";position: absolute;border-left: 1px solid gray;box-sizing: border-box;top: 0;bottom: 0;left: 50%;z-index: -1;}#sk-container-id-2 div.sk-parallel-item {display: flex;flex-direction: column;z-index: 1;position: relative;background-color: white;}#sk-container-id-2 div.sk-parallel-item:first-child::after {align-self: flex-end;width: 50%;}#sk-container-id-2 div.sk-parallel-item:last-child::after {align-self: flex-start;width: 50%;}#sk-container-id-2 div.sk-parallel-item:only-child::after {width: 0;}#sk-container-id-2 div.sk-dashed-wrapped {border: 1px dashed gray;margin: 0 0.4em 0.5em 0.4em;box-sizing: border-box;padding-bottom: 0.4em;background-color: white;}#sk-container-id-2 div.sk-label label {font-family: monospace;font-weight: bold;display: inline-block;line-height: 1.2em;}#sk-container-id-2 div.sk-label-container {text-align: center;}#sk-container-id-2 div.sk-container {/* jupyter's `normalize.less` sets `[hidden] { display: none; }` but bootstrap.min.css set `[hidden] { display: none !important; }` so we also need the `!important` here to be able to override the default hidden behavior on the sphinx rendered scikit-learn.org. See: https://github.com/scikit-learn/scikit-learn/issues/21755 */display: inline-block !important;position: relative;}#sk-container-id-2 div.sk-text-repr-fallback {display: none;}</style><div id=\"sk-container-id-2\" class=\"sk-top-container\"><div class=\"sk-text-repr-fallback\"><pre>TfidfVectorizer(analyzer=&#x27;char&#x27;, ngram_range=(1, 3))</pre><b>In a Jupyter environment, please rerun this cell to show the HTML representation or trust the notebook. <br />On GitHub, the HTML representation is unable to render, please try loading this page with nbviewer.org.</b></div><div class=\"sk-container\" hidden><div class=\"sk-item\"><div class=\"sk-estimator sk-toggleable\"><input class=\"sk-toggleable__control sk-hidden--visually\" id=\"sk-estimator-id-2\" type=\"checkbox\" checked><label for=\"sk-estimator-id-2\" class=\"sk-toggleable__label sk-toggleable__label-arrow\">TfidfVectorizer</label><div class=\"sk-toggleable__content\"><pre>TfidfVectorizer(analyzer=&#x27;char&#x27;, ngram_range=(1, 3))</pre></div></div></div></div></div>"
      ],
      "text/plain": [
       "TfidfVectorizer(analyzer='char', ngram_range=(1, 3))"
      ]
     },
     "execution_count": 25,
     "metadata": {},
     "output_type": "execute_result"
    }
   ],
   "source": [
    "vectorizer = feature_extraction.text.TfidfVectorizer(ngram_range=(1,3), analyzer='char')\n",
    "vectorizer"
   ]
  },
  {
   "cell_type": "markdown",
   "id": "2d245c5b",
   "metadata": {},
   "source": [
    "`ngram_range=(1,3)`: This parameter specifies the range of n-grams to generate. In this case, it generates unigrams, bigrams, and trigrams (1 to 3-grams).<br>\n",
    "`analyzer='char'`: This parameter specifies that character n-grams will be used. This means that instead of analyzing words, it will analyze sequences of characters."
   ]
  },
  {
   "cell_type": "markdown",
   "id": "a19a1571",
   "metadata": {},
   "source": [
    "### Logistic Regression"
   ]
  },
  {
   "cell_type": "code",
   "execution_count": 26,
   "id": "5b75073c",
   "metadata": {},
   "outputs": [
    {
     "name": "stderr",
     "output_type": "stream",
     "text": [
      "C:\\Users\\Suprit Naik\\anaconda3\\lib\\site-packages\\sklearn\\linear_model\\_logistic.py:460: ConvergenceWarning: lbfgs failed to converge (status=1):\n",
      "STOP: TOTAL NO. of ITERATIONS REACHED LIMIT.\n",
      "\n",
      "Increase the number of iterations (max_iter) or scale the data as shown in:\n",
      "    https://scikit-learn.org/stable/modules/preprocessing.html\n",
      "Please also refer to the documentation for alternative solver options:\n",
      "    https://scikit-learn.org/stable/modules/linear_model.html#logistic-regression\n",
      "  n_iter_i = _check_optimize_result(\n"
     ]
    },
    {
     "data": {
      "text/html": [
       "<style>#sk-container-id-3 {color: black;}#sk-container-id-3 pre{padding: 0;}#sk-container-id-3 div.sk-toggleable {background-color: white;}#sk-container-id-3 label.sk-toggleable__label {cursor: pointer;display: block;width: 100%;margin-bottom: 0;padding: 0.3em;box-sizing: border-box;text-align: center;}#sk-container-id-3 label.sk-toggleable__label-arrow:before {content: \"▸\";float: left;margin-right: 0.25em;color: #696969;}#sk-container-id-3 label.sk-toggleable__label-arrow:hover:before {color: black;}#sk-container-id-3 div.sk-estimator:hover label.sk-toggleable__label-arrow:before {color: black;}#sk-container-id-3 div.sk-toggleable__content {max-height: 0;max-width: 0;overflow: hidden;text-align: left;background-color: #f0f8ff;}#sk-container-id-3 div.sk-toggleable__content pre {margin: 0.2em;color: black;border-radius: 0.25em;background-color: #f0f8ff;}#sk-container-id-3 input.sk-toggleable__control:checked~div.sk-toggleable__content {max-height: 200px;max-width: 100%;overflow: auto;}#sk-container-id-3 input.sk-toggleable__control:checked~label.sk-toggleable__label-arrow:before {content: \"▾\";}#sk-container-id-3 div.sk-estimator input.sk-toggleable__control:checked~label.sk-toggleable__label {background-color: #d4ebff;}#sk-container-id-3 div.sk-label input.sk-toggleable__control:checked~label.sk-toggleable__label {background-color: #d4ebff;}#sk-container-id-3 input.sk-hidden--visually {border: 0;clip: rect(1px 1px 1px 1px);clip: rect(1px, 1px, 1px, 1px);height: 1px;margin: -1px;overflow: hidden;padding: 0;position: absolute;width: 1px;}#sk-container-id-3 div.sk-estimator {font-family: monospace;background-color: #f0f8ff;border: 1px dotted black;border-radius: 0.25em;box-sizing: border-box;margin-bottom: 0.5em;}#sk-container-id-3 div.sk-estimator:hover {background-color: #d4ebff;}#sk-container-id-3 div.sk-parallel-item::after {content: \"\";width: 100%;border-bottom: 1px solid gray;flex-grow: 1;}#sk-container-id-3 div.sk-label:hover label.sk-toggleable__label {background-color: #d4ebff;}#sk-container-id-3 div.sk-serial::before {content: \"\";position: absolute;border-left: 1px solid gray;box-sizing: border-box;top: 0;bottom: 0;left: 50%;z-index: 0;}#sk-container-id-3 div.sk-serial {display: flex;flex-direction: column;align-items: center;background-color: white;padding-right: 0.2em;padding-left: 0.2em;position: relative;}#sk-container-id-3 div.sk-item {position: relative;z-index: 1;}#sk-container-id-3 div.sk-parallel {display: flex;align-items: stretch;justify-content: center;background-color: white;position: relative;}#sk-container-id-3 div.sk-item::before, #sk-container-id-3 div.sk-parallel-item::before {content: \"\";position: absolute;border-left: 1px solid gray;box-sizing: border-box;top: 0;bottom: 0;left: 50%;z-index: -1;}#sk-container-id-3 div.sk-parallel-item {display: flex;flex-direction: column;z-index: 1;position: relative;background-color: white;}#sk-container-id-3 div.sk-parallel-item:first-child::after {align-self: flex-end;width: 50%;}#sk-container-id-3 div.sk-parallel-item:last-child::after {align-self: flex-start;width: 50%;}#sk-container-id-3 div.sk-parallel-item:only-child::after {width: 0;}#sk-container-id-3 div.sk-dashed-wrapped {border: 1px dashed gray;margin: 0 0.4em 0.5em 0.4em;box-sizing: border-box;padding-bottom: 0.4em;background-color: white;}#sk-container-id-3 div.sk-label label {font-family: monospace;font-weight: bold;display: inline-block;line-height: 1.2em;}#sk-container-id-3 div.sk-label-container {text-align: center;}#sk-container-id-3 div.sk-container {/* jupyter's `normalize.less` sets `[hidden] { display: none; }` but bootstrap.min.css set `[hidden] { display: none !important; }` so we also need the `!important` here to be able to override the default hidden behavior on the sphinx rendered scikit-learn.org. See: https://github.com/scikit-learn/scikit-learn/issues/21755 */display: inline-block !important;position: relative;}#sk-container-id-3 div.sk-text-repr-fallback {display: none;}</style><div id=\"sk-container-id-3\" class=\"sk-top-container\"><div class=\"sk-text-repr-fallback\"><pre>Pipeline(steps=[(&#x27;vectorizer&#x27;,\n",
       "                 TfidfVectorizer(analyzer=&#x27;char&#x27;, ngram_range=(1, 3))),\n",
       "                (&#x27;lr_clf&#x27;, LogisticRegression())])</pre><b>In a Jupyter environment, please rerun this cell to show the HTML representation or trust the notebook. <br />On GitHub, the HTML representation is unable to render, please try loading this page with nbviewer.org.</b></div><div class=\"sk-container\" hidden><div class=\"sk-item sk-dashed-wrapped\"><div class=\"sk-label-container\"><div class=\"sk-label sk-toggleable\"><input class=\"sk-toggleable__control sk-hidden--visually\" id=\"sk-estimator-id-3\" type=\"checkbox\" ><label for=\"sk-estimator-id-3\" class=\"sk-toggleable__label sk-toggleable__label-arrow\">Pipeline</label><div class=\"sk-toggleable__content\"><pre>Pipeline(steps=[(&#x27;vectorizer&#x27;,\n",
       "                 TfidfVectorizer(analyzer=&#x27;char&#x27;, ngram_range=(1, 3))),\n",
       "                (&#x27;lr_clf&#x27;, LogisticRegression())])</pre></div></div></div><div class=\"sk-serial\"><div class=\"sk-item\"><div class=\"sk-estimator sk-toggleable\"><input class=\"sk-toggleable__control sk-hidden--visually\" id=\"sk-estimator-id-4\" type=\"checkbox\" ><label for=\"sk-estimator-id-4\" class=\"sk-toggleable__label sk-toggleable__label-arrow\">TfidfVectorizer</label><div class=\"sk-toggleable__content\"><pre>TfidfVectorizer(analyzer=&#x27;char&#x27;, ngram_range=(1, 3))</pre></div></div></div><div class=\"sk-item\"><div class=\"sk-estimator sk-toggleable\"><input class=\"sk-toggleable__control sk-hidden--visually\" id=\"sk-estimator-id-5\" type=\"checkbox\" ><label for=\"sk-estimator-id-5\" class=\"sk-toggleable__label sk-toggleable__label-arrow\">LogisticRegression</label><div class=\"sk-toggleable__content\"><pre>LogisticRegression()</pre></div></div></div></div></div></div></div>"
      ],
      "text/plain": [
       "Pipeline(steps=[('vectorizer',\n",
       "                 TfidfVectorizer(analyzer='char', ngram_range=(1, 3))),\n",
       "                ('lr_clf', LogisticRegression())])"
      ]
     },
     "execution_count": 26,
     "metadata": {},
     "output_type": "execute_result"
    }
   ],
   "source": [
    "pipe_lr = pipeline.Pipeline([\n",
    "    ('vectorizer', vectorizer),\n",
    "    ('lr_clf', LogisticRegression())\n",
    "])\n",
    "\n",
    "pipe_lr.fit(x_train, y_train)"
   ]
  },
  {
   "cell_type": "code",
   "execution_count": 27,
   "id": "68c85eba",
   "metadata": {},
   "outputs": [
    {
     "name": "stdout",
     "output_type": "stream",
     "text": [
      "The logistic regression has: 97.75795012582932 % accuracy\n"
     ]
    }
   ],
   "source": [
    "lr_predicted = pipe_lr.predict(x_test)\n",
    "lr_acc = (metrics.accuracy_score(y_test, lr_predicted))*100\n",
    "print('The logistic regression has:',lr_acc,'% accuracy')"
   ]
  },
  {
   "cell_type": "code",
   "execution_count": 28,
   "id": "f0fbb403",
   "metadata": {},
   "outputs": [
    {
     "data": {
      "text/plain": [
       "array(['Russian'], dtype=object)"
      ]
     },
     "execution_count": 28,
     "metadata": {},
     "output_type": "execute_result"
    }
   ],
   "source": [
    "pipe_lr.predict([\"привет, как дела, ты в порядке?\"])"
   ]
  },
  {
   "cell_type": "markdown",
   "id": "070631c1",
   "metadata": {},
   "source": [
    "### MultinomialNB"
   ]
  },
  {
   "cell_type": "code",
   "execution_count": 29,
   "id": "8cfbd95d",
   "metadata": {},
   "outputs": [
    {
     "data": {
      "text/html": [
       "<style>#sk-container-id-4 {color: black;}#sk-container-id-4 pre{padding: 0;}#sk-container-id-4 div.sk-toggleable {background-color: white;}#sk-container-id-4 label.sk-toggleable__label {cursor: pointer;display: block;width: 100%;margin-bottom: 0;padding: 0.3em;box-sizing: border-box;text-align: center;}#sk-container-id-4 label.sk-toggleable__label-arrow:before {content: \"▸\";float: left;margin-right: 0.25em;color: #696969;}#sk-container-id-4 label.sk-toggleable__label-arrow:hover:before {color: black;}#sk-container-id-4 div.sk-estimator:hover label.sk-toggleable__label-arrow:before {color: black;}#sk-container-id-4 div.sk-toggleable__content {max-height: 0;max-width: 0;overflow: hidden;text-align: left;background-color: #f0f8ff;}#sk-container-id-4 div.sk-toggleable__content pre {margin: 0.2em;color: black;border-radius: 0.25em;background-color: #f0f8ff;}#sk-container-id-4 input.sk-toggleable__control:checked~div.sk-toggleable__content {max-height: 200px;max-width: 100%;overflow: auto;}#sk-container-id-4 input.sk-toggleable__control:checked~label.sk-toggleable__label-arrow:before {content: \"▾\";}#sk-container-id-4 div.sk-estimator input.sk-toggleable__control:checked~label.sk-toggleable__label {background-color: #d4ebff;}#sk-container-id-4 div.sk-label input.sk-toggleable__control:checked~label.sk-toggleable__label {background-color: #d4ebff;}#sk-container-id-4 input.sk-hidden--visually {border: 0;clip: rect(1px 1px 1px 1px);clip: rect(1px, 1px, 1px, 1px);height: 1px;margin: -1px;overflow: hidden;padding: 0;position: absolute;width: 1px;}#sk-container-id-4 div.sk-estimator {font-family: monospace;background-color: #f0f8ff;border: 1px dotted black;border-radius: 0.25em;box-sizing: border-box;margin-bottom: 0.5em;}#sk-container-id-4 div.sk-estimator:hover {background-color: #d4ebff;}#sk-container-id-4 div.sk-parallel-item::after {content: \"\";width: 100%;border-bottom: 1px solid gray;flex-grow: 1;}#sk-container-id-4 div.sk-label:hover label.sk-toggleable__label {background-color: #d4ebff;}#sk-container-id-4 div.sk-serial::before {content: \"\";position: absolute;border-left: 1px solid gray;box-sizing: border-box;top: 0;bottom: 0;left: 50%;z-index: 0;}#sk-container-id-4 div.sk-serial {display: flex;flex-direction: column;align-items: center;background-color: white;padding-right: 0.2em;padding-left: 0.2em;position: relative;}#sk-container-id-4 div.sk-item {position: relative;z-index: 1;}#sk-container-id-4 div.sk-parallel {display: flex;align-items: stretch;justify-content: center;background-color: white;position: relative;}#sk-container-id-4 div.sk-item::before, #sk-container-id-4 div.sk-parallel-item::before {content: \"\";position: absolute;border-left: 1px solid gray;box-sizing: border-box;top: 0;bottom: 0;left: 50%;z-index: -1;}#sk-container-id-4 div.sk-parallel-item {display: flex;flex-direction: column;z-index: 1;position: relative;background-color: white;}#sk-container-id-4 div.sk-parallel-item:first-child::after {align-self: flex-end;width: 50%;}#sk-container-id-4 div.sk-parallel-item:last-child::after {align-self: flex-start;width: 50%;}#sk-container-id-4 div.sk-parallel-item:only-child::after {width: 0;}#sk-container-id-4 div.sk-dashed-wrapped {border: 1px dashed gray;margin: 0 0.4em 0.5em 0.4em;box-sizing: border-box;padding-bottom: 0.4em;background-color: white;}#sk-container-id-4 div.sk-label label {font-family: monospace;font-weight: bold;display: inline-block;line-height: 1.2em;}#sk-container-id-4 div.sk-label-container {text-align: center;}#sk-container-id-4 div.sk-container {/* jupyter's `normalize.less` sets `[hidden] { display: none; }` but bootstrap.min.css set `[hidden] { display: none !important; }` so we also need the `!important` here to be able to override the default hidden behavior on the sphinx rendered scikit-learn.org. See: https://github.com/scikit-learn/scikit-learn/issues/21755 */display: inline-block !important;position: relative;}#sk-container-id-4 div.sk-text-repr-fallback {display: none;}</style><div id=\"sk-container-id-4\" class=\"sk-top-container\"><div class=\"sk-text-repr-fallback\"><pre>Pipeline(steps=[(&#x27;vectorizer&#x27;,\n",
       "                 TfidfVectorizer(analyzer=&#x27;char&#x27;, ngram_range=(1, 3))),\n",
       "                (&#x27;mnb_clf&#x27;, MultinomialNB())])</pre><b>In a Jupyter environment, please rerun this cell to show the HTML representation or trust the notebook. <br />On GitHub, the HTML representation is unable to render, please try loading this page with nbviewer.org.</b></div><div class=\"sk-container\" hidden><div class=\"sk-item sk-dashed-wrapped\"><div class=\"sk-label-container\"><div class=\"sk-label sk-toggleable\"><input class=\"sk-toggleable__control sk-hidden--visually\" id=\"sk-estimator-id-6\" type=\"checkbox\" ><label for=\"sk-estimator-id-6\" class=\"sk-toggleable__label sk-toggleable__label-arrow\">Pipeline</label><div class=\"sk-toggleable__content\"><pre>Pipeline(steps=[(&#x27;vectorizer&#x27;,\n",
       "                 TfidfVectorizer(analyzer=&#x27;char&#x27;, ngram_range=(1, 3))),\n",
       "                (&#x27;mnb_clf&#x27;, MultinomialNB())])</pre></div></div></div><div class=\"sk-serial\"><div class=\"sk-item\"><div class=\"sk-estimator sk-toggleable\"><input class=\"sk-toggleable__control sk-hidden--visually\" id=\"sk-estimator-id-7\" type=\"checkbox\" ><label for=\"sk-estimator-id-7\" class=\"sk-toggleable__label sk-toggleable__label-arrow\">TfidfVectorizer</label><div class=\"sk-toggleable__content\"><pre>TfidfVectorizer(analyzer=&#x27;char&#x27;, ngram_range=(1, 3))</pre></div></div></div><div class=\"sk-item\"><div class=\"sk-estimator sk-toggleable\"><input class=\"sk-toggleable__control sk-hidden--visually\" id=\"sk-estimator-id-8\" type=\"checkbox\" ><label for=\"sk-estimator-id-8\" class=\"sk-toggleable__label sk-toggleable__label-arrow\">MultinomialNB</label><div class=\"sk-toggleable__content\"><pre>MultinomialNB()</pre></div></div></div></div></div></div></div>"
      ],
      "text/plain": [
       "Pipeline(steps=[('vectorizer',\n",
       "                 TfidfVectorizer(analyzer='char', ngram_range=(1, 3))),\n",
       "                ('mnb_clf', MultinomialNB())])"
      ]
     },
     "execution_count": 29,
     "metadata": {},
     "output_type": "execute_result"
    }
   ],
   "source": [
    "pipe_mnb = pipeline.Pipeline([\n",
    "    ('vectorizer', vectorizer),\n",
    "    ('mnb_clf', MultinomialNB())\n",
    "])\n",
    "\n",
    "pipe_mnb.fit(x_train, y_train)"
   ]
  },
  {
   "cell_type": "code",
   "execution_count": 30,
   "id": "a1c13966",
   "metadata": {},
   "outputs": [
    {
     "name": "stdout",
     "output_type": "stream",
     "text": [
      "The MultinomialNB has: 97.52916952642417 % accuracy\n"
     ]
    }
   ],
   "source": [
    "mnb_predicted = pipe_mnb.predict(x_test)\n",
    "mnb_acc = (metrics.accuracy_score(y_test, mnb_predicted))*100\n",
    "print('The MultinomialNB has:',mnb_acc,'% accuracy')"
   ]
  },
  {
   "cell_type": "code",
   "execution_count": 31,
   "id": "8d35093b",
   "metadata": {},
   "outputs": [
    {
     "data": {
      "text/plain": [
       "array(['Spanish'], dtype='<U10')"
      ]
     },
     "execution_count": 31,
     "metadata": {},
     "output_type": "execute_result"
    }
   ],
   "source": [
    "pipe_mnb.predict([\"hola, cómo estás\"])"
   ]
  },
  {
   "cell_type": "markdown",
   "id": "38caf6bf",
   "metadata": {},
   "source": [
    "# MODEL"
   ]
  },
  {
   "cell_type": "markdown",
   "id": "62d70644",
   "metadata": {},
   "source": [
    "### THROUGH LOGISTIC REGRESSION"
   ]
  },
  {
   "cell_type": "code",
   "execution_count": 46,
   "id": "40047750",
   "metadata": {},
   "outputs": [
    {
     "name": "stdout",
     "output_type": "stream",
     "text": [
      "Input Text : வாழ்க்கை என்பது சவால்கள் மற்றும் வாய்ப்புகள் நிறைந்த ஒரு பயணம், சில நேரங்களில், நாம் அனைவரும் முன்னோக்கிச் செல்ல ஒரு சிறிய உத்வேகம் மற்றும் உந்துதல் தேவை.\n"
     ]
    },
    {
     "data": {
      "text/plain": [
       "array(['Tamil'], dtype=object)"
      ]
     },
     "execution_count": 46,
     "metadata": {},
     "output_type": "execute_result"
    }
   ],
   "source": [
    "text = input(\"Input Text : \")\n",
    "pipe_lr.predict([text])"
   ]
  },
  {
   "cell_type": "markdown",
   "id": "26f2ff35",
   "metadata": {},
   "source": [
    "### MULTINOMIALNB"
   ]
  },
  {
   "cell_type": "code",
   "execution_count": 47,
   "id": "5eb49d4a",
   "metadata": {},
   "outputs": [
    {
     "name": "stdout",
     "output_type": "stream",
     "text": [
      "Input Text : Quincy Promes gearresteerd in Dubai, Nederland om uitlevering aan te vragen. Wilders geeft de hoop van de premier op onder de deal om een einde te maken aan de impasse.\n"
     ]
    },
    {
     "data": {
      "text/plain": [
       "array(['Dutch'], dtype='<U10')"
      ]
     },
     "execution_count": 47,
     "metadata": {},
     "output_type": "execute_result"
    }
   ],
   "source": [
    "text = input(\"Input Text : \")\n",
    "pipe_mnb.predict([text])"
   ]
  },
  {
   "cell_type": "code",
   "execution_count": null,
   "id": "80f76246",
   "metadata": {},
   "outputs": [],
   "source": []
  }
 ],
 "metadata": {
  "kernelspec": {
   "display_name": "Python 3 (ipykernel)",
   "language": "python",
   "name": "python3"
  },
  "language_info": {
   "codemirror_mode": {
    "name": "ipython",
    "version": 3
   },
   "file_extension": ".py",
   "mimetype": "text/x-python",
   "name": "python",
   "nbconvert_exporter": "python",
   "pygments_lexer": "ipython3",
   "version": "3.10.9"
  }
 },
 "nbformat": 4,
 "nbformat_minor": 5
}
